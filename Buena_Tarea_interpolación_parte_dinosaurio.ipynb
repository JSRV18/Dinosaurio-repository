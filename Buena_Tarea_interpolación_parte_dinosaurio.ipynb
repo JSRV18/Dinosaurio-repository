{
  "cells": [
    {
      "cell_type": "markdown",
      "metadata": {
        "id": "view-in-github",
        "colab_type": "text"
      },
      "source": [
        "<a href=\"https://colab.research.google.com/github/JSRV18/Dinosaurio-repository/blob/main/Buena_Tarea_interpolaci%C3%B3n_parte_dinosaurio.ipynb\" target=\"_parent\"><img src=\"https://colab.research.google.com/assets/colab-badge.svg\" alt=\"Open In Colab\"/></a>"
      ]
    },
    {
      "cell_type": "code",
      "execution_count": null,
      "metadata": {
        "id": "zwFnJsE6vjf8"
      },
      "outputs": [],
      "source": [
        "import numpy as np\n",
        "import matplotlib.pyplot as plt\n",
        "import sympy as sym\n",
        "\n",
        "x=np.array([0.1, 0.6, 1.1])\n",
        "\n",
        "def f_1(x):\n",
        "  return np.sqrt(np.tan(x))\n",
        "\n",
        "y=np.array(f_1(x))\n",
        "X=sym.Symbol('x', real=True)\n",
        "\n",
        "def Bases_cardinales(x,X,i):\n",
        "  base=1\n",
        "  for j in range(len(x)):\n",
        "    if j!=i:\n",
        "      base *= (((X-x[j])/(x[i]-x[j])))\n",
        "  return base"
      ]
    },
    {
      "cell_type": "code",
      "source": [
        "Bases_cardinales(x,X,0)"
      ],
      "metadata": {
        "colab": {
          "base_uri": "https://localhost:8080/",
          "height": 39
        },
        "id": "ditDqxfFplvT",
        "outputId": "f4de2b52-fc9f-4356-8b12-df3fa0fb5f2c"
      },
      "execution_count": null,
      "outputs": [
        {
          "output_type": "execute_result",
          "data": {
            "text/plain": [
              "(1.1 - 1.0*x)*(1.2 - 2.0*x)"
            ],
            "text/latex": "$\\displaystyle \\left(1.1 - 1.0 x\\right) \\left(1.2 - 2.0 x\\right)$"
          },
          "metadata": {},
          "execution_count": 3
        }
      ]
    },
    {
      "cell_type": "code",
      "source": [
        "def Poly_Interpolacion(x,y,X):\n",
        "  poly=0\n",
        "  for i in range(len(y)):\n",
        "    poly += y[i]*Bases_cardinales(x,X,i)\n",
        "  return poly"
      ],
      "metadata": {
        "id": "njgyhZCCpKOB"
      },
      "execution_count": null,
      "outputs": []
    },
    {
      "cell_type": "code",
      "source": [
        "def obtener_coeficientes(x):\n",
        "  C=np.zeros(len(x))\n",
        "  for i in range(len(x)):\n",
        "    C[i]=sym.diff(Bases_cardinales(x,X,i)).subs(X,0)\n",
        "\n",
        "  return C\n",
        "f=obtener_coeficientes(x)\n",
        "print(f)\n"
      ],
      "metadata": {
        "colab": {
          "base_uri": "https://localhost:8080/"
        },
        "id": "WviO9F21pNSf",
        "outputId": "96dbcc96-d884-40d6-85a9-da5ac7aea69e"
      },
      "execution_count": null,
      "outputs": [
        {
          "output_type": "stream",
          "name": "stdout",
          "text": [
            "[-3.4  4.8 -1.4]\n"
          ]
        }
      ]
    },
    {
      "cell_type": "code",
      "source": [
        "\"\"\" Ecuación de la derivada Progresiva: (-17f(x+0.1h)+24f(x+0.6h)-7f(x+1.1h))/5h \"\"\""
      ],
      "metadata": {
        "colab": {
          "base_uri": "https://localhost:8080/",
          "height": 35
        },
        "id": "BbSwB9EZsCQk",
        "outputId": "6302ceb3-6115-48e3-f975-23e18f753651"
      },
      "execution_count": null,
      "outputs": [
        {
          "output_type": "execute_result",
          "data": {
            "text/plain": [
              "' Ecuación de la derivada Progresiva: (-17f(x+0.1h)+24f(x+0.6h)-7f(x+1.1h))/5h '"
            ],
            "application/vnd.google.colaboratory.intrinsic+json": {
              "type": "string"
            }
          },
          "metadata": {},
          "execution_count": 6
        }
      ]
    },
    {
      "cell_type": "code",
      "source": [
        "Poly=Poly_Interpolacion(x,y,X)\n",
        "Poly=Poly.expand()\n",
        "Poly"
      ],
      "metadata": {
        "colab": {
          "base_uri": "https://localhost:8080/",
          "height": 39
        },
        "id": "NmiQDiJfp1eh",
        "outputId": "4deca350-24f3-4c6f-ff4d-bba06ce0e9a6"
      },
      "execution_count": null,
      "outputs": [
        {
          "output_type": "execute_result",
          "data": {
            "text/plain": [
              "0.128408146479789*x**2 + 0.930852584024414*x + 0.222387147178331"
            ],
            "text/latex": "$\\displaystyle 0.128408146479789 x^{2} + 0.930852584024414 x + 0.222387147178331$"
          },
          "metadata": {},
          "execution_count": 7
        }
      ]
    },
    {
      "cell_type": "code",
      "source": [
        "# Punto 2. Derivada central\n",
        "x2=np.linspace(0.1, 1.1, 100)\n",
        "def derivada_central(f,x,h=0.01):\n",
        "  return (f(x+h)-f(x-h))/(2*h)\n",
        "\n",
        "y=derivada_central(f_1,x2)\n",
        "plt.scatter(x2,y)\n",
        "plt.show()"
      ],
      "metadata": {
        "colab": {
          "base_uri": "https://localhost:8080/",
          "height": 430
        },
        "id": "66D1oEr8pRsh",
        "outputId": "a237d995-c343-4f6b-b73d-ed205d007383"
      },
      "execution_count": null,
      "outputs": [
        {
          "output_type": "display_data",
          "data": {
            "text/plain": [
              "<Figure size 640x480 with 1 Axes>"
            ],
            "image/png": "[encoded data removed]"
          },
          "metadata": {}
        }
      ]
    },
    {
      "cell_type": "code",
      "source": [
        "# Punto error\n",
        "\n",
        "xr=np.array([100, 121, 144])\n",
        "def f(x):\n",
        "  return np.sqrt(x)\n",
        "\n",
        "yr=np.array(f(x))\n"
      ],
      "metadata": {
        "id": "edXjTuXucrqV"
      },
      "execution_count": null,
      "outputs": []
    },
    {
      "cell_type": "code",
      "source": [
        "X= sym.Symbol('x', real=True)"
      ],
      "metadata": {
        "id": "h1bnlxQudG6i"
      },
      "execution_count": null,
      "outputs": []
    },
    {
      "cell_type": "code",
      "source": [
        "def Bases_cardinales(xr,X,i):\n",
        "  base=1\n",
        "  for j in range(len(xr)):\n",
        "    if j!=i:\n",
        "      base *= (((X-xr[j])/(xr[i]-xr[j])))\n",
        "  return base"
      ],
      "metadata": {
        "id": "xccWkpv4daiF"
      },
      "execution_count": null,
      "outputs": []
    },
    {
      "cell_type": "code",
      "source": [
        "def poly(xr,yr,X):\n",
        "  poly=0\n",
        "  for i in range(len(yr)):\n",
        "    poly += yr[i]*Bases_cardinales(xr,X,i)\n",
        "  return poly"
      ],
      "metadata": {
        "id": "lpkzkSjSdwxG"
      },
      "execution_count": null,
      "outputs": []
    },
    {
      "cell_type": "code",
      "source": [
        "Poly=poly(xr,yr,X)\n",
        "Poly=Poly.expand()\n",
        "Poly"
      ],
      "metadata": {
        "colab": {
          "base_uri": "https://localhost:8080/",
          "height": 39
        },
        "id": "C5I0ufHqhKuh",
        "outputId": "56778234-2419-48d9-b088-ae3028c94cf9"
      },
      "execution_count": null,
      "outputs": [
        {
          "output_type": "execute_result",
          "data": {
            "text/plain": [
              "-0.000225109590469829*x**2 + 0.0715763101235773*x - 4.5903073416426"
            ],
            "text/latex": "$\\displaystyle - 0.000225109590469829 x^{2} + 0.0715763101235773 x - 4.5903073416426$"
          },
          "metadata": {},
          "execution_count": 13
        }
      ]
    },
    {
      "cell_type": "code",
      "source": [
        "\n",
        "\n",
        "x1=np.linspace(xr[0], xr[-1], 50)\n",
        "y1=poly(xr,yr,x1)\n",
        "plt.plot(x1,y1)\n",
        "plt.scatter(xr,yr, color=\"r\")\n",
        "plt.show()\n",
        "print(y1)"
      ],
      "metadata": {
        "colab": {
          "base_uri": "https://localhost:8080/",
          "height": 586
        },
        "id": "2TsEZE95d7xV",
        "outputId": "979f30a9-59cc-464a-87ce-2b7cbd663adc"
      },
      "execution_count": null,
      "outputs": [
        {
          "output_type": "display_data",
          "data": {
            "text/plain": [
              "<Figure size 640x480 with 1 Axes>"
            ],
            "image/png": "[encoded data removed]"
          },
          "metadata": {}
        },
        {
          "output_type": "stream",
          "name": "stdout",
          "text": [
            "[0.31622777 0.33989101 0.36319124 0.38612843 0.4087026  0.43091375\n",
            " 0.45276187 0.47424696 0.49536903 0.51612807 0.53652409 0.55655708\n",
            " 0.57622705 0.59553399 0.61447791 0.6330588  0.65127666 0.6691315\n",
            " 0.68662331 0.7037521  0.72051786 0.7369206  0.75296031 0.76863699\n",
            " 0.78395065 0.79890129 0.8134889  0.82771348 0.84157504 0.85507357\n",
            " 0.86820908 0.88098156 0.89339101 0.90543744 0.91712085 0.92844123\n",
            " 0.93939858 0.94999291 0.96022421 0.97009249 0.97959774 0.98873996\n",
            " 0.99751916 1.00593534 1.01398849 1.02167861 1.02900571 1.03596978\n",
            " 1.04257083 1.04880885]\n"
          ]
        }
      ]
    },
    {
      "cell_type": "code",
      "source": [
        "Error=f(114)-poly(xr,yr,114)\n",
        "print(Error)"
      ],
      "metadata": {
        "colab": {
          "base_uri": "https://localhost:8080/"
        },
        "id": "fpZ1cdTei5qF",
        "outputId": "69ace476-30dc-4f50-8c40-0b61ee68a195"
      },
      "execution_count": null,
      "outputs": [
        {
          "output_type": "stream",
          "name": "stdout",
          "text": [
            "10.033210477332\n"
          ]
        }
      ]
    },
    {
      "cell_type": "code",
      "source": [
        "def Cuarta_Derivada(f,x,h=0.01):\n",
        "  return (f(x+2*h)-4*f(x+h)+6*f(x)-4*f(x-h)+f(x-2*h))/(h**4)"
      ],
      "metadata": {
        "id": "Yt1Sq9prktAu"
      },
      "execution_count": null,
      "outputs": []
    },
    {
      "cell_type": "code",
      "source": [
        "Xe = sym.Symbol('x', real=True)\n",
        "Xe"
      ],
      "metadata": {
        "colab": {
          "base_uri": "https://localhost:8080/",
          "height": 39
        },
        "id": "45Qzf324oQzb",
        "outputId": "546ab4fd-6fd1-48ca-d78e-4e4fae27bc36"
      },
      "execution_count": null,
      "outputs": [
        {
          "output_type": "execute_result",
          "data": {
            "text/plain": [
              "x"
            ],
            "text/latex": "$\\displaystyle x$"
          },
          "metadata": {},
          "execution_count": 17
        }
      ]
    },
    {
      "cell_type": "code",
      "source": [
        "def Calcular_error(Xe,xr):\n",
        "  for i in range(len(xr)):\n",
        "    return ((Cuarta_Derivada(f,Xe))/(np.math.factorial((len(xr)+1))))*(Xe-xr[i])\n",
        "a=Calcular_error(114,xr)\n",
        "print(a)"
      ],
      "metadata": {
        "colab": {
          "base_uri": "https://localhost:8080/"
        },
        "id": "W30qDCvuocWQ",
        "outputId": "f1eee328-78af-4e63-bbe0-c5a4175c23c1"
      },
      "execution_count": null,
      "outputs": [
        {
          "output_type": "stream",
          "name": "stdout",
          "text": [
            "3.1086244689504383e-07\n"
          ]
        },
        {
          "output_type": "stream",
          "name": "stderr",
          "text": [
            "<ipython-input-18-924ed50521cc>:3: DeprecationWarning: `np.math` is a deprecated alias for the standard library `math` module (Deprecated Numpy 1.25). Replace usages of `np.math` with `math`\n",
            "  return ((Cuarta_Derivada(f,Xe))/(np.math.factorial((len(xr)+1))))*(Xe-xr[i])\n"
          ]
        }
      ]
    },
    {
      "cell_type": "code",
      "source": [
        "# Bala\n",
        "x_b = np.array([1.4, 3.5, 5.6])\n",
        "y_b = np.array([0.4007954931819738 ,0.594128102489774 ,0.29802795523938164])\n",
        "\n",
        "X= sym.Symbol('x', real=True)\n",
        "\n",
        "def base_cardinale(x,X,i):\n",
        "  base=1\n",
        "  for j in range(len(x_b)):\n",
        "    if j!=i:\n",
        "      base *= (((X-x_b[j])/(x_b[i]-x_b[j])))\n",
        "  return base"
      ],
      "metadata": {
        "id": "-Kwpz3IJrzZ5"
      },
      "execution_count": null,
      "outputs": []
    },
    {
      "cell_type": "code",
      "source": [
        "def polinomio_interpolacion(x,y,X):\n",
        "  poly=0\n",
        "  for i in range(len(y_b)):\n",
        "    poly += y_b[i]*base_cardinale(x_b,X,i)\n",
        "  return poly\n"
      ],
      "metadata": {
        "id": "TGk8Df3wDTJ6"
      },
      "execution_count": null,
      "outputs": []
    },
    {
      "cell_type": "code",
      "source": [
        "\n",
        "x_p=np.linspace(x_b[0], x_b[-1], 50)\n",
        "y_p=polinomio_interpolacion(x_b,y_b,x_p)\n",
        "print(np.max(y_p))\n",
        "plt.plot(x_p,y_p)\n",
        "plt.scatter(x_b,y_b, color=\"r\")\n",
        "plt.show()"
      ],
      "metadata": {
        "colab": {
          "base_uri": "https://localhost:8080/",
          "height": 447
        },
        "id": "2-G_9JEsD15K",
        "outputId": "ac69157b-f030-4d76-df00-a71c7400d2bc"
      },
      "execution_count": null,
      "outputs": [
        {
          "output_type": "stream",
          "name": "stdout",
          "text": [
            "0.5968232769758175\n"
          ]
        },
        {
          "output_type": "display_data",
          "data": {
            "text/plain": [
              "<Figure size 640x480 with 1 Axes>"
            ],
            "image/png": "[encoded data removed]"
          },
          "metadata": {}
        }
      ]
    },
    {
      "cell_type": "code",
      "source": [
        "poly=polinomio_interpolacion(x_b,y_b,X)\n",
        "poly=poly.expand()\n",
        "poly"
      ],
      "metadata": {
        "colab": {
          "base_uri": "https://localhost:8080/",
          "height": 39
        },
        "id": "GCtyWNofuO78",
        "outputId": "5926c59b-53bc-4765-8228-fe17968cfd71"
      },
      "execution_count": null,
      "outputs": [
        {
          "output_type": "execute_result",
          "data": {
            "text/plain": [
              "-0.0554912422401579*x**2 + 0.363970234266202*x"
            ],
            "text/latex": "$\\displaystyle - 0.0554912422401579 x^{2} + 0.363970234266202 x$"
          },
          "metadata": {},
          "execution_count": 22
        }
      ]
    },
    {
      "cell_type": "code",
      "source": [],
      "metadata": {
        "colab": {
          "base_uri": "https://localhost:8080/",
          "height": 37
        },
        "id": "5s5LB2kYjlet",
        "outputId": "788c744d-994e-4ab6-ac37-e05a8c105b8d"
      },
      "execution_count": null,
      "outputs": [
        {
          "output_type": "execute_result",
          "data": {
            "text/plain": [
              "0.596825400206689"
            ],
            "text/latex": "$\\displaystyle 0.596825400206689$"
          },
          "metadata": {},
          "execution_count": 91
        }
      ]
    },
    {
      "cell_type": "code",
      "source": [
        "X_max = 0.363970234266202/(2*0.0554912422401579)\n",
        "X_max"
      ],
      "metadata": {
        "colab": {
          "base_uri": "https://localhost:8080/"
        },
        "id": "o-if7Gb8D60Q",
        "outputId": "560e106d-6cdc-4817-dcd8-ebf44b58677f"
      },
      "execution_count": null,
      "outputs": [
        {
          "output_type": "execute_result",
          "data": {
            "text/plain": [
              "3.2795286208496885"
            ]
          },
          "metadata": {},
          "execution_count": 154
        }
      ]
    },
    {
      "cell_type": "code",
      "source": [
        "g=9.8"
      ],
      "metadata": {
        "id": "Z_9db34l1hjt"
      },
      "execution_count": null,
      "outputs": []
    },
    {
      "cell_type": "code",
      "source": [
        "Vy=np.sqrt(2*(g)*(np.max(y_b)))\n",
        "Vy"
      ],
      "metadata": {
        "colab": {
          "base_uri": "https://localhost:8080/"
        },
        "id": "Bi_xLYwHEy0n",
        "outputId": "6dda98d1-9852-4e9d-c1ca-e5e8fb1b4f97"
      },
      "execution_count": null,
      "outputs": [
        {
          "output_type": "execute_result",
          "data": {
            "text/plain": [
              "3.4124640377298587"
            ]
          },
          "metadata": {},
          "execution_count": 155
        }
      ]
    },
    {
      "cell_type": "code",
      "source": [
        "Ti=Vy/g\n",
        "Ti"
      ],
      "metadata": {
        "colab": {
          "base_uri": "https://localhost:8080/"
        },
        "id": "4BWIwsFgFOp2",
        "outputId": "18509469-75ed-4dfa-c453-0f28a4742542"
      },
      "execution_count": null,
      "outputs": [
        {
          "output_type": "execute_result",
          "data": {
            "text/plain": [
              "0.3482106160948835"
            ]
          },
          "metadata": {},
          "execution_count": 156
        }
      ]
    },
    {
      "cell_type": "code",
      "source": [
        "Vx=(X_max)/Ti\n",
        "Vx"
      ],
      "metadata": {
        "colab": {
          "base_uri": "https://localhost:8080/"
        },
        "id": "ko6-2UgVcg4g",
        "outputId": "9052b56a-3ba5-4423-defc-a21128193738"
      },
      "execution_count": null,
      "outputs": [
        {
          "output_type": "execute_result",
          "data": {
            "text/plain": [
              "9.41823272830962"
            ]
          },
          "metadata": {},
          "execution_count": 159
        }
      ]
    },
    {
      "cell_type": "code",
      "source": [
        "Vo=round(np.sqrt((Vy**2)+(Vx**2)))\n",
        "Vo"
      ],
      "metadata": {
        "colab": {
          "base_uri": "https://localhost:8080/"
        },
        "id": "5B6TdIwsFthr",
        "outputId": "33bef7a4-8f3d-4bc2-d124-ae9ea9f66cb0"
      },
      "execution_count": null,
      "outputs": [
        {
          "output_type": "execute_result",
          "data": {
            "text/plain": [
              "10"
            ]
          },
          "metadata": {},
          "execution_count": 164
        }
      ]
    },
    {
      "cell_type": "code",
      "source": [
        "Theta=np.arctan(Vy/Vx)\n",
        "Theta"
      ],
      "metadata": {
        "colab": {
          "base_uri": "https://localhost:8080/"
        },
        "id": "H7IGChjutXKQ",
        "outputId": "68d3ff5a-54f5-43e1-9cef-c6d7aecdcb11"
      },
      "execution_count": null,
      "outputs": [
        {
          "output_type": "execute_result",
          "data": {
            "text/plain": [
              "0.34761257326103256"
            ]
          },
          "metadata": {},
          "execution_count": 161
        }
      ]
    },
    {
      "cell_type": "code",
      "source": [
        "Radianes=round(Theta*180/np.pi)\n",
        "Radianes"
      ],
      "metadata": {
        "colab": {
          "base_uri": "https://localhost:8080/"
        },
        "id": "SioRtvq2YGrg",
        "outputId": "b60b6f79-fd19-4ae9-ea1b-19f9d0f97989"
      },
      "execution_count": null,
      "outputs": [
        {
          "output_type": "execute_result",
          "data": {
            "text/plain": [
              "20"
            ]
          },
          "metadata": {},
          "execution_count": 163
        }
      ]
    }
  ],
  "metadata": {
    "colab": {
      "name": "Buena Tarea interpolación parte dinosaurio",
      "provenance": [],
      "include_colab_link": true
    },
    "kernelspec": {
      "display_name": "Python 3",
      "name": "python3"
    }
  },
  "nbformat": 4,
  "nbformat_minor": 0
}