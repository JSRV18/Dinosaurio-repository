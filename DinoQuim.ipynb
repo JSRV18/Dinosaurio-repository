{
  "nbformat": 4,
  "nbformat_minor": 0,
  "metadata": {
    "colab": {
      "provenance": [],
      "authorship_tag": "ABX9TyOJG8oLLsyPOs5xZPKYkAGZ",
      "include_colab_link": true
    },
    "kernelspec": {
      "name": "python3",
      "display_name": "Python 3"
    },
    "language_info": {
      "name": "python"
    }
  },
  "cells": [
    {
      "cell_type": "markdown",
      "metadata": {
        "id": "view-in-github",
        "colab_type": "text"
      },
      "source": [
        "<a href=\"https://colab.research.google.com/github/JSRV18/Dinosaurio-repository/blob/main/DinoQuim.ipynb\" target=\"_parent\"><img src=\"https://colab.research.google.com/assets/colab-badge.svg\" alt=\"Open In Colab\"/></a>"
      ]
    },
    {
      "cell_type": "code",
      "execution_count": 2,
      "metadata": {
        "colab": {
          "base_uri": "https://localhost:8080/"
        },
        "collapsed": true,
        "id": "Wne7RrCk2ZdJ",
        "outputId": "4092e681-240f-4788-f20b-33ddd60103a2"
      },
      "outputs": [
        {
          "output_type": "stream",
          "name": "stdout",
          "text": [
            "Collecting pint\n",
            "  Downloading Pint-0.24.4-py3-none-any.whl.metadata (8.5 kB)\n",
            "Requirement already satisfied: platformdirs>=2.1.0 in /usr/local/lib/python3.11/dist-packages (from pint) (4.3.6)\n",
            "Requirement already satisfied: typing-extensions>=4.0.0 in /usr/local/lib/python3.11/dist-packages (from pint) (4.12.2)\n",
            "Collecting flexcache>=0.3 (from pint)\n",
            "  Downloading flexcache-0.3-py3-none-any.whl.metadata (7.0 kB)\n",
            "Collecting flexparser>=0.4 (from pint)\n",
            "  Downloading flexparser-0.4-py3-none-any.whl.metadata (18 kB)\n",
            "Downloading Pint-0.24.4-py3-none-any.whl (302 kB)\n",
            "\u001b[2K   \u001b[90m━━━━━━━━━━━━━━━━━━━━━━━━━━━━━━━━━━━━━━━━\u001b[0m \u001b[32m302.0/302.0 kB\u001b[0m \u001b[31m6.8 MB/s\u001b[0m eta \u001b[36m0:00:00\u001b[0m\n",
            "\u001b[?25hDownloading flexcache-0.3-py3-none-any.whl (13 kB)\n",
            "Downloading flexparser-0.4-py3-none-any.whl (27 kB)\n",
            "Installing collected packages: flexparser, flexcache, pint\n",
            "Successfully installed flexcache-0.3 flexparser-0.4 pint-0.24.4\n",
            "Requirement already satisfied: pint in /usr/local/lib/python3.11/dist-packages (0.24.4)\n",
            "Collecting uncertainties\n",
            "  Downloading uncertainties-3.2.2-py3-none-any.whl.metadata (6.9 kB)\n",
            "Requirement already satisfied: platformdirs>=2.1.0 in /usr/local/lib/python3.11/dist-packages (from pint) (4.3.6)\n",
            "Requirement already satisfied: typing-extensions>=4.0.0 in /usr/local/lib/python3.11/dist-packages (from pint) (4.12.2)\n",
            "Requirement already satisfied: flexcache>=0.3 in /usr/local/lib/python3.11/dist-packages (from pint) (0.3)\n",
            "Requirement already satisfied: flexparser>=0.4 in /usr/local/lib/python3.11/dist-packages (from pint) (0.4)\n",
            "Downloading uncertainties-3.2.2-py3-none-any.whl (58 kB)\n",
            "\u001b[2K   \u001b[90m━━━━━━━━━━━━━━━━━━━━━━━━━━━━━━━━━━━━━━━━\u001b[0m \u001b[32m58.3/58.3 kB\u001b[0m \u001b[31m2.1 MB/s\u001b[0m eta \u001b[36m0:00:00\u001b[0m\n",
            "\u001b[?25hInstalling collected packages: uncertainties\n",
            "Successfully installed uncertainties-3.2.2\n"
          ]
        }
      ],
      "source": [
        "import numpy as np\n",
        "!pip install pint\n",
        "!pip install pint uncertainties\n",
        "import uncertainties\n",
        "from uncertainties import ufloat\n",
        "import pint as pint\n",
        "ureg=pint.UnitRegistry(auto_reduce_dimensions=True)\n",
        "Measurement=ureg.Measurement\n",
        "Quantity=ureg.Quantity"
      ]
    },
    {
      "cell_type": "code",
      "source": [
        "# Peso molecular del TRIS\n",
        "Pa = Quantity(121.14,'g/mol')\n",
        "Pa"
      ],
      "metadata": {
        "colab": {
          "base_uri": "https://localhost:8080/",
          "height": 34
        },
        "id": "nRdw1v6kABa9",
        "outputId": "d3dea31f-1536-45ff-b46e-c1a4c7e0a583"
      },
      "execution_count": 3,
      "outputs": [
        {
          "output_type": "execute_result",
          "data": {
            "text/plain": [
              "<Quantity(121.14, 'gram / mole')>"
            ],
            "text/html": [
              "121.14 gram/mole"
            ],
            "text/latex": "$121.14\\ \\frac{\\mathrm{gram}}{\\mathrm{mole}}$"
          },
          "metadata": {},
          "execution_count": 3
        }
      ]
    },
    {
      "cell_type": "code",
      "source": [
        "# Datos para el Rojo\n",
        "\n",
        "#Volumen usado:\n",
        "\n",
        "V1r = Quantity(16.8,'mL')\n",
        "V1r=V1r.to('L')\n",
        "\n",
        "V2r = Quantity(16.4,'mL')\n",
        "V2r=V2r.to('L')\n",
        "\n",
        "V3r = Quantity(16.4,'mL')\n",
        "V3r=V3r.to('L')\n",
        "\n",
        "V4r = Quantity(16.7,'mL')\n",
        "V4r=V4r.to('L')\n",
        "\n",
        "V5r = Quantity(16.6,'mL')\n",
        "V5r=V5r.to('L')\n",
        "\n",
        "V6r = Quantity(17.3,'mL')\n",
        "V6r=V6r.to('L')\n",
        "\n",
        "Vlsr = np.array([V1r.magnitude,V2r.magnitude,V3r.magnitude,V4r.magnitude,V5r.magnitude,V6r.magnitude])\n",
        "Vlsr"
      ],
      "metadata": {
        "colab": {
          "base_uri": "https://localhost:8080/"
        },
        "id": "5EoaSzam23rZ",
        "outputId": "0021e646-656c-4085-b891-7cd37219df8d"
      },
      "execution_count": 4,
      "outputs": [
        {
          "output_type": "execute_result",
          "data": {
            "text/plain": [
              "array([0.0168, 0.0164, 0.0164, 0.0167, 0.0166, 0.0173])"
            ]
          },
          "metadata": {},
          "execution_count": 4
        }
      ]
    },
    {
      "cell_type": "code",
      "source": [
        "#Masas usadas:\n",
        "\n",
        "m1r = Quantity(0.1231,'g')\n",
        "m2r = Quantity(0.1221,'g')\n",
        "m3r = Quantity(0.1238,'g')\n",
        "m4r = Quantity(0.1215,'g')\n",
        "m5r = Quantity(0.1211,'g')\n",
        "m6r = Quantity(0.1213,'g')\n",
        "\n",
        "mlsr = np.array([m1r.magnitude,m2r.magnitude,m3r.magnitude,m4r.magnitude,m5r.magnitude,m6r.magnitude])\n",
        "mlsr"
      ],
      "metadata": {
        "colab": {
          "base_uri": "https://localhost:8080/"
        },
        "id": "hXgTpz6q7yb5",
        "outputId": "da9ac7c7-c7e2-445d-fef0-6b1bf5f7467f"
      },
      "execution_count": 5,
      "outputs": [
        {
          "output_type": "execute_result",
          "data": {
            "text/plain": [
              "array([0.1231, 0.1221, 0.1238, 0.1215, 0.1211, 0.1213])"
            ]
          },
          "metadata": {},
          "execution_count": 5
        }
      ]
    },
    {
      "cell_type": "code",
      "source": [
        "#Moles de HCl con rojo\n",
        "\n",
        "molHr = mlsr/Pa.magnitude\n",
        "molHr"
      ],
      "metadata": {
        "colab": {
          "base_uri": "https://localhost:8080/"
        },
        "id": "oTRcmgVTe_3c",
        "outputId": "524e1e8f-3b7f-4138-ae29-5999c9fe6933"
      },
      "execution_count": 6,
      "outputs": [
        {
          "output_type": "execute_result",
          "data": {
            "text/plain": [
              "array([0.00101618, 0.00100792, 0.00102196, 0.00100297, 0.00099967,\n",
              "       0.00100132])"
            ]
          },
          "metadata": {},
          "execution_count": 6
        }
      ]
    },
    {
      "cell_type": "code",
      "source": [
        "# Molaridad según rojo:\n",
        "\n",
        "Mr = molHr/Vlsr\n",
        "Mr\n",
        "\n",
        "Mediar = np.mean(Mr)\n",
        "Desvr = np.std(Mr)\n",
        "Desvrrel = (Desvr/Mediar)*100\n",
        "\n",
        "Datosr = np.array([Mediar,Desvr,Desvrrel])\n",
        "Mr, Datosr"
      ],
      "metadata": {
        "colab": {
          "base_uri": "https://localhost:8080/"
        },
        "id": "CtNmyEvNnYgz",
        "outputId": "2eaaa18c-a5ee-42ea-9f9d-8e03836a79b2"
      },
      "execution_count": 7,
      "outputs": [
        {
          "output_type": "execute_result",
          "data": {
            "text/plain": [
              "(array([0.06048688, 0.06145882, 0.06231452, 0.06005819, 0.06022107,\n",
              "        0.05787981]),\n",
              " array([6.04032165e-02, 1.37199082e-03, 2.27138702e+00]))"
            ]
          },
          "metadata": {},
          "execution_count": 7
        }
      ]
    },
    {
      "cell_type": "code",
      "source": [
        "# Prueba de grubbs rojo:\n",
        "\n",
        "Gr = (np.abs(Mediar - Mr[-1]))/Desvr\n",
        "Gr\n",
        "# Se descarta el último dato\n",
        "\n",
        "NewMr = Mr[:-1]\n",
        "\n",
        "MediarNew = np.mean(NewMr)\n",
        "DesvrNew = np.std(NewMr)\n",
        "DesvrrelNew = (DesvrNew/MediarNew)*100\n",
        "\n",
        "DatosNewr = np.array([MediarNew,DesvrNew,DesvrrelNew])\n",
        "DatosNewr"
      ],
      "metadata": {
        "colab": {
          "base_uri": "https://localhost:8080/"
        },
        "id": "ehRCq7aspzji",
        "outputId": "c8e54d34-04af-4108-f097-66750f35cd6f"
      },
      "execution_count": 9,
      "outputs": [
        {
          "output_type": "execute_result",
          "data": {
            "text/plain": [
              "array([6.09078970e-02, 8.54760980e-04, 1.40336643e+00])"
            ]
          },
          "metadata": {},
          "execution_count": 9
        }
      ]
    },
    {
      "cell_type": "code",
      "source": [
        "# Datos para el azul\n",
        "\n",
        "#Volúmenes usados:\n",
        "\n",
        "V1a = Quantity(20.3,'mL')\n",
        "V1a=V1a.to('L')\n",
        "\n",
        "V2a = Quantity(16.7,'mL')\n",
        "V2a=V2a.to('L')\n",
        "\n",
        "V3a = Quantity(20.4,'mL')\n",
        "V3a=V3a.to('L')\n",
        "\n",
        "V4a = Quantity(16.75,'mL')\n",
        "V4a=V4a.to('L')\n",
        "\n",
        "V5a = Quantity(16.5,'mL')\n",
        "V5a=V5a.to('L')\n",
        "\n",
        "V6a = Quantity(16.4,'mL')\n",
        "V6a=V6a.to('L')\n",
        "\n",
        "Vlsa = np.array([V1a.magnitude,V2a.magnitude,V3a.magnitude,V4a.magnitude,V5a.magnitude,V6a.magnitude])\n",
        "Vlsa"
      ],
      "metadata": {
        "colab": {
          "base_uri": "https://localhost:8080/"
        },
        "id": "yagnU_r5QR8B",
        "outputId": "037eb831-be2b-4971-afdd-c600de03f5d7"
      },
      "execution_count": 11,
      "outputs": [
        {
          "output_type": "execute_result",
          "data": {
            "text/plain": [
              "array([0.0203 , 0.0167 , 0.0204 , 0.01675, 0.0165 , 0.0164 ])"
            ]
          },
          "metadata": {},
          "execution_count": 11
        }
      ]
    },
    {
      "cell_type": "code",
      "source": [
        "# masas usadas:\n",
        "m1a = Quantity(0.1209,'g')\n",
        "m2a = Quantity(0.1234,'g')\n",
        "m3a = Quantity(0.1210,'g')\n",
        "m4a = Quantity(0.1230,'g')\n",
        "m5a = Quantity(0.1240,'g')\n",
        "m6a = Quantity(0.1236,'g')\n",
        "\n",
        "mlsa = np.array([m1a.magnitude,m2a.magnitude,m3a.magnitude,m4a.magnitude,m5a.magnitude,m6a.magnitude])\n",
        "mlsa"
      ],
      "metadata": {
        "colab": {
          "base_uri": "https://localhost:8080/"
        },
        "id": "tynUGKBPoEj8",
        "outputId": "80f1250b-fa70-4d73-a834-acd406df7370"
      },
      "execution_count": 12,
      "outputs": [
        {
          "output_type": "execute_result",
          "data": {
            "text/plain": [
              "array([0.1209, 0.1234, 0.121 , 0.123 , 0.124 , 0.1236])"
            ]
          },
          "metadata": {},
          "execution_count": 12
        }
      ]
    },
    {
      "cell_type": "code",
      "source": [
        "# Moles HCl con azul:\n",
        "\n",
        "molHa = mlsa/Pa.magnitude\n",
        "molHa"
      ],
      "metadata": {
        "colab": {
          "base_uri": "https://localhost:8080/"
        },
        "id": "ZTArYXR7pa-S",
        "outputId": "14d23d80-8175-4e69-d3bd-eb63ef7b0cdb"
      },
      "execution_count": 13,
      "outputs": [
        {
          "output_type": "execute_result",
          "data": {
            "text/plain": [
              "array([0.00099802, 0.00101866, 0.00099884, 0.00101535, 0.00102361,\n",
              "       0.00102031])"
            ]
          },
          "metadata": {},
          "execution_count": 13
        }
      ]
    },
    {
      "cell_type": "code",
      "source": [
        "# Molaridad según Azul:\n",
        "\n",
        "Ma = molHa/Vlsa\n",
        "Ma\n",
        "\n",
        "Mediaa = np.mean(Ma)\n",
        "Desva = np.std(Ma)\n",
        "Desvarel = (Desva/Mediaa)*100\n",
        "\n",
        "Datosa = np.array([Mediaa,Desva,Desvarel])\n",
        "Ma, Datosa"
      ],
      "metadata": {
        "colab": {
          "base_uri": "https://localhost:8080/"
        },
        "id": "MIXH3IJhpidf",
        "outputId": "3dd20b22-8b35-4ed2-f247-6728076139c8"
      },
      "execution_count": 14,
      "outputs": [
        {
          "output_type": "execute_result",
          "data": {
            "text/plain": [
              "(array([0.04916349, 0.06099737, 0.04896296, 0.06061816, 0.06203691,\n",
              "        0.06221385]),\n",
              " array([5.73321221e-02, 5.87321412e-03, 1.02441945e+01]))"
            ]
          },
          "metadata": {},
          "execution_count": 14
        }
      ]
    },
    {
      "cell_type": "code",
      "source": [
        "# Prueba de Grubs azul:\n",
        "\n",
        "G1a = (np.abs(Ma[0] - Mediaa))/Desva\n",
        "G2a = (np.abs(Ma[2] - Mediaa))/Desva\n",
        "\n",
        "# No se descarta ningún dato"
      ],
      "metadata": {
        "id": "IewQiMwhwQ10"
      },
      "execution_count": 16,
      "outputs": []
    },
    {
      "cell_type": "code",
      "source": [
        "#Datos para el Naranja\n",
        "\n",
        "# Volúmenes usados:\n",
        "\n",
        "V1n = Quantity(16.6,'mL')\n",
        "V1n=V1n.to('L')\n",
        "\n",
        "V2n = Quantity(16.6,'mL')\n",
        "V2n=V2n.to('L')\n",
        "\n",
        "V3n = Quantity(16.7,'mL')\n",
        "V3n=V3n.to('L')\n",
        "\n",
        "V4n = Quantity(16.9,'mL')\n",
        "V4n=V4n.to('L')\n",
        "\n",
        "V5n = Quantity(17.0,'mL')\n",
        "V5n=V5n.to('L')\n",
        "\n",
        "V6n = Quantity(16.5,'mL')\n",
        "V6n=V6n.to('L')\n",
        "\n",
        "Vlsn = np.array([V1n.magnitude,V2n.magnitude,V3n.magnitude,V4n.magnitude,V5n.magnitude,V6n.magnitude])\n",
        "Vlsn"
      ],
      "metadata": {
        "colab": {
          "base_uri": "https://localhost:8080/"
        },
        "id": "wdJex-Uu-IpT",
        "outputId": "7c3ade6e-7082-4e5a-8875-b5054c410c7e"
      },
      "execution_count": 17,
      "outputs": [
        {
          "output_type": "execute_result",
          "data": {
            "text/plain": [
              "array([0.0166, 0.0166, 0.0167, 0.0169, 0.017 , 0.0165])"
            ]
          },
          "metadata": {},
          "execution_count": 17
        }
      ]
    },
    {
      "cell_type": "code",
      "source": [
        "# Masas usadas:\n",
        "m1n = Quantity(0.1211,'g')\n",
        "m2n = Quantity(0.1211,'g')\n",
        "m3n = Quantity(0.1217,'g')\n",
        "m4n = Quantity(0.1230,'g')\n",
        "m5n = Quantity(0.1240,'g')\n",
        "m6n = Quantity(0.1210,'g')\n",
        "\n",
        "mlsn = np.array([m1n.magnitude,m2n.magnitude,m3n.magnitude,m4n.magnitude,m5n.magnitude,m6n.magnitude])\n",
        "mlsn"
      ],
      "metadata": {
        "colab": {
          "base_uri": "https://localhost:8080/"
        },
        "id": "Qf5XcE6N_SpD",
        "outputId": "4386913b-6fd0-4ac3-e562-58e22f12c54e"
      },
      "execution_count": 18,
      "outputs": [
        {
          "output_type": "execute_result",
          "data": {
            "text/plain": [
              "array([0.1211, 0.1211, 0.1217, 0.123 , 0.124 , 0.121 ])"
            ]
          },
          "metadata": {},
          "execution_count": 18
        }
      ]
    },
    {
      "cell_type": "code",
      "source": [
        "# Moles de HCl con naranja\n",
        "\n",
        "molHn = mlsn/Pa.magnitude\n",
        "molHn"
      ],
      "metadata": {
        "colab": {
          "base_uri": "https://localhost:8080/"
        },
        "id": "APfmHykvATni",
        "outputId": "9614c41f-a0cf-4cfc-a0f8-a9bc57167f13"
      },
      "execution_count": 19,
      "outputs": [
        {
          "output_type": "execute_result",
          "data": {
            "text/plain": [
              "array([0.00099967, 0.00099967, 0.00100462, 0.00101535, 0.00102361,\n",
              "       0.00099884])"
            ]
          },
          "metadata": {},
          "execution_count": 19
        }
      ]
    },
    {
      "cell_type": "code",
      "source": [
        "# Molaridad según Narnja:\n",
        "\n",
        "Mn = molHn/Vlsn\n",
        "Mn\n",
        "\n",
        "Median = np.mean(Mn)\n",
        "Desvn = np.std(Mn)\n",
        "Desvnrel = (Desvn/Median)*100\n",
        "\n",
        "Datosn = np.array([Median,Desvn,Desvnrel])\n",
        "Datosn"
      ],
      "metadata": {
        "colab": {
          "base_uri": "https://localhost:8080/"
        },
        "id": "13h1-uFsAjVp",
        "outputId": "dba40781-05c9-45f2-fa0c-03cdff89cdce"
      },
      "execution_count": 20,
      "outputs": [
        {
          "output_type": "execute_result",
          "data": {
            "text/plain": [
              "array([6.02379397e-02, 1.42317617e-04, 2.36259105e-01])"
            ]
          },
          "metadata": {},
          "execution_count": 20
        }
      ]
    },
    {
      "cell_type": "code",
      "source": [
        "# Prueba F Azul-Rojo:\n",
        "# Azul = s1 y Rojo = s2. Ftab = 6.26\n",
        "\n",
        "Varr = Desvr**2\n",
        "Vara = Desva**2\n",
        "na = len(Ma)\n",
        "nr = len(NewMr)\n",
        "Diva = Vara/na\n",
        "Divr = Varr/nr\n",
        "GLa = na - 1\n",
        "GLr = nr - 1\n",
        "Far = Vara/Varr\n",
        "np.round(Far,3)\n",
        "\n",
        "# Sí son estadísticamente distintos. Caso 2B"
      ],
      "metadata": {
        "colab": {
          "base_uri": "https://localhost:8080/"
        },
        "id": "DniIfnjPxFB1",
        "outputId": "4416ae43-08a1-4485-8c0c-93f5b42c8418"
      },
      "execution_count": 22,
      "outputs": [
        {
          "output_type": "execute_result",
          "data": {
            "text/plain": [
              "18.325"
            ]
          },
          "metadata": {},
          "execution_count": 22
        }
      ]
    },
    {
      "cell_type": "code",
      "source": [
        "# Grados de Libertad Azul-Rojo\n",
        "Glar = ((Diva + Divr)**2)/(((Diva**2)/(na + 1)) + ((Divr**2)/(nr + 1))) -2\n",
        "Glar = np.round(Glar,0)\n",
        "Glar"
      ],
      "metadata": {
        "colab": {
          "base_uri": "https://localhost:8080/"
        },
        "id": "krwOrTQC361n",
        "outputId": "9abcf316-8187-432e-a712-23afaa037a63"
      },
      "execution_count": 23,
      "outputs": [
        {
          "output_type": "execute_result",
          "data": {
            "text/plain": [
              "6.0"
            ]
          },
          "metadata": {},
          "execution_count": 23
        }
      ]
    },
    {
      "cell_type": "code",
      "source": [
        "# t test Azul-Rojo\n",
        "# ttab = 4.48\n",
        "tcalar = np.abs(Mediaa - Mediar)/(np.sqrt(Vara/na + Varr/nr))\n",
        "np.round(tcalar,3)\n",
        "# La diferencia no es significativa"
      ],
      "metadata": {
        "colab": {
          "base_uri": "https://localhost:8080/"
        },
        "id": "anGp9Y0o_fOk",
        "outputId": "b2ff10b2-be05-45cb-bea3-ca03eaa99b84"
      },
      "execution_count": 24,
      "outputs": [
        {
          "output_type": "execute_result",
          "data": {
            "text/plain": [
              "1.241"
            ]
          },
          "metadata": {},
          "execution_count": 24
        }
      ]
    },
    {
      "cell_type": "code",
      "source": [
        "# Prueba F Rojo-Naranja:\n",
        "# Rojo = s1; Naranja = s2\n",
        "\n",
        "Varn = Desvn**2\n",
        "nn = len(Mn)\n",
        "Divn = Varn/nn\n",
        "GLn = nn - 1\n",
        "Far = Varr/Varn\n",
        "np.round(Far,3)\n",
        "\n",
        "# Sí son estadísticamente distintos. Caso 2B"
      ],
      "metadata": {
        "colab": {
          "base_uri": "https://localhost:8080/"
        },
        "id": "iLiBT4iOCuOb",
        "outputId": "338bdc9d-e338-41b8-9ea0-9295b9e41334"
      },
      "execution_count": 25,
      "outputs": [
        {
          "output_type": "execute_result",
          "data": {
            "text/plain": [
              "92.936"
            ]
          },
          "metadata": {},
          "execution_count": 25
        }
      ]
    },
    {
      "cell_type": "code",
      "source": [
        "# Grados de Libertada Rojo-Naranja\n",
        "Glrn = ((Divr + Divn)**2)/(((Divr**2)/(nr + 1)) + ((Divn**2)/(nn + 1))) -2\n",
        "Glrn = np.round(Glrn,0)\n",
        "Glrn"
      ],
      "metadata": {
        "colab": {
          "base_uri": "https://localhost:8080/"
        },
        "id": "OxyBkrZPfv2L",
        "outputId": "a60ffe2e-21e5-4afb-e69b-f99055d7ed77"
      },
      "execution_count": 26,
      "outputs": [
        {
          "output_type": "execute_result",
          "data": {
            "text/plain": [
              "4.0"
            ]
          },
          "metadata": {},
          "execution_count": 26
        }
      ]
    },
    {
      "cell_type": "code",
      "source": [
        "# t test Rojo-Naranja\n",
        "# ttab = 2.776\n",
        "tcalrn = np.abs(Median - Mediar)/(np.sqrt(Varr/nr + Varn/nn))\n",
        "np.round(tcalrn,3)\n",
        "# La diferencia no es significativa"
      ],
      "metadata": {
        "colab": {
          "base_uri": "https://localhost:8080/"
        },
        "id": "wxV0pGzkf7r_",
        "outputId": "c56d5b91-ec26-409f-befc-44222e506d0c"
      },
      "execution_count": 27,
      "outputs": [
        {
          "output_type": "execute_result",
          "data": {
            "text/plain": [
              "0.268"
            ]
          },
          "metadata": {},
          "execution_count": 27
        }
      ]
    },
    {
      "cell_type": "code",
      "source": [
        "#Errores porcentuales\n",
        "reff = 0.0677\n",
        "\n",
        "errpr = np.abs(reff- MediarNew)/reff*100\n",
        "errpr = np.round(errpr,3)\n",
        "\n",
        "errpn = np.abs(reff- Median)/reff*100\n",
        "errpn = np.round(errpn,3)\n",
        "\n",
        "errpa = np.abs(reff- Mediaa)/reff*100\n",
        "errpa = np.round(errpa,3)\n",
        "\n",
        "errpr, errpn, errpa"
      ],
      "metadata": {
        "colab": {
          "base_uri": "https://localhost:8080/"
        },
        "id": "rmrLSK_879LK",
        "outputId": "9e2565c8-20fe-4390-9315-7aeba889f8cc"
      },
      "execution_count": 36,
      "outputs": [
        {
          "output_type": "execute_result",
          "data": {
            "text/plain": [
              "(10.033, 11.022, 15.314)"
            ]
          },
          "metadata": {},
          "execution_count": 36
        }
      ]
    },
    {
      "cell_type": "code",
      "source": [],
      "metadata": {
        "id": "MfF5Kw5HOJAr"
      },
      "execution_count": 29,
      "outputs": []
    }
  ]
}