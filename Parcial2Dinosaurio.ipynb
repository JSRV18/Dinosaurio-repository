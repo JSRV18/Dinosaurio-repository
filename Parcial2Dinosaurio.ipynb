{
  "nbformat": 4,
  "nbformat_minor": 0,
  "metadata": {
    "colab": {
      "provenance": [],
      "authorship_tag": "ABX9TyNOELp8rskV5Pz2vWmHCn3O",
      "include_colab_link": true
    },
    "kernelspec": {
      "name": "python3",
      "display_name": "Python 3"
    },
    "language_info": {
      "name": "python"
    }
  },
  "cells": [
    {
      "cell_type": "markdown",
      "metadata": {
        "id": "view-in-github",
        "colab_type": "text"
      },
      "source": [
        "<a href=\"https://colab.research.google.com/github/JSRV18/Dinosaurio-repository/blob/main/Parcial2Dinosaurio.ipynb\" target=\"_parent\"><img src=\"https://colab.research.google.com/assets/colab-badge.svg\" alt=\"Open In Colab\"/></a>"
      ]
    },
    {
      "cell_type": "code",
      "execution_count": 69,
      "metadata": {
        "id": "UZ6qXXyZAM1W"
      },
      "outputs": [],
      "source": [
        "# Parcial\n",
        "\n",
        "#Punto 24 (Tierra plana)\n",
        "\n",
        "# (a)\n",
        "import numpy as np\n",
        "import matplotlib.pyplot as plt\n",
        "xi,wi = np.polynomial.legendre.leggauss(50)"
      ]
    },
    {
      "cell_type": "code",
      "source": [
        "# (b)\n",
        "k= -0.12495122165232053\n",
        "def dg(ϕ,r,x,y,z):\n",
        "  return (k*z*r)/((x**2 + y**2 + z**2 -2*r*x*np.cos(ϕ) -2*r*y*np.sin(ϕ))+0j)**(3/2)"
      ],
      "metadata": {
        "id": "cUaxrdTQAjWA"
      },
      "execution_count": 106,
      "outputs": []
    },
    {
      "cell_type": "code",
      "source": [
        "# (c)\n",
        "a=0\n",
        "b=2*np.pi\n",
        "c=0\n",
        "R=1\n",
        "\n",
        "def g(x,y,z):\n",
        "  sum = 0\n",
        "  for i in range (len(xi)):\n",
        "    for j in range (len(xi)):\n",
        "      tϕ = 0.5*((b-a)*xi[i] + b + a)\n",
        "      tr = 0.5*((R-c)*xi[j] + R + c)\n",
        "      sum += 0.25*(b-a)*(R-c)*np.sum(np.sum(wi[i]*wi[j]*dg(tϕ,tr,x,y,z)))\n",
        "\n",
        "  return sum"
      ],
      "metadata": {
        "id": "UGkH9_SiBsuS"
      },
      "execution_count": 103,
      "outputs": []
    },
    {
      "cell_type": "code",
      "source": [
        "# (d)\n",
        "g(0.,0.,0.2) #Se modificó el valor de K a -0.12495122165232053 para obtener el valor predicho de la gravedad"
      ],
      "metadata": {
        "colab": {
          "base_uri": "https://localhost:8080/"
        },
        "id": "0mbhOFafHeSF",
        "outputId": "6febbe19-6621-40b9-e873-0fa830992d2f"
      },
      "execution_count": 104,
      "outputs": [
        {
          "output_type": "execute_result",
          "data": {
            "text/plain": [
              "(-152.59739646274767+0j)"
            ]
          },
          "metadata": {},
          "execution_count": 104
        }
      ]
    },
    {
      "cell_type": "code",
      "source": [
        "# (e)\n",
        "def polares(r,θ):\n",
        "  x=r*np.cos(θ)\n",
        "  y=r*np.sin(θ)\n",
        "  return x,y"
      ],
      "metadata": {
        "id": "RQSJjOryLhF_"
      },
      "execution_count": 96,
      "outputs": []
    },
    {
      "cell_type": "code",
      "source": [
        "u=np.linspace(0,2*np.pi,10)"
      ],
      "metadata": {
        "id": "gjdEIKjUlpE4"
      },
      "execution_count": 97,
      "outputs": []
    },
    {
      "cell_type": "code",
      "source": [
        "R_values = [0.0, 0.125, 0.25, 0.38, 0.5]\n",
        "\n",
        "for R in R_values:\n",
        "    g_values = [g(*polares(R,u), 0.2) for phi in u]\n",
        "    plt.plot(u, g_values, linestyle=\"--\", label=f\"R = {R}\")\n",
        "\n",
        "plt.xlabel('Ángulo θ (radianes)')\n",
        "plt.ylabel('g (m/s^2)')\n",
        "plt.legend()\n",
        "plt.grid(True)\n",
        "plt.show()"
      ],
      "metadata": {
        "colab": {
          "base_uri": "https://localhost:8080/",
          "height": 451
        },
        "id": "3lUo-UmLIgh0",
        "outputId": "4c6a8022-d646-4865-eeb6-ce208ce7bd5c"
      },
      "execution_count": 107,
      "outputs": [
        {
          "output_type": "display_data",
          "data": {
            "text/plain": [
              "<Figure size 640x480 with 1 Axes>"
            ],
            "image/png": "[encoded data removed]"
          },
          "metadata": {}
        }
      ]
    },
    {
      "cell_type": "code",
      "source": [
        "# En caso de haber obtenido lo sresultados esperados:"
      ],
      "metadata": {
        "id": "DOA2cUMyG1r1"
      },
      "execution_count": null,
      "outputs": []
    },
    {
      "cell_type": "code",
      "source": [
        "\"\"\" (f) El punto no se refiere al ángulo de elevación sobre la supericie,\n",
        "sino al ángulo que se forma en la superficie respecto al eje (θ de las polares).\n",
        "El hecho de el valor de la gravedad no depende de dicho ángulo implica que\n",
        "solamente la distancia respecto al centro del disco es el factor determinante\n",
        "para el valor de la gravedad.\"\"\""
      ],
      "metadata": {
        "id": "iFztd1M9eo0a"
      },
      "execution_count": 119,
      "outputs": []
    },
    {
      "cell_type": "code",
      "source": [
        "# (g) Lo intentamos UnU"
      ],
      "metadata": {
        "id": "UV30lxlegyil"
      },
      "execution_count": 42,
      "outputs": []
    },
    {
      "cell_type": "code",
      "source": [
        "\"\"\"(h) La tierra no puede ser un disco debido a que el valor de la gravedad\n",
        "varía demadiaso de un lugar a otro en función de la distancia de separación\n",
        "desde el polo, lo cual no sucede en la realidad.\"\"\""
      ],
      "metadata": {
        "id": "wZz2ph2WA_Xm"
      },
      "execution_count": 107,
      "outputs": []
    },
    {
      "cell_type": "code",
      "source": [
        "# Punto 27\n",
        "import time\n",
        "\n",
        "G8=(lambda w0,w1,w2,w3,x0,x1,x2,x3: w0*x0**0 + w1*x1**0 + w2*x2**0 + w3*x3**0 -2, \\\n",
        "    lambda w0,w1,w2,w3,x0,x1,x2,x3: w0*x0**1 + w1*x1**1 + w2*x2**1 + w3*x3**1, \\\n",
        "    lambda w0,w1,w2,w3,x0,x1,x2,x3: w0*x0**2 + w1*x1**2 + w2*x2**2 + w3*x3**2 -2/3, \\\n",
        "    lambda w0,w1,w2,w3,x0,x1,x2,x3: w0*x0**3 + w1*x1**3 + w2*x2**3 + w3*x3**3, \\\n",
        "    lambda w0,w1,w2,w3,x0,x1,x2,x3: w0*x0**4 + w1*x1**4 + w2*x2**4 + w3*x3**4 -2/5, \\\n",
        "    lambda w0,w1,w2,w3,x0,x1,x2,x3: w0*x0**5 + w1*x1**5 + w2*x2**5 + w3*x3**5, \\\n",
        "    lambda w0,w1,w2,w3,x0,x1,x2,x3: w0*x0**6 + w1*x1**6 + w2*x2**6 + w3*x3**6 -2/7,\\\n",
        "    lambda w0,w1,w2,w3,x0,x1,x2,x3: w0*x0**7 + w1*x1**7 + w2*x2**7 + w3*x3**7,)\n",
        "\n",
        "def GetF(f,r):\n",
        "\n",
        "  dim = len(f)\n",
        "  v = np.zeros(dim)\n",
        "\n",
        "  for i in range(dim):\n",
        "    v[i] = f[i](r[0],r[1],r[2],r[3],r[4],r[5],r[6],r[7])\n",
        "\n",
        "  return v\n",
        "\n",
        "def GetJacobian8(f, r, h=1e-3):\n",
        "    dim = len(r)\n",
        "    J = np.zeros((len(f), dim))\n",
        "\n",
        "    for i in range(len(f)):\n",
        "        for j in range(dim):\n",
        "            dr = np.zeros(dim)\n",
        "            dr[j] = h\n",
        "\n",
        "            J[i,j] = (f[i](r[0]+dr[0],r[1]+dr[1],r[2]+dr[2],r[3]+dr[3],r[4]+dr[4],r[5]+dr[5],r[6]+dr[6],r[7]+dr[7]) - \\\n",
        "                       f[i](r[0]-dr[0],r[1]-dr[1],r[2]-dr[2],r[3]-dr[3],r[4]-dr[4],r[5]-dr[5],r[6]-dr[6],r[7]-dr[7])) / (2*h)\n",
        "    return J.T\n",
        "\n",
        "def GetMetric8(f,r):\n",
        "  v=GetF(f,r)\n",
        "  return 0.5*np.linalg.norm(v)**2\n",
        "\n",
        "def descenso(f, r, lr, epoch, err):\n",
        "\n",
        "\n",
        "  r=r.astype(np.float64)\n",
        "\n",
        "  d=1\n",
        "  it=0\n",
        "  Vector = np.array([])\n",
        "  R_vector = np.array(r)\n",
        "\n",
        "  while d>err and it<epoch:\n",
        "\n",
        "    Current = GetMetric8(f,r)\n",
        "    J = GetJacobian8(f,r)\n",
        "    Gvector = GetF(f,r)\n",
        "\n",
        "    r-= lr*np.dot(J,Gvector)\n",
        "    R_vector = np.vstack((R_vector,r))\n",
        "    New=GetMetric8(f,r)\n",
        "    Vector=np.append(Vector,New)\n",
        "    d=abs(Current-New)/New\n",
        "\n",
        "    if it%500==0:\n",
        "      time.sleep(0.01)\n",
        "\n",
        "    it+=1\n",
        "\n",
        "  return r,it"
      ],
      "metadata": {
        "id": "haX17kdrLqKL"
      },
      "execution_count": 25,
      "outputs": []
    },
    {
      "cell_type": "code",
      "source": [
        "sol=descenso(G8,np.random.uniform(-1.,1.,size=8),0.01,100000,1e-4)\n",
        "sol"
      ],
      "metadata": {
        "colab": {
          "base_uri": "https://localhost:8080/"
        },
        "id": "YXTAmMyQ9Frz",
        "outputId": "11bc5e57-52d8-46a9-f93b-68f586d33556"
      },
      "execution_count": 53,
      "outputs": [
        {
          "output_type": "execute_result",
          "data": {
            "text/plain": [
              "(array([ 0.35971401,  0.4269118 ,  0.53351212,  0.6797307 , -0.85345493,\n",
              "         0.83053648, -0.37451455,  0.22351238]),\n",
              " 13371)"
            ]
          },
          "metadata": {},
          "execution_count": 53
        }
      ]
    },
    {
      "cell_type": "code",
      "source": [
        "f=lambda x: np.cos(x)\n",
        "I = np.sum(sol[0][:4] * f(sol[0][4:]))\n",
        "I"
      ],
      "metadata": {
        "colab": {
          "base_uri": "https://localhost:8080/"
        },
        "id": "RI4EfmWTWBmr",
        "outputId": "ba808e44-87f0-404c-94a8-31792abb744f"
      },
      "execution_count": 54,
      "outputs": [
        {
          "output_type": "execute_result",
          "data": {
            "text/plain": [
              "1.6837677168177092"
            ]
          },
          "metadata": {},
          "execution_count": 54
        }
      ]
    },
    {
      "cell_type": "code",
      "source": [
        "\"\"\"La razón de que esta estimación sea poco precisa es que la precisón de los pesos y nodos encontrados\n",
        "dependen de la tolerancia permitida en el método del descenso, es decir, entre más pequeña sea la tolerancia,\n",
        "más precisa es la solución encontrada. El problema radica en que la tolerancia no puede ser muy baja ya que\n",
        "el método colapsa para valores muy pequeños de tolerancia.\"\"\""
      ],
      "metadata": {
        "id": "bzQiGs4nSTZM"
      },
      "execution_count": 107,
      "outputs": []
    }
  ]
}