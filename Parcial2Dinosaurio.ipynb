{
  "nbformat": 4,
  "nbformat_minor": 0,
  "metadata": {
    "colab": {
      "provenance": [],
      "authorship_tag": "ABX9TyMcK2kk2jGR2OidZ2ft91Mf",
      "include_colab_link": true
    },
    "kernelspec": {
      "name": "python3",
      "display_name": "Python 3"
    },
    "language_info": {
      "name": "python"
    }
  },
  "cells": [
    {
      "cell_type": "markdown",
      "metadata": {
        "id": "view-in-github",
        "colab_type": "text"
      },
      "source": [
        "<a href=\"https://colab.research.google.com/github/JSRV18/Dinosaurio-repository/blob/main/Parcial2Dinosaurio.ipynb\" target=\"_parent\"><img src=\"https://colab.research.google.com/assets/colab-badge.svg\" alt=\"Open In Colab\"/></a>"
      ]
    },
    {
      "cell_type": "code",
      "execution_count": 129,
      "metadata": {
        "id": "UZ6qXXyZAM1W"
      },
      "outputs": [],
      "source": [
        "# Parcial\n",
        "\n",
        "#Punto 24 (Tierra plana)\n",
        "\n",
        "# (a)\n",
        "import numpy as np\n",
        "xi,wi = np.polynomial.legendre.leggauss(50)"
      ]
    },
    {
      "cell_type": "code",
      "source": [
        "# (b)\n",
        "k= -1.9429303960\n",
        "def dg(ϕ,r,x,y,z):\n",
        "  return (k*z*r)/((x**2 + y**2 + z**2 -2*r*x*np.cos(ϕ) -2*r*y*np.sin(ϕ)))**(3/2)"
      ],
      "metadata": {
        "id": "cUaxrdTQAjWA"
      },
      "execution_count": 166,
      "outputs": []
    },
    {
      "cell_type": "code",
      "source": [
        "# (c)\n",
        "a=0\n",
        "b=2*np.pi\n",
        "c=0\n",
        "R=1\n",
        "\n",
        "def g(x,y,z):\n",
        "  sum = 0\n",
        "  for i in range (len(xi)):\n",
        "    for j in range (len(xi)):\n",
        "      tϕ = 0.5*((b-a)*xi[i] + b + a)\n",
        "      tr = 0.5*((R-c)*xi[j] + R + c)\n",
        "      sum += 0.25*(b-a)*(R-c)*np.sum(np.sum(wi[i]*wi[j]*dg(tϕ,tr,x,y,z)))\n",
        "\n",
        "  return sum"
      ],
      "metadata": {
        "id": "UGkH9_SiBsuS"
      },
      "execution_count": 167,
      "outputs": []
    },
    {
      "cell_type": "code",
      "source": [
        "# (d)\n",
        "g(0.,0.,0.2)"
      ],
      "metadata": {
        "colab": {
          "base_uri": "https://localhost:8080/"
        },
        "id": "0mbhOFafHeSF",
        "outputId": "eb35e077-5ce4-46d7-c154-59ea4d25efd6"
      },
      "execution_count": 168,
      "outputs": [
        {
          "output_type": "execute_result",
          "data": {
            "text/plain": [
              "-152.5973964627477"
            ]
          },
          "metadata": {},
          "execution_count": 168
        }
      ]
    },
    {
      "cell_type": "code",
      "source": [
        "# (e)\n",
        "def polares(r,θ):\n",
        "  x=r*np.cos(θ)\n",
        "  y=r*np.sin(θ)\n",
        "  return x,y"
      ],
      "metadata": {
        "id": "RQSJjOryLhF_"
      },
      "execution_count": 150,
      "outputs": []
    },
    {
      "cell_type": "code",
      "source": [
        "u=np.linspace(0,2*np.pi,10)\n",
        "u"
      ],
      "metadata": {
        "colab": {
          "base_uri": "https://localhost:8080/"
        },
        "id": "gjdEIKjUlpE4",
        "outputId": "f0d349fd-99c5-4135-d114-f4e2f43f538a"
      },
      "execution_count": 151,
      "outputs": [
        {
          "output_type": "execute_result",
          "data": {
            "text/plain": [
              "array([0.        , 0.6981317 , 1.3962634 , 2.0943951 , 2.7925268 ,\n",
              "       3.4906585 , 4.1887902 , 4.88692191, 5.58505361, 6.28318531])"
            ]
          },
          "metadata": {},
          "execution_count": 151
        }
      ]
    },
    {
      "cell_type": "code",
      "source": [
        "polares(0.125,u)"
      ],
      "metadata": {
        "colab": {
          "base_uri": "https://localhost:8080/"
        },
        "id": "C_30hLcNn-uM",
        "outputId": "64091f94-a281-413b-8aac-f42e86175911"
      },
      "execution_count": 162,
      "outputs": [
        {
          "output_type": "execute_result",
          "data": {
            "text/plain": [
              "(array([ 0.125     ,  0.09575556,  0.02170602, -0.0625    , -0.11746158,\n",
              "        -0.11746158, -0.0625    ,  0.02170602,  0.09575556,  0.125     ]),\n",
              " array([ 0.00000000e+00,  8.03484512e-02,  1.23100969e-01,  1.08253175e-01,\n",
              "         4.27525179e-02, -4.27525179e-02, -1.08253175e-01, -1.23100969e-01,\n",
              "        -8.03484512e-02, -3.06161700e-17]))"
            ]
          },
          "metadata": {},
          "execution_count": 162
        }
      ]
    },
    {
      "cell_type": "code",
      "source": [
        "g(0.09575556,8.03484512e-02,0.2)"
      ],
      "metadata": {
        "colab": {
          "base_uri": "https://localhost:8080/"
        },
        "id": "qK8FRrUyOJzD",
        "outputId": "8ef8880f-6826-47d4-a9ca-b43ee6970506"
      },
      "execution_count": 165,
      "outputs": [
        {
          "output_type": "execute_result",
          "data": {
            "text/plain": [
              "-447.141443640477"
            ]
          },
          "metadata": {},
          "execution_count": 165
        }
      ]
    },
    {
      "cell_type": "code",
      "source": [
        "\n"
      ],
      "metadata": {
        "id": "3lUo-UmLIgh0"
      },
      "execution_count": 123,
      "outputs": []
    },
    {
      "cell_type": "code",
      "source": [],
      "metadata": {
        "id": "iFztd1M9eo0a"
      },
      "execution_count": 119,
      "outputs": []
    },
    {
      "cell_type": "code",
      "source": [],
      "metadata": {
        "colab": {
          "base_uri": "https://localhost:8080/"
        },
        "id": "UV30lxlegyil",
        "outputId": "1eb0a980-40e8-4d67-c738-b75168b74902"
      },
      "execution_count": 120,
      "outputs": [
        {
          "output_type": "execute_result",
          "data": {
            "text/plain": [
              "[-98.13646003744714, -98.13646003744714]"
            ]
          },
          "metadata": {},
          "execution_count": 120
        }
      ]
    },
    {
      "cell_type": "code",
      "source": [
        "# Punto 27\n",
        "import time\n",
        "\n",
        "G8=(lambda w0,w1,w2,w3,x0,x1,x2,x3: w0*x0**0 + w1*x1**0 + w2*x2**0 + w3*x3**0 -2, \\\n",
        "    lambda w0,w1,w2,w3,x0,x1,x2,x3: w0*x0**1 + w1*x1**1 + w2*x2**1 + w3*x3**1, \\\n",
        "    lambda w0,w1,w2,w3,x0,x1,x2,x3: w0*x0**2 + w1*x1**2 + w2*x2**2 + w3*x3**2 -2/3, \\\n",
        "    lambda w0,w1,w2,w3,x0,x1,x2,x3: w0*x0**3 + w1*x1**3 + w2*x2**3 + w3*x3**3, \\\n",
        "    lambda w0,w1,w2,w3,x0,x1,x2,x3: w0*x0**4 + w1*x1**4 + w2*x2**4 + w3*x3**4 -2/5, \\\n",
        "    lambda w0,w1,w2,w3,x0,x1,x2,x3: w0*x0**5 + w1*x1**5 + w2*x2**5 + w3*x3**5, \\\n",
        "    lambda w0,w1,w2,w3,x0,x1,x2,x3: w0*x0**6 + w1*x1**6 + w2*x2**6 + w3*x3**6 -2/7,\\\n",
        "    lambda w0,w1,w2,w3,x0,x1,x2,x3: w0*x0**7 + w1*x1**7 + w2*x2**7 + w3*x3**7,)\n",
        "\n",
        "def GetF(f,r):\n",
        "\n",
        "  dim = len(f)\n",
        "  v = np.zeros(dim)\n",
        "\n",
        "  for i in range(dim):\n",
        "    v[i] = f[i](r[0],r[1],r[2],r[3],r[4],r[5],r[6],r[7])\n",
        "\n",
        "  return v\n",
        "\n",
        "def GetJacobian8(f, r, h=1e-3):\n",
        "    dim = len(r)\n",
        "    J = np.zeros((len(f), dim))\n",
        "\n",
        "    for i in range(len(f)):\n",
        "        for j in range(dim):\n",
        "            dr = np.zeros(dim)\n",
        "            dr[j] = h\n",
        "\n",
        "            J[i, j] = (f[i](r[0]+dr[0],r[1]+dr[1],r[2]+dr[2],r[3]+dr[3],r[4]+dr[4],r[5]+dr[5],r[6]+dr[6],r[7]+dr[7]) - \\\n",
        "                       f[i](r[0]-dr[0],r[1]-dr[1],r[2]-dr[2],r[3]-dr[3],r[4]-dr[4],r[5]-dr[5],r[6]-dr[6],r[7]-dr[7])) / (2*h)\n",
        "    return J.T\n",
        "\n",
        "def GetMetric8(f,r):\n",
        "  v=GetF(f,r)\n",
        "  return 0.5*np.linalg.norm(v)**2\n",
        "\n",
        "def descenso(f, r, lr, epoch, err):\n",
        "\n",
        "\n",
        "  r=r.astype(np.float64)\n",
        "\n",
        "  d=1\n",
        "  it=0\n",
        "  Vector = np.array([])\n",
        "  R_vector = np.array(r)\n",
        "\n",
        "  while d>err and it<epoch:\n",
        "\n",
        "    Current = GetMetric8(f,r)\n",
        "    J = GetJacobian8(f,r)\n",
        "    Gvector = GetF(f,r)\n",
        "\n",
        "    r-= lr*np.dot(J,Gvector)\n",
        "    R_vector = np.vstack((R_vector,r))\n",
        "    New=GetMetric8(f,r)\n",
        "    Vector=np.append(Vector,New)\n",
        "    d=abs(Current-New)/New\n",
        "\n",
        "    if it%500==0:\n",
        "      time.sleep(0.01)\n",
        "\n",
        "    it+=1\n",
        "\n",
        "  return r,it"
      ],
      "metadata": {
        "id": "haX17kdrLqKL"
      },
      "execution_count": 303,
      "outputs": []
    },
    {
      "cell_type": "code",
      "source": [
        "sol=descenso(G8,np.random.uniform(-1.,1.,size=8),0.01,100000,1e-4)\n",
        "sol"
      ],
      "metadata": {
        "colab": {
          "base_uri": "https://localhost:8080/"
        },
        "id": "YXTAmMyQ9Frz",
        "outputId": "e6812a00-b1e4-4329-a03e-d9b35f70853f"
      },
      "execution_count": 308,
      "outputs": [
        {
          "output_type": "execute_result",
          "data": {
            "text/plain": [
              "(array([ 0.53923137,  0.05350543,  0.5020755 ,  0.90436219, -0.79058237,\n",
              "         0.24473436,  0.8031961 ,  0.01229379]),\n",
              " 4394)"
            ]
          },
          "metadata": {},
          "execution_count": 308
        }
      ]
    },
    {
      "cell_type": "code",
      "source": [
        "f=lambda x: np.cos(x)\n",
        "I = np.sum(sol[0][:4] * f(sol[0][4:]))\n",
        "I"
      ],
      "metadata": {
        "colab": {
          "base_uri": "https://localhost:8080/"
        },
        "id": "RI4EfmWTWBmr",
        "outputId": "9d2c4245-7c09-4f66-f1b5-9785864a438d"
      },
      "execution_count": 310,
      "outputs": [
        {
          "output_type": "execute_result",
          "data": {
            "text/plain": [
              "1.684163691522904"
            ]
          },
          "metadata": {},
          "execution_count": 310
        }
      ]
    }
  ]
}