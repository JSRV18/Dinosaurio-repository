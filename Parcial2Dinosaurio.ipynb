{
  "nbformat": 4,
  "nbformat_minor": 0,
  "metadata": {
    "colab": {
      "provenance": [],
      "authorship_tag": "ABX9TyPzkoSYluWvN+SRiM08XeLj",
      "include_colab_link": true
    },
    "kernelspec": {
      "name": "python3",
      "display_name": "Python 3"
    },
    "language_info": {
      "name": "python"
    }
  },
  "cells": [
    {
      "cell_type": "markdown",
      "metadata": {
        "id": "view-in-github",
        "colab_type": "text"
      },
      "source": [
        "<a href=\"https://colab.research.google.com/github/JSRV18/Dinosaurio-repository/blob/main/Parcial2Dinosaurio.ipynb\" target=\"_parent\"><img src=\"https://colab.research.google.com/assets/colab-badge.svg\" alt=\"Open In Colab\"/></a>"
      ]
    },
    {
      "cell_type": "code",
      "execution_count": 26,
      "metadata": {
        "id": "UZ6qXXyZAM1W"
      },
      "outputs": [],
      "source": [
        "# Parcial\n",
        "\n",
        "#Punto 24 (Tierra plana)\n",
        "\n",
        "# (a)\n",
        "import numpy as np\n",
        "xi,wi = np.polynomial.legendre.leggauss(50)"
      ]
    },
    {
      "cell_type": "code",
      "source": [
        "# (b)\n",
        "x=0.\n",
        "y=0.\n",
        "z=0.2\n",
        "k=-1.9429303960\n",
        "\n",
        "def campo(ϕ,r):\n",
        "  return (k*z*r)/((x**2+y**2+z**2-2*r*x*np.cos(ϕ)-2*r*y*np.sin(ϕ)))**(3/2)"
      ],
      "metadata": {
        "id": "cUaxrdTQAjWA"
      },
      "execution_count": 41,
      "outputs": []
    },
    {
      "cell_type": "code",
      "source": [
        "# (c)\n",
        "a=0\n",
        "b=2*np.pi\n",
        "c=0\n",
        "R=1\n",
        "\n",
        "\n",
        "def integral():\n",
        "  sum = 0\n",
        "  for i in range (len(xi)):\n",
        "    for j in range (len(xi)):\n",
        "      tϕ = 0.5*((b-a)*xi[i] + b + a)\n",
        "      tr = 0.5*((R-c)*xi[j] + R + c)\n",
        "      sum += 0.25*(b-a)*(R-c)*np.sum(np.sum(wi[i]*wi[j]*campo(tϕ,tr)))\n",
        "\n",
        "  return sum"
      ],
      "metadata": {
        "id": "UGkH9_SiBsuS"
      },
      "execution_count": 142,
      "outputs": []
    },
    {
      "cell_type": "code",
      "source": [
        "integral()"
      ],
      "metadata": {
        "colab": {
          "base_uri": "https://localhost:8080/"
        },
        "id": "0mbhOFafHeSF",
        "outputId": "dfbc5868-c6cb-4723-dd93-9e4fd9e5f4b8"
      },
      "execution_count": 143,
      "outputs": [
        {
          "output_type": "execute_result",
          "data": {
            "text/plain": [
              "-152.5973964627477"
            ]
          },
          "metadata": {},
          "execution_count": 143
        }
      ]
    },
    {
      "cell_type": "code",
      "source": [
        "tϕ"
      ],
      "metadata": {
        "colab": {
          "base_uri": "https://localhost:8080/"
        },
        "id": "RQSJjOryLhF_",
        "outputId": "92f6b32b-ea8a-47c8-857c-4e6c76480043"
      },
      "execution_count": 69,
      "outputs": [
        {
          "output_type": "execute_result",
          "data": {
            "text/plain": [
              "array([3.56129555e-03, 1.87491210e-02, 4.60115020e-02, 8.52490484e-02,\n",
              "       1.36310704e-01, 1.98999101e-01, 2.73071768e-01, 3.58242158e-01,\n",
              "       4.54180774e-01, 5.60516455e-01, 6.76837813e-01, 8.02694823e-01,\n",
              "       9.37600572e-01, 1.08103314e+00, 1.23243760e+00, 1.39122822e+00,\n",
              "       1.55679065e+00, 1.72848438e+00, 1.90564514e+00, 2.08758755e+00,\n",
              "       2.27360769e+00, 2.46298591e+00, 2.65498951e+00, 2.84887570e+00,\n",
              "       3.04389434e+00, 3.23929096e+00, 3.43430961e+00, 3.62819579e+00,\n",
              "       3.82019940e+00, 4.00957761e+00, 4.19559776e+00, 4.37754017e+00,\n",
              "       4.55470093e+00, 4.72639466e+00, 4.89195709e+00, 5.05074771e+00,\n",
              "       5.20215217e+00, 5.34558474e+00, 5.48049048e+00, 5.60634749e+00,\n",
              "       5.72266885e+00, 5.82900453e+00, 5.92494315e+00, 6.01011354e+00,\n",
              "       6.08418621e+00, 6.14687460e+00, 6.19793626e+00, 6.23717381e+00,\n",
              "       6.26443619e+00, 6.27962401e+00])"
            ]
          },
          "metadata": {},
          "execution_count": 69
        }
      ]
    },
    {
      "cell_type": "code",
      "source": [],
      "metadata": {
        "colab": {
          "base_uri": "https://localhost:8080/"
        },
        "id": "haX17kdrLqKL",
        "outputId": "e2dbe475-0849-4f95-bf4e-f06d0cf21973"
      },
      "execution_count": 32,
      "outputs": [
        {
          "output_type": "execute_result",
          "data": {
            "text/plain": [
              "-152.59739646274772"
            ]
          },
          "metadata": {},
          "execution_count": 32
        }
      ]
    }
  ]
}