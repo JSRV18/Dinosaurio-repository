{
  "nbformat": 4,
  "nbformat_minor": 0,
  "metadata": {
    "colab": {
      "provenance": [],
      "authorship_tag": "ABX9TyNJtBlSMbomkzGt1lvAWiYn",
      "include_colab_link": true
    },
    "kernelspec": {
      "name": "python3",
      "display_name": "Python 3"
    },
    "language_info": {
      "name": "python"
    }
  },
  "cells": [
    {
      "cell_type": "markdown",
      "metadata": {
        "id": "view-in-github",
        "colab_type": "text"
      },
      "source": [
        "<a href=\"https://colab.research.google.com/github/JSRV18/Dinosaurio-repository/blob/main/ParciaDinosaurio.ipynb\" target=\"_parent\"><img src=\"https://colab.research.google.com/assets/colab-badge.svg\" alt=\"Open In Colab\"/></a>"
      ]
    },
    {
      "cell_type": "code",
      "execution_count": 4,
      "metadata": {
        "colab": {
          "base_uri": "https://localhost:8080/",
          "height": 70
        },
        "id": "hrPt32QcGSWx",
        "outputId": "d8ec0a91-a701-4f78-8e2a-996d805eb9af"
      },
      "outputs": [
        {
          "output_type": "execute_result",
          "data": {
            "text/plain": [
              "\"X = sym.Symbol('x', real=True)\\nx = np.linspace(0,100,200)\\ne=sym.Exp(x)\\n\\ndef derivate(f,x,h=00.1):\\n    return (f(x+h)-f(x-h))/(2*h)\\n\\ndef polinomios_laguerre(X,xd,f,e,i):\\n  return (np.exp**x)/\""
            ],
            "application/vnd.google.colaboratory.intrinsic+json": {
              "type": "string"
            }
          },
          "metadata": {},
          "execution_count": 4
        }
      ],
      "source": [
        "import numpy as np\n",
        "import matplotlib.pyplot as plt\n",
        "import sympy as sym\n",
        "\n",
        "\"\"\"X = sym.Symbol('x', real=True)\n",
        "x = np.linspace(0,100,200)\n",
        "e=sym.Exp(x)\n",
        "\n",
        "def derivate(f,x,h=00.1):\n",
        "    return (f(x+h)-f(x-h))/(2*h)\n",
        "\n",
        "def polinomios_laguerre(X,xd,f,e,i):\n",
        "  return (np.exp**x)/\"\"\"\n"
      ]
    },
    {
      "cell_type": "code",
      "source": [
        "# Interpolación\n",
        "\n",
        "X = sym.Symbol('x', real=True)\n",
        "x_s=np.array([0,np.pi/3, np.pi/2])\n",
        "\n",
        "def f_1(x):\n",
        "  return np.sin(x)\n",
        "\n",
        "y=np.array(f_1(x_s))\n",
        "\n",
        "plt.scatter(x_s,y, color='r')\n",
        "\n",
        "def Bases_Cardinales(X,i,x_s):\n",
        "  Base=1\n",
        "  for j in range(len(x_s)):\n",
        "    if j!=i:\n",
        "      Base *= ((X-x_s[j])/(x_s[i]-x_s[j]))\n",
        "  return Base\n",
        "\n",
        "def Poly_interpolacion(X,x_s,y):\n",
        "  poly = 0\n",
        "  for i in range(len(x_s)):\n",
        "    poly += y[i]*Bases_Cardinales(X,i,x_s)\n",
        "  return poly\n",
        "\n",
        "xpoly=np.linspace(0,np.pi/2,100)\n",
        "plt.plot(xpoly,Poly_interpolacion(xpoly,x_s,y))\n",
        "plt.show()\n"
      ],
      "metadata": {
        "colab": {
          "base_uri": "https://localhost:8080/",
          "height": 430
        },
        "id": "KIXMesiEKBxQ",
        "outputId": "34188eba-8f05-41d3-fb1e-d6978e35bea9"
      },
      "execution_count": 65,
      "outputs": [
        {
          "output_type": "display_data",
          "data": {
            "text/plain": [
              "<Figure size 640x480 with 1 Axes>"
            ],
            "image/png": "[encoded data removed]"
          },
          "metadata": {}
        }
      ]
    },
    {
      "cell_type": "code",
      "source": [
        "poly=Poly_interpolacion(X,x_s,y)\n",
        "poly.expand()"
      ],
      "metadata": {
        "colab": {
          "base_uri": "https://localhost:8080/",
          "height": 39
        },
        "id": "VMua6MLqLk5v",
        "outputId": "b80448af-e166-4061-c374-b9bf6410cbdf"
      },
      "execution_count": 11,
      "outputs": [
        {
          "output_type": "execute_result",
          "data": {
            "text/plain": [
              "-0.363586737855857*x**2 + 1.2077404846629*x"
            ],
            "text/latex": "$\\displaystyle - 0.363586737855857 x^{2} + 1.2077404846629 x$"
          },
          "metadata": {},
          "execution_count": 11
        }
      ]
    },
    {
      "cell_type": "code",
      "source": [
        "Estimado = Poly_interpolacion(X,x_s,y).subs(X,np.pi/8)"
      ],
      "metadata": {
        "id": "a4yvaukNMblj"
      },
      "execution_count": 22,
      "outputs": []
    },
    {
      "cell_type": "code",
      "source": [
        "Valor_real = np.sin(np.pi/8)"
      ],
      "metadata": {
        "id": "kiB2voUdMrOJ"
      },
      "execution_count": 20,
      "outputs": []
    },
    {
      "cell_type": "code",
      "source": [
        "Error = abs(Valor_real-Estimado)\n",
        "Error"
      ],
      "metadata": {
        "colab": {
          "base_uri": "https://localhost:8080/",
          "height": 37
        },
        "id": "_8t75hB4MxJJ",
        "outputId": "a04e966a-0793-456c-8e50-f4c035775382"
      },
      "execution_count": 24,
      "outputs": [
        {
          "output_type": "execute_result",
          "data": {
            "text/plain": [
              "0.0355255020780303"
            ],
            "text/latex": "$\\displaystyle 0.0355255020780303$"
          },
          "metadata": {},
          "execution_count": 24
        }
      ]
    },
    {
      "cell_type": "code",
      "source": [
        "\n",
        "\n",
        "def tercera_derivada_exacta(x):\n",
        "  return np.cos(x)*(-1)\n",
        "\n",
        "E=tercera_derivada_exacta(np.pi/8)\n",
        "\n",
        "def Error_Chulo(X,E,x,n):\n",
        "  mult=1\n",
        "  for i in range(n):\n",
        "    mult *= (X-x[i])\n",
        "  return (E*mult)/(np.math.factorial(n+1))\n",
        "\n",
        "Error_Chulo(np.pi/8,E,x_s,2)\n",
        "\n"
      ],
      "metadata": {
        "colab": {
          "base_uri": "https://localhost:8080/"
        },
        "id": "yZdanZffNSB-",
        "outputId": "0ca7d3dc-e886-4ff6-d1ca-4b298bfba622"
      },
      "execution_count": 75,
      "outputs": [
        {
          "output_type": "stream",
          "name": "stderr",
          "text": [
            "<ipython-input-75-2c4e93df0db8>:10: DeprecationWarning: `np.math` is a deprecated alias for the standard library `math` module (Deprecated Numpy 1.25). Replace usages of `np.math` with `math`\n",
            "  return (E*mult)/(np.math.factorial(n+1))\n"
          ]
        },
        {
          "output_type": "execute_result",
          "data": {
            "text/plain": [
              "0.0395760655388445"
            ]
          },
          "metadata": {},
          "execution_count": 75
        }
      ]
    }
  ]
}