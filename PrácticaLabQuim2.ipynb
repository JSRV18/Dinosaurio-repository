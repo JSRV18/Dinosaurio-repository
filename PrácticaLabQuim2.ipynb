{
  "nbformat": 4,
  "nbformat_minor": 0,
  "metadata": {
    "colab": {
      "provenance": [],
      "authorship_tag": "ABX9TyO8B+I71VlMAzYQJXtft8TE",
      "include_colab_link": true
    },
    "kernelspec": {
      "name": "python3",
      "display_name": "Python 3"
    },
    "language_info": {
      "name": "python"
    }
  },
  "cells": [
    {
      "cell_type": "markdown",
      "metadata": {
        "id": "view-in-github",
        "colab_type": "text"
      },
      "source": [
        "<a href=\"https://colab.research.google.com/github/JSRV18/Dinosaurio-repository/blob/main/Pr%C3%A1cticaLabQuim2.ipynb\" target=\"_parent\"><img src=\"https://colab.research.google.com/assets/colab-badge.svg\" alt=\"Open In Colab\"/></a>"
      ]
    },
    {
      "cell_type": "code",
      "execution_count": 1,
      "metadata": {
        "colab": {
          "base_uri": "https://localhost:8080/"
        },
        "collapsed": true,
        "id": "Wne7RrCk2ZdJ",
        "outputId": "6901034b-9a58-4d4c-bab9-f13832b716af"
      },
      "outputs": [
        {
          "output_type": "stream",
          "name": "stdout",
          "text": [
            "Collecting pint\n",
            "  Downloading Pint-0.24.4-py3-none-any.whl.metadata (8.5 kB)\n",
            "Requirement already satisfied: platformdirs>=2.1.0 in /usr/local/lib/python3.11/dist-packages (from pint) (4.3.6)\n",
            "Requirement already satisfied: typing-extensions>=4.0.0 in /usr/local/lib/python3.11/dist-packages (from pint) (4.12.2)\n",
            "Collecting flexcache>=0.3 (from pint)\n",
            "  Downloading flexcache-0.3-py3-none-any.whl.metadata (7.0 kB)\n",
            "Collecting flexparser>=0.4 (from pint)\n",
            "  Downloading flexparser-0.4-py3-none-any.whl.metadata (18 kB)\n",
            "Downloading Pint-0.24.4-py3-none-any.whl (302 kB)\n",
            "\u001b[2K   \u001b[90m━━━━━━━━━━━━━━━━━━━━━━━━━━━━━━━━━━━━━━━━\u001b[0m \u001b[32m302.0/302.0 kB\u001b[0m \u001b[31m4.1 MB/s\u001b[0m eta \u001b[36m0:00:00\u001b[0m\n",
            "\u001b[?25hDownloading flexcache-0.3-py3-none-any.whl (13 kB)\n",
            "Downloading flexparser-0.4-py3-none-any.whl (27 kB)\n",
            "Installing collected packages: flexparser, flexcache, pint\n",
            "Successfully installed flexcache-0.3 flexparser-0.4 pint-0.24.4\n",
            "Requirement already satisfied: pint in /usr/local/lib/python3.11/dist-packages (0.24.4)\n",
            "Collecting uncertainties\n",
            "  Downloading uncertainties-3.2.2-py3-none-any.whl.metadata (6.9 kB)\n",
            "Requirement already satisfied: platformdirs>=2.1.0 in /usr/local/lib/python3.11/dist-packages (from pint) (4.3.6)\n",
            "Requirement already satisfied: typing-extensions>=4.0.0 in /usr/local/lib/python3.11/dist-packages (from pint) (4.12.2)\n",
            "Requirement already satisfied: flexcache>=0.3 in /usr/local/lib/python3.11/dist-packages (from pint) (0.3)\n",
            "Requirement already satisfied: flexparser>=0.4 in /usr/local/lib/python3.11/dist-packages (from pint) (0.4)\n",
            "Downloading uncertainties-3.2.2-py3-none-any.whl (58 kB)\n",
            "\u001b[2K   \u001b[90m━━━━━━━━━━━━━━━━━━━━━━━━━━━━━━━━━━━━━━━━\u001b[0m \u001b[32m58.3/58.3 kB\u001b[0m \u001b[31m1.3 MB/s\u001b[0m eta \u001b[36m0:00:00\u001b[0m\n",
            "\u001b[?25hInstalling collected packages: uncertainties\n",
            "Successfully installed uncertainties-3.2.2\n"
          ]
        }
      ],
      "source": [
        "import numpy as np\n",
        "!pip install pint\n",
        "!pip install pint uncertainties\n",
        "import uncertainties\n",
        "from uncertainties import ufloat\n",
        "import pint as pint\n",
        "ureg=pint.UnitRegistry(auto_reduce_dimensions=True)\n",
        "Measurement=ureg.Measurement\n",
        "Quantity=ureg.Quantity"
      ]
    },
    {
      "cell_type": "code",
      "source": [
        "# Estandarización NaoH\n",
        "\n",
        "pm_ftalato = Quantity(204.22,'g/mol')\n",
        "\n",
        "g_ftalato = Quantity([0.206, 0.2064, 0.2055],'g')\n",
        "\n",
        "v_NaOH = Quantity([10.7,10.3,11.3],'ml')\n",
        "v_NaOH = v_NaOH.to('L')\n",
        "\n",
        "mol_ftalato = g_ftalato / pm_ftalato\n",
        "mol_NaOH = mol_ftalato\n",
        "\n",
        "M_NaOH = mol_NaOH/v_NaOH\n",
        "\n",
        "M_NaOH_mean = np.mean(M_NaOH)\n",
        "M_NaOH_std = np.std(M_NaOH)\n",
        "\n",
        "estandar_M_NaOH = ufloat(M_NaOH_mean.m,M_NaOH_std.m) * ureg.parse_expression('mol/L')\n",
        "estandar_M_NaOH"
      ],
      "metadata": {
        "colab": {
          "base_uri": "https://localhost:8080/",
          "height": 34
        },
        "id": "FfqEahHdulWm",
        "outputId": "91993860-4e8c-4092-ad69-9c371ef95158"
      },
      "execution_count": 2,
      "outputs": [
        {
          "output_type": "execute_result",
          "data": {
            "text/plain": [
              "<Quantity(0.0938155+/-0.0037183, 'mole / liter')>"
            ],
            "text/html": [
              "0.094+/-0.004 mole/liter"
            ],
            "text/latex": "$0.094+/-0.004\\ \\frac{\\mathrm{mole}}{\\mathrm{liter}}$"
          },
          "metadata": {},
          "execution_count": 2
        }
      ]
    },
    {
      "cell_type": "code",
      "source": [
        "# Estandarización HCl\n",
        "\n",
        "pm_cnato = Quantity(105.99,'g/mol')\n",
        "\n",
        "g_cnato = Quantity([0.0520, 0.0529, 0.0538],'g')\n",
        "\n",
        "v_HCL = Quantity([8.3,8.9,8.9],'ml')\n",
        "v_HCL = v_HCL.to('L')\n",
        "\n",
        "mol_cnato = g_cnato / pm_cnato\n",
        "mol_HCL = 2*mol_cnato\n",
        "\n",
        "M_HCl = mol_HCL/v_HCL\n",
        "\n",
        "M_HCl_mean = np.mean(M_HCl)\n",
        "M_HCl_std = np.std(M_HCl)\n",
        "\n",
        "estandar_M_HCl = ufloat(M_HCl_mean.m,M_HCl_std.m) * ureg.parse_expression('mol/L')\n",
        "estandar_M_HCl"
      ],
      "metadata": {
        "colab": {
          "base_uri": "https://localhost:8080/",
          "height": 34
        },
        "id": "D_MwLOwbyC5k",
        "outputId": "9f6e2ed6-ae82-4aec-f65e-8a5b2e40afbc"
      },
      "execution_count": 3,
      "outputs": [
        {
          "output_type": "execute_result",
          "data": {
            "text/plain": [
              "<Quantity(0.114815+/-0.002531, 'mole / liter')>"
            ],
            "text/html": [
              "0.1148+/-0.0025 mole/liter"
            ],
            "text/latex": "$0.1148+/-0.0025\\ \\frac{\\mathrm{mole}}{\\mathrm{liter}}$"
          },
          "metadata": {},
          "execution_count": 3
        }
      ]
    },
    {
      "cell_type": "code",
      "source": [
        "# Alcalinidad total\n",
        "\n",
        "V_mp = Quantity(10,'ml')\n",
        "V_mp = V_mp.to('L')\n",
        "\n",
        "V_HCl_mp = Quantity([13.9,14,13.7],'ml')\n",
        "V_HCl_mp = V_HCl_mp.to('L')\n",
        "\n",
        "At = (V_HCl_mp * estandar_M_HCl) / V_mp\n",
        "\n",
        "AT = np.mean(At)\n",
        "AT"
      ],
      "metadata": {
        "id": "MfF5Kw5HOJAr",
        "colab": {
          "base_uri": "https://localhost:8080/",
          "height": 34
        },
        "outputId": "4d27ff65-e09a-4b32-de37-d90efbde39c2"
      },
      "execution_count": 4,
      "outputs": [
        {
          "output_type": "execute_result",
          "data": {
            "text/plain": [
              "<Quantity(0.159210+/-0.003509, 'mole / liter')>"
            ],
            "text/html": [
              "0.1592+/-0.0035 mole/liter"
            ],
            "text/latex": "$0.1592+/-0.0035\\ \\frac{\\mathrm{mole}}{\\mathrm{liter}}$"
          },
          "metadata": {},
          "execution_count": 4
        }
      ]
    },
    {
      "cell_type": "code",
      "source": [
        "# Concentración molar Carbonato\n",
        "\n",
        "V_NaOH_mp = Quantity(20,'ml')\n",
        "V_NaOH_mp = V_NaOH_mp.to('L')\n",
        "\n",
        "V_HCl_Cnato = Quantity([15,15.8,15.3],'ml')\n",
        "V_HCl_Cnato = V_HCl_Cnato.to('L')\n",
        "\n",
        "Mol_Total = estandar_M_NaOH * V_NaOH_mp\n",
        "\n",
        "Mol_NaOH_HCl = estandar_M_HCl * V_HCl_Cnato\n",
        "\n",
        "Mol_Cnato = Mol_Total - Mol_NaOH_HCl\n",
        "Media_mol_Cnato = np.mean(Mol_Cnato)\n",
        "Media_mol_Cnato"
      ],
      "metadata": {
        "colab": {
          "base_uri": "https://localhost:8080/",
          "height": 34
        },
        "id": "4CFbjXLFkOP0",
        "outputId": "241ed987-0e5c-4f0a-c57b-d24c2310ba6a"
      },
      "execution_count": 5,
      "outputs": [
        {
          "output_type": "execute_result",
          "data": {
            "text/plain": [
              "<Quantity(0.000111990+/-0.000083920, 'mole')>"
            ],
            "text/html": [
              "0.00011+/-0.00008 mole"
            ],
            "text/latex": "$0.00011+/-0.00008\\ \\mathrm{mole}$"
          },
          "metadata": {},
          "execution_count": 5
        }
      ]
    },
    {
      "cell_type": "code",
      "source": [
        "# Porcentaje peso-peso\n",
        "\n",
        "pm_BicnatoNa = Quantity(84.01,'g/mol')\n",
        "\n",
        "pm_CnatoK = Quantity(138.2055,'g/mol')\n",
        "\n",
        "g_BiCnatoNa = Media_mol_Cnato*pm_BicnatoNa\n",
        "\n",
        "g_CnatoK = Media_mol_Cnato*pm_CnatoK\n",
        "\n",
        "g_total = g_CnatoK + g_BiCnatoNa\n",
        "\n",
        "\n",
        "ppgBiCnatoNa = (g_BiCnatoNa / g_total) * 100\n",
        "\n",
        "ppgCnatoK = (g_CnatoK / g_total) * 100\n",
        "\n",
        "ppgBiCnatoNa, ppgCnatoK"
      ],
      "metadata": {
        "colab": {
          "base_uri": "https://localhost:8080/"
        },
        "id": "lFUtHoulay3j",
        "outputId": "65f1620e-bd14-4d12-f0f7-2d3d365347ca"
      },
      "execution_count": 6,
      "outputs": [
        {
          "output_type": "execute_result",
          "data": {
            "text/plain": [
              "(<Quantity(37.8056+/-0.0000, 'dimensionless')>,\n",
              " <Quantity(62.1944+/-0.0000, 'dimensionless')>)"
            ]
          },
          "metadata": {},
          "execution_count": 6
        }
      ]
    },
    {
      "cell_type": "code",
      "source": [
        "# Errores\n",
        "\n",
        "M_NaOH_Ref = Quantity(0.099, 'mol/L')\n",
        "M_HCl_Ref = Quantity(0.101, 'mol/L')\n",
        "\n",
        "E_M_NaOH = (np.abs(M_NaOH_mean - M_NaOH_Ref) / M_NaOH_Ref)*100\n",
        "E_M_HCl = (np.abs(M_HCl_mean - M_HCl_Ref) / M_HCl_Ref)*100\n",
        "\n",
        "np.round(E_M_NaOH,3), np.round(E_M_HCl,3)\n",
        "\n",
        "ppgBiCnatoNa_Ref = Quantity(40.02,'')\n",
        "ppgCnatoK_Ref = Quantity(59.98,'')\n",
        "\n",
        "E_ppgBiCnatoNa = (np.abs(ppgBiCnatoNa.m - ppgBiCnatoNa_Ref.m) / ppgBiCnatoNa_Ref.m)*100\n",
        "E_ppgCnatoK = (np.abs(ppgCnatoK.m - ppgCnatoK_Ref.m) / ppgCnatoK_Ref.m)*100\n",
        "\n",
        "np.round(E_ppgBiCnatoNa.n,3), np.round(E_ppgCnatoK.n,3)"
      ],
      "metadata": {
        "colab": {
          "base_uri": "https://localhost:8080/"
        },
        "id": "UPZ1tzlFfk4U",
        "outputId": "2ffe18a2-b9a8-441f-b91c-d5da049e8207"
      },
      "execution_count": 15,
      "outputs": [
        {
          "output_type": "execute_result",
          "data": {
            "text/plain": [
              "(5.533, 3.692)"
            ]
          },
          "metadata": {},
          "execution_count": 15
        }
      ]
    }
  ]
}