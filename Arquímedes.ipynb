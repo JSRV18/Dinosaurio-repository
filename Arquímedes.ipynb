{
  "nbformat": 4,
  "nbformat_minor": 0,
  "metadata": {
    "colab": {
      "provenance": [],
      "authorship_tag": "ABX9TyOQwQv8z50s49ptktO08bmS",
      "include_colab_link": true
    },
    "kernelspec": {
      "name": "python3",
      "display_name": "Python 3"
    },
    "language_info": {
      "name": "python"
    }
  },
  "cells": [
    {
      "cell_type": "markdown",
      "metadata": {
        "id": "view-in-github",
        "colab_type": "text"
      },
      "source": [
        "<a href=\"https://colab.research.google.com/github/JSRV18/Dinosaurio-repository/blob/main/Arqu%C3%ADmedes.ipynb\" target=\"_parent\"><img src=\"https://colab.research.google.com/assets/colab-badge.svg\" alt=\"Open In Colab\"/></a>"
      ]
    },
    {
      "cell_type": "code",
      "execution_count": null,
      "metadata": {
        "colab": {
          "base_uri": "https://localhost:8080/"
        },
        "collapsed": true,
        "id": "Bfdl7ud4zxKy",
        "outputId": "0d077718-4636-4ff8-a14c-6f36fd158c6f"
      },
      "outputs": [
        {
          "output_type": "stream",
          "name": "stdout",
          "text": [
            "Requirement already satisfied: pint in /usr/local/lib/python3.11/dist-packages (0.24.4)\n",
            "Requirement already satisfied: platformdirs>=2.1.0 in /usr/local/lib/python3.11/dist-packages (from pint) (4.3.8)\n",
            "Requirement already satisfied: typing-extensions>=4.0.0 in /usr/local/lib/python3.11/dist-packages (from pint) (4.13.2)\n",
            "Requirement already satisfied: flexcache>=0.3 in /usr/local/lib/python3.11/dist-packages (from pint) (0.3)\n",
            "Requirement already satisfied: flexparser>=0.4 in /usr/local/lib/python3.11/dist-packages (from pint) (0.4)\n",
            "Requirement already satisfied: pint in /usr/local/lib/python3.11/dist-packages (0.24.4)\n",
            "Requirement already satisfied: uncertainties in /usr/local/lib/python3.11/dist-packages (3.2.3)\n",
            "Requirement already satisfied: platformdirs>=2.1.0 in /usr/local/lib/python3.11/dist-packages (from pint) (4.3.8)\n",
            "Requirement already satisfied: typing-extensions>=4.0.0 in /usr/local/lib/python3.11/dist-packages (from pint) (4.13.2)\n",
            "Requirement already satisfied: flexcache>=0.3 in /usr/local/lib/python3.11/dist-packages (from pint) (0.3)\n",
            "Requirement already satisfied: flexparser>=0.4 in /usr/local/lib/python3.11/dist-packages (from pint) (0.4)\n"
          ]
        }
      ],
      "source": [
        "!pip install pint\n",
        "!pip install pint uncertainties\n",
        "import uncertainties\n",
        "from uncertainties import ufloat\n",
        "import pint as pint\n",
        "ureg=pint.UnitRegistry(auto_reduce_dimensions=True)\n",
        "Measurement=ureg.Measurement\n",
        "Quantity=ureg.Quantity"
      ]
    },
    {
      "cell_type": "code",
      "source": [
        "import numpy as np\n",
        "import matplotlib.pyplot as plt\n",
        "import uncertainties.unumpy as unp\n",
        "from scipy.optimize import curve_fit"
      ],
      "metadata": {
        "id": "7xlb399cpwHe"
      },
      "execution_count": null,
      "outputs": []
    },
    {
      "cell_type": "markdown",
      "source": [
        "# **1) Volúmenes Medidos**"
      ],
      "metadata": {
        "id": "ktynVxk-o9FC"
      }
    },
    {
      "cell_type": "code",
      "source": [
        "b_Laton = ufloat(1.980, 0.005) * ureg.cm\n",
        "p_Laton = ufloat(1.980, 0.005) * ureg.cm\n",
        "h_Laton = ufloat(1.895, 0.005) * ureg.cm\n",
        "\n",
        "Volumen_Laton = b_Laton * p_Laton * h_Laton\n",
        "\n",
        "b_Fe = ufloat(1.975, 0.005) * ureg.cm\n",
        "p_Fe = ufloat(1.975, 0.005) * ureg.cm\n",
        "h_Fe = ufloat(1.940, 0.005) * ureg.cm\n",
        "\n",
        "Volumen_Fe = b_Fe * p_Fe * h_Fe\n",
        "\n",
        "f'{Volumen_Laton:.3f}', f'{Volumen_Fe:.3f}'"
      ],
      "metadata": {
        "colab": {
          "base_uri": "https://localhost:8080/"
        },
        "id": "NNQdZ6M8z_JP",
        "outputId": "87b1a651-4ac4-4659-9afe-06c454e07eb3"
      },
      "execution_count": null,
      "outputs": [
        {
          "output_type": "execute_result",
          "data": {
            "text/plain": [
              "('7.429+/-0.033 centimeter ** 3', '7.567+/-0.033 centimeter ** 3')"
            ]
          },
          "metadata": {},
          "execution_count": 32
        }
      ]
    },
    {
      "cell_type": "markdown",
      "source": [
        "# **2) Volúmenes Sumergidos**"
      ],
      "metadata": {
        "id": "GgAToNxfpFYV"
      }
    },
    {
      "cell_type": "code",
      "source": [
        "RhoA = Quantity(1, 'g/cm^3')\n",
        "g = Quantity(9.771, 'm/s^2')\n",
        "\n",
        "\n",
        "T0_Laton = ufloat(0.586, 0.003) * ureg.N\n",
        "T_Laton = ufloat(0.515, 0.003) * ureg.N\n",
        "\n",
        "Vs_Laton = (T0_Laton - T_Laton) / (RhoA*g)\n",
        "Vs_Laton = Vs_Laton.to('cm^3')\n",
        "\n",
        "T0_Fe = ufloat(0.581, 0.003) * ureg.N\n",
        "T_Fe = ufloat(0.506, 0.003) * ureg.N\n",
        "\n",
        "Vs_Fe = (T0_Fe - T_Fe) / (RhoA*g)\n",
        "Vs_Fe = Vs_Fe.to('cm^3')\n",
        "\n",
        "f'{Vs_Fe:.3f}', f'{Vs_Laton:.3f}'"
      ],
      "metadata": {
        "colab": {
          "base_uri": "https://localhost:8080/"
        },
        "id": "i4Vomxhw3Ibr",
        "outputId": "bf9959e6-7139-4747-e87d-531c03994d17"
      },
      "execution_count": null,
      "outputs": [
        {
          "output_type": "execute_result",
          "data": {
            "text/plain": [
              "('7.676+/-0.434 centimeter ** 3', '7.266+/-0.434 centimeter ** 3')"
            ]
          },
          "metadata": {},
          "execution_count": 33
        }
      ]
    },
    {
      "cell_type": "markdown",
      "source": [
        "# **3) Fuerzas vs volumen Aluminio**"
      ],
      "metadata": {
        "id": "mLF-gXtHpYXI"
      }
    },
    {
      "cell_type": "code",
      "source": [
        "def ajuste (m, x, b):\n",
        "  return m*x + b"
      ],
      "metadata": {
        "id": "yPFA1T7iikqo"
      },
      "execution_count": null,
      "outputs": []
    },
    {
      "cell_type": "code",
      "source": [
        "# Prueba, xd\n",
        "\n",
        "b_Aluminio = ufloat(1.980, 0.005) * ureg.cm\n",
        "\n",
        "A_Aluminio = b_Aluminio * b_Aluminio\n",
        "\n",
        "h_Aluminio = unp.uarray([1.350, 2.100, 2.950, 3.300, 4.400, 5.400], 0.005) * ureg.cm\n",
        "\n",
        "T_xd = unp.uarray([0.611, 0.563, 0.530, 0.504, 0.457, 0.446], 0.003) * ureg.N\n",
        "V_xd = A_Aluminio * h_Aluminio\n",
        "\n",
        "V_xd = V_xd.to('m^3')\n",
        "V_xd\n",
        "\n",
        "l_T_xd = [i.n for i in T_xd]\n",
        "l_V_xd = [i.n for i in V_xd]\n",
        "\n",
        "V_array = np.array(l_V_xd)\n",
        "T_array = np.array(l_T_xd)\n",
        "\n",
        "poptxd, pocvxd= curve_fit(ajuste, V_array, T_array)\n",
        "m2= poptxd[0]\n",
        "b2= poptxd[1]\n",
        "\n",
        "plt.scatter(V_array, T_array, marker= \"*\", c= \"skyblue\")\n",
        "plt.plot(V_array, ajuste(m2, V_array, b2), c= \"steelblue\")\n",
        "plt.title('Tensión vs Volumen')\n",
        "plt.xlabel('Volumen (m^3)')\n",
        "plt.ylabel('Tensión (N)')\n",
        "plt.grid(c=\"lightgrey\")\n",
        "plt.show()"
      ],
      "metadata": {
        "colab": {
          "base_uri": "https://localhost:8080/",
          "height": 472
        },
        "id": "j6bkRSU2pO66",
        "outputId": "596a44c5-68d2-423c-e88a-7fb9c14c3078"
      },
      "execution_count": null,
      "outputs": [
        {
          "output_type": "display_data",
          "data": {
            "text/plain": [
              "<Figure size 640x480 with 1 Axes>"
            ],
            "image/png": "[encoded data removed]"
          },
          "metadata": {}
        }
      ]
    },
    {
      "cell_type": "code",
      "source": [
        "m2 = Quantity(m2, 'N/m^3')\n",
        "g = Quantity(9.771, 'm/s^2')\n",
        "\n",
        "Rhof_xd=-m2/g\n",
        "Rhof_xd = Rhof_xd.to('g/cm^3')\n",
        "err_m2 = np.sqrt(pocvxd[0, 0])\n",
        "err_Rhof_xd = Quantity(err_m2, 'N/m^3')\n",
        "err_xd = err_Rhof_xd/g\n",
        "err_xd = err_xd.to('g/cm^3')\n",
        "\n",
        "Rhof_xd_defT = ufloat(Rhof_xd.m, err_xd.m) * ureg.g/ureg.cm**3\n",
        "Rhof_xd_defT\n"
      ],
      "metadata": {
        "colab": {
          "base_uri": "https://localhost:8080/",
          "height": 38
        },
        "id": "O76Zihq5rPvp",
        "outputId": "e088d9b8-e9e1-4c34-fb5e-71604cfb3ddc"
      },
      "execution_count": null,
      "outputs": [
        {
          "output_type": "execute_result",
          "data": {
            "text/plain": [
              "<Quantity(1.08919+/-0.11292, 'gram / centimeter ** 3')>"
            ],
            "text/html": [
              "1.09+/-0.11 gram/centimeter<sup>3</sup>"
            ],
            "text/latex": "$1.09+/-0.11\\ \\frac{\\mathrm{gram}}{\\mathrm{centimeter}^{3}}$"
          },
          "metadata": {},
          "execution_count": 36
        }
      ]
    },
    {
      "cell_type": "code",
      "source": [
        "g_bal = unp.uarray([230.07, 234.00, 238.33, 240.02, 242.00, 245.51], 0.01) * ureg.g\n",
        "g_bal = g_bal.to('kg')\n",
        "\n",
        "N_xd = g_bal*g\n",
        "N_xd = N_xd.to('N')\n",
        "\n",
        "array_N_xd = np.array([i.n for i in N_xd])\n",
        "\n",
        "poptxd1, pocvxd1= curve_fit(ajuste, V_array, array_N_xd)\n",
        "m3= poptxd1[0]\n",
        "b3= poptxd1[1]\n",
        "\n",
        "plt.scatter(V_array, array_N_xd, marker= \"*\", c= \"lightpink\")\n",
        "plt.plot(V_array, ajuste(m3, V_array, b3), c= \"hotpink\")\n",
        "plt.title('Normal vs Volumen')\n",
        "plt.xlabel('Volumen (m^3)')\n",
        "plt.ylabel('Normal (N)')\n",
        "plt.grid(c=\"lightgrey\")\n",
        "plt.show()"
      ],
      "metadata": {
        "colab": {
          "base_uri": "https://localhost:8080/",
          "height": 472
        },
        "id": "rM6P1qCOypvV",
        "outputId": "54194af0-c4aa-4322-c2cf-98f1dd8c8e67"
      },
      "execution_count": null,
      "outputs": [
        {
          "output_type": "display_data",
          "data": {
            "text/plain": [
              "<Figure size 640x480 with 1 Axes>"
            ],
            "image/png": "[encoded data removed]"
          },
          "metadata": {}
        }
      ]
    },
    {
      "cell_type": "code",
      "source": [
        "m3 = Quantity(m3, 'N/m^3')\n",
        "\n",
        "Rho_xd2 = m3/g\n",
        "Rho_xd2 = Rho_xd2.to('g/cm^3')\n",
        "err_m3 = np.sqrt(pocvxd1[0, 0])\n",
        "err_Rhof_xd2 = Quantity(err_m3, 'N/m^3')\n",
        "err_xd2 = err_Rhof_xd2/g\n",
        "err_xd2 = err_xd2.to('g/cm^3')\n",
        "\n",
        "Rhof_xd_defN = ufloat(Rho_xd2.m, err_xd2.m) * ureg.g/ureg.cm**3\n",
        "Rhof_xd_defN"
      ],
      "metadata": {
        "colab": {
          "base_uri": "https://localhost:8080/",
          "height": 38
        },
        "id": "cajxYnLg0T20",
        "outputId": "4f392e05-4967-4ef4-ff26-dec2154da395"
      },
      "execution_count": null,
      "outputs": [
        {
          "output_type": "execute_result",
          "data": {
            "text/plain": [
              "<Quantity(0.939747+/-0.093970, 'gram / centimeter ** 3')>"
            ],
            "text/html": [
              "0.94+/-0.09 gram/centimeter<sup>3</sup>"
            ],
            "text/latex": "$0.94+/-0.09\\ \\frac{\\mathrm{gram}}{\\mathrm{centimeter}^{3}}$"
          },
          "metadata": {},
          "execution_count": 38
        }
      ]
    },
    {
      "cell_type": "markdown",
      "source": [
        "# **Densidad del aluminio**"
      ],
      "metadata": {
        "id": "WJnMYgHIPyJr"
      }
    },
    {
      "cell_type": "code",
      "source": [
        "b3= Quantity(b3, 'N')\n",
        "h_no_sumergido= ufloat(5.07, 0.005)*ureg.cm\n",
        "V_Al= A_Aluminio*h_no_sumergido\n",
        "V_Al = V_Al.to('m^3')\n",
        "\n",
        "\n",
        "rhoAl= b3/(V_Al*g)\n",
        "rhoAl = rhoAl.to('g/cm^3')\n",
        "rhoAl"
      ],
      "metadata": {
        "colab": {
          "base_uri": "https://localhost:8080/",
          "height": 38
        },
        "id": "ey-5Fn5NP8EN",
        "outputId": "46a13a6c-fc40-4873-8b48-1aa714689ecb"
      },
      "execution_count": null,
      "outputs": [
        {
          "output_type": "execute_result",
          "data": {
            "text/plain": [
              "<Quantity(11.3878+/-0.0586, 'gram / centimeter ** 3')>"
            ],
            "text/html": [
              "11.39+/-0.06 gram/centimeter<sup>3</sup>"
            ],
            "text/latex": "$11.39+/-0.06\\ \\frac{\\mathrm{gram}}{\\mathrm{centimeter}^{3}}$"
          },
          "metadata": {},
          "execution_count": 39
        }
      ]
    },
    {
      "cell_type": "markdown",
      "source": [
        "# 6) Cálculo de M"
      ],
      "metadata": {
        "id": "aiFovACbpPZN"
      }
    },
    {
      "cell_type": "code",
      "source": [
        "b3 = Quantity(b3, 'N')\n",
        "\n",
        "M = b3/g\n",
        "M = M.to('g')\n",
        "err_M = np.sqrt(pocvxd1[1, 1])\n",
        "err_M = Quantity(err_M, 'N')\n",
        "err_M = err_M/g\n",
        "err_M = err_M.to('g')\n",
        "\n",
        "M_def = ufloat(M.m, err_M.m) * ureg.g\n",
        "print(f'{M_def:.2f}')"
      ],
      "metadata": {
        "colab": {
          "base_uri": "https://localhost:8080/"
        },
        "id": "eh3986LN7Nbd",
        "outputId": "60cf32b5-a566-4670-dde4-714a346bc813"
      },
      "execution_count": 42,
      "outputs": [
        {
          "output_type": "stream",
          "name": "stdout",
          "text": [
            "226.35+/-1.30 gram\n"
          ]
        }
      ]
    },
    {
      "cell_type": "code",
      "source": [
        "# Z test\n",
        "\n",
        "ref = Quantity(225, 'cm')\n",
        "\n",
        "Z = np.abs(ref.m - M_def.n)/M_def.s\n",
        "\n",
        "from scipy.special import erfc\n",
        "\n",
        "P = erfc(Z/np.sqrt(2))*100\n",
        "\n",
        "100 - np.round(P, 2)\n"
      ],
      "metadata": {
        "colab": {
          "base_uri": "https://localhost:8080/"
        },
        "id": "Y0ZD3DBZtWFP",
        "outputId": "6e8c76ec-af60-4a03-a389-458fd2eb50bf"
      },
      "execution_count": 45,
      "outputs": [
        {
          "output_type": "execute_result",
          "data": {
            "text/plain": [
              "np.float64(70.14)"
            ]
          },
          "metadata": {},
          "execution_count": 45
        }
      ]
    }
  ]
}