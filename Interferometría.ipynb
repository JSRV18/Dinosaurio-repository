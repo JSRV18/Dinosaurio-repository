{
  "nbformat": 4,
  "nbformat_minor": 0,
  "metadata": {
    "colab": {
      "provenance": [],
      "authorship_tag": "ABX9TyPk05NwSg0aW0KTpo6KAJqm",
      "include_colab_link": true
    },
    "kernelspec": {
      "name": "python3",
      "display_name": "Python 3"
    },
    "language_info": {
      "name": "python"
    }
  },
  "cells": [
    {
      "cell_type": "markdown",
      "metadata": {
        "id": "view-in-github",
        "colab_type": "text"
      },
      "source": [
        "<a href=\"https://colab.research.google.com/github/JSRV18/Dinosaurio-repository/blob/main/Interferometr%C3%ADa.ipynb\" target=\"_parent\"><img src=\"https://colab.research.google.com/assets/colab-badge.svg\" alt=\"Open In Colab\"/></a>"
      ]
    },
    {
      "cell_type": "code",
      "source": [
        "!pip install pint\n",
        "!pip install pint uncertainties\n",
        "import uncertainties\n",
        "from uncertainties import ufloat\n",
        "import pint as pint\n",
        "ureg=pint.UnitRegistry(auto_reduce_dimensions=True)\n",
        "Measurement=ureg.Measurement\n",
        "Quantity=ureg.Quantity"
      ],
      "metadata": {
        "colab": {
          "base_uri": "https://localhost:8080/"
        },
        "collapsed": true,
        "id": "IqjbNRBJjB3I",
        "outputId": "f195b0c3-6046-4404-daa0-28f83cbdb526"
      },
      "execution_count": 1,
      "outputs": [
        {
          "output_type": "stream",
          "name": "stdout",
          "text": [
            "Collecting pint\n",
            "  Downloading Pint-0.24.4-py3-none-any.whl.metadata (8.5 kB)\n",
            "Requirement already satisfied: platformdirs>=2.1.0 in /usr/local/lib/python3.11/dist-packages (from pint) (4.3.7)\n",
            "Requirement already satisfied: typing-extensions>=4.0.0 in /usr/local/lib/python3.11/dist-packages (from pint) (4.13.2)\n",
            "Collecting flexcache>=0.3 (from pint)\n",
            "  Downloading flexcache-0.3-py3-none-any.whl.metadata (7.0 kB)\n",
            "Collecting flexparser>=0.4 (from pint)\n",
            "  Downloading flexparser-0.4-py3-none-any.whl.metadata (18 kB)\n",
            "Downloading Pint-0.24.4-py3-none-any.whl (302 kB)\n",
            "\u001b[2K   \u001b[90m━━━━━━━━━━━━━━━━━━━━━━━━━━━━━━━━━━━━━━━━\u001b[0m \u001b[32m302.0/302.0 kB\u001b[0m \u001b[31m4.3 MB/s\u001b[0m eta \u001b[36m0:00:00\u001b[0m\n",
            "\u001b[?25hDownloading flexcache-0.3-py3-none-any.whl (13 kB)\n",
            "Downloading flexparser-0.4-py3-none-any.whl (27 kB)\n",
            "Installing collected packages: flexparser, flexcache, pint\n",
            "Successfully installed flexcache-0.3 flexparser-0.4 pint-0.24.4\n",
            "Requirement already satisfied: pint in /usr/local/lib/python3.11/dist-packages (0.24.4)\n",
            "Collecting uncertainties\n",
            "  Downloading uncertainties-3.2.3-py3-none-any.whl.metadata (7.0 kB)\n",
            "Requirement already satisfied: platformdirs>=2.1.0 in /usr/local/lib/python3.11/dist-packages (from pint) (4.3.7)\n",
            "Requirement already satisfied: typing-extensions>=4.0.0 in /usr/local/lib/python3.11/dist-packages (from pint) (4.13.2)\n",
            "Requirement already satisfied: flexcache>=0.3 in /usr/local/lib/python3.11/dist-packages (from pint) (0.3)\n",
            "Requirement already satisfied: flexparser>=0.4 in /usr/local/lib/python3.11/dist-packages (from pint) (0.4)\n",
            "Downloading uncertainties-3.2.3-py3-none-any.whl (60 kB)\n",
            "\u001b[2K   \u001b[90m━━━━━━━━━━━━━━━━━━━━━━━━━━━━━━━━━━━━━━━━\u001b[0m \u001b[32m60.1/60.1 kB\u001b[0m \u001b[31m2.4 MB/s\u001b[0m eta \u001b[36m0:00:00\u001b[0m\n",
            "\u001b[?25hInstalling collected packages: uncertainties\n",
            "Successfully installed uncertainties-3.2.3\n"
          ]
        }
      ]
    },
    {
      "cell_type": "code",
      "execution_count": 2,
      "metadata": {
        "id": "v7s3xK-nPXU8"
      },
      "outputs": [],
      "source": [
        "import numpy as np\n",
        "import matplotlib.pyplot as plt"
      ]
    },
    {
      "cell_type": "code",
      "source": [
        "xd_N = np.arange(2, 23)\n",
        "\n",
        "d_xd = np.array([1, 1.5, 1.8, 2, 2.3, 2.7, 3, 3.3, 3.8, 4.1, 4.3, 4.8, 5, 5.2, 5.7, 5.9, 6.2, 6.6, 7, 7.1, 7.4])\n",
        "\n",
        "xd_N"
      ],
      "metadata": {
        "colab": {
          "base_uri": "https://localhost:8080/"
        },
        "id": "Q1bU2Rk9RyPe",
        "outputId": "e67420d0-7ef5-4175-ec9c-0c0310acc418"
      },
      "execution_count": 142,
      "outputs": [
        {
          "output_type": "execute_result",
          "data": {
            "text/plain": [
              "array([ 2,  3,  4,  5,  6,  7,  8,  9, 10, 11, 12, 13, 14, 15, 16, 17, 18,\n",
              "       19, 20, 21, 22])"
            ]
          },
          "metadata": {},
          "execution_count": 142
        }
      ]
    },
    {
      "cell_type": "code",
      "source": [
        "def ajuste_l(x, m, b):\n",
        "  return x*m + b\n",
        "\n",
        "from scipy.optimize import curve_fit\n",
        "\n",
        "popt, pcov = curve_fit(ajuste_l, xd_N, d_xd)"
      ],
      "metadata": {
        "id": "i5LiT1u5UgfD"
      },
      "execution_count": 114,
      "outputs": []
    },
    {
      "cell_type": "code",
      "source": [
        "lamb = popt[0]*2000\n",
        "\n",
        "errlamb = np.sqrt(np.diag(pcov))[0]*2000\n",
        "\n",
        "lamb, errlamb\n",
        "\n",
        "lamb = ufloat(lamb, errlamb) * ureg.nm\n",
        "lamb"
      ],
      "metadata": {
        "colab": {
          "base_uri": "https://localhost:8080/",
          "height": 34
        },
        "id": "7uHmav-ZWO1H",
        "outputId": "741d0a7a-399e-4d57-995f-051902b7426b"
      },
      "execution_count": 60,
      "outputs": [
        {
          "output_type": "execute_result",
          "data": {
            "text/plain": [
              "<Quantity(642.078+/-6.437, 'nanometer')>"
            ],
            "text/html": [
              "642+/-6 nanometer"
            ],
            "text/latex": "$642+/-6\\ \\mathrm{nanometer}$"
          },
          "metadata": {},
          "execution_count": 60
        }
      ]
    },
    {
      "cell_type": "code",
      "source": [
        "ymodelo = ajuste_l(xd_N, *popt)\n",
        "r = d_xd - ymodelo\n",
        "\n",
        "fig, ax = plt.subplots(2, 1, gridspec_kw={'height_ratios': [1, 0.5]})\n",
        "ax[0].scatter(xd_N, d_xd, c='k', label='Datos', marker = '.')\n",
        "ax[0].plot(xd_N,ymodelo, c='r', label='Ajuste')\n",
        "ax[0].legend()\n",
        "ax[0].set_ylabel('d (µm)')\n",
        "ax[0].set_xlabel('N')\n",
        "ax[0].set_title('Ajuste lineal Distacia vs Mínimos')\n",
        "ax[1].scatter(xd_N, r, c='midnightblue', marker = '.')\n",
        "ax[1].set_ylabel('Residuales')\n",
        "ax[1].plot(xd_N, [0]*len(xd_N), linestyle='--', c = 'darkgreen')\n",
        "plt.subplots_adjust(hspace=0.35)\n",
        "plt.show()"
      ],
      "metadata": {
        "colab": {
          "base_uri": "https://localhost:8080/",
          "height": 453
        },
        "id": "a9SCPiEYWqIU",
        "outputId": "e2e89b20-0467-4fc4-892d-7072be149d7c"
      },
      "execution_count": 73,
      "outputs": [
        {
          "output_type": "display_data",
          "data": {
            "text/plain": [
              "<Figure size 640x480 with 2 Axes>"
            ],
            "image/png": "[encoded data removed]"
          },
          "metadata": {}
        }
      ]
    },
    {
      "cell_type": "code",
      "source": [
        "lamb = Quantity(lamb, 'nm')\n",
        "lamb0 = Quantity(632.8, 'nm')\n",
        "theta3 = Quantity([90, 87, 84, 81, 77], 'degree')\n",
        "theta3 = theta3.to('radian')\n",
        "\n",
        "N_th = np.array([8, 7, 7, 7, 6])\n",
        "t = Quantity(0.7, 'mm')\n",
        "n_V = ((2*t - N_th*lamb0)*(1-np.cos(theta3)))/(2*t*(1-np.cos(theta3))-N_th*lamb0)\n",
        "\n",
        "np.round(n_V,5)"
      ],
      "metadata": {
        "id": "Iz-7ij_rZewc",
        "colab": {
          "base_uri": "https://localhost:8080/",
          "height": 61
        },
        "outputId": "017eb539-5a9a-4de8-ff6a-2ecea0c86c7c"
      },
      "execution_count": 140,
      "outputs": [
        {
          "output_type": "execute_result",
          "data": {
            "text/plain": [
              "<Quantity([1.      1.00018 1.00037 1.00059 1.00079], 'dimensionless')>"
            ],
            "text/html": [
              "<table><tbody><tr><th>Magnitude</th><td style='text-align:left;'><pre>[1.0 1.00018 1.00037 1.00059 1.00079]</pre></td></tr><tr><th>Units</th><td style='text-align:left;'>dimensionless</td></tr></tbody></table>"
            ],
            "text/latex": "$\\begin{pmatrix} &  &  &  & \\end{pmatrix}\\ \\mathrm{dimensionless}$"
          },
          "metadata": {},
          "execution_count": 140
        }
      ]
    },
    {
      "cell_type": "code",
      "source": [
        "np.round(np.mean(n_V),5), np.round(np.std(n_V),5)"
      ],
      "metadata": {
        "colab": {
          "base_uri": "https://localhost:8080/"
        },
        "id": "T4gbdXhIjCNs",
        "outputId": "4c9db9cf-696c-4f39-9e3b-6c3b2225ad69"
      },
      "execution_count": 141,
      "outputs": [
        {
          "output_type": "execute_result",
          "data": {
            "text/plain": [
              "(<Quantity(1.00038, 'dimensionless')>, <Quantity(0.00028, 'dimensionless')>)"
            ]
          },
          "metadata": {},
          "execution_count": 141
        }
      ]
    },
    {
      "cell_type": "code",
      "source": [
        "P = Quantity([0, 18, 24, 30.5, 39, 44, 47.5, 49], 'cmHg')\n",
        "\n",
        "N_p = np.array([5, 10, 14, 18, 22, 26, 29, 32])"
      ],
      "metadata": {
        "id": "AzPCgshvVOUY"
      },
      "execution_count": 64,
      "outputs": []
    },
    {
      "cell_type": "code",
      "source": [
        "delta_p = P[-1] - P[0]\n",
        "\n",
        "t_v = Quantity(3.1, 'mm')\n",
        "\n",
        "m = delta_p/N_p[-1]\n",
        "\n",
        "n = P*(lamb0/(2*t_v*m)) +1\n",
        "\n",
        "n"
      ],
      "metadata": {
        "colab": {
          "base_uri": "https://localhost:8080/",
          "height": 61
        },
        "id": "hMIvYBPTWC3c",
        "outputId": "2e7abd2b-8bc7-41f5-acf5-50a396bdc077"
      },
      "execution_count": 65,
      "outputs": [
        {
          "output_type": "execute_result",
          "data": {
            "text/plain": [
              "<Quantity([1.         1.00119978 1.00159971 1.00203296 1.00259952 1.00293279\n",
              " 1.00316608 1.00326606], 'dimensionless')>"
            ],
            "text/html": [
              "<table><tbody><tr><th>Magnitude</th><td style='text-align:left;'><pre>[1.0 1.0011997788018434 1.0015997050691243 1.0020329585253456 1.0025995207373273 1.0029327926267282 1.0031660829493088 1.003266064516129]</pre></td></tr><tr><th>Units</th><td style='text-align:left;'>dimensionless</td></tr></tbody></table>"
            ],
            "text/latex": "$\\begin{pmatrix} &  &  &  &  &  &  & \\end{pmatrix}\\ \\mathrm{dimensionless}$"
          },
          "metadata": {},
          "execution_count": 65
        }
      ]
    },
    {
      "cell_type": "code",
      "source": [
        "popt_n , pcov_n = curve_fit(ajuste_l, P.m, n.m)\n",
        "\n",
        "\n",
        "ymodelop = ajuste_l(P.m, *popt_n)\n",
        "r = n.m - ymodelop\n",
        "\n",
        "fig, ax = plt.subplots(2, 1, gridspec_kw={'height_ratios': [1, 0.5]})\n",
        "ax[0].scatter(P.m, n.m, c='k', label='Datos', marker = 'o')\n",
        "ax[0].plot(P.m,ymodelop, c='r', label='Ajuste')\n",
        "ax[0].legend()\n",
        "ax[0].set_ylim(0.995, 1.008)\n",
        "ax[0].set_ylabel('n')\n",
        "ax[0].set_xlabel('P (cmHg)')\n",
        "ax[0].set_title('Ajuste lineal Índice vs Presión')\n",
        "ax[1].scatter(P.m, r, c='midnightblue', marker = 'o')\n",
        "ax[1].set_ylabel('Residuales')\n",
        "ax[1].plot(P.m, [0]*len(P.m), linestyle='--', c = 'darkgreen')\n",
        "import matplotlib.ticker as ticker\n",
        "formatter = ticker.ScalarFormatter(useMathText=True)\n",
        "formatter.set_powerlimits((0, -16))\n",
        "ax[1].yaxis.set_major_formatter(formatter)\n",
        "plt.subplots_adjust(hspace=0.35)\n",
        "plt.show()"
      ],
      "metadata": {
        "colab": {
          "base_uri": "https://localhost:8080/",
          "height": 455
        },
        "id": "BKvWTfb4lQTQ",
        "outputId": "ea4934e0-30b3-448d-a33b-adffeff559e1"
      },
      "execution_count": 113,
      "outputs": [
        {
          "output_type": "display_data",
          "data": {
            "text/plain": [
              "<Figure size 640x480 with 2 Axes>"
            ],
            "image/png": "[encoded data removed]"
          },
          "metadata": {}
        }
      ]
    },
    {
      "cell_type": "code",
      "source": [
        "m_p = popt_n[0]\n",
        "err_m_p = np.sqrt(np.diag(pcov_n))[0]\n",
        "\n",
        "m_P = ufloat(m_p, err_m_p) * 1/ureg.cmHg\n",
        "m_P"
      ],
      "metadata": {
        "colab": {
          "base_uri": "https://localhost:8080/",
          "height": 34
        },
        "id": "99xT1mln2TYM",
        "outputId": "fcef0abd-483d-4223-e7af-c2ef6433905b"
      },
      "execution_count": 87,
      "outputs": [
        {
          "output_type": "execute_result",
          "data": {
            "text/plain": [
              "<Quantity((6.66544+/-0.00000)e-05, '1 / centimeter_Hg')>"
            ],
            "text/html": [
              "(6.66543778801865+/-0.00000000000029)e-05 1/centimeter_Hg"
            ],
            "text/latex": "$(6.66543778801865+/-0.00000000000029)e-05\\ \\frac{1}{\\mathrm{centimeter\\_Hg}}$"
          },
          "metadata": {},
          "execution_count": 87
        }
      ]
    },
    {
      "cell_type": "code",
      "source": [
        "b_p = popt_n[1]\n",
        "\n",
        "err_b_p = np.sqrt(np.diag(pcov_n))[1]\n",
        "\n",
        "b_P = ufloat(b_p, err_b_p)\n",
        "b_p"
      ],
      "metadata": {
        "colab": {
          "base_uri": "https://localhost:8080/"
        },
        "id": "bpucljzd2tXg",
        "outputId": "de02f97a-cf37-4c25-9868-8751e5844053"
      },
      "execution_count": 88,
      "outputs": [
        {
          "output_type": "execute_result",
          "data": {
            "text/plain": [
              "np.float64(1.0)"
            ]
          },
          "metadata": {},
          "execution_count": 88
        }
      ]
    },
    {
      "cell_type": "code",
      "source": [
        "n_atm = m_P*Quantity(76, 'cmHg') + b_P\n",
        "\n",
        "n_atm"
      ],
      "metadata": {
        "colab": {
          "base_uri": "https://localhost:8080/",
          "height": 34
        },
        "id": "BxCNAFF3lyUv",
        "outputId": "609d7f51-48bb-4d47-eda2-4529962dcbde"
      },
      "execution_count": 139,
      "outputs": [
        {
          "output_type": "execute_result",
          "data": {
            "text/plain": [
              "<Quantity(1.00507+/-0.00000, 'dimensionless')>"
            ],
            "text/html": [
              "1.00506573271889410+/-0.00000000000000024 dimensionless"
            ],
            "text/latex": "$1.00506573271889410+/-0.00000000000000024\\ \\mathrm{dimensionless}$"
          },
          "metadata": {},
          "execution_count": 139
        }
      ]
    }
  ]
}