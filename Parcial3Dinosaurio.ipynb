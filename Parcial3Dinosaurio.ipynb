{
  "nbformat": 4,
  "nbformat_minor": 0,
  "metadata": {
    "colab": {
      "provenance": [],
      "authorship_tag": "ABX9TyPa+IxbQcK2x+9/yvHYZkCV",
      "include_colab_link": true
    },
    "kernelspec": {
      "name": "python3",
      "display_name": "Python 3"
    },
    "language_info": {
      "name": "python"
    }
  },
  "cells": [
    {
      "cell_type": "markdown",
      "metadata": {
        "id": "view-in-github",
        "colab_type": "text"
      },
      "source": [
        "<a href=\"https://colab.research.google.com/github/JSRV18/Dinosaurio-repository/blob/main/Parcial3Dinosaurio.ipynb\" target=\"_parent\"><img src=\"https://colab.research.google.com/assets/colab-badge.svg\" alt=\"Open In Colab\"/></a>"
      ]
    },
    {
      "cell_type": "code",
      "source": [
        "# Markov : Cadena de Producción\n",
        "import numpy as np\n",
        "import matplotlib.pyplot as plt"
      ],
      "metadata": {
        "id": "VhslUzQ3DY4F"
      },
      "execution_count": 3,
      "outputs": []
    },
    {
      "cell_type": "markdown",
      "source": [
        "(a)\n",
        "\n",
        "**Estado del producto en la estación de producción:**\n",
        "\n",
        "- Avanza a la estación de empaque: Probabilidad = 90%.\n",
        "- Tiene defecto y permanece en la producción: Probabilidad = 10%.\n",
        "\n",
        "\n",
        "**Estado del producto en la estación de empaque:**\n",
        "\n",
        "- Es enviado al mercado: Probabilidad = 95%.\n",
        "- Permanece en la estación de empaque: Probabilidad = 5%."
      ],
      "metadata": {
        "id": "_c6tHiuhuLr7"
      }
    },
    {
      "cell_type": "code",
      "source": [
        "# b)\n",
        "DictS={0:'Producción',1:'Empaquetado',2:'Mercado'}"
      ],
      "metadata": {
        "id": "h2MPdM6lKE-E"
      },
      "execution_count": 4,
      "outputs": []
    },
    {
      "cell_type": "code",
      "source": [
        "# c)\n",
        "TM = np.array([[0.10,0.90,0.00],\\\n",
        "              [0.00,0.05,0.95],\\\n",
        "              [0.00,0.00,1.00]])"
      ],
      "metadata": {
        "id": "XXrP1YZgKftG"
      },
      "execution_count": 5,
      "outputs": []
    },
    {
      "cell_type": "code",
      "source": [
        "# d)\n",
        "n = TM.shape[0]\n",
        "A = np.vstack((TM.T - np.eye(n), np.ones(n)))\n",
        "b = np.zeros(n + 1)\n",
        "b[-1] = 1\n",
        "\n",
        "pi = np.linalg.lstsq(A, b, rcond=None)[0]\n",
        "pi"
      ],
      "metadata": {
        "colab": {
          "base_uri": "https://localhost:8080/",
          "height": 0
        },
        "id": "PuRPMOyKNeef",
        "outputId": "f50a2722-7d94-4fb4-b79b-fd0493cf4acd"
      },
      "execution_count": 6,
      "outputs": [
        {
          "output_type": "execute_result",
          "data": {
            "text/plain": [
              "array([ 1.59731365e-16, -1.11022302e-16,  1.00000000e+00])"
            ]
          },
          "metadata": {},
          "execution_count": 6
        }
      ]
    },
    {
      "cell_type": "code",
      "source": [
        "# Pi = [0, 0, 1].  La interpretación es que el producto tiende a estar en la manos del cliente el 100 % del tiempo"
      ],
      "metadata": {
        "id": "AvNGM35-MBtS"
      },
      "execution_count": 7,
      "outputs": []
    },
    {
      "cell_type": "code",
      "source": [
        "# e) P(S1 ∩ S2)\n",
        "Py = pi[0]*pi[1]\n",
        "Py"
      ],
      "metadata": {
        "colab": {
          "base_uri": "https://localhost:8080/",
          "height": 0
        },
        "id": "ILH4X_WYNBDr",
        "outputId": "f62becfc-1af8-490b-ab81-da4821155bcf"
      },
      "execution_count": 8,
      "outputs": [
        {
          "output_type": "execute_result",
          "data": {
            "text/plain": [
              "-1.7733743924663986e-32"
            ]
          },
          "metadata": {},
          "execution_count": 8
        }
      ]
    },
    {
      "cell_type": "code",
      "source": [
        "# f) P(S1 U S2)\n",
        "Po = pi[0] + pi[1]\n",
        "Po"
      ],
      "metadata": {
        "colab": {
          "base_uri": "https://localhost:8080/",
          "height": 0
        },
        "id": "LHBKyFKMR0nh",
        "outputId": "52be5946-1fe0-46ae-a694-42a038e3b1b9"
      },
      "execution_count": 9,
      "outputs": [
        {
          "output_type": "execute_result",
          "data": {
            "text/plain": [
              "4.8709062599485396e-17"
            ]
          },
          "metadata": {},
          "execution_count": 9
        }
      ]
    },
    {
      "cell_type": "code",
      "source": [
        "# g) P(S1^c)\n",
        "Pv = 1 - (pi[0] + pi[1])\n",
        "Pv"
      ],
      "metadata": {
        "colab": {
          "base_uri": "https://localhost:8080/",
          "height": 0
        },
        "id": "M_hc53-YTIKX",
        "outputId": "74f9147c-ca0d-419c-b187-0e8a0a6d8dc0"
      },
      "execution_count": 10,
      "outputs": [
        {
          "output_type": "execute_result",
          "data": {
            "text/plain": [
              "1.0"
            ]
          },
          "metadata": {},
          "execution_count": 10
        }
      ]
    },
    {
      "cell_type": "code",
      "source": [
        "# Markov: : Cadena de Producción con devolución de producto"
      ],
      "metadata": {
        "id": "LVfJLdzaTaKd"
      },
      "execution_count": 11,
      "outputs": []
    },
    {
      "cell_type": "markdown",
      "source": [
        "(a)\n",
        "\n",
        "**Estado del producto en la estación de producción:**\n",
        "\n",
        "- Avanza a la estación de empaque: Probabilidad = 90%\n",
        "- Tiene defecto y permanece en la producción: Probabilidad = 10%\n",
        "\n",
        "\n",
        "**Estado del producto en la estación de empaque:**\n",
        "\n",
        "- Es enviado al mercado: Probabilidad = 95%\n",
        "- Permanece en la estación de empaque: Probabilidad = 5%\n",
        "\n",
        "\n",
        "**Estado del producto en las manos del cliente:**\n",
        "\n",
        "- Permanece en las manos del cliente= 98%\n",
        "- El producto es devuelto y va directamente a producción: 2%\n"
      ],
      "metadata": {
        "id": "3KYTo5Bd0XwD"
      }
    },
    {
      "cell_type": "code",
      "source": [
        "# b)\n",
        "DictS={0:'Producción',1:'Empaquetado',2:'Mercado'}"
      ],
      "metadata": {
        "id": "G9Uou2oxTx-1"
      },
      "execution_count": 12,
      "outputs": []
    },
    {
      "cell_type": "code",
      "source": [
        "TMD = np.array([[0.10,0.90,0.00],\\\n",
        "              [0.00,0.05,0.95],\\\n",
        "              [0.02,0.00,0.98]])"
      ],
      "metadata": {
        "id": "t8hZJgxUT8-U"
      },
      "execution_count": 13,
      "outputs": []
    },
    {
      "cell_type": "code",
      "source": [
        "# d)\n",
        "n = TMD.shape[0]\n",
        "A = np.vstack((TMD.T - np.eye(n), np.ones(n)))\n",
        "b = np.zeros(n + 1)\n",
        "b[-1] = 1\n",
        "\n",
        "pid = np.linalg.lstsq(A, b, rcond=None)[0]\n",
        "pid"
      ],
      "metadata": {
        "colab": {
          "base_uri": "https://localhost:8080/",
          "height": 0
        },
        "id": "LvtfhydJUI6H",
        "outputId": "53067d1a-f646-4c65-d7ae-b799a9c5cb1f"
      },
      "execution_count": 14,
      "outputs": [
        {
          "output_type": "execute_result",
          "data": {
            "text/plain": [
              "array([0.02130045, 0.02017937, 0.95852018])"
            ]
          },
          "metadata": {},
          "execution_count": 14
        }
      ]
    },
    {
      "cell_type": "code",
      "source": [
        "#Pid. La interpretación es que el producto tiende a estar, aproximadamente, el 2,1 % del tiempo en producción, el 2 % en empaquetado y el 95,9 % en las manos del cliente"
      ],
      "metadata": {
        "id": "n823LN2iUXzS"
      },
      "execution_count": 15,
      "outputs": []
    },
    {
      "cell_type": "code",
      "source": [
        "# e) P(S1 ∩ S2)\n",
        "Pyd = pid[0]*pid[1]\n",
        "np.round(Pyd,5)"
      ],
      "metadata": {
        "colab": {
          "base_uri": "https://localhost:8080/",
          "height": 0
        },
        "id": "pfKYjRbPWFK1",
        "outputId": "15955c9c-e284-4980-da4b-f9978cefb814"
      },
      "execution_count": 16,
      "outputs": [
        {
          "output_type": "execute_result",
          "data": {
            "text/plain": [
              "0.00043"
            ]
          },
          "metadata": {},
          "execution_count": 16
        }
      ]
    },
    {
      "cell_type": "code",
      "source": [
        "# f) P(S1 U S2)\n",
        "Pod = pid[0] + pid[1]\n",
        "np.round(Pod,4)"
      ],
      "metadata": {
        "colab": {
          "base_uri": "https://localhost:8080/",
          "height": 0
        },
        "id": "RS2Zn4rJWPGa",
        "outputId": "b6c1bfa7-c240-47a1-91dc-2c7eeb1505e8"
      },
      "execution_count": 17,
      "outputs": [
        {
          "output_type": "execute_result",
          "data": {
            "text/plain": [
              "0.0415"
            ]
          },
          "metadata": {},
          "execution_count": 17
        }
      ]
    },
    {
      "cell_type": "code",
      "source": [
        "# g) P(S1^c)\n",
        "Pvd = 1 - (pid[0] + pid[1])\n",
        "np.round(Pvd,4)"
      ],
      "metadata": {
        "colab": {
          "base_uri": "https://localhost:8080/",
          "height": 0
        },
        "id": "gbBL5dclXI1m",
        "outputId": "ba55d83f-0fd1-498a-aeeb-92e8bb24e4f1"
      },
      "execution_count": 18,
      "outputs": [
        {
          "output_type": "execute_result",
          "data": {
            "text/plain": [
              "0.9585"
            ]
          },
          "metadata": {},
          "execution_count": 18
        }
      ]
    },
    {
      "cell_type": "code",
      "execution_count": 47,
      "metadata": {
        "colab": {
          "base_uri": "https://localhost:8080/",
          "height": 0
        },
        "id": "EGlM2z60Ta_w",
        "outputId": "f81cc8e6-8854-4089-cb11-c725956091ac"
      },
      "outputs": [
        {
          "output_type": "stream",
          "name": "stdout",
          "text": [
            "[[1 1 1 1 0 0 0 0]] [0.0001911]\n"
          ]
        }
      ],
      "source": [
        "# Hidden Markov: Casino tramposo\n",
        "\n",
        "# a)\n",
        "from itertools import permutations\n",
        "from itertools import combinations\n",
        "from itertools import combinations_with_replacement\n",
        "\n",
        "Moneda=np.array([0,1])\n",
        "Prior=np.array([0.2,0.8])\n",
        "Obs=np.array([1,0,0,0,1,0,1,0])\n",
        "\n",
        "T = np.array([[0.8,0.2],[0.2,0.8]])\n",
        "\n",
        "E = np.array([[0.5,0.9],[0.5,0.1]])\n",
        "\n",
        "DictHidden = {0:'Justa',1:'Sesgada'}\n",
        "\n",
        "DictObs = {0:'Cara',1:'Sello'}\n",
        "\n",
        "def GetStates(State,N):\n",
        "    CStates = list(combinations_with_replacement(State,N))\n",
        "\n",
        "    Permu = []\n",
        "\n",
        "    for it in CStates:\n",
        "      p = list(permutations(it,N))\n",
        "      for i in p:\n",
        "        if i not in Permu:\n",
        "          Permu.append(i)\n",
        "\n",
        "    CStates = np.array(Permu)\n",
        "\n",
        "    return CStates\n",
        "\n",
        "HiddenStates=GetStates(Moneda,8)\n",
        "\n",
        "# b)\n",
        "def GetProb(T,E,Obs,State,Prior):\n",
        "\n",
        "  n = len(Obs)\n",
        "  p = 1.\n",
        "\n",
        "  p *= Prior[ State[0] ]\n",
        "\n",
        "  for i in range(n-1):\n",
        "    p *= T[ State[i+1], State[i] ]\n",
        "\n",
        "  for i in range(n):\n",
        "    p *= E[ Obs[i], State[i] ]\n",
        "\n",
        "  return p\n",
        "\n",
        "P = np.zeros(HiddenStates.shape[0])\n",
        "\n",
        "for i in range(P.shape[0]):\n",
        "  P[i] = GetProb(T,E,Obs,HiddenStates[i],Prior)\n",
        "\n",
        "ii = np.where( P == np.max(P) )\n",
        "print(HiddenStates[ii],P[ii])"
      ]
    },
    {
      "cell_type": "code",
      "source": [
        "#(c)\n",
        "import pandas as pd\n",
        "\n",
        "def data_20(ObsStates, PObs):\n",
        "    t = 0\n",
        "    for i in range(len(PObs)):\n",
        "        t += PObs[i]\n",
        "        if t >= 0.2:\n",
        "            break\n",
        "\n",
        "    # Convertir las secuencias en cadenas de texto para que queden en una sola columna\n",
        "    sequences = [''.join(map(str, seq)) for seq in ObsStates[:i+1]]\n",
        "\n",
        "    # Crear el DataFrame\n",
        "    df = pd.DataFrame({\n",
        "        'Secuencia': sequences,\n",
        "        'Probabilidad': PObs[:i+1]\n",
        "    })\n",
        "\n",
        "    # Ordenar por probabilidad en orden descendente\n",
        "    df = df.sort_values(by='Probabilidad', ascending=False)\n",
        "\n",
        "    # Calcular la suma acumulada de las probabilidades\n",
        "    df['Suma'] = df['Probabilidad'].cumsum()\n",
        "\n",
        "    return df\n",
        "\n",
        "# Llamar a la función con los datos\n",
        "result_df = data_20(ObsStates, PObs)\n",
        "result_df\n"
      ],
      "metadata": {
        "colab": {
          "base_uri": "https://localhost:8080/",
          "height": 143
        },
        "id": "2tHPfkMK564l",
        "outputId": "5a03e83a-28b9-4660-f777-5bb62d1a987a"
      },
      "execution_count": 56,
      "outputs": [
        {
          "output_type": "execute_result",
          "data": {
            "text/plain": [
              "  Secuencia  Probabilidad      Suma\n",
              "0  00000000      0.136982  0.136982\n",
              "1  00000001      0.041149  0.178132\n",
              "2  00000010      0.034737  0.212869"
            ],
            "text/html": [
              "\n",
              "  <div id=\"df-80c0f99b-9321-419f-8aae-e04e7d522020\" class=\"colab-df-container\">\n",
              "    <div>\n",
              "<style scoped>\n",
              "    .dataframe tbody tr th:only-of-type {\n",
              "        vertical-align: middle;\n",
              "    }\n",
              "\n",
              "    .dataframe tbody tr th {\n",
              "        vertical-align: top;\n",
              "    }\n",
              "\n",
              "    .dataframe thead th {\n",
              "        text-align: right;\n",
              "    }\n",
              "</style>\n",
              "<table border=\"1\" class=\"dataframe\">\n",
              "  <thead>\n",
              "    <tr style=\"text-align: right;\">\n",
              "      <th></th>\n",
              "      <th>Secuencia</th>\n",
              "      <th>Probabilidad</th>\n",
              "      <th>Suma</th>\n",
              "    </tr>\n",
              "  </thead>\n",
              "  <tbody>\n",
              "    <tr>\n",
              "      <th>0</th>\n",
              "      <td>00000000</td>\n",
              "      <td>0.136982</td>\n",
              "      <td>0.136982</td>\n",
              "    </tr>\n",
              "    <tr>\n",
              "      <th>1</th>\n",
              "      <td>00000001</td>\n",
              "      <td>0.041149</td>\n",
              "      <td>0.178132</td>\n",
              "    </tr>\n",
              "    <tr>\n",
              "      <th>2</th>\n",
              "      <td>00000010</td>\n",
              "      <td>0.034737</td>\n",
              "      <td>0.212869</td>\n",
              "    </tr>\n",
              "  </tbody>\n",
              "</table>\n",
              "</div>\n",
              "    <div class=\"colab-df-buttons\">\n",
              "\n",
              "  <div class=\"colab-df-container\">\n",
              "    <button class=\"colab-df-convert\" onclick=\"convertToInteractive('df-80c0f99b-9321-419f-8aae-e04e7d522020')\"\n",
              "            title=\"Convert this dataframe to an interactive table.\"\n",
              "            style=\"display:none;\">\n",
              "\n",
              "  <svg xmlns=\"http://www.w3.org/2000/svg\" height=\"24px\" viewBox=\"0 -960 960 960\">\n",
              "    <path d=\"M120-120v-720h720v720H120Zm60-500h600v-160H180v160Zm220 220h160v-160H400v160Zm0 220h160v-160H400v160ZM180-400h160v-160H180v160Zm440 0h160v-160H620v160ZM180-180h160v-160H180v160Zm440 0h160v-160H620v160Z\"/>\n",
              "  </svg>\n",
              "    </button>\n",
              "\n",
              "  <style>\n",
              "    .colab-df-container {\n",
              "      display:flex;\n",
              "      gap: 12px;\n",
              "    }\n",
              "\n",
              "    .colab-df-convert {\n",
              "      background-color: #E8F0FE;\n",
              "      border: none;\n",
              "      border-radius: 50%;\n",
              "      cursor: pointer;\n",
              "      display: none;\n",
              "      fill: #1967D2;\n",
              "      height: 32px;\n",
              "      padding: 0 0 0 0;\n",
              "      width: 32px;\n",
              "    }\n",
              "\n",
              "    .colab-df-convert:hover {\n",
              "      background-color: #E2EBFA;\n",
              "      box-shadow: 0px 1px 2px rgba(60, 64, 67, 0.3), 0px 1px 3px 1px rgba(60, 64, 67, 0.15);\n",
              "      fill: #174EA6;\n",
              "    }\n",
              "\n",
              "    .colab-df-buttons div {\n",
              "      margin-bottom: 4px;\n",
              "    }\n",
              "\n",
              "    [theme=dark] .colab-df-convert {\n",
              "      background-color: #3B4455;\n",
              "      fill: #D2E3FC;\n",
              "    }\n",
              "\n",
              "    [theme=dark] .colab-df-convert:hover {\n",
              "      background-color: #434B5C;\n",
              "      box-shadow: 0px 1px 3px 1px rgba(0, 0, 0, 0.15);\n",
              "      filter: drop-shadow(0px 1px 2px rgba(0, 0, 0, 0.3));\n",
              "      fill: #FFFFFF;\n",
              "    }\n",
              "  </style>\n",
              "\n",
              "    <script>\n",
              "      const buttonEl =\n",
              "        document.querySelector('#df-80c0f99b-9321-419f-8aae-e04e7d522020 button.colab-df-convert');\n",
              "      buttonEl.style.display =\n",
              "        google.colab.kernel.accessAllowed ? 'block' : 'none';\n",
              "\n",
              "      async function convertToInteractive(key) {\n",
              "        const element = document.querySelector('#df-80c0f99b-9321-419f-8aae-e04e7d522020');\n",
              "        const dataTable =\n",
              "          await google.colab.kernel.invokeFunction('convertToInteractive',\n",
              "                                                    [key], {});\n",
              "        if (!dataTable) return;\n",
              "\n",
              "        const docLinkHtml = 'Like what you see? Visit the ' +\n",
              "          '<a target=\"_blank\" href=https://colab.research.google.com/notebooks/data_table.ipynb>data table notebook</a>'\n",
              "          + ' to learn more about interactive tables.';\n",
              "        element.innerHTML = '';\n",
              "        dataTable['output_type'] = 'display_data';\n",
              "        await google.colab.output.renderOutput(dataTable, element);\n",
              "        const docLink = document.createElement('div');\n",
              "        docLink.innerHTML = docLinkHtml;\n",
              "        element.appendChild(docLink);\n",
              "      }\n",
              "    </script>\n",
              "  </div>\n",
              "\n",
              "\n",
              "<div id=\"df-a3c77d67-cf86-439a-a23d-ae57cf001477\">\n",
              "  <button class=\"colab-df-quickchart\" onclick=\"quickchart('df-a3c77d67-cf86-439a-a23d-ae57cf001477')\"\n",
              "            title=\"Suggest charts\"\n",
              "            style=\"display:none;\">\n",
              "\n",
              "<svg xmlns=\"http://www.w3.org/2000/svg\" height=\"24px\"viewBox=\"0 0 24 24\"\n",
              "     width=\"24px\">\n",
              "    <g>\n",
              "        <path d=\"M19 3H5c-1.1 0-2 .9-2 2v14c0 1.1.9 2 2 2h14c1.1 0 2-.9 2-2V5c0-1.1-.9-2-2-2zM9 17H7v-7h2v7zm4 0h-2V7h2v10zm4 0h-2v-4h2v4z\"/>\n",
              "    </g>\n",
              "</svg>\n",
              "  </button>\n",
              "\n",
              "<style>\n",
              "  .colab-df-quickchart {\n",
              "      --bg-color: #E8F0FE;\n",
              "      --fill-color: #1967D2;\n",
              "      --hover-bg-color: #E2EBFA;\n",
              "      --hover-fill-color: #174EA6;\n",
              "      --disabled-fill-color: #AAA;\n",
              "      --disabled-bg-color: #DDD;\n",
              "  }\n",
              "\n",
              "  [theme=dark] .colab-df-quickchart {\n",
              "      --bg-color: #3B4455;\n",
              "      --fill-color: #D2E3FC;\n",
              "      --hover-bg-color: #434B5C;\n",
              "      --hover-fill-color: #FFFFFF;\n",
              "      --disabled-bg-color: #3B4455;\n",
              "      --disabled-fill-color: #666;\n",
              "  }\n",
              "\n",
              "  .colab-df-quickchart {\n",
              "    background-color: var(--bg-color);\n",
              "    border: none;\n",
              "    border-radius: 50%;\n",
              "    cursor: pointer;\n",
              "    display: none;\n",
              "    fill: var(--fill-color);\n",
              "    height: 32px;\n",
              "    padding: 0;\n",
              "    width: 32px;\n",
              "  }\n",
              "\n",
              "  .colab-df-quickchart:hover {\n",
              "    background-color: var(--hover-bg-color);\n",
              "    box-shadow: 0 1px 2px rgba(60, 64, 67, 0.3), 0 1px 3px 1px rgba(60, 64, 67, 0.15);\n",
              "    fill: var(--button-hover-fill-color);\n",
              "  }\n",
              "\n",
              "  .colab-df-quickchart-complete:disabled,\n",
              "  .colab-df-quickchart-complete:disabled:hover {\n",
              "    background-color: var(--disabled-bg-color);\n",
              "    fill: var(--disabled-fill-color);\n",
              "    box-shadow: none;\n",
              "  }\n",
              "\n",
              "  .colab-df-spinner {\n",
              "    border: 2px solid var(--fill-color);\n",
              "    border-color: transparent;\n",
              "    border-bottom-color: var(--fill-color);\n",
              "    animation:\n",
              "      spin 1s steps(1) infinite;\n",
              "  }\n",
              "\n",
              "  @keyframes spin {\n",
              "    0% {\n",
              "      border-color: transparent;\n",
              "      border-bottom-color: var(--fill-color);\n",
              "      border-left-color: var(--fill-color);\n",
              "    }\n",
              "    20% {\n",
              "      border-color: transparent;\n",
              "      border-left-color: var(--fill-color);\n",
              "      border-top-color: var(--fill-color);\n",
              "    }\n",
              "    30% {\n",
              "      border-color: transparent;\n",
              "      border-left-color: var(--fill-color);\n",
              "      border-top-color: var(--fill-color);\n",
              "      border-right-color: var(--fill-color);\n",
              "    }\n",
              "    40% {\n",
              "      border-color: transparent;\n",
              "      border-right-color: var(--fill-color);\n",
              "      border-top-color: var(--fill-color);\n",
              "    }\n",
              "    60% {\n",
              "      border-color: transparent;\n",
              "      border-right-color: var(--fill-color);\n",
              "    }\n",
              "    80% {\n",
              "      border-color: transparent;\n",
              "      border-right-color: var(--fill-color);\n",
              "      border-bottom-color: var(--fill-color);\n",
              "    }\n",
              "    90% {\n",
              "      border-color: transparent;\n",
              "      border-bottom-color: var(--fill-color);\n",
              "    }\n",
              "  }\n",
              "</style>\n",
              "\n",
              "  <script>\n",
              "    async function quickchart(key) {\n",
              "      const quickchartButtonEl =\n",
              "        document.querySelector('#' + key + ' button');\n",
              "      quickchartButtonEl.disabled = true;  // To prevent multiple clicks.\n",
              "      quickchartButtonEl.classList.add('colab-df-spinner');\n",
              "      try {\n",
              "        const charts = await google.colab.kernel.invokeFunction(\n",
              "            'suggestCharts', [key], {});\n",
              "      } catch (error) {\n",
              "        console.error('Error during call to suggestCharts:', error);\n",
              "      }\n",
              "      quickchartButtonEl.classList.remove('colab-df-spinner');\n",
              "      quickchartButtonEl.classList.add('colab-df-quickchart-complete');\n",
              "    }\n",
              "    (() => {\n",
              "      let quickchartButtonEl =\n",
              "        document.querySelector('#df-a3c77d67-cf86-439a-a23d-ae57cf001477 button');\n",
              "      quickchartButtonEl.style.display =\n",
              "        google.colab.kernel.accessAllowed ? 'block' : 'none';\n",
              "    })();\n",
              "  </script>\n",
              "</div>\n",
              "\n",
              "  <div id=\"id_a8c4ca1f-9050-4694-b02d-88f5aadac8f3\">\n",
              "    <style>\n",
              "      .colab-df-generate {\n",
              "        background-color: #E8F0FE;\n",
              "        border: none;\n",
              "        border-radius: 50%;\n",
              "        cursor: pointer;\n",
              "        display: none;\n",
              "        fill: #1967D2;\n",
              "        height: 32px;\n",
              "        padding: 0 0 0 0;\n",
              "        width: 32px;\n",
              "      }\n",
              "\n",
              "      .colab-df-generate:hover {\n",
              "        background-color: #E2EBFA;\n",
              "        box-shadow: 0px 1px 2px rgba(60, 64, 67, 0.3), 0px 1px 3px 1px rgba(60, 64, 67, 0.15);\n",
              "        fill: #174EA6;\n",
              "      }\n",
              "\n",
              "      [theme=dark] .colab-df-generate {\n",
              "        background-color: #3B4455;\n",
              "        fill: #D2E3FC;\n",
              "      }\n",
              "\n",
              "      [theme=dark] .colab-df-generate:hover {\n",
              "        background-color: #434B5C;\n",
              "        box-shadow: 0px 1px 3px 1px rgba(0, 0, 0, 0.15);\n",
              "        filter: drop-shadow(0px 1px 2px rgba(0, 0, 0, 0.3));\n",
              "        fill: #FFFFFF;\n",
              "      }\n",
              "    </style>\n",
              "    <button class=\"colab-df-generate\" onclick=\"generateWithVariable('result_df')\"\n",
              "            title=\"Generate code using this dataframe.\"\n",
              "            style=\"display:none;\">\n",
              "\n",
              "  <svg xmlns=\"http://www.w3.org/2000/svg\" height=\"24px\"viewBox=\"0 0 24 24\"\n",
              "       width=\"24px\">\n",
              "    <path d=\"M7,19H8.4L18.45,9,17,7.55,7,17.6ZM5,21V16.75L18.45,3.32a2,2,0,0,1,2.83,0l1.4,1.43a1.91,1.91,0,0,1,.58,1.4,1.91,1.91,0,0,1-.58,1.4L9.25,21ZM18.45,9,17,7.55Zm-12,3A5.31,5.31,0,0,0,4.9,8.1,5.31,5.31,0,0,0,1,6.5,5.31,5.31,0,0,0,4.9,4.9,5.31,5.31,0,0,0,6.5,1,5.31,5.31,0,0,0,8.1,4.9,5.31,5.31,0,0,0,12,6.5,5.46,5.46,0,0,0,6.5,12Z\"/>\n",
              "  </svg>\n",
              "    </button>\n",
              "    <script>\n",
              "      (() => {\n",
              "      const buttonEl =\n",
              "        document.querySelector('#id_a8c4ca1f-9050-4694-b02d-88f5aadac8f3 button.colab-df-generate');\n",
              "      buttonEl.style.display =\n",
              "        google.colab.kernel.accessAllowed ? 'block' : 'none';\n",
              "\n",
              "      buttonEl.onclick = () => {\n",
              "        google.colab.notebook.generateWithVariable('result_df');\n",
              "      }\n",
              "      })();\n",
              "    </script>\n",
              "  </div>\n",
              "\n",
              "    </div>\n",
              "  </div>\n"
            ],
            "application/vnd.google.colaboratory.intrinsic+json": {
              "type": "dataframe",
              "variable_name": "result_df",
              "summary": "{\n  \"name\": \"result_df\",\n  \"rows\": 3,\n  \"fields\": [\n    {\n      \"column\": \"Secuencia\",\n      \"properties\": {\n        \"dtype\": \"string\",\n        \"num_unique_values\": 3,\n        \"samples\": [\n          \"00000000\",\n          \"00000001\",\n          \"00000010\"\n        ],\n        \"semantic_type\": \"\",\n        \"description\": \"\"\n      }\n    },\n    {\n      \"column\": \"Probabilidad\",\n      \"properties\": {\n        \"dtype\": \"number\",\n        \"std\": 0.05727009043976322,\n        \"min\": 0.034737299592422416,\n        \"max\": 0.13698241367042568,\n        \"num_unique_values\": 3,\n        \"samples\": [\n          0.13698241367042568,\n          0.041149206196454416,\n          0.034737299592422416\n        ],\n        \"semantic_type\": \"\",\n        \"description\": \"\"\n      }\n    },\n    {\n      \"column\": \"Suma\",\n      \"properties\": {\n        \"dtype\": \"number\",\n        \"std\": 0.03798837303355082,\n        \"min\": 0.13698241367042568,\n        \"max\": 0.2128689194593025,\n        \"num_unique_values\": 3,\n        \"samples\": [\n          0.13698241367042568,\n          0.1781316198668801,\n          0.2128689194593025\n        ],\n        \"semantic_type\": \"\",\n        \"description\": \"\"\n      }\n    }\n  ]\n}"
            }
          },
          "metadata": {},
          "execution_count": 56
        }
      ]
    },
    {
      "cell_type": "code",
      "source": [
        "# d)\n",
        "plt.plot(P, color='k', label= 'Probabilidad por secuencia')\n",
        "plt.axhline(np.max(P), color='r', label = 'MaxP = ' + str(np.round(np.max(P),4)))\n",
        "plt.legend()\n",
        "plt.show()"
      ],
      "metadata": {
        "colab": {
          "base_uri": "https://localhost:8080/",
          "height": 434
        },
        "id": "4cKzpF-Gf9sp",
        "outputId": "b7ab6f75-eec9-4591-8522-4191d146a7af"
      },
      "execution_count": 48,
      "outputs": [
        {
          "output_type": "display_data",
          "data": {
            "text/plain": [
              "<Figure size 640x480 with 1 Axes>"
            ],
            "image/png": "[encoded data removed]"
          },
          "metadata": {}
        }
      ]
    },
    {
      "cell_type": "code",
      "source": [
        "# e)\n",
        "ObsStates = GetStates([0,1],8)\n",
        "ObsStates\n",
        "\n",
        "Nobs = ObsStates.shape[0]\n",
        "\n",
        "PObs = np.zeros(Nobs)\n",
        "\n",
        "for j in range(Nobs):\n",
        "\n",
        "  dim = HiddenStates.shape[0]\n",
        "  P = np.zeros(dim)\n",
        "\n",
        "  for i in range(dim):\n",
        "    P[i] = GetProb(T,E,ObsStates[j],HiddenStates[i],Prior)\n",
        "\n",
        "  PObs[j] = np.sum(P)\n",
        "\n",
        "PObs"
      ],
      "metadata": {
        "colab": {
          "base_uri": "https://localhost:8080/",
          "height": 0
        },
        "collapsed": true,
        "id": "kkxRv0T6lhRU",
        "outputId": "482cdb90-5625-4a23-c2bd-7333c84441a9"
      },
      "execution_count": 22,
      "outputs": [
        {
          "output_type": "execute_result",
          "data": {
            "text/plain": [
              "array([0.13698241, 0.04114921, 0.0347373 , 0.03175272, 0.03026766,\n",
              "       0.02932288, 0.02830811, 0.02656789, 0.02297818, 0.01870516,\n",
              "       0.01330002, 0.01467809, 0.01079433, 0.01067359, 0.01276253,\n",
              "       0.00956961, 0.00877661, 0.00936674, 0.01172117, 0.00883478,\n",
              "       0.00776184, 0.00767971, 0.00853533, 0.01088136, 0.00811519,\n",
              "       0.00697382, 0.00661175, 0.00679511, 0.00764233, 0.00970066,\n",
              "       0.00694603, 0.00590355, 0.00547305, 0.00537647, 0.00555143,\n",
              "       0.00611094, 0.0074164 , 0.00955193, 0.00649319, 0.00616157,\n",
              "       0.00733671, 0.00505945, 0.00428819, 0.00497251, 0.00456283,\n",
              "       0.0048075 , 0.00623446, 0.00432462, 0.00337544, 0.00382959,\n",
              "       0.00321043, 0.00330316, 0.00416108, 0.00372302, 0.00355961,\n",
              "       0.00405611, 0.00553322, 0.00381405, 0.00283376, 0.00316972,\n",
              "       0.00249084, 0.00251514, 0.00309313, 0.00256378, 0.00241017,\n",
              "       0.0026765 , 0.00353481, 0.00309969, 0.00278698, 0.0028754 ,\n",
              "       0.00342205, 0.00478004, 0.00319794, 0.00231328, 0.00256666,\n",
              "       0.00193925, 0.00193444, 0.00234078, 0.00183427, 0.00170131,\n",
              "       0.00184945, 0.00237437, 0.00193054, 0.00171671, 0.0017367 ,\n",
              "       0.00200341, 0.00268914, 0.00229023, 0.00199057, 0.00192969,\n",
              "       0.00206826, 0.00249578, 0.00348841, 0.00497054, 0.0033236 ,\n",
              "       0.00304519, 0.00311076, 0.00376161, 0.00253029, 0.00206191,\n",
              "       0.00205278, 0.00246933, 0.0021158 , 0.0019167 , 0.00225856,\n",
              "       0.00220175, 0.00235363, 0.00310439, 0.0020782 , 0.00155134,\n",
              "       0.00151111, 0.00180946, 0.00141526, 0.00124957, 0.00146357,\n",
              "       0.0013954 , 0.00148394, 0.00194555, 0.00158206, 0.00129338,\n",
              "       0.00148593, 0.00131375, 0.00137119, 0.00175811, 0.00165634,\n",
              "       0.00160044, 0.00185224, 0.00257438, 0.00167529, 0.00118368,\n",
              "       0.00113585, 0.00135576, 0.00098913, 0.00085454, 0.00099563,\n",
              "       0.00093056, 0.0009849 , 0.00128408, 0.00096595, 0.00077289,\n",
              "       0.00088288, 0.00076216, 0.00079048, 0.00100575, 0.00092683,\n",
              "       0.00089159, 0.00102519, 0.00141394, 0.0010992 , 0.00083817,\n",
              "       0.00094468, 0.00076896, 0.00078459, 0.00097797, 0.00084688,\n",
              "       0.00080403, 0.00090653, 0.00122058, 0.00112224, 0.00101556,\n",
              "       0.00105958, 0.00128275, 0.00182922, 0.00256794, 0.00168142,\n",
              "       0.00152212, 0.00150379, 0.00155895, 0.00189063, 0.00122933,\n",
              "       0.00098331, 0.00094521, 0.0009748 , 0.00118099, 0.00098838,\n",
              "       0.00086356, 0.00087339, 0.001054  , 0.00095838, 0.00088149,\n",
              "       0.00104234, 0.00102894, 0.00110308, 0.00145974, 0.00091963,\n",
              "       0.00066712, 0.00062556, 0.00064202, 0.00077707, 0.00058547,\n",
              "       0.00049591, 0.00049813, 0.0006003 , 0.00053225, 0.00048646,\n",
              "       0.0005744 , 0.0005641 , 0.00060404, 0.00079827, 0.00062195,\n",
              "       0.00048718, 0.00048042, 0.00057676, 0.00047552, 0.00042628,\n",
              "       0.00050108, 0.00048415, 0.00051648, 0.00067961, 0.00057942,\n",
              "       0.00047945, 0.00055256, 0.00049484, 0.00051819, 0.00066708,\n",
              "       0.00063555, 0.00061546, 0.00071458, 0.00099692, 0.00129252,\n",
              "       0.00080697, 0.00071883, 0.00070371, 0.00070597, 0.00073395,\n",
              "       0.0008906 , 0.00053072, 0.00040913, 0.00038751, 0.00038632,\n",
              "       0.00040116, 0.00048667, 0.00039234, 0.00033728, 0.00032959,\n",
              "       0.00034098, 0.00041336, 0.00036815, 0.00032701, 0.0003319 ,\n",
              "       0.00040083, 0.00036912, 0.00034056, 0.00040299, 0.00039881,\n",
              "       0.00042778, 0.00056647, 0.00060902, 0.00033276, 0.00028253,\n",
              "       0.00027346, 0.00027216, 0.00027387, 0.00028489, 0.00034573,\n",
              "       0.00023643])"
            ]
          },
          "metadata": {},
          "execution_count": 22
        }
      ]
    },
    {
      "cell_type": "code",
      "source": [
        "# f)\n",
        "np.sum(PObs)"
      ],
      "metadata": {
        "colab": {
          "base_uri": "https://localhost:8080/",
          "height": 0
        },
        "id": "4AAMJkN7h_Xy",
        "outputId": "112522f7-c66b-4774-9858-c8118556c7ff"
      },
      "execution_count": 23,
      "outputs": [
        {
          "output_type": "execute_result",
          "data": {
            "text/plain": [
              "1.0000000000000007"
            ]
          },
          "metadata": {},
          "execution_count": 23
        }
      ]
    },
    {
      "cell_type": "markdown",
      "source": [
        "(g)\n",
        "\n",
        "Sí, el resultado depende de la probabilidad a-priori porque esta representa la distribución inicial de los estados ocultos antes de observar los datos. Si se modifican las probabilidades a-priori, el cálculo de las probabilidades conjuntas y condicionales para las secuencias ocultas también cambiará, afectando las secuencias más probables. Sin embargo, su influencia disminuye a medida que se tienen más observaciones, ya que los datos observados ganan mayor peso en las estimaciones."
      ],
      "metadata": {
        "id": "gER4c_c2-RNf"
      }
    },
    {
      "cell_type": "markdown",
      "source": [
        "(h)\n",
        "\n",
        "Si quisiera estimar las matrices de transición y emisión, un enfoque metodológico sería emplear redes neuronales, las cuales son adecuadas para modelar secuencias temporales. En este enfoque, los robots podrían ser entrenados para predecir el siguiente estado observable dado el histórico de observaciones, mientras que las probabilidades de transición y emisión se aprenderían como pesos internos de la red.\n",
        "\n"
      ],
      "metadata": {
        "id": "1KSt9hvm-ava"
      }
    },
    {
      "cell_type": "code",
      "source": [
        "# Maxwell-Boltzmann distribution\n",
        "\n",
        "#a)\n",
        "url = \"https://raw.githubusercontent.com/asegura4488/Database/main/MetodosComputacionalesReforma/Maxwell.csv\"\n",
        "\n",
        "df = pd.read_csv(url)\n",
        "df.to_csv('Maxwell.csv', index=False)\n",
        "\n",
        "Maxwell = pd.read_csv('Maxwell.csv')\n",
        "Maxwell"
      ],
      "metadata": {
        "colab": {
          "base_uri": "https://localhost:8080/",
          "height": 424
        },
        "id": "FjQnXbn-Bgxh",
        "outputId": "b42119f6-557b-4f72-fe63-542f8b841232"
      },
      "execution_count": 25,
      "outputs": [
        {
          "output_type": "execute_result",
          "data": {
            "text/plain": [
              "       Velocidad\n",
              "0     547.265773\n",
              "1     449.920418\n",
              "2     773.814382\n",
              "3     823.668389\n",
              "4     352.873887\n",
              "...          ...\n",
              "2995  601.470068\n",
              "2996  508.491149\n",
              "2997  594.981398\n",
              "2998  376.388615\n",
              "2999  539.813140\n",
              "\n",
              "[3000 rows x 1 columns]"
            ],
            "text/html": [
              "\n",
              "  <div id=\"df-72fed887-ca07-4858-ae12-bbdf075be8f3\" class=\"colab-df-container\">\n",
              "    <div>\n",
              "<style scoped>\n",
              "    .dataframe tbody tr th:only-of-type {\n",
              "        vertical-align: middle;\n",
              "    }\n",
              "\n",
              "    .dataframe tbody tr th {\n",
              "        vertical-align: top;\n",
              "    }\n",
              "\n",
              "    .dataframe thead th {\n",
              "        text-align: right;\n",
              "    }\n",
              "</style>\n",
              "<table border=\"1\" class=\"dataframe\">\n",
              "  <thead>\n",
              "    <tr style=\"text-align: right;\">\n",
              "      <th></th>\n",
              "      <th>Velocidad</th>\n",
              "    </tr>\n",
              "  </thead>\n",
              "  <tbody>\n",
              "    <tr>\n",
              "      <th>0</th>\n",
              "      <td>547.265773</td>\n",
              "    </tr>\n",
              "    <tr>\n",
              "      <th>1</th>\n",
              "      <td>449.920418</td>\n",
              "    </tr>\n",
              "    <tr>\n",
              "      <th>2</th>\n",
              "      <td>773.814382</td>\n",
              "    </tr>\n",
              "    <tr>\n",
              "      <th>3</th>\n",
              "      <td>823.668389</td>\n",
              "    </tr>\n",
              "    <tr>\n",
              "      <th>4</th>\n",
              "      <td>352.873887</td>\n",
              "    </tr>\n",
              "    <tr>\n",
              "      <th>...</th>\n",
              "      <td>...</td>\n",
              "    </tr>\n",
              "    <tr>\n",
              "      <th>2995</th>\n",
              "      <td>601.470068</td>\n",
              "    </tr>\n",
              "    <tr>\n",
              "      <th>2996</th>\n",
              "      <td>508.491149</td>\n",
              "    </tr>\n",
              "    <tr>\n",
              "      <th>2997</th>\n",
              "      <td>594.981398</td>\n",
              "    </tr>\n",
              "    <tr>\n",
              "      <th>2998</th>\n",
              "      <td>376.388615</td>\n",
              "    </tr>\n",
              "    <tr>\n",
              "      <th>2999</th>\n",
              "      <td>539.813140</td>\n",
              "    </tr>\n",
              "  </tbody>\n",
              "</table>\n",
              "<p>3000 rows × 1 columns</p>\n",
              "</div>\n",
              "    <div class=\"colab-df-buttons\">\n",
              "\n",
              "  <div class=\"colab-df-container\">\n",
              "    <button class=\"colab-df-convert\" onclick=\"convertToInteractive('df-72fed887-ca07-4858-ae12-bbdf075be8f3')\"\n",
              "            title=\"Convert this dataframe to an interactive table.\"\n",
              "            style=\"display:none;\">\n",
              "\n",
              "  <svg xmlns=\"http://www.w3.org/2000/svg\" height=\"24px\" viewBox=\"0 -960 960 960\">\n",
              "    <path d=\"M120-120v-720h720v720H120Zm60-500h600v-160H180v160Zm220 220h160v-160H400v160Zm0 220h160v-160H400v160ZM180-400h160v-160H180v160Zm440 0h160v-160H620v160ZM180-180h160v-160H180v160Zm440 0h160v-160H620v160Z\"/>\n",
              "  </svg>\n",
              "    </button>\n",
              "\n",
              "  <style>\n",
              "    .colab-df-container {\n",
              "      display:flex;\n",
              "      gap: 12px;\n",
              "    }\n",
              "\n",
              "    .colab-df-convert {\n",
              "      background-color: #E8F0FE;\n",
              "      border: none;\n",
              "      border-radius: 50%;\n",
              "      cursor: pointer;\n",
              "      display: none;\n",
              "      fill: #1967D2;\n",
              "      height: 32px;\n",
              "      padding: 0 0 0 0;\n",
              "      width: 32px;\n",
              "    }\n",
              "\n",
              "    .colab-df-convert:hover {\n",
              "      background-color: #E2EBFA;\n",
              "      box-shadow: 0px 1px 2px rgba(60, 64, 67, 0.3), 0px 1px 3px 1px rgba(60, 64, 67, 0.15);\n",
              "      fill: #174EA6;\n",
              "    }\n",
              "\n",
              "    .colab-df-buttons div {\n",
              "      margin-bottom: 4px;\n",
              "    }\n",
              "\n",
              "    [theme=dark] .colab-df-convert {\n",
              "      background-color: #3B4455;\n",
              "      fill: #D2E3FC;\n",
              "    }\n",
              "\n",
              "    [theme=dark] .colab-df-convert:hover {\n",
              "      background-color: #434B5C;\n",
              "      box-shadow: 0px 1px 3px 1px rgba(0, 0, 0, 0.15);\n",
              "      filter: drop-shadow(0px 1px 2px rgba(0, 0, 0, 0.3));\n",
              "      fill: #FFFFFF;\n",
              "    }\n",
              "  </style>\n",
              "\n",
              "    <script>\n",
              "      const buttonEl =\n",
              "        document.querySelector('#df-72fed887-ca07-4858-ae12-bbdf075be8f3 button.colab-df-convert');\n",
              "      buttonEl.style.display =\n",
              "        google.colab.kernel.accessAllowed ? 'block' : 'none';\n",
              "\n",
              "      async function convertToInteractive(key) {\n",
              "        const element = document.querySelector('#df-72fed887-ca07-4858-ae12-bbdf075be8f3');\n",
              "        const dataTable =\n",
              "          await google.colab.kernel.invokeFunction('convertToInteractive',\n",
              "                                                    [key], {});\n",
              "        if (!dataTable) return;\n",
              "\n",
              "        const docLinkHtml = 'Like what you see? Visit the ' +\n",
              "          '<a target=\"_blank\" href=https://colab.research.google.com/notebooks/data_table.ipynb>data table notebook</a>'\n",
              "          + ' to learn more about interactive tables.';\n",
              "        element.innerHTML = '';\n",
              "        dataTable['output_type'] = 'display_data';\n",
              "        await google.colab.output.renderOutput(dataTable, element);\n",
              "        const docLink = document.createElement('div');\n",
              "        docLink.innerHTML = docLinkHtml;\n",
              "        element.appendChild(docLink);\n",
              "      }\n",
              "    </script>\n",
              "  </div>\n",
              "\n",
              "\n",
              "<div id=\"df-dfd2fd17-2cd8-4da3-953a-f1f7e1b1df8a\">\n",
              "  <button class=\"colab-df-quickchart\" onclick=\"quickchart('df-dfd2fd17-2cd8-4da3-953a-f1f7e1b1df8a')\"\n",
              "            title=\"Suggest charts\"\n",
              "            style=\"display:none;\">\n",
              "\n",
              "<svg xmlns=\"http://www.w3.org/2000/svg\" height=\"24px\"viewBox=\"0 0 24 24\"\n",
              "     width=\"24px\">\n",
              "    <g>\n",
              "        <path d=\"M19 3H5c-1.1 0-2 .9-2 2v14c0 1.1.9 2 2 2h14c1.1 0 2-.9 2-2V5c0-1.1-.9-2-2-2zM9 17H7v-7h2v7zm4 0h-2V7h2v10zm4 0h-2v-4h2v4z\"/>\n",
              "    </g>\n",
              "</svg>\n",
              "  </button>\n",
              "\n",
              "<style>\n",
              "  .colab-df-quickchart {\n",
              "      --bg-color: #E8F0FE;\n",
              "      --fill-color: #1967D2;\n",
              "      --hover-bg-color: #E2EBFA;\n",
              "      --hover-fill-color: #174EA6;\n",
              "      --disabled-fill-color: #AAA;\n",
              "      --disabled-bg-color: #DDD;\n",
              "  }\n",
              "\n",
              "  [theme=dark] .colab-df-quickchart {\n",
              "      --bg-color: #3B4455;\n",
              "      --fill-color: #D2E3FC;\n",
              "      --hover-bg-color: #434B5C;\n",
              "      --hover-fill-color: #FFFFFF;\n",
              "      --disabled-bg-color: #3B4455;\n",
              "      --disabled-fill-color: #666;\n",
              "  }\n",
              "\n",
              "  .colab-df-quickchart {\n",
              "    background-color: var(--bg-color);\n",
              "    border: none;\n",
              "    border-radius: 50%;\n",
              "    cursor: pointer;\n",
              "    display: none;\n",
              "    fill: var(--fill-color);\n",
              "    height: 32px;\n",
              "    padding: 0;\n",
              "    width: 32px;\n",
              "  }\n",
              "\n",
              "  .colab-df-quickchart:hover {\n",
              "    background-color: var(--hover-bg-color);\n",
              "    box-shadow: 0 1px 2px rgba(60, 64, 67, 0.3), 0 1px 3px 1px rgba(60, 64, 67, 0.15);\n",
              "    fill: var(--button-hover-fill-color);\n",
              "  }\n",
              "\n",
              "  .colab-df-quickchart-complete:disabled,\n",
              "  .colab-df-quickchart-complete:disabled:hover {\n",
              "    background-color: var(--disabled-bg-color);\n",
              "    fill: var(--disabled-fill-color);\n",
              "    box-shadow: none;\n",
              "  }\n",
              "\n",
              "  .colab-df-spinner {\n",
              "    border: 2px solid var(--fill-color);\n",
              "    border-color: transparent;\n",
              "    border-bottom-color: var(--fill-color);\n",
              "    animation:\n",
              "      spin 1s steps(1) infinite;\n",
              "  }\n",
              "\n",
              "  @keyframes spin {\n",
              "    0% {\n",
              "      border-color: transparent;\n",
              "      border-bottom-color: var(--fill-color);\n",
              "      border-left-color: var(--fill-color);\n",
              "    }\n",
              "    20% {\n",
              "      border-color: transparent;\n",
              "      border-left-color: var(--fill-color);\n",
              "      border-top-color: var(--fill-color);\n",
              "    }\n",
              "    30% {\n",
              "      border-color: transparent;\n",
              "      border-left-color: var(--fill-color);\n",
              "      border-top-color: var(--fill-color);\n",
              "      border-right-color: var(--fill-color);\n",
              "    }\n",
              "    40% {\n",
              "      border-color: transparent;\n",
              "      border-right-color: var(--fill-color);\n",
              "      border-top-color: var(--fill-color);\n",
              "    }\n",
              "    60% {\n",
              "      border-color: transparent;\n",
              "      border-right-color: var(--fill-color);\n",
              "    }\n",
              "    80% {\n",
              "      border-color: transparent;\n",
              "      border-right-color: var(--fill-color);\n",
              "      border-bottom-color: var(--fill-color);\n",
              "    }\n",
              "    90% {\n",
              "      border-color: transparent;\n",
              "      border-bottom-color: var(--fill-color);\n",
              "    }\n",
              "  }\n",
              "</style>\n",
              "\n",
              "  <script>\n",
              "    async function quickchart(key) {\n",
              "      const quickchartButtonEl =\n",
              "        document.querySelector('#' + key + ' button');\n",
              "      quickchartButtonEl.disabled = true;  // To prevent multiple clicks.\n",
              "      quickchartButtonEl.classList.add('colab-df-spinner');\n",
              "      try {\n",
              "        const charts = await google.colab.kernel.invokeFunction(\n",
              "            'suggestCharts', [key], {});\n",
              "      } catch (error) {\n",
              "        console.error('Error during call to suggestCharts:', error);\n",
              "      }\n",
              "      quickchartButtonEl.classList.remove('colab-df-spinner');\n",
              "      quickchartButtonEl.classList.add('colab-df-quickchart-complete');\n",
              "    }\n",
              "    (() => {\n",
              "      let quickchartButtonEl =\n",
              "        document.querySelector('#df-dfd2fd17-2cd8-4da3-953a-f1f7e1b1df8a button');\n",
              "      quickchartButtonEl.style.display =\n",
              "        google.colab.kernel.accessAllowed ? 'block' : 'none';\n",
              "    })();\n",
              "  </script>\n",
              "</div>\n",
              "\n",
              "  <div id=\"id_c07fbb5e-252b-4994-b37c-117b3dfc1186\">\n",
              "    <style>\n",
              "      .colab-df-generate {\n",
              "        background-color: #E8F0FE;\n",
              "        border: none;\n",
              "        border-radius: 50%;\n",
              "        cursor: pointer;\n",
              "        display: none;\n",
              "        fill: #1967D2;\n",
              "        height: 32px;\n",
              "        padding: 0 0 0 0;\n",
              "        width: 32px;\n",
              "      }\n",
              "\n",
              "      .colab-df-generate:hover {\n",
              "        background-color: #E2EBFA;\n",
              "        box-shadow: 0px 1px 2px rgba(60, 64, 67, 0.3), 0px 1px 3px 1px rgba(60, 64, 67, 0.15);\n",
              "        fill: #174EA6;\n",
              "      }\n",
              "\n",
              "      [theme=dark] .colab-df-generate {\n",
              "        background-color: #3B4455;\n",
              "        fill: #D2E3FC;\n",
              "      }\n",
              "\n",
              "      [theme=dark] .colab-df-generate:hover {\n",
              "        background-color: #434B5C;\n",
              "        box-shadow: 0px 1px 3px 1px rgba(0, 0, 0, 0.15);\n",
              "        filter: drop-shadow(0px 1px 2px rgba(0, 0, 0, 0.3));\n",
              "        fill: #FFFFFF;\n",
              "      }\n",
              "    </style>\n",
              "    <button class=\"colab-df-generate\" onclick=\"generateWithVariable('Maxwell')\"\n",
              "            title=\"Generate code using this dataframe.\"\n",
              "            style=\"display:none;\">\n",
              "\n",
              "  <svg xmlns=\"http://www.w3.org/2000/svg\" height=\"24px\"viewBox=\"0 0 24 24\"\n",
              "       width=\"24px\">\n",
              "    <path d=\"M7,19H8.4L18.45,9,17,7.55,7,17.6ZM5,21V16.75L18.45,3.32a2,2,0,0,1,2.83,0l1.4,1.43a1.91,1.91,0,0,1,.58,1.4,1.91,1.91,0,0,1-.58,1.4L9.25,21ZM18.45,9,17,7.55Zm-12,3A5.31,5.31,0,0,0,4.9,8.1,5.31,5.31,0,0,0,1,6.5,5.31,5.31,0,0,0,4.9,4.9,5.31,5.31,0,0,0,6.5,1,5.31,5.31,0,0,0,8.1,4.9,5.31,5.31,0,0,0,12,6.5,5.46,5.46,0,0,0,6.5,12Z\"/>\n",
              "  </svg>\n",
              "    </button>\n",
              "    <script>\n",
              "      (() => {\n",
              "      const buttonEl =\n",
              "        document.querySelector('#id_c07fbb5e-252b-4994-b37c-117b3dfc1186 button.colab-df-generate');\n",
              "      buttonEl.style.display =\n",
              "        google.colab.kernel.accessAllowed ? 'block' : 'none';\n",
              "\n",
              "      buttonEl.onclick = () => {\n",
              "        google.colab.notebook.generateWithVariable('Maxwell');\n",
              "      }\n",
              "      })();\n",
              "    </script>\n",
              "  </div>\n",
              "\n",
              "    </div>\n",
              "  </div>\n"
            ],
            "application/vnd.google.colaboratory.intrinsic+json": {
              "type": "dataframe",
              "variable_name": "Maxwell",
              "summary": "{\n  \"name\": \"Maxwell\",\n  \"rows\": 3000,\n  \"fields\": [\n    {\n      \"column\": \"Velocidad\",\n      \"properties\": {\n        \"dtype\": \"number\",\n        \"std\": 205.65964986759843,\n        \"min\": 9.57362201409506,\n        \"max\": 1295.3920966708288,\n        \"num_unique_values\": 3000,\n        \"samples\": [\n          713.6990726044723,\n          461.2056405133269,\n          533.8229163280891\n        ],\n        \"semantic_type\": \"\",\n        \"description\": \"\"\n      }\n    }\n  ]\n}"
            }
          },
          "metadata": {},
          "execution_count": 25
        }
      ]
    },
    {
      "cell_type": "code",
      "source": [
        "#b)\n",
        "histograma = plt.hist(Maxwell, bins=60, density=True)"
      ],
      "metadata": {
        "colab": {
          "base_uri": "https://localhost:8080/",
          "height": 430
        },
        "id": "7Qd8Iw4ECK8Y",
        "outputId": "720189b6-7b9c-48af-9d00-fd8028b03cfd"
      },
      "execution_count": 26,
      "outputs": [
        {
          "output_type": "display_data",
          "data": {
            "text/plain": [
              "<Figure size 640x480 with 1 Axes>"
            ],
            "image/png": "[encoded data removed]"
          },
          "metadata": {}
        }
      ]
    },
    {
      "cell_type": "code",
      "source": [
        "# c)\n",
        "promedio = np.mean(histograma[0])\n",
        "promedio"
      ],
      "metadata": {
        "colab": {
          "base_uri": "https://localhost:8080/",
          "height": 0
        },
        "id": "qeDOMzXcEaxF",
        "outputId": "acebb28e-f655-4eb5-b792-77fa4bfcb8f9"
      },
      "execution_count": 27,
      "outputs": [
        {
          "output_type": "execute_result",
          "data": {
            "text/plain": [
              "0.0007777147550061165"
            ]
          },
          "metadata": {},
          "execution_count": 27
        }
      ]
    },
    {
      "cell_type": "code",
      "source": [
        "# d)\n",
        "V = Maxwell['Velocidad']\n",
        "\n",
        "def likelihood(T,v):\n",
        "  epsilon = 1e-10  # Un valor pequeño\n",
        "  result = ((0.028 / (2 * np.pi * 8.31 * T))**(3/2)) * (4 * np.pi * (v**2) * np.exp(-0.028 * v**2 / (2 * 8.31 * T)))\n",
        "  return result + epsilon  # Sumar epsilon\n",
        "\n",
        "plt.hist(V, bins=60, density=True, edgecolor='white')\n",
        "x=np.linspace(0,1500,1000)\n",
        "plt.plot(x,likelihood(1000,x), color='k')\n",
        "plt.show()"
      ],
      "metadata": {
        "colab": {
          "base_uri": "https://localhost:8080/",
          "height": 430
        },
        "id": "dhpXdSSBFmJJ",
        "outputId": "678d0f38-7511-4af0-aad4-8ddbd516784b"
      },
      "execution_count": 46,
      "outputs": [
        {
          "output_type": "display_data",
          "data": {
            "text/plain": [
              "<Figure size 640x480 with 1 Axes>"
            ],
            "image/png": "[encoded data removed]"
          },
          "metadata": {}
        }
      ]
    },
    {
      "cell_type": "code",
      "source": [
        "# e)\n",
        "def JointLikelihood(T,v):\n",
        "  try:\n",
        "    result = -np.sum(np.log(likelihood(T, v)))\n",
        "  except ZeroDivisionError:\n",
        "    result = float('inf')  # Asignar un valor grande en caso de error\n",
        "  return result\n",
        "\n",
        "p0 = 100\n",
        "import scipy.optimize as spo\n",
        "result = spo.minimize(JointLikelihood,p0,args=(V))\n",
        "result.x"
      ],
      "metadata": {
        "colab": {
          "base_uri": "https://localhost:8080/",
          "height": 0
        },
        "id": "p27OQ2OW0-j5",
        "outputId": "3cfa6f85-9690-4607-a22d-433b70888249"
      },
      "execution_count": 29,
      "outputs": [
        {
          "output_type": "execute_result",
          "data": {
            "text/plain": [
              "array([297.89452501])"
            ]
          },
          "metadata": {},
          "execution_count": 29
        }
      ]
    },
    {
      "cell_type": "code",
      "source": [
        "plt.hist(V, bins=60, density=True, color='teal', edgecolor='white')\n",
        "x=np.linspace(0,1500,1000)\n",
        "plt.plot(x,likelihood(result.x,x), color='k', label='T = ' + str(np.round(result.x[0],2)) +\" K\")\n",
        "plt.xlabel('V[m/s]')\n",
        "plt.ylabel('T(V)AV')\n",
        "plt.legend()\n",
        "plt.show()"
      ],
      "metadata": {
        "colab": {
          "base_uri": "https://localhost:8080/",
          "height": 449
        },
        "id": "cKBVbbjRZc67",
        "outputId": "547bddd9-2efb-4063-b31c-4bb05ec59bd1"
      },
      "execution_count": 30,
      "outputs": [
        {
          "output_type": "display_data",
          "data": {
            "text/plain": [
              "<Figure size 640x480 with 1 Axes>"
            ],
            "image/png": "[encoded data removed]"
          },
          "metadata": {}
        }
      ]
    },
    {
      "cell_type": "code",
      "source": [
        "# f)\n",
        "vp = np.sqrt(2 * 8.31 * result.x / 0.028)\n",
        "vp"
      ],
      "metadata": {
        "colab": {
          "base_uri": "https://localhost:8080/",
          "height": 0
        },
        "id": "RzXmBZ-DZr__",
        "outputId": "8f8f5b7f-6e7a-4f9f-e20d-f3202c953efb"
      },
      "execution_count": 31,
      "outputs": [
        {
          "output_type": "execute_result",
          "data": {
            "text/plain": [
              "array([420.5016989])"
            ]
          },
          "metadata": {},
          "execution_count": 31
        }
      ]
    },
    {
      "cell_type": "code",
      "source": [
        "# g)\n",
        "vm = (2/np.sqrt(np.pi)) * vp\n",
        "vm"
      ],
      "metadata": {
        "colab": {
          "base_uri": "https://localhost:8080/",
          "height": 0
        },
        "id": "-1vjN5ioWyke",
        "outputId": "e71cd8d1-73f4-44b2-b379-a4ba1eb1745c"
      },
      "execution_count": 32,
      "outputs": [
        {
          "output_type": "execute_result",
          "data": {
            "text/plain": [
              "array([474.48535676])"
            ]
          },
          "metadata": {},
          "execution_count": 32
        }
      ]
    },
    {
      "cell_type": "code",
      "source": [
        "# h)\n",
        "v2 = np.sqrt(3 * 8.31 * result.x / 0.028)\n",
        "v2"
      ],
      "metadata": {
        "colab": {
          "base_uri": "https://localhost:8080/",
          "height": 0
        },
        "id": "6pO7Qf040eA_",
        "outputId": "848166e4-0b22-4a23-d64d-cb0ac42acd2b"
      },
      "execution_count": 33,
      "outputs": [
        {
          "output_type": "execute_result",
          "data": {
            "text/plain": [
              "array([515.00729914])"
            ]
          },
          "metadata": {},
          "execution_count": 33
        }
      ]
    },
    {
      "cell_type": "code",
      "source": [
        "# i)\n",
        "import numpy as np\n",
        "import pandas as pd\n",
        "\n",
        "def metropolis_hastings(v_data, T_init=300, n_samples=10000, step_size=5):\n",
        "    T_chain = [T_init]\n",
        "    for _ in range(n_samples):\n",
        "        T_current = T_chain[-1]\n",
        "        T_proposed = np.abs(T_current + np.random.normal(0, step_size))  # Evitar T negativo\n",
        "\n",
        "        # Calculate likelihood ratio for all data points\n",
        "        r = likelihood(T_proposed, v_data) / likelihood(T_current, v_data)\n",
        "\n",
        "        # Convert r to numpy array if it's a pandas Series\n",
        "        if isinstance(r, pd.Series):\n",
        "            r = r.values\n",
        "\n",
        "        # Accept or reject the proposal for each data point individually\n",
        "        # and update the chain accordingly\n",
        "        for r_i in r:\n",
        "            if np.random.rand() < min(1, r_i):\n",
        "                T_chain.append(T_proposed)\n",
        "            else:\n",
        "                T_chain.append(T_current)\n",
        "\n",
        "    return np.array(T_chain)\n",
        "\n",
        "# Ejecutar el algoritmo\n",
        "T_samples = metropolis_hastings(V)\n",
        "T_mean = np.mean(T_samples)\n",
        "T_std = np.std(T_samples)"
      ],
      "metadata": {
        "collapsed": true,
        "id": "BE2QfMXJ04oy"
      },
      "execution_count": 60,
      "outputs": []
    },
    {
      "cell_type": "code",
      "source": [
        "T_std"
      ],
      "metadata": {
        "colab": {
          "base_uri": "https://localhost:8080/"
        },
        "id": "6HXTqP2_40_j",
        "outputId": "8818f843-98fd-4a33-850c-c423698c1374"
      },
      "execution_count": 62,
      "outputs": [
        {
          "output_type": "execute_result",
          "data": {
            "text/plain": [
              "122.96708899827718"
            ]
          },
          "metadata": {},
          "execution_count": 62
        }
      ]
    },
    {
      "cell_type": "code",
      "source": [
        "def metropolis_hastings(data, n_iter=20000, T_init=300, step_size=1):\n",
        "    T_values = [T_init]\n",
        "    current_T = T_init\n",
        "\n",
        "    for _ in range(n_iter):\n",
        "        proposed_T = current_T + np.random.uniform(-step_size, step_size)\n",
        "        if proposed_T <= 0:  # Rechazar temperaturas negativas o cero\n",
        "            continue\n",
        "\n",
        "        # Calcular likelihood\n",
        "        likelihood_current = np.prod(likelihood(data, current_T))\n",
        "        likelihood_proposed = np.prod(likelihood(data, proposed_T))\n",
        "\n",
        "        # Aceptar o rechazar\n",
        "        acceptance_ratio = likelihood_proposed / likelihood_current\n",
        "        if acceptance_ratio >= 1 or np.random.rand() < acceptance_ratio:\n",
        "            current_T = proposed_T\n",
        "\n",
        "        T_values.append(current_T)\n",
        "\n",
        "    return np.array(T_values)\n",
        "\n",
        "# Ejecutar Metropolis-Hastings\n",
        "T_samples = metropolis_hastings(V)\n",
        "\n",
        "# Estimar T y calcular intervalo de confianza\n",
        "T_estimada = np.mean(T_samples)\n",
        "percentil_95 = np.percentile(T_samples, 95)\n",
        "\n",
        "print(f\"Temperatura estimada (T): {T_estimada:.2f} K\")\n",
        "print(f\"Valor crítico superior (T_up): {percentil_95:.2f} K\")\n",
        "\n",
        "# Graficar distribución posterior de T\n",
        "plt.hist(T_samples, bins=50, density=True, alpha=0.7, color='blue')\n",
        "plt.axvline(T_estimada, color='red', linestyle='--', label=f'T estimada = {T_estimada:.2f} K')\n",
        "plt.axvline(percentil_95, color='green', linestyle='--', label=f'T_up = {percentil_95:.2f} K')\n",
        "plt.xlabel(\"Temperatura (K)\")\n",
        "plt.ylabel(\"Densidad de probabilidad\")\n",
        "plt.legend()\n",
        "plt.show()"
      ],
      "metadata": {
        "colab": {
          "base_uri": "https://localhost:8080/",
          "height": 538
        },
        "id": "pW3_aiDd_nD6",
        "outputId": "a5b18b1b-71f6-4043-d016-33064723859e"
      },
      "execution_count": 90,
      "outputs": [
        {
          "output_type": "stream",
          "name": "stderr",
          "text": [
            "<ipython-input-90-0c9e42b2d41c>:15: RuntimeWarning: invalid value encountered in scalar divide\n",
            "  acceptance_ratio = likelihood_proposed / likelihood_current\n"
          ]
        },
        {
          "output_type": "stream",
          "name": "stdout",
          "text": [
            "Temperatura estimada (T): 300.00 K\n",
            "Valor crítico superior (T_up): 300.00 K\n"
          ]
        },
        {
          "output_type": "display_data",
          "data": {
            "text/plain": [
              "<Figure size 640x480 with 1 Axes>"
            ],
            "image/png": "[encoded data removed]"
          },
          "metadata": {}
        }
      ]
    },
    {
      "cell_type": "code",
      "source": [
        "# Fotones\n",
        "\n",
        "# a)\n",
        "N = 1000\n",
        "Rs = 1.0\n",
        "l = 0.1\n",
        "\n",
        "pasos_totales = []\n",
        "\n",
        "for _ in range(N):\n",
        "    x, y, z = 0.0, 0.0, 0.0\n",
        "    pasos = 0\n",
        "\n",
        "    while np.sqrt(x**2 + y**2 + z**2) <= Rs:\n",
        "        theta = np.random.uniform(0, 2*np.pi)\n",
        "        phi = np.random.uniform(0, np.pi)\n",
        "\n",
        "        x += l * np.sin(phi) * np.cos(theta)\n",
        "        y += l * np.sin(phi) * np.sin(theta)\n",
        "        z += l * np.cos(phi)\n",
        "\n",
        "        pasos += 1\n",
        "\n",
        "    pasos_totales.append(pasos)\n",
        "\n",
        "pasos_totales = np.array(pasos_totales)\n",
        "\n",
        "pasos_totales\n",
        "\n",
        "plt.hist(pasos_totales, bins=20, density=True, edgecolor='white')\n",
        "plt.xlabel('Pasos')\n",
        "plt.ylabel('Frecuencia')\n",
        "plt.title('Distribución de Pasos')\n",
        "plt.show()"
      ],
      "metadata": {
        "colab": {
          "base_uri": "https://localhost:8080/",
          "height": 472
        },
        "id": "UNL6iYo8n2Wm",
        "outputId": "baf00f26-bee9-4d5e-c7c4-97169ebbf645"
      },
      "execution_count": 36,
      "outputs": [
        {
          "output_type": "display_data",
          "data": {
            "text/plain": [
              "<Figure size 640x480 with 1 Axes>"
            ],
            "image/png": "[encoded data removed]"
          },
          "metadata": {}
        }
      ]
    },
    {
      "cell_type": "code",
      "source": [
        "# b)\n",
        "n = 20\n",
        "min_pasos, max_pasos = pasos_totales.min(), pasos_totales.max()\n",
        "clases = np.linspace(min_pasos, max_pasos, n + 1)\n",
        "puntos_medios = (clases[:-1] + clases[1:]) / 2"
      ],
      "metadata": {
        "id": "zOMXb6ae1aBw"
      },
      "execution_count": 37,
      "outputs": []
    },
    {
      "cell_type": "code",
      "source": [
        "# c)\n",
        "frecuencias, _ = np.histogram(pasos_totales, bins=clases)\n",
        "frecuencias_normalizadas = frecuencias / N\n",
        "frecuencias_normalizadas"
      ],
      "metadata": {
        "colab": {
          "base_uri": "https://localhost:8080/",
          "height": 0
        },
        "id": "XmZ5K3ip1smL",
        "outputId": "27ad0f0b-8736-44ea-9ad6-808d0d60da34"
      },
      "execution_count": 38,
      "outputs": [
        {
          "output_type": "execute_result",
          "data": {
            "text/plain": [
              "array([0.148, 0.204, 0.195, 0.147, 0.088, 0.085, 0.042, 0.03 , 0.02 ,\n",
              "       0.008, 0.008, 0.007, 0.008, 0.003, 0.002, 0.003, 0.   , 0.   ,\n",
              "       0.   , 0.002])"
            ]
          },
          "metadata": {},
          "execution_count": 38
        }
      ]
    },
    {
      "cell_type": "code",
      "source": [
        "plt.bar(puntos_medios, frecuencias_normalizadas, width=np.diff(clases), edgecolor=\"white\", align=\"center\", color=\"teal\")\n",
        "plt.xlabel('Pasos')\n",
        "plt.ylabel('Frecuencia Normalizada')\n",
        "plt.title('Distribución Normalizada de Pasos')\n",
        "plt.show()"
      ],
      "metadata": {
        "colab": {
          "base_uri": "https://localhost:8080/",
          "height": 472
        },
        "id": "p_l_sC-V16xh",
        "outputId": "ce99be0c-f2db-4690-e94c-700cc5bcca0c"
      },
      "execution_count": 39,
      "outputs": [
        {
          "output_type": "display_data",
          "data": {
            "text/plain": [
              "<Figure size 640x480 with 1 Axes>"
            ],
            "image/png": "[encoded data removed]"
          },
          "metadata": {}
        }
      ]
    },
    {
      "cell_type": "code",
      "source": [
        "valor_esperado = np.sum(frecuencias_normalizadas * puntos_medios)\n",
        "valor_esperado"
      ],
      "metadata": {
        "colab": {
          "base_uri": "https://localhost:8080/",
          "height": 0
        },
        "id": "76NGR95P5Xzy",
        "outputId": "e57ccfbd-d213-4054-ebc4-ea3b5c40c0a9"
      },
      "execution_count": 40,
      "outputs": [
        {
          "output_type": "execute_result",
          "data": {
            "text/plain": [
              "104.56590000000001"
            ]
          },
          "metadata": {},
          "execution_count": 40
        }
      ]
    },
    {
      "cell_type": "code",
      "source": [
        "Ve = np.mean(pasos_totales)\n",
        "Ve"
      ],
      "metadata": {
        "colab": {
          "base_uri": "https://localhost:8080/",
          "height": 0
        },
        "id": "OfSUp8b06OdU",
        "outputId": "aa3d862f-d4a4-417e-9be0-08bc8dc45157"
      },
      "execution_count": 41,
      "outputs": [
        {
          "output_type": "execute_result",
          "data": {
            "text/plain": [
              "104.822"
            ]
          },
          "metadata": {},
          "execution_count": 41
        }
      ]
    },
    {
      "cell_type": "code",
      "source": [
        "# f)\n",
        "Valor_pasos = (Rs/l)**2\n",
        "Valor_pasos"
      ],
      "metadata": {
        "colab": {
          "base_uri": "https://localhost:8080/",
          "height": 0
        },
        "id": "N44yEBlU_5qE",
        "outputId": "8b101366-5455-4a24-9d2d-19e278c74322"
      },
      "execution_count": 42,
      "outputs": [
        {
          "output_type": "execute_result",
          "data": {
            "text/plain": [
              "100.0"
            ]
          },
          "metadata": {},
          "execution_count": 42
        }
      ]
    },
    {
      "cell_type": "code",
      "source": [
        "# g)\n",
        "Lr = 0.000006\n",
        "Rsr = 700000\n",
        "c = 300000\n",
        "T = (Rs**2)/Lr*c\n",
        "T"
      ],
      "metadata": {
        "colab": {
          "base_uri": "https://localhost:8080/",
          "height": 0
        },
        "id": "KhzBjN2MANH_",
        "outputId": "905a0714-a037-45b2-8cc4-fb261eb1bdd4"
      },
      "execution_count": 43,
      "outputs": [
        {
          "output_type": "execute_result",
          "data": {
            "text/plain": [
              "50000000000.0"
            ]
          },
          "metadata": {},
          "execution_count": 43
        }
      ]
    },
    {
      "cell_type": "code",
      "source": [
        "anios = T / (60*60*24*365)\n",
        "anios"
      ],
      "metadata": {
        "colab": {
          "base_uri": "https://localhost:8080/",
          "height": 0
        },
        "id": "nHMd4hyGBYf1",
        "outputId": "f876b73f-cd2b-434b-a490-c617a918bf6f"
      },
      "execution_count": 44,
      "outputs": [
        {
          "output_type": "execute_result",
          "data": {
            "text/plain": [
              "1585.4895991882292"
            ]
          },
          "metadata": {},
          "execution_count": 44
        }
      ]
    },
    {
      "cell_type": "code",
      "source": [
        "# h)\n",
        "from scipy.stats import exponweib\n",
        "a,c,d,e = exponweib.fit(frecuencias_normalizadas)\n",
        "a,c,d,e"
      ],
      "metadata": {
        "colab": {
          "base_uri": "https://localhost:8080/",
          "height": 0
        },
        "id": "aZ3NoLWSDfXh",
        "outputId": "de14fa36-f759-4dc3-f1db-b323e129bef9"
      },
      "execution_count": 45,
      "outputs": [
        {
          "output_type": "execute_result",
          "data": {
            "text/plain": [
              "(1.13476075855271,\n",
              " 0.4989056208835205,\n",
              " -3.228274034854127e-32,\n",
              " 0.026484670128764157)"
            ]
          },
          "metadata": {},
          "execution_count": 45
        }
      ]
    }
  ]
}