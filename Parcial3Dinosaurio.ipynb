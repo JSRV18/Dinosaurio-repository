{
  "nbformat": 4,
  "nbformat_minor": 0,
  "metadata": {
    "colab": {
      "provenance": [],
      "authorship_tag": "ABX9TyPsKEYIXEd9Nxzq2a0lAeGD",
      "include_colab_link": true
    },
    "kernelspec": {
      "name": "python3",
      "display_name": "Python 3"
    },
    "language_info": {
      "name": "python"
    }
  },
  "cells": [
    {
      "cell_type": "markdown",
      "metadata": {
        "id": "view-in-github",
        "colab_type": "text"
      },
      "source": [
        "<a href=\"https://colab.research.google.com/github/JSRV18/Dinosaurio-repository/blob/main/Parcial3Dinosaurio.ipynb\" target=\"_parent\"><img src=\"https://colab.research.google.com/assets/colab-badge.svg\" alt=\"Open In Colab\"/></a>"
      ]
    },
    {
      "cell_type": "code",
      "source": [
        "# Markov : Cadena de Producción\n",
        "import numpy as np\n",
        "import matplotlib.pyplot as plt"
      ],
      "metadata": {
        "id": "VhslUzQ3DY4F"
      },
      "execution_count": 23,
      "outputs": []
    },
    {
      "cell_type": "markdown",
      "source": [
        "(a)\n",
        "\n",
        "**Estado del producto en la estación de producción:**\n",
        "\n",
        "- Avanza a la estación de empaque: Probabilidad = 90%.\n",
        "- Tiene defecto y permanece en la producción: Probabilidad = 10%.\n",
        "\n",
        "\n",
        "**Estado del producto en la estación de empaque:**\n",
        "\n",
        "- Es enviado al mercado: Probabilidad = 95%.\n",
        "- Permanece en la estación de empaque: Probabilidad = 5%."
      ],
      "metadata": {
        "id": "_c6tHiuhuLr7"
      }
    },
    {
      "cell_type": "code",
      "source": [
        "# b)\n",
        "DictS={0:'Producción',1:'Empaquetado',2:'Mercado'}"
      ],
      "metadata": {
        "id": "h2MPdM6lKE-E"
      },
      "execution_count": 24,
      "outputs": []
    },
    {
      "cell_type": "code",
      "source": [
        "# c)\n",
        "TM = np.array([[0.10,0.90,0.00],\\\n",
        "              [0.00,0.05,0.95],\\\n",
        "              [0.00,0.00,1.00]])"
      ],
      "metadata": {
        "id": "XXrP1YZgKftG"
      },
      "execution_count": 25,
      "outputs": []
    },
    {
      "cell_type": "code",
      "source": [
        "# d)\n",
        "n = TM.shape[0]\n",
        "A = np.vstack((TM.T - np.eye(n), np.ones(n)))\n",
        "b = np.zeros(n + 1)\n",
        "b[-1] = 1\n",
        "\n",
        "pi = np.linalg.lstsq(A, b, rcond=None)[0]\n",
        "pi"
      ],
      "metadata": {
        "colab": {
          "base_uri": "https://localhost:8080/"
        },
        "id": "PuRPMOyKNeef",
        "outputId": "8f3b468f-e940-49df-ca04-8aa44a0050a2"
      },
      "execution_count": 26,
      "outputs": [
        {
          "output_type": "execute_result",
          "data": {
            "text/plain": [
              "array([ 1.59731365e-16, -1.11022302e-16,  1.00000000e+00])"
            ]
          },
          "metadata": {},
          "execution_count": 26
        }
      ]
    },
    {
      "cell_type": "code",
      "source": [
        "# Pi = [0, 0, 1].  La interpretación es que el producto tiende a estar en la manos del cliente el 100 % del tiempo"
      ],
      "metadata": {
        "id": "AvNGM35-MBtS"
      },
      "execution_count": 27,
      "outputs": []
    },
    {
      "cell_type": "code",
      "source": [
        "# e) P(S1 ∩ S2)\n",
        "Py = pi[0]*pi[1]\n",
        "Py"
      ],
      "metadata": {
        "colab": {
          "base_uri": "https://localhost:8080/"
        },
        "id": "ILH4X_WYNBDr",
        "outputId": "d200bd1e-c02e-46b3-f67d-b45ae1f628f0"
      },
      "execution_count": 28,
      "outputs": [
        {
          "output_type": "execute_result",
          "data": {
            "text/plain": [
              "-1.7733743924663986e-32"
            ]
          },
          "metadata": {},
          "execution_count": 28
        }
      ]
    },
    {
      "cell_type": "code",
      "source": [
        "# f) P(S1 U S2)\n",
        "Po = pi[0] + pi[1]\n",
        "Po"
      ],
      "metadata": {
        "colab": {
          "base_uri": "https://localhost:8080/"
        },
        "id": "LHBKyFKMR0nh",
        "outputId": "dde3b47b-8cec-442a-b488-d170e20835f8"
      },
      "execution_count": 29,
      "outputs": [
        {
          "output_type": "execute_result",
          "data": {
            "text/plain": [
              "4.8709062599485396e-17"
            ]
          },
          "metadata": {},
          "execution_count": 29
        }
      ]
    },
    {
      "cell_type": "code",
      "source": [
        "# g) P(S1^c)\n",
        "Pv = 1 - (pi[0] + pi[1])\n",
        "Pv"
      ],
      "metadata": {
        "colab": {
          "base_uri": "https://localhost:8080/"
        },
        "id": "M_hc53-YTIKX",
        "outputId": "68fd0e94-9e36-433e-bb9f-847f36c2465b"
      },
      "execution_count": 30,
      "outputs": [
        {
          "output_type": "execute_result",
          "data": {
            "text/plain": [
              "1.0"
            ]
          },
          "metadata": {},
          "execution_count": 30
        }
      ]
    },
    {
      "cell_type": "code",
      "source": [
        "# Markov: : Cadena de Producción con devolución de producto"
      ],
      "metadata": {
        "id": "LVfJLdzaTaKd"
      },
      "execution_count": 31,
      "outputs": []
    },
    {
      "cell_type": "markdown",
      "source": [
        "(a)\n",
        "\n",
        "**Estado del producto en la estación de producción:**\n",
        "\n",
        "- Avanza a la estación de empaque: Probabilidad = 90%\n",
        "- Tiene defecto y permanece en la producción: Probabilidad = 10%\n",
        "\n",
        "\n",
        "**Estado del producto en la estación de empaque:**\n",
        "\n",
        "- Es enviado al mercado: Probabilidad = 95%\n",
        "- Permanece en la estación de empaque: Probabilidad = 5%\n",
        "\n",
        "\n",
        "**Estado del producto en las manos del cliente:**\n",
        "\n",
        "- Permanece en las manos del cliente= 98%\n",
        "- El producto es devuelto y va directamente a producción: 2%\n"
      ],
      "metadata": {
        "id": "3KYTo5Bd0XwD"
      }
    },
    {
      "cell_type": "code",
      "source": [
        "# b)\n",
        "DictS={0:'Producción',1:'Empaquetado',2:'Mercado'}"
      ],
      "metadata": {
        "id": "G9Uou2oxTx-1"
      },
      "execution_count": 32,
      "outputs": []
    },
    {
      "cell_type": "code",
      "source": [
        "TMD = np.array([[0.10,0.90,0.00],\\\n",
        "              [0.00,0.05,0.95],\\\n",
        "              [0.02,0.00,0.98]])"
      ],
      "metadata": {
        "id": "t8hZJgxUT8-U"
      },
      "execution_count": 33,
      "outputs": []
    },
    {
      "cell_type": "code",
      "source": [
        "# d)\n",
        "n = TMD.shape[0]\n",
        "A = np.vstack((TMD.T - np.eye(n), np.ones(n)))\n",
        "b = np.zeros(n + 1)\n",
        "b[-1] = 1\n",
        "\n",
        "pid = np.linalg.lstsq(A, b, rcond=None)[0]\n",
        "pid"
      ],
      "metadata": {
        "colab": {
          "base_uri": "https://localhost:8080/"
        },
        "id": "LvtfhydJUI6H",
        "outputId": "be30a9c2-30c6-4606-b2c5-3d4c108bfcbc"
      },
      "execution_count": 34,
      "outputs": [
        {
          "output_type": "execute_result",
          "data": {
            "text/plain": [
              "array([0.02130045, 0.02017937, 0.95852018])"
            ]
          },
          "metadata": {},
          "execution_count": 34
        }
      ]
    },
    {
      "cell_type": "code",
      "source": [
        "#Pid. La interpretación es que el producto tiende a estar, aproximadamente, el 2,1 % del tiempo en producción, el 2 % en empaquetado y el 95,9 % en las manos del cliente"
      ],
      "metadata": {
        "id": "n823LN2iUXzS"
      },
      "execution_count": 35,
      "outputs": []
    },
    {
      "cell_type": "code",
      "source": [
        "# e) P(S1 ∩ S2)\n",
        "Pyd = pid[0]*pid[1]\n",
        "np.round(Pyd,5)"
      ],
      "metadata": {
        "colab": {
          "base_uri": "https://localhost:8080/"
        },
        "id": "pfKYjRbPWFK1",
        "outputId": "9495ac45-0f8c-4452-ccb6-dbc9bdf86e4f"
      },
      "execution_count": 36,
      "outputs": [
        {
          "output_type": "execute_result",
          "data": {
            "text/plain": [
              "0.00043"
            ]
          },
          "metadata": {},
          "execution_count": 36
        }
      ]
    },
    {
      "cell_type": "code",
      "source": [
        "# f) P(S1 U S2)\n",
        "Pod = pid[0] + pid[1]\n",
        "np.round(Pod,4)"
      ],
      "metadata": {
        "colab": {
          "base_uri": "https://localhost:8080/"
        },
        "id": "RS2Zn4rJWPGa",
        "outputId": "beb11684-f7ad-4634-bec3-f18b371b239a"
      },
      "execution_count": 37,
      "outputs": [
        {
          "output_type": "execute_result",
          "data": {
            "text/plain": [
              "0.0415"
            ]
          },
          "metadata": {},
          "execution_count": 37
        }
      ]
    },
    {
      "cell_type": "code",
      "source": [
        "# g) P(S1^c)\n",
        "Pvd = 1 - (pid[0] + pid[1])\n",
        "np.round(Pvd,4)"
      ],
      "metadata": {
        "colab": {
          "base_uri": "https://localhost:8080/"
        },
        "id": "gbBL5dclXI1m",
        "outputId": "e35d4f1c-8c18-48c1-edd8-6ae8318a0560"
      },
      "execution_count": 38,
      "outputs": [
        {
          "output_type": "execute_result",
          "data": {
            "text/plain": [
              "0.9585"
            ]
          },
          "metadata": {},
          "execution_count": 38
        }
      ]
    },
    {
      "cell_type": "code",
      "execution_count": 115,
      "metadata": {
        "colab": {
          "base_uri": "https://localhost:8080/"
        },
        "id": "EGlM2z60Ta_w",
        "outputId": "723d17ed-e70f-434c-c0ef-26c87ee8f17a"
      },
      "outputs": [
        {
          "output_type": "stream",
          "name": "stdout",
          "text": [
            "[[1 1 1 1 0 0 0 0]] [0.0001911]\n"
          ]
        }
      ],
      "source": [
        "# Hidden Markov: Casino tramposo\n",
        "\n",
        "# a)\n",
        "from itertools import permutations\n",
        "from itertools import combinations\n",
        "from itertools import combinations_with_replacement\n",
        "\n",
        "Moneda=np.array([0,1])\n",
        "Prior=np.array([0.2,0.8])\n",
        "Obs=np.array([1,0,0,0,1,0,1,0])\n",
        "\n",
        "T = np.array([[0.8,0.2],[0.2,0.8]])\n",
        "\n",
        "E = np.array([[0.5,0.9],[0.5,0.1]])\n",
        "\n",
        "DictHidden = {0:'Justa',1:'Sesgada'}\n",
        "\n",
        "DictObs = {0:'Cara',1:'Sello'}\n",
        "\n",
        "def GetStates(State,N):\n",
        "    CStates = list(combinations_with_replacement(State,N))\n",
        "\n",
        "    Permu = []\n",
        "\n",
        "    for it in CStates:\n",
        "      p = list(permutations(it,N))\n",
        "      for i in p:\n",
        "        if i not in Permu:\n",
        "          Permu.append(i)\n",
        "\n",
        "    CStates = np.array(Permu)\n",
        "\n",
        "    return CStates\n",
        "\n",
        "HiddenStates=GetStates(Moneda,8)\n",
        "\n",
        "# b)\n",
        "def GetProb(T,E,Obs,State,Prior):\n",
        "\n",
        "  n = len(Obs)\n",
        "  p = 1.\n",
        "\n",
        "  p *= Prior[ State[0] ]\n",
        "\n",
        "  for i in range(n-1):\n",
        "    p *= T[ State[i+1], State[i] ]\n",
        "\n",
        "  for i in range(n):\n",
        "    p *= E[ Obs[i], State[i] ]\n",
        "\n",
        "  return p\n",
        "\n",
        "P = np.zeros(HiddenStates.shape[0])\n",
        "\n",
        "for i in range(P.shape[0]):\n",
        "  P[i] = GetProb(T,E,Obs,HiddenStates[i],Prior)\n",
        "\n",
        "ii = np.where( P == np.max(P) )\n",
        "print(HiddenStates[ii],P[ii])"
      ]
    },
    {
      "cell_type": "code",
      "source": [
        "# c)\n",
        "import pandas as pd\n",
        "ObsStates = GetStates([0,1],8)\n",
        "ObsStates\n",
        "\n",
        "Nobs = ObsStates.shape[0]\n",
        "\n",
        "PObs = np.zeros(Nobs)\n",
        "\n",
        "for j in range(Nobs):\n",
        "\n",
        "  dim = HiddenStates.shape[0]\n",
        "  P = np.zeros(dim)\n",
        "\n",
        "  for i in range(dim):\n",
        "    P[i] = GetProb(T,E,ObsStates[j],HiddenStates[i],Prior)\n",
        "\n",
        "  PObs[j] = np.sum(P)\n",
        "\n",
        "PObs\n",
        "\n",
        "def data_20(ObsStates,PObs):\n",
        "  t=0\n",
        "  for i in range(len(PObs)):\n",
        "    t += PObs[i]\n",
        "    if t >= 0.2:\n",
        "      break\n",
        "  sequences = [''.join(map(str, Secuencia)) for Secuencia in ObsStates[:i+1]]\n",
        "\n",
        "  df = pd.DataFrame(ObsStates[:i+1])\n",
        "  df['Probabilidad'] = PObs[:i+1]\n",
        "  df = df.sort_values(by='Probabilidad',ascending=False)\n",
        "  df['suma'] = df['Probabilidad'].cumsum()\n",
        "  current_columns = df.columns.tolist()\n",
        "  num_existing_columns = len(current_columns)\n",
        "  new_columns = ['Secuencia','Probabilidad','Suma'] + current_columns[3:]\n",
        "  df.columns = new_columns\n",
        "  return df\n",
        "\n",
        "data_20(ObsStates,PObs)"
      ],
      "metadata": {
        "colab": {
          "base_uri": "https://localhost:8080/",
          "height": 143
        },
        "id": "oesUL-GT0_we",
        "outputId": "e7f603e3-5d9c-4c22-d7b2-f32c4d631e26"
      },
      "execution_count": 116,
      "outputs": [
        {
          "output_type": "execute_result",
          "data": {
            "text/plain": [
              "   Secuencia  Probabilidad  Suma  3  4  5  6  7  Probabilidad      suma\n",
              "0          0             0     0  0  0  0  0  0      0.136982  0.136982\n",
              "1          0             0     0  0  0  0  0  1      0.041149  0.178132\n",
              "2          0             0     0  0  0  0  1  0      0.034737  0.212869"
            ],
            "text/html": [
              "\n",
              "  <div id=\"df-a6ce2551-e0b6-420c-85d5-d45d7018034c\" class=\"colab-df-container\">\n",
              "    <div>\n",
              "<style scoped>\n",
              "    .dataframe tbody tr th:only-of-type {\n",
              "        vertical-align: middle;\n",
              "    }\n",
              "\n",
              "    .dataframe tbody tr th {\n",
              "        vertical-align: top;\n",
              "    }\n",
              "\n",
              "    .dataframe thead th {\n",
              "        text-align: right;\n",
              "    }\n",
              "</style>\n",
              "<table border=\"1\" class=\"dataframe\">\n",
              "  <thead>\n",
              "    <tr style=\"text-align: right;\">\n",
              "      <th></th>\n",
              "      <th>Secuencia</th>\n",
              "      <th>Probabilidad</th>\n",
              "      <th>Suma</th>\n",
              "      <th>3</th>\n",
              "      <th>4</th>\n",
              "      <th>5</th>\n",
              "      <th>6</th>\n",
              "      <th>7</th>\n",
              "      <th>Probabilidad</th>\n",
              "      <th>suma</th>\n",
              "    </tr>\n",
              "  </thead>\n",
              "  <tbody>\n",
              "    <tr>\n",
              "      <th>0</th>\n",
              "      <td>0</td>\n",
              "      <td>0</td>\n",
              "      <td>0</td>\n",
              "      <td>0</td>\n",
              "      <td>0</td>\n",
              "      <td>0</td>\n",
              "      <td>0</td>\n",
              "      <td>0</td>\n",
              "      <td>0.136982</td>\n",
              "      <td>0.136982</td>\n",
              "    </tr>\n",
              "    <tr>\n",
              "      <th>1</th>\n",
              "      <td>0</td>\n",
              "      <td>0</td>\n",
              "      <td>0</td>\n",
              "      <td>0</td>\n",
              "      <td>0</td>\n",
              "      <td>0</td>\n",
              "      <td>0</td>\n",
              "      <td>1</td>\n",
              "      <td>0.041149</td>\n",
              "      <td>0.178132</td>\n",
              "    </tr>\n",
              "    <tr>\n",
              "      <th>2</th>\n",
              "      <td>0</td>\n",
              "      <td>0</td>\n",
              "      <td>0</td>\n",
              "      <td>0</td>\n",
              "      <td>0</td>\n",
              "      <td>0</td>\n",
              "      <td>1</td>\n",
              "      <td>0</td>\n",
              "      <td>0.034737</td>\n",
              "      <td>0.212869</td>\n",
              "    </tr>\n",
              "  </tbody>\n",
              "</table>\n",
              "</div>\n",
              "    <div class=\"colab-df-buttons\">\n",
              "\n",
              "  <div class=\"colab-df-container\">\n",
              "    <button class=\"colab-df-convert\" onclick=\"convertToInteractive('df-a6ce2551-e0b6-420c-85d5-d45d7018034c')\"\n",
              "            title=\"Convert this dataframe to an interactive table.\"\n",
              "            style=\"display:none;\">\n",
              "\n",
              "  <svg xmlns=\"http://www.w3.org/2000/svg\" height=\"24px\" viewBox=\"0 -960 960 960\">\n",
              "    <path d=\"M120-120v-720h720v720H120Zm60-500h600v-160H180v160Zm220 220h160v-160H400v160Zm0 220h160v-160H400v160ZM180-400h160v-160H180v160Zm440 0h160v-160H620v160ZM180-180h160v-160H180v160Zm440 0h160v-160H620v160Z\"/>\n",
              "  </svg>\n",
              "    </button>\n",
              "\n",
              "  <style>\n",
              "    .colab-df-container {\n",
              "      display:flex;\n",
              "      gap: 12px;\n",
              "    }\n",
              "\n",
              "    .colab-df-convert {\n",
              "      background-color: #E8F0FE;\n",
              "      border: none;\n",
              "      border-radius: 50%;\n",
              "      cursor: pointer;\n",
              "      display: none;\n",
              "      fill: #1967D2;\n",
              "      height: 32px;\n",
              "      padding: 0 0 0 0;\n",
              "      width: 32px;\n",
              "    }\n",
              "\n",
              "    .colab-df-convert:hover {\n",
              "      background-color: #E2EBFA;\n",
              "      box-shadow: 0px 1px 2px rgba(60, 64, 67, 0.3), 0px 1px 3px 1px rgba(60, 64, 67, 0.15);\n",
              "      fill: #174EA6;\n",
              "    }\n",
              "\n",
              "    .colab-df-buttons div {\n",
              "      margin-bottom: 4px;\n",
              "    }\n",
              "\n",
              "    [theme=dark] .colab-df-convert {\n",
              "      background-color: #3B4455;\n",
              "      fill: #D2E3FC;\n",
              "    }\n",
              "\n",
              "    [theme=dark] .colab-df-convert:hover {\n",
              "      background-color: #434B5C;\n",
              "      box-shadow: 0px 1px 3px 1px rgba(0, 0, 0, 0.15);\n",
              "      filter: drop-shadow(0px 1px 2px rgba(0, 0, 0, 0.3));\n",
              "      fill: #FFFFFF;\n",
              "    }\n",
              "  </style>\n",
              "\n",
              "    <script>\n",
              "      const buttonEl =\n",
              "        document.querySelector('#df-a6ce2551-e0b6-420c-85d5-d45d7018034c button.colab-df-convert');\n",
              "      buttonEl.style.display =\n",
              "        google.colab.kernel.accessAllowed ? 'block' : 'none';\n",
              "\n",
              "      async function convertToInteractive(key) {\n",
              "        const element = document.querySelector('#df-a6ce2551-e0b6-420c-85d5-d45d7018034c');\n",
              "        const dataTable =\n",
              "          await google.colab.kernel.invokeFunction('convertToInteractive',\n",
              "                                                    [key], {});\n",
              "        if (!dataTable) return;\n",
              "\n",
              "        const docLinkHtml = 'Like what you see? Visit the ' +\n",
              "          '<a target=\"_blank\" href=https://colab.research.google.com/notebooks/data_table.ipynb>data table notebook</a>'\n",
              "          + ' to learn more about interactive tables.';\n",
              "        element.innerHTML = '';\n",
              "        dataTable['output_type'] = 'display_data';\n",
              "        await google.colab.output.renderOutput(dataTable, element);\n",
              "        const docLink = document.createElement('div');\n",
              "        docLink.innerHTML = docLinkHtml;\n",
              "        element.appendChild(docLink);\n",
              "      }\n",
              "    </script>\n",
              "  </div>\n",
              "\n",
              "\n",
              "<div id=\"df-68e2ca0c-dc10-448a-8be0-b0e0eac6bb43\">\n",
              "  <button class=\"colab-df-quickchart\" onclick=\"quickchart('df-68e2ca0c-dc10-448a-8be0-b0e0eac6bb43')\"\n",
              "            title=\"Suggest charts\"\n",
              "            style=\"display:none;\">\n",
              "\n",
              "<svg xmlns=\"http://www.w3.org/2000/svg\" height=\"24px\"viewBox=\"0 0 24 24\"\n",
              "     width=\"24px\">\n",
              "    <g>\n",
              "        <path d=\"M19 3H5c-1.1 0-2 .9-2 2v14c0 1.1.9 2 2 2h14c1.1 0 2-.9 2-2V5c0-1.1-.9-2-2-2zM9 17H7v-7h2v7zm4 0h-2V7h2v10zm4 0h-2v-4h2v4z\"/>\n",
              "    </g>\n",
              "</svg>\n",
              "  </button>\n",
              "\n",
              "<style>\n",
              "  .colab-df-quickchart {\n",
              "      --bg-color: #E8F0FE;\n",
              "      --fill-color: #1967D2;\n",
              "      --hover-bg-color: #E2EBFA;\n",
              "      --hover-fill-color: #174EA6;\n",
              "      --disabled-fill-color: #AAA;\n",
              "      --disabled-bg-color: #DDD;\n",
              "  }\n",
              "\n",
              "  [theme=dark] .colab-df-quickchart {\n",
              "      --bg-color: #3B4455;\n",
              "      --fill-color: #D2E3FC;\n",
              "      --hover-bg-color: #434B5C;\n",
              "      --hover-fill-color: #FFFFFF;\n",
              "      --disabled-bg-color: #3B4455;\n",
              "      --disabled-fill-color: #666;\n",
              "  }\n",
              "\n",
              "  .colab-df-quickchart {\n",
              "    background-color: var(--bg-color);\n",
              "    border: none;\n",
              "    border-radius: 50%;\n",
              "    cursor: pointer;\n",
              "    display: none;\n",
              "    fill: var(--fill-color);\n",
              "    height: 32px;\n",
              "    padding: 0;\n",
              "    width: 32px;\n",
              "  }\n",
              "\n",
              "  .colab-df-quickchart:hover {\n",
              "    background-color: var(--hover-bg-color);\n",
              "    box-shadow: 0 1px 2px rgba(60, 64, 67, 0.3), 0 1px 3px 1px rgba(60, 64, 67, 0.15);\n",
              "    fill: var(--button-hover-fill-color);\n",
              "  }\n",
              "\n",
              "  .colab-df-quickchart-complete:disabled,\n",
              "  .colab-df-quickchart-complete:disabled:hover {\n",
              "    background-color: var(--disabled-bg-color);\n",
              "    fill: var(--disabled-fill-color);\n",
              "    box-shadow: none;\n",
              "  }\n",
              "\n",
              "  .colab-df-spinner {\n",
              "    border: 2px solid var(--fill-color);\n",
              "    border-color: transparent;\n",
              "    border-bottom-color: var(--fill-color);\n",
              "    animation:\n",
              "      spin 1s steps(1) infinite;\n",
              "  }\n",
              "\n",
              "  @keyframes spin {\n",
              "    0% {\n",
              "      border-color: transparent;\n",
              "      border-bottom-color: var(--fill-color);\n",
              "      border-left-color: var(--fill-color);\n",
              "    }\n",
              "    20% {\n",
              "      border-color: transparent;\n",
              "      border-left-color: var(--fill-color);\n",
              "      border-top-color: var(--fill-color);\n",
              "    }\n",
              "    30% {\n",
              "      border-color: transparent;\n",
              "      border-left-color: var(--fill-color);\n",
              "      border-top-color: var(--fill-color);\n",
              "      border-right-color: var(--fill-color);\n",
              "    }\n",
              "    40% {\n",
              "      border-color: transparent;\n",
              "      border-right-color: var(--fill-color);\n",
              "      border-top-color: var(--fill-color);\n",
              "    }\n",
              "    60% {\n",
              "      border-color: transparent;\n",
              "      border-right-color: var(--fill-color);\n",
              "    }\n",
              "    80% {\n",
              "      border-color: transparent;\n",
              "      border-right-color: var(--fill-color);\n",
              "      border-bottom-color: var(--fill-color);\n",
              "    }\n",
              "    90% {\n",
              "      border-color: transparent;\n",
              "      border-bottom-color: var(--fill-color);\n",
              "    }\n",
              "  }\n",
              "</style>\n",
              "\n",
              "  <script>\n",
              "    async function quickchart(key) {\n",
              "      const quickchartButtonEl =\n",
              "        document.querySelector('#' + key + ' button');\n",
              "      quickchartButtonEl.disabled = true;  // To prevent multiple clicks.\n",
              "      quickchartButtonEl.classList.add('colab-df-spinner');\n",
              "      try {\n",
              "        const charts = await google.colab.kernel.invokeFunction(\n",
              "            'suggestCharts', [key], {});\n",
              "      } catch (error) {\n",
              "        console.error('Error during call to suggestCharts:', error);\n",
              "      }\n",
              "      quickchartButtonEl.classList.remove('colab-df-spinner');\n",
              "      quickchartButtonEl.classList.add('colab-df-quickchart-complete');\n",
              "    }\n",
              "    (() => {\n",
              "      let quickchartButtonEl =\n",
              "        document.querySelector('#df-68e2ca0c-dc10-448a-8be0-b0e0eac6bb43 button');\n",
              "      quickchartButtonEl.style.display =\n",
              "        google.colab.kernel.accessAllowed ? 'block' : 'none';\n",
              "    })();\n",
              "  </script>\n",
              "</div>\n",
              "\n",
              "    </div>\n",
              "  </div>\n"
            ],
            "application/vnd.google.colaboratory.intrinsic+json": {
              "type": "dataframe",
              "summary": "{\n  \"name\": \"data_20(ObsStates,PObs)\",\n  \"rows\": 3,\n  \"fields\": [\n    {\n      \"column\": \"Secuencia\",\n      \"properties\": {\n        \"dtype\": \"number\",\n        \"std\": 0,\n        \"min\": 0,\n        \"max\": 0,\n        \"num_unique_values\": 1,\n        \"samples\": [\n          0\n        ],\n        \"semantic_type\": \"\",\n        \"description\": \"\"\n      }\n    },\n    {\n      \"column\": \"Probabilidad\",\n      \"properties\": {\n        \"dtype\": \"number\",\n        \"std\": 0,\n        \"min\": 0,\n        \"max\": 0,\n        \"num_unique_values\": 1,\n        \"samples\": [\n          0\n        ],\n        \"semantic_type\": \"\",\n        \"description\": \"\"\n      }\n    },\n    {\n      \"column\": \"Suma\",\n      \"properties\": {\n        \"dtype\": \"number\",\n        \"std\": 0,\n        \"min\": 0,\n        \"max\": 0,\n        \"num_unique_values\": 1,\n        \"samples\": [\n          0\n        ],\n        \"semantic_type\": \"\",\n        \"description\": \"\"\n      }\n    },\n    {\n      \"column\": 3,\n      \"properties\": {\n        \"dtype\": \"number\",\n        \"std\": 0,\n        \"min\": 0,\n        \"max\": 0,\n        \"num_unique_values\": 1,\n        \"samples\": [\n          0\n        ],\n        \"semantic_type\": \"\",\n        \"description\": \"\"\n      }\n    },\n    {\n      \"column\": 4,\n      \"properties\": {\n        \"dtype\": \"number\",\n        \"std\": 0,\n        \"min\": 0,\n        \"max\": 0,\n        \"num_unique_values\": 1,\n        \"samples\": [\n          0\n        ],\n        \"semantic_type\": \"\",\n        \"description\": \"\"\n      }\n    },\n    {\n      \"column\": 5,\n      \"properties\": {\n        \"dtype\": \"number\",\n        \"std\": 0,\n        \"min\": 0,\n        \"max\": 0,\n        \"num_unique_values\": 1,\n        \"samples\": [\n          0\n        ],\n        \"semantic_type\": \"\",\n        \"description\": \"\"\n      }\n    },\n    {\n      \"column\": 6,\n      \"properties\": {\n        \"dtype\": \"number\",\n        \"std\": 0,\n        \"min\": 0,\n        \"max\": 1,\n        \"num_unique_values\": 2,\n        \"samples\": [\n          1\n        ],\n        \"semantic_type\": \"\",\n        \"description\": \"\"\n      }\n    },\n    {\n      \"column\": 7,\n      \"properties\": {\n        \"dtype\": \"number\",\n        \"std\": 0,\n        \"min\": 0,\n        \"max\": 1,\n        \"num_unique_values\": 2,\n        \"samples\": [\n          1\n        ],\n        \"semantic_type\": \"\",\n        \"description\": \"\"\n      }\n    },\n    {\n      \"column\": \"Probabilidad\",\n      \"properties\": {\n        \"dtype\": \"number\",\n        \"std\": 0.05727009043976322,\n        \"min\": 0.034737299592422416,\n        \"max\": 0.13698241367042568,\n        \"num_unique_values\": 3,\n        \"samples\": [\n          0.13698241367042568\n        ],\n        \"semantic_type\": \"\",\n        \"description\": \"\"\n      }\n    },\n    {\n      \"column\": \"suma\",\n      \"properties\": {\n        \"dtype\": \"number\",\n        \"std\": 0.03798837303355082,\n        \"min\": 0.13698241367042568,\n        \"max\": 0.2128689194593025,\n        \"num_unique_values\": 3,\n        \"samples\": [\n          0.13698241367042568\n        ],\n        \"semantic_type\": \"\",\n        \"description\": \"\"\n      }\n    }\n  ]\n}"
            }
          },
          "metadata": {},
          "execution_count": 116
        }
      ]
    },
    {
      "cell_type": "code",
      "source": [
        "# d)\n",
        "plt.plot(P, color='k', label= 'Probabilidad por secuencia')\n",
        "plt.axhline(np.max(P), color='r', label = 'MaxP = ' + str(np.round(np.max(P),4)))\n",
        "plt.legend()\n",
        "plt.show()"
      ],
      "metadata": {
        "colab": {
          "base_uri": "https://localhost:8080/",
          "height": 434
        },
        "id": "4cKzpF-Gf9sp",
        "outputId": "3259f3e9-a57b-4c0b-b9ac-0f31d592d085"
      },
      "execution_count": 46,
      "outputs": [
        {
          "output_type": "display_data",
          "data": {
            "text/plain": [
              "<Figure size 640x480 with 1 Axes>"
            ],
            "image/png": "[encoded data removed]"
          },
          "metadata": {}
        }
      ]
    },
    {
      "cell_type": "code",
      "source": [
        "# e)\n",
        "ObsStates = GetStates([0,1],8)\n",
        "ObsStates\n",
        "\n",
        "Nobs = ObsStates.shape[0]\n",
        "\n",
        "PObs = np.zeros(Nobs)\n",
        "\n",
        "for j in range(Nobs):\n",
        "\n",
        "  dim = HiddenStates.shape[0]\n",
        "  P = np.zeros(dim)\n",
        "\n",
        "  for i in range(dim):\n",
        "    P[i] = GetProb(T,E,ObsStates[j],HiddenStates[i],Prior)\n",
        "\n",
        "  PObs[j] = np.sum(P)\n",
        "\n",
        "PObs"
      ],
      "metadata": {
        "colab": {
          "base_uri": "https://localhost:8080/"
        },
        "collapsed": true,
        "id": "kkxRv0T6lhRU",
        "outputId": "3f28cee2-6e0b-4546-b23b-91dd1ae5154a"
      },
      "execution_count": 47,
      "outputs": [
        {
          "output_type": "execute_result",
          "data": {
            "text/plain": [
              "array([0.13698241, 0.04114921, 0.0347373 , 0.03175272, 0.03026766,\n",
              "       0.02932288, 0.02830811, 0.02656789, 0.02297818, 0.01870516,\n",
              "       0.01330002, 0.01467809, 0.01079433, 0.01067359, 0.01276253,\n",
              "       0.00956961, 0.00877661, 0.00936674, 0.01172117, 0.00883478,\n",
              "       0.00776184, 0.00767971, 0.00853533, 0.01088136, 0.00811519,\n",
              "       0.00697382, 0.00661175, 0.00679511, 0.00764233, 0.00970066,\n",
              "       0.00694603, 0.00590355, 0.00547305, 0.00537647, 0.00555143,\n",
              "       0.00611094, 0.0074164 , 0.00955193, 0.00649319, 0.00616157,\n",
              "       0.00733671, 0.00505945, 0.00428819, 0.00497251, 0.00456283,\n",
              "       0.0048075 , 0.00623446, 0.00432462, 0.00337544, 0.00382959,\n",
              "       0.00321043, 0.00330316, 0.00416108, 0.00372302, 0.00355961,\n",
              "       0.00405611, 0.00553322, 0.00381405, 0.00283376, 0.00316972,\n",
              "       0.00249084, 0.00251514, 0.00309313, 0.00256378, 0.00241017,\n",
              "       0.0026765 , 0.00353481, 0.00309969, 0.00278698, 0.0028754 ,\n",
              "       0.00342205, 0.00478004, 0.00319794, 0.00231328, 0.00256666,\n",
              "       0.00193925, 0.00193444, 0.00234078, 0.00183427, 0.00170131,\n",
              "       0.00184945, 0.00237437, 0.00193054, 0.00171671, 0.0017367 ,\n",
              "       0.00200341, 0.00268914, 0.00229023, 0.00199057, 0.00192969,\n",
              "       0.00206826, 0.00249578, 0.00348841, 0.00497054, 0.0033236 ,\n",
              "       0.00304519, 0.00311076, 0.00376161, 0.00253029, 0.00206191,\n",
              "       0.00205278, 0.00246933, 0.0021158 , 0.0019167 , 0.00225856,\n",
              "       0.00220175, 0.00235363, 0.00310439, 0.0020782 , 0.00155134,\n",
              "       0.00151111, 0.00180946, 0.00141526, 0.00124957, 0.00146357,\n",
              "       0.0013954 , 0.00148394, 0.00194555, 0.00158206, 0.00129338,\n",
              "       0.00148593, 0.00131375, 0.00137119, 0.00175811, 0.00165634,\n",
              "       0.00160044, 0.00185224, 0.00257438, 0.00167529, 0.00118368,\n",
              "       0.00113585, 0.00135576, 0.00098913, 0.00085454, 0.00099563,\n",
              "       0.00093056, 0.0009849 , 0.00128408, 0.00096595, 0.00077289,\n",
              "       0.00088288, 0.00076216, 0.00079048, 0.00100575, 0.00092683,\n",
              "       0.00089159, 0.00102519, 0.00141394, 0.0010992 , 0.00083817,\n",
              "       0.00094468, 0.00076896, 0.00078459, 0.00097797, 0.00084688,\n",
              "       0.00080403, 0.00090653, 0.00122058, 0.00112224, 0.00101556,\n",
              "       0.00105958, 0.00128275, 0.00182922, 0.00256794, 0.00168142,\n",
              "       0.00152212, 0.00150379, 0.00155895, 0.00189063, 0.00122933,\n",
              "       0.00098331, 0.00094521, 0.0009748 , 0.00118099, 0.00098838,\n",
              "       0.00086356, 0.00087339, 0.001054  , 0.00095838, 0.00088149,\n",
              "       0.00104234, 0.00102894, 0.00110308, 0.00145974, 0.00091963,\n",
              "       0.00066712, 0.00062556, 0.00064202, 0.00077707, 0.00058547,\n",
              "       0.00049591, 0.00049813, 0.0006003 , 0.00053225, 0.00048646,\n",
              "       0.0005744 , 0.0005641 , 0.00060404, 0.00079827, 0.00062195,\n",
              "       0.00048718, 0.00048042, 0.00057676, 0.00047552, 0.00042628,\n",
              "       0.00050108, 0.00048415, 0.00051648, 0.00067961, 0.00057942,\n",
              "       0.00047945, 0.00055256, 0.00049484, 0.00051819, 0.00066708,\n",
              "       0.00063555, 0.00061546, 0.00071458, 0.00099692, 0.00129252,\n",
              "       0.00080697, 0.00071883, 0.00070371, 0.00070597, 0.00073395,\n",
              "       0.0008906 , 0.00053072, 0.00040913, 0.00038751, 0.00038632,\n",
              "       0.00040116, 0.00048667, 0.00039234, 0.00033728, 0.00032959,\n",
              "       0.00034098, 0.00041336, 0.00036815, 0.00032701, 0.0003319 ,\n",
              "       0.00040083, 0.00036912, 0.00034056, 0.00040299, 0.00039881,\n",
              "       0.00042778, 0.00056647, 0.00060902, 0.00033276, 0.00028253,\n",
              "       0.00027346, 0.00027216, 0.00027387, 0.00028489, 0.00034573,\n",
              "       0.00023643])"
            ]
          },
          "metadata": {},
          "execution_count": 47
        }
      ]
    },
    {
      "cell_type": "code",
      "source": [
        "# f)\n",
        "np.sum(PObs)"
      ],
      "metadata": {
        "colab": {
          "base_uri": "https://localhost:8080/"
        },
        "id": "4AAMJkN7h_Xy",
        "outputId": "56d48f20-e147-496d-973f-9a58f227511a"
      },
      "execution_count": 48,
      "outputs": [
        {
          "output_type": "execute_result",
          "data": {
            "text/plain": [
              "1.0000000000000007"
            ]
          },
          "metadata": {},
          "execution_count": 48
        }
      ]
    },
    {
      "cell_type": "markdown",
      "source": [
        "(g)\n",
        "\n",
        "Sí, el resultado depende de la probabilidad a-priori porque esta representa la distribución inicial de los estados ocultos antes de observar los datos. Si se modifican las probabilidades a-priori, el cálculo de las probabilidades conjuntas y condicionales para las secuencias ocultas también cambiará, afectando las secuencias más probables. Sin embargo, su influencia disminuye a medida que se tienen más observaciones, ya que los datos observados ganan mayor peso en las estimaciones."
      ],
      "metadata": {
        "id": "gER4c_c2-RNf"
      }
    },
    {
      "cell_type": "markdown",
      "source": [
        "(h)\n",
        "\n",
        "Si quisiera estimar las matrices de transición y emisión, un enfoque metodológico sería emplear redes neuronales, las cuales son adecuadas para modelar secuencias temporales. En este enfoque, los robots podrían ser entrenados para predecir el siguiente estado observable dado el histórico de observaciones, mientras que las probabilidades de transición y emisión se aprenderían como pesos internos de la red.\n",
        "\n"
      ],
      "metadata": {
        "id": "1KSt9hvm-ava"
      }
    },
    {
      "cell_type": "code",
      "source": [
        "# Maxwell-Boltzmann distribution\n",
        "\n",
        "#a)\n",
        "url = \"https://raw.githubusercontent.com/asegura4488/Database/main/MetodosComputacionalesReforma/Maxwell.csv\"\n",
        "\n",
        "df = pd.read_csv(url)\n",
        "df.to_csv('Maxwell.csv', index=False)\n",
        "\n",
        "Maxwell = pd.read_csv('Maxwell.csv')\n",
        "Maxwell"
      ],
      "metadata": {
        "colab": {
          "base_uri": "https://localhost:8080/",
          "height": 424
        },
        "id": "FjQnXbn-Bgxh",
        "outputId": "6e72ffc8-94a7-4ddb-efda-5c04075eb65a"
      },
      "execution_count": 50,
      "outputs": [
        {
          "output_type": "execute_result",
          "data": {
            "text/plain": [
              "       Velocidad\n",
              "0     547.265773\n",
              "1     449.920418\n",
              "2     773.814382\n",
              "3     823.668389\n",
              "4     352.873887\n",
              "...          ...\n",
              "2995  601.470068\n",
              "2996  508.491149\n",
              "2997  594.981398\n",
              "2998  376.388615\n",
              "2999  539.813140\n",
              "\n",
              "[3000 rows x 1 columns]"
            ],
            "text/html": [
              "\n",
              "  <div id=\"df-94014c5b-147a-459c-80d2-b66f12d7b4fb\" class=\"colab-df-container\">\n",
              "    <div>\n",
              "<style scoped>\n",
              "    .dataframe tbody tr th:only-of-type {\n",
              "        vertical-align: middle;\n",
              "    }\n",
              "\n",
              "    .dataframe tbody tr th {\n",
              "        vertical-align: top;\n",
              "    }\n",
              "\n",
              "    .dataframe thead th {\n",
              "        text-align: right;\n",
              "    }\n",
              "</style>\n",
              "<table border=\"1\" class=\"dataframe\">\n",
              "  <thead>\n",
              "    <tr style=\"text-align: right;\">\n",
              "      <th></th>\n",
              "      <th>Velocidad</th>\n",
              "    </tr>\n",
              "  </thead>\n",
              "  <tbody>\n",
              "    <tr>\n",
              "      <th>0</th>\n",
              "      <td>547.265773</td>\n",
              "    </tr>\n",
              "    <tr>\n",
              "      <th>1</th>\n",
              "      <td>449.920418</td>\n",
              "    </tr>\n",
              "    <tr>\n",
              "      <th>2</th>\n",
              "      <td>773.814382</td>\n",
              "    </tr>\n",
              "    <tr>\n",
              "      <th>3</th>\n",
              "      <td>823.668389</td>\n",
              "    </tr>\n",
              "    <tr>\n",
              "      <th>4</th>\n",
              "      <td>352.873887</td>\n",
              "    </tr>\n",
              "    <tr>\n",
              "      <th>...</th>\n",
              "      <td>...</td>\n",
              "    </tr>\n",
              "    <tr>\n",
              "      <th>2995</th>\n",
              "      <td>601.470068</td>\n",
              "    </tr>\n",
              "    <tr>\n",
              "      <th>2996</th>\n",
              "      <td>508.491149</td>\n",
              "    </tr>\n",
              "    <tr>\n",
              "      <th>2997</th>\n",
              "      <td>594.981398</td>\n",
              "    </tr>\n",
              "    <tr>\n",
              "      <th>2998</th>\n",
              "      <td>376.388615</td>\n",
              "    </tr>\n",
              "    <tr>\n",
              "      <th>2999</th>\n",
              "      <td>539.813140</td>\n",
              "    </tr>\n",
              "  </tbody>\n",
              "</table>\n",
              "<p>3000 rows × 1 columns</p>\n",
              "</div>\n",
              "    <div class=\"colab-df-buttons\">\n",
              "\n",
              "  <div class=\"colab-df-container\">\n",
              "    <button class=\"colab-df-convert\" onclick=\"convertToInteractive('df-94014c5b-147a-459c-80d2-b66f12d7b4fb')\"\n",
              "            title=\"Convert this dataframe to an interactive table.\"\n",
              "            style=\"display:none;\">\n",
              "\n",
              "  <svg xmlns=\"http://www.w3.org/2000/svg\" height=\"24px\" viewBox=\"0 -960 960 960\">\n",
              "    <path d=\"M120-120v-720h720v720H120Zm60-500h600v-160H180v160Zm220 220h160v-160H400v160Zm0 220h160v-160H400v160ZM180-400h160v-160H180v160Zm440 0h160v-160H620v160ZM180-180h160v-160H180v160Zm440 0h160v-160H620v160Z\"/>\n",
              "  </svg>\n",
              "    </button>\n",
              "\n",
              "  <style>\n",
              "    .colab-df-container {\n",
              "      display:flex;\n",
              "      gap: 12px;\n",
              "    }\n",
              "\n",
              "    .colab-df-convert {\n",
              "      background-color: #E8F0FE;\n",
              "      border: none;\n",
              "      border-radius: 50%;\n",
              "      cursor: pointer;\n",
              "      display: none;\n",
              "      fill: #1967D2;\n",
              "      height: 32px;\n",
              "      padding: 0 0 0 0;\n",
              "      width: 32px;\n",
              "    }\n",
              "\n",
              "    .colab-df-convert:hover {\n",
              "      background-color: #E2EBFA;\n",
              "      box-shadow: 0px 1px 2px rgba(60, 64, 67, 0.3), 0px 1px 3px 1px rgba(60, 64, 67, 0.15);\n",
              "      fill: #174EA6;\n",
              "    }\n",
              "\n",
              "    .colab-df-buttons div {\n",
              "      margin-bottom: 4px;\n",
              "    }\n",
              "\n",
              "    [theme=dark] .colab-df-convert {\n",
              "      background-color: #3B4455;\n",
              "      fill: #D2E3FC;\n",
              "    }\n",
              "\n",
              "    [theme=dark] .colab-df-convert:hover {\n",
              "      background-color: #434B5C;\n",
              "      box-shadow: 0px 1px 3px 1px rgba(0, 0, 0, 0.15);\n",
              "      filter: drop-shadow(0px 1px 2px rgba(0, 0, 0, 0.3));\n",
              "      fill: #FFFFFF;\n",
              "    }\n",
              "  </style>\n",
              "\n",
              "    <script>\n",
              "      const buttonEl =\n",
              "        document.querySelector('#df-94014c5b-147a-459c-80d2-b66f12d7b4fb button.colab-df-convert');\n",
              "      buttonEl.style.display =\n",
              "        google.colab.kernel.accessAllowed ? 'block' : 'none';\n",
              "\n",
              "      async function convertToInteractive(key) {\n",
              "        const element = document.querySelector('#df-94014c5b-147a-459c-80d2-b66f12d7b4fb');\n",
              "        const dataTable =\n",
              "          await google.colab.kernel.invokeFunction('convertToInteractive',\n",
              "                                                    [key], {});\n",
              "        if (!dataTable) return;\n",
              "\n",
              "        const docLinkHtml = 'Like what you see? Visit the ' +\n",
              "          '<a target=\"_blank\" href=https://colab.research.google.com/notebooks/data_table.ipynb>data table notebook</a>'\n",
              "          + ' to learn more about interactive tables.';\n",
              "        element.innerHTML = '';\n",
              "        dataTable['output_type'] = 'display_data';\n",
              "        await google.colab.output.renderOutput(dataTable, element);\n",
              "        const docLink = document.createElement('div');\n",
              "        docLink.innerHTML = docLinkHtml;\n",
              "        element.appendChild(docLink);\n",
              "      }\n",
              "    </script>\n",
              "  </div>\n",
              "\n",
              "\n",
              "<div id=\"df-718145bb-cd13-4b54-80ca-8935e95a9b8f\">\n",
              "  <button class=\"colab-df-quickchart\" onclick=\"quickchart('df-718145bb-cd13-4b54-80ca-8935e95a9b8f')\"\n",
              "            title=\"Suggest charts\"\n",
              "            style=\"display:none;\">\n",
              "\n",
              "<svg xmlns=\"http://www.w3.org/2000/svg\" height=\"24px\"viewBox=\"0 0 24 24\"\n",
              "     width=\"24px\">\n",
              "    <g>\n",
              "        <path d=\"M19 3H5c-1.1 0-2 .9-2 2v14c0 1.1.9 2 2 2h14c1.1 0 2-.9 2-2V5c0-1.1-.9-2-2-2zM9 17H7v-7h2v7zm4 0h-2V7h2v10zm4 0h-2v-4h2v4z\"/>\n",
              "    </g>\n",
              "</svg>\n",
              "  </button>\n",
              "\n",
              "<style>\n",
              "  .colab-df-quickchart {\n",
              "      --bg-color: #E8F0FE;\n",
              "      --fill-color: #1967D2;\n",
              "      --hover-bg-color: #E2EBFA;\n",
              "      --hover-fill-color: #174EA6;\n",
              "      --disabled-fill-color: #AAA;\n",
              "      --disabled-bg-color: #DDD;\n",
              "  }\n",
              "\n",
              "  [theme=dark] .colab-df-quickchart {\n",
              "      --bg-color: #3B4455;\n",
              "      --fill-color: #D2E3FC;\n",
              "      --hover-bg-color: #434B5C;\n",
              "      --hover-fill-color: #FFFFFF;\n",
              "      --disabled-bg-color: #3B4455;\n",
              "      --disabled-fill-color: #666;\n",
              "  }\n",
              "\n",
              "  .colab-df-quickchart {\n",
              "    background-color: var(--bg-color);\n",
              "    border: none;\n",
              "    border-radius: 50%;\n",
              "    cursor: pointer;\n",
              "    display: none;\n",
              "    fill: var(--fill-color);\n",
              "    height: 32px;\n",
              "    padding: 0;\n",
              "    width: 32px;\n",
              "  }\n",
              "\n",
              "  .colab-df-quickchart:hover {\n",
              "    background-color: var(--hover-bg-color);\n",
              "    box-shadow: 0 1px 2px rgba(60, 64, 67, 0.3), 0 1px 3px 1px rgba(60, 64, 67, 0.15);\n",
              "    fill: var(--button-hover-fill-color);\n",
              "  }\n",
              "\n",
              "  .colab-df-quickchart-complete:disabled,\n",
              "  .colab-df-quickchart-complete:disabled:hover {\n",
              "    background-color: var(--disabled-bg-color);\n",
              "    fill: var(--disabled-fill-color);\n",
              "    box-shadow: none;\n",
              "  }\n",
              "\n",
              "  .colab-df-spinner {\n",
              "    border: 2px solid var(--fill-color);\n",
              "    border-color: transparent;\n",
              "    border-bottom-color: var(--fill-color);\n",
              "    animation:\n",
              "      spin 1s steps(1) infinite;\n",
              "  }\n",
              "\n",
              "  @keyframes spin {\n",
              "    0% {\n",
              "      border-color: transparent;\n",
              "      border-bottom-color: var(--fill-color);\n",
              "      border-left-color: var(--fill-color);\n",
              "    }\n",
              "    20% {\n",
              "      border-color: transparent;\n",
              "      border-left-color: var(--fill-color);\n",
              "      border-top-color: var(--fill-color);\n",
              "    }\n",
              "    30% {\n",
              "      border-color: transparent;\n",
              "      border-left-color: var(--fill-color);\n",
              "      border-top-color: var(--fill-color);\n",
              "      border-right-color: var(--fill-color);\n",
              "    }\n",
              "    40% {\n",
              "      border-color: transparent;\n",
              "      border-right-color: var(--fill-color);\n",
              "      border-top-color: var(--fill-color);\n",
              "    }\n",
              "    60% {\n",
              "      border-color: transparent;\n",
              "      border-right-color: var(--fill-color);\n",
              "    }\n",
              "    80% {\n",
              "      border-color: transparent;\n",
              "      border-right-color: var(--fill-color);\n",
              "      border-bottom-color: var(--fill-color);\n",
              "    }\n",
              "    90% {\n",
              "      border-color: transparent;\n",
              "      border-bottom-color: var(--fill-color);\n",
              "    }\n",
              "  }\n",
              "</style>\n",
              "\n",
              "  <script>\n",
              "    async function quickchart(key) {\n",
              "      const quickchartButtonEl =\n",
              "        document.querySelector('#' + key + ' button');\n",
              "      quickchartButtonEl.disabled = true;  // To prevent multiple clicks.\n",
              "      quickchartButtonEl.classList.add('colab-df-spinner');\n",
              "      try {\n",
              "        const charts = await google.colab.kernel.invokeFunction(\n",
              "            'suggestCharts', [key], {});\n",
              "      } catch (error) {\n",
              "        console.error('Error during call to suggestCharts:', error);\n",
              "      }\n",
              "      quickchartButtonEl.classList.remove('colab-df-spinner');\n",
              "      quickchartButtonEl.classList.add('colab-df-quickchart-complete');\n",
              "    }\n",
              "    (() => {\n",
              "      let quickchartButtonEl =\n",
              "        document.querySelector('#df-718145bb-cd13-4b54-80ca-8935e95a9b8f button');\n",
              "      quickchartButtonEl.style.display =\n",
              "        google.colab.kernel.accessAllowed ? 'block' : 'none';\n",
              "    })();\n",
              "  </script>\n",
              "</div>\n",
              "\n",
              "  <div id=\"id_470e65fb-bc7f-4b78-a5fe-979d1bdf522f\">\n",
              "    <style>\n",
              "      .colab-df-generate {\n",
              "        background-color: #E8F0FE;\n",
              "        border: none;\n",
              "        border-radius: 50%;\n",
              "        cursor: pointer;\n",
              "        display: none;\n",
              "        fill: #1967D2;\n",
              "        height: 32px;\n",
              "        padding: 0 0 0 0;\n",
              "        width: 32px;\n",
              "      }\n",
              "\n",
              "      .colab-df-generate:hover {\n",
              "        background-color: #E2EBFA;\n",
              "        box-shadow: 0px 1px 2px rgba(60, 64, 67, 0.3), 0px 1px 3px 1px rgba(60, 64, 67, 0.15);\n",
              "        fill: #174EA6;\n",
              "      }\n",
              "\n",
              "      [theme=dark] .colab-df-generate {\n",
              "        background-color: #3B4455;\n",
              "        fill: #D2E3FC;\n",
              "      }\n",
              "\n",
              "      [theme=dark] .colab-df-generate:hover {\n",
              "        background-color: #434B5C;\n",
              "        box-shadow: 0px 1px 3px 1px rgba(0, 0, 0, 0.15);\n",
              "        filter: drop-shadow(0px 1px 2px rgba(0, 0, 0, 0.3));\n",
              "        fill: #FFFFFF;\n",
              "      }\n",
              "    </style>\n",
              "    <button class=\"colab-df-generate\" onclick=\"generateWithVariable('Maxwell')\"\n",
              "            title=\"Generate code using this dataframe.\"\n",
              "            style=\"display:none;\">\n",
              "\n",
              "  <svg xmlns=\"http://www.w3.org/2000/svg\" height=\"24px\"viewBox=\"0 0 24 24\"\n",
              "       width=\"24px\">\n",
              "    <path d=\"M7,19H8.4L18.45,9,17,7.55,7,17.6ZM5,21V16.75L18.45,3.32a2,2,0,0,1,2.83,0l1.4,1.43a1.91,1.91,0,0,1,.58,1.4,1.91,1.91,0,0,1-.58,1.4L9.25,21ZM18.45,9,17,7.55Zm-12,3A5.31,5.31,0,0,0,4.9,8.1,5.31,5.31,0,0,0,1,6.5,5.31,5.31,0,0,0,4.9,4.9,5.31,5.31,0,0,0,6.5,1,5.31,5.31,0,0,0,8.1,4.9,5.31,5.31,0,0,0,12,6.5,5.46,5.46,0,0,0,6.5,12Z\"/>\n",
              "  </svg>\n",
              "    </button>\n",
              "    <script>\n",
              "      (() => {\n",
              "      const buttonEl =\n",
              "        document.querySelector('#id_470e65fb-bc7f-4b78-a5fe-979d1bdf522f button.colab-df-generate');\n",
              "      buttonEl.style.display =\n",
              "        google.colab.kernel.accessAllowed ? 'block' : 'none';\n",
              "\n",
              "      buttonEl.onclick = () => {\n",
              "        google.colab.notebook.generateWithVariable('Maxwell');\n",
              "      }\n",
              "      })();\n",
              "    </script>\n",
              "  </div>\n",
              "\n",
              "    </div>\n",
              "  </div>\n"
            ],
            "application/vnd.google.colaboratory.intrinsic+json": {
              "type": "dataframe",
              "variable_name": "Maxwell",
              "summary": "{\n  \"name\": \"Maxwell\",\n  \"rows\": 3000,\n  \"fields\": [\n    {\n      \"column\": \"Velocidad\",\n      \"properties\": {\n        \"dtype\": \"number\",\n        \"std\": 205.65964986759843,\n        \"min\": 9.57362201409506,\n        \"max\": 1295.3920966708288,\n        \"num_unique_values\": 3000,\n        \"samples\": [\n          713.6990726044723,\n          461.2056405133269,\n          533.8229163280891\n        ],\n        \"semantic_type\": \"\",\n        \"description\": \"\"\n      }\n    }\n  ]\n}"
            }
          },
          "metadata": {},
          "execution_count": 50
        }
      ]
    },
    {
      "cell_type": "code",
      "source": [
        "#b)\n",
        "histograma = plt.hist(Maxwell, bins=60, density=True)"
      ],
      "metadata": {
        "colab": {
          "base_uri": "https://localhost:8080/",
          "height": 430
        },
        "id": "7Qd8Iw4ECK8Y",
        "outputId": "9d59d725-1334-496b-c4fc-effa02dad307"
      },
      "execution_count": 51,
      "outputs": [
        {
          "output_type": "display_data",
          "data": {
            "text/plain": [
              "<Figure size 640x480 with 1 Axes>"
            ],
            "image/png": "[encoded data removed]"
          },
          "metadata": {}
        }
      ]
    },
    {
      "cell_type": "code",
      "source": [
        "# c)\n",
        "promedio = np.mean(histograma[0])\n",
        "promedio"
      ],
      "metadata": {
        "colab": {
          "base_uri": "https://localhost:8080/"
        },
        "id": "qeDOMzXcEaxF",
        "outputId": "6c9a56bf-13cf-4181-ebb0-268e3c8c7a79"
      },
      "execution_count": 52,
      "outputs": [
        {
          "output_type": "execute_result",
          "data": {
            "text/plain": [
              "0.0007777147550061165"
            ]
          },
          "metadata": {},
          "execution_count": 52
        }
      ]
    },
    {
      "cell_type": "code",
      "source": [
        "# d)\n",
        "V = Maxwell['Velocidad']\n",
        "\n",
        "def likelihood(T,v):\n",
        "  epsilon = 1e-10  # Un valor pequeño\n",
        "  result = ((0.028 / (2 * np.pi * 8.31 * T))**(3/2)) * (4 * np.pi * (v**2) * np.exp(-0.028 * v**2 / (2 * 8.31 * T)))\n",
        "  return result + epsilon  # Sumar epsilon\n",
        "\n",
        "plt.hist(V, bins=60, density=True, edgecolor='white')\n",
        "x=np.linspace(0,1500,1000)\n",
        "plt.plot(x,likelihood(1000,x), color='k')\n",
        "plt.show()"
      ],
      "metadata": {
        "colab": {
          "base_uri": "https://localhost:8080/",
          "height": 430
        },
        "id": "dhpXdSSBFmJJ",
        "outputId": "0522db40-c58b-4c62-e80c-7b32c673a168"
      },
      "execution_count": 53,
      "outputs": [
        {
          "output_type": "display_data",
          "data": {
            "text/plain": [
              "<Figure size 640x480 with 1 Axes>"
            ],
            "image/png": "[encoded data removed]"
          },
          "metadata": {}
        }
      ]
    },
    {
      "cell_type": "code",
      "source": [
        "# e)\n",
        "def JointLikelihood(T,v):\n",
        "  try:\n",
        "    result = -np.sum(np.log(likelihood(T, v)))\n",
        "  except ZeroDivisionError:\n",
        "    result = float('inf')  # Asignar un valor grande en caso de error\n",
        "  return result\n",
        "\n",
        "p0 = 100\n",
        "import scipy.optimize as spo\n",
        "result = spo.minimize(JointLikelihood,p0,args=(V))\n",
        "result.x"
      ],
      "metadata": {
        "colab": {
          "base_uri": "https://localhost:8080/"
        },
        "id": "p27OQ2OW0-j5",
        "outputId": "535561ff-e569-4600-c028-bc9a8ba3dbb2"
      },
      "execution_count": 54,
      "outputs": [
        {
          "output_type": "execute_result",
          "data": {
            "text/plain": [
              "array([297.89452501])"
            ]
          },
          "metadata": {},
          "execution_count": 54
        }
      ]
    },
    {
      "cell_type": "code",
      "source": [
        "plt.hist(V, bins=60, density=True, color='teal', edgecolor='white')\n",
        "x=np.linspace(0,1500,1000)\n",
        "plt.plot(x,likelihood(result.x,x), color='k', label='T = ' + str(np.round(result.x[0],2)) +\" K\")\n",
        "plt.xlabel('V[m/s]')\n",
        "plt.ylabel('T(V)AV')\n",
        "plt.legend()\n",
        "plt.show()"
      ],
      "metadata": {
        "colab": {
          "base_uri": "https://localhost:8080/",
          "height": 449
        },
        "id": "cKBVbbjRZc67",
        "outputId": "f2a20764-b9af-40ed-8cb3-c5c8be6a9408"
      },
      "execution_count": 55,
      "outputs": [
        {
          "output_type": "display_data",
          "data": {
            "text/plain": [
              "<Figure size 640x480 with 1 Axes>"
            ],
            "image/png": "[encoded data removed]"
          },
          "metadata": {}
        }
      ]
    },
    {
      "cell_type": "code",
      "source": [
        "# f)\n",
        "vp = np.sqrt(2 * 8.31 * result.x / 0.028)\n",
        "vp"
      ],
      "metadata": {
        "colab": {
          "base_uri": "https://localhost:8080/"
        },
        "id": "RzXmBZ-DZr__",
        "outputId": "b3100fa8-da7d-4c2e-d83b-603eedcf3f0e"
      },
      "execution_count": 56,
      "outputs": [
        {
          "output_type": "execute_result",
          "data": {
            "text/plain": [
              "array([420.5016989])"
            ]
          },
          "metadata": {},
          "execution_count": 56
        }
      ]
    },
    {
      "cell_type": "code",
      "source": [
        "# g)\n",
        "vm = (2/np.sqrt(np.pi)) * vp\n",
        "vm\n"
      ],
      "metadata": {
        "colab": {
          "base_uri": "https://localhost:8080/"
        },
        "id": "-1vjN5ioWyke",
        "outputId": "974475cf-43e8-4cae-ca04-0bed1f34d277"
      },
      "execution_count": 62,
      "outputs": [
        {
          "output_type": "execute_result",
          "data": {
            "text/plain": [
              "array([474.48535676])"
            ]
          },
          "metadata": {},
          "execution_count": 62
        }
      ]
    },
    {
      "cell_type": "markdown",
      "source": [
        "g) La velocidad promedio difiere del promedio empírico obtenido\n",
        "directamente del histograma de datos. Esta discrepancia surge porque Vm se basa\n",
        "en una aproximación teórica derivada de la distribución de Maxwell-Boltzmann, la\n",
        "cual considera la forma matemática exacta de cómo las velocidades se distribuyen\n",
        "en un sistema en equilibrio térmico. Por otro lado, el promedio empírico refleja\n",
        "directamente los valores medidos en los datos experimentales, que pueden incluir\n",
        "efectos de ruido o sesgos en la muestra."
      ],
      "metadata": {
        "id": "Vc7-R49oldED"
      }
    },
    {
      "cell_type": "code",
      "source": [
        "# h)\n",
        "v2 = np.sqrt(3 * 8.31 * result.x / 0.028)\n",
        "v2"
      ],
      "metadata": {
        "colab": {
          "base_uri": "https://localhost:8080/"
        },
        "id": "6pO7Qf040eA_",
        "outputId": "ee78cc96-c457-4656-8762-59a4cee866b9"
      },
      "execution_count": 58,
      "outputs": [
        {
          "output_type": "execute_result",
          "data": {
            "text/plain": [
              "array([515.00729914])"
            ]
          },
          "metadata": {},
          "execution_count": 58
        }
      ]
    },
    {
      "cell_type": "code",
      "source": [
        "# i)\n",
        "import numpy as np\n",
        "import pandas as pd\n",
        "\n",
        "def metropolis_hastings(v_data, T_init=300, n_samples=10000, step_size=5):\n",
        "    T_chain = [T_init]\n",
        "    for _ in range(n_samples):\n",
        "        T_current = T_chain[-1]\n",
        "        T_proposed = np.abs(T_current + np.random.normal(0, step_size))\n",
        "\n",
        "\n",
        "        r = likelihood(T_proposed, v_data) / likelihood(T_current, v_data)\n",
        "\n",
        "        if isinstance(r, pd.Series):\n",
        "            r = r.values\n",
        "\n",
        "        for r_i in r:\n",
        "            if np.random.rand() < min(1, r_i):\n",
        "                T_chain.append(T_proposed)\n",
        "            else:\n",
        "                T_chain.append(T_current)\n",
        "\n",
        "    return np.array(T_chain)\n",
        "\n",
        "T_samples = metropolis_hastings(V)\n",
        "T_mean = np.mean(T_samples)\n",
        "T_std = np.std(T_samples)"
      ],
      "metadata": {
        "collapsed": true,
        "id": "BE2QfMXJ04oy"
      },
      "execution_count": 64,
      "outputs": []
    },
    {
      "cell_type": "code",
      "source": [
        "T_std"
      ],
      "metadata": {
        "colab": {
          "base_uri": "https://localhost:8080/"
        },
        "id": "6HXTqP2_40_j",
        "outputId": "af08dd78-ff6e-4cf1-f6e5-391fa91b17fe"
      },
      "execution_count": 65,
      "outputs": [
        {
          "output_type": "execute_result",
          "data": {
            "text/plain": [
              "92.70946433429657"
            ]
          },
          "metadata": {},
          "execution_count": 65
        }
      ]
    },
    {
      "cell_type": "code",
      "source": [
        "def metropolis_hastings(data, n_iter=20000, T_init=300, step_size=1):\n",
        "    T_values = [T_init]\n",
        "    current_T = T_init\n",
        "\n",
        "    for _ in range(n_iter):\n",
        "        proposed_T = current_T + np.random.uniform(-step_size, step_size)\n",
        "        if proposed_T <= 0:  # Rechazar temperaturas negativas o cero\n",
        "            continue\n",
        "\n",
        "        # Calcular likelihood\n",
        "        likelihood_current = np.prod(likelihood(data, current_T))\n",
        "        likelihood_proposed = np.prod(likelihood(data, proposed_T))\n",
        "\n",
        "        # Aceptar o rechazar\n",
        "        acceptance_ratio = likelihood_proposed / likelihood_current\n",
        "        if acceptance_ratio >= 1 or np.random.rand() < acceptance_ratio:\n",
        "            current_T = proposed_T\n",
        "\n",
        "        T_values.append(current_T)\n",
        "\n",
        "    return np.array(T_values)\n",
        "\n",
        "# Ejecutar Metropolis-Hastings\n",
        "T_samples = metropolis_hastings(V)\n",
        "\n",
        "# Estimar T y calcular intervalo de confianza\n",
        "T_estimada = np.mean(T_samples)\n",
        "percentil_95 = np.percentile(T_samples, 95)\n",
        "\n",
        "print(f\"Temperatura estimada (T): {T_estimada:.2f} K\")\n",
        "print(f\"Valor crítico superior (T_up): {percentil_95:.2f} K\")\n",
        "\n",
        "# Graficar distribución posterior de T\n",
        "plt.hist(T_samples, bins=50, density=True, alpha=0.7, color='blue')\n",
        "plt.axvline(T_estimada, color='red', linestyle='--', label=f'T estimada = {T_estimada:.2f} K')\n",
        "plt.axvline(percentil_95, color='green', linestyle='--', label=f'T_up = {percentil_95:.2f} K')\n",
        "plt.xlabel(\"Temperatura (K)\")\n",
        "plt.ylabel(\"Densidad de probabilidad\")\n",
        "plt.legend()\n",
        "plt.show()"
      ],
      "metadata": {
        "colab": {
          "base_uri": "https://localhost:8080/",
          "height": 518
        },
        "id": "pW3_aiDd_nD6",
        "outputId": "d45b2900-f90c-4866-c932-8c1b92d71197"
      },
      "execution_count": 66,
      "outputs": [
        {
          "output_type": "stream",
          "name": "stderr",
          "text": [
            "<ipython-input-66-0c9e42b2d41c>:15: RuntimeWarning: invalid value encountered in scalar divide\n",
            "  acceptance_ratio = likelihood_proposed / likelihood_current\n"
          ]
        },
        {
          "output_type": "stream",
          "name": "stdout",
          "text": [
            "Temperatura estimada (T): 300.00 K\n",
            "Valor crítico superior (T_up): 300.00 K\n"
          ]
        },
        {
          "output_type": "display_data",
          "data": {
            "text/plain": [
              "<Figure size 640x480 with 1 Axes>"
            ],
            "image/png": "[encoded data removed]"
          },
          "metadata": {}
        }
      ]
    },
    {
      "cell_type": "code",
      "source": [
        "#(i)\n",
        "\n",
        "# i) Algoritmo de Metropolis-Hastings con emcee para estimar la distribución posterior\n",
        "!pip install emcee\n",
        "!pip install corner\n",
        "\n",
        "import numpy as np\n",
        "import matplotlib.pyplot as plt\n",
        "import pandas as pd\n",
        "import emcee\n",
        "import corner\n",
        "\n",
        "# Cargar los datos de velocidad\n",
        "V = Maxwell['Velocidad']\n",
        "\n",
        "# Función de Prior\n",
        "def LogPrior(p):\n",
        "    T = p[0]\n",
        "    if 0 < T < 5000:  # Rango de temperaturas plausible\n",
        "        return 0.0\n",
        "    return -np.inf\n",
        "\n",
        "# Función de likelihood (ya definida en pasos anteriores)\n",
        "def LogLikelihood(p, v):\n",
        "    T = p[0]\n",
        "    return -np.sum(np.log(likelihood(T, v)))\n",
        "\n",
        "# Función de Posterior\n",
        "def LogPosterior(p, v):\n",
        "    LogP = LogPrior(p)\n",
        "    if not np.isfinite(LogP):\n",
        "        return -np.inf\n",
        "    return LogP - LogLikelihood(p, v)  # Nota: Maximizar la posterior es minimizar la likelihood negativa\n",
        "\n",
        "# Configurar MCMC con emcee\n",
        "n_walkers = 20  # Número de walkers\n",
        "n_params = 1  # Solo T como parámetro\n",
        "p0 = np.random.uniform(200, 500, size=(n_walkers, n_params))  # Inicialización aleatoria de T en un rango plausible\n",
        "\n",
        "# Inicializar el sampler\n",
        "sampler = emcee.EnsembleSampler(n_walkers, n_params, LogPosterior, args=(V,))\n",
        "sampler.run_mcmc(p0, 10000, progress=True)\n",
        "\n",
        "# Analizar los resultados\n",
        "flat_samples = sampler.get_chain(discard=100, thin=15, flat=True)\n",
        "truths = np.percentile(flat_samples, [16, 50, 84], axis=0)\n",
        "\n",
        "# Access the scalar values within the 'truths' array\n",
        "T_est = truths[1][0]  # Median (50th percentile)\n",
        "T_lower = truths[0][0]  # 16th percentile\n",
        "T_upper = truths[2][0]  # 84th percentile\n",
        "\n",
        "print(f\"T estimada: {T_est:.2f} K (IC 68%: [{T_lower:.2f}, {T_upper:.2f}])\")\n",
        "\n",
        "# Visualizar las cadenas\n",
        "fig, axes = plt.subplots(1, figsize=(10, 5))\n",
        "for i in range(n_params):\n",
        "    axes.plot(flat_samples[:, i], \"k\", alpha=0.3)\n",
        "axes.set_xlabel(\"Iteraciones\")\n",
        "axes.set_ylabel(\"Temperatura (T)\")\n",
        "plt.show()\n",
        "\n",
        "# Visualizar la distribución posterior\n",
        "labels = [\"T (K)\"]\n",
        "corner.corner(flat_samples, labels=labels, truths=[truths[1]], quantiles=[0.16, 0.5, 0.84], show_titles=True)\n"
      ],
      "metadata": {
        "colab": {
          "base_uri": "https://localhost:8080/",
          "height": 1000
        },
        "id": "IMIdUizbiIHF",
        "outputId": "6c62b7a0-7288-4a7b-e977-d5ca4ac51c0c"
      },
      "execution_count": 109,
      "outputs": [
        {
          "output_type": "stream",
          "name": "stdout",
          "text": [
            "Requirement already satisfied: emcee in /usr/local/lib/python3.10/dist-packages (3.1.6)\n",
            "Requirement already satisfied: numpy in /usr/local/lib/python3.10/dist-packages (from emcee) (1.26.4)\n",
            "Requirement already satisfied: corner in /usr/local/lib/python3.10/dist-packages (2.2.3)\n",
            "Requirement already satisfied: matplotlib>=2.1 in /usr/local/lib/python3.10/dist-packages (from corner) (3.8.0)\n",
            "Requirement already satisfied: contourpy>=1.0.1 in /usr/local/lib/python3.10/dist-packages (from matplotlib>=2.1->corner) (1.3.1)\n",
            "Requirement already satisfied: cycler>=0.10 in /usr/local/lib/python3.10/dist-packages (from matplotlib>=2.1->corner) (0.12.1)\n",
            "Requirement already satisfied: fonttools>=4.22.0 in /usr/local/lib/python3.10/dist-packages (from matplotlib>=2.1->corner) (4.55.0)\n",
            "Requirement already satisfied: kiwisolver>=1.0.1 in /usr/local/lib/python3.10/dist-packages (from matplotlib>=2.1->corner) (1.4.7)\n",
            "Requirement already satisfied: numpy<2,>=1.21 in /usr/local/lib/python3.10/dist-packages (from matplotlib>=2.1->corner) (1.26.4)\n",
            "Requirement already satisfied: packaging>=20.0 in /usr/local/lib/python3.10/dist-packages (from matplotlib>=2.1->corner) (24.2)\n",
            "Requirement already satisfied: pillow>=6.2.0 in /usr/local/lib/python3.10/dist-packages (from matplotlib>=2.1->corner) (11.0.0)\n",
            "Requirement already satisfied: pyparsing>=2.3.1 in /usr/local/lib/python3.10/dist-packages (from matplotlib>=2.1->corner) (3.2.0)\n",
            "Requirement already satisfied: python-dateutil>=2.7 in /usr/local/lib/python3.10/dist-packages (from matplotlib>=2.1->corner) (2.8.2)\n",
            "Requirement already satisfied: six>=1.5 in /usr/local/lib/python3.10/dist-packages (from python-dateutil>=2.7->matplotlib>=2.1->corner) (1.16.0)\n"
          ]
        },
        {
          "output_type": "stream",
          "name": "stderr",
          "text": [
            "100%|██████████| 10000/10000 [04:18<00:00, 38.74it/s]\n"
          ]
        },
        {
          "output_type": "stream",
          "name": "stdout",
          "text": [
            "T estimada: 297.84 K (IC 68%: [293.47, 302.37])\n"
          ]
        },
        {
          "output_type": "display_data",
          "data": {
            "text/plain": [
              "<Figure size 1000x500 with 1 Axes>"
            ],
            "image/png": "[encoded data removed]"
          },
          "metadata": {}
        },
        {
          "output_type": "error",
          "ename": "TypeError",
          "evalue": "'Axes' object is not subscriptable",
          "traceback": [
            "\u001b[0;31m---------------------------------------------------------------------------\u001b[0m",
            "\u001b[0;31mTypeError\u001b[0m                                 Traceback (most recent call last)",
            "\u001b[0;32m<ipython-input-109-d464bcd1313a>\u001b[0m in \u001b[0;36m<cell line: 65>\u001b[0;34m()\u001b[0m\n\u001b[1;32m     63\u001b[0m \u001b[0;31m# Visualizar la distribución posterior\u001b[0m\u001b[0;34m\u001b[0m\u001b[0;34m\u001b[0m\u001b[0m\n\u001b[1;32m     64\u001b[0m \u001b[0mlabels\u001b[0m \u001b[0;34m=\u001b[0m \u001b[0;34m[\u001b[0m\u001b[0;34m\"T (K)\"\u001b[0m\u001b[0;34m]\u001b[0m\u001b[0;34m\u001b[0m\u001b[0;34m\u001b[0m\u001b[0m\n\u001b[0;32m---> 65\u001b[0;31m \u001b[0mcorner\u001b[0m\u001b[0;34m.\u001b[0m\u001b[0mcorner\u001b[0m\u001b[0;34m(\u001b[0m\u001b[0mflat_samples\u001b[0m\u001b[0;34m,\u001b[0m \u001b[0mlabels\u001b[0m\u001b[0;34m=\u001b[0m\u001b[0mlabels\u001b[0m\u001b[0;34m,\u001b[0m \u001b[0mtruths\u001b[0m\u001b[0;34m=\u001b[0m\u001b[0;34m[\u001b[0m\u001b[0mtruths\u001b[0m\u001b[0;34m[\u001b[0m\u001b[0;36m1\u001b[0m\u001b[0;34m]\u001b[0m\u001b[0;34m]\u001b[0m\u001b[0;34m,\u001b[0m \u001b[0mquantiles\u001b[0m\u001b[0;34m=\u001b[0m\u001b[0;34m[\u001b[0m\u001b[0;36m0.16\u001b[0m\u001b[0;34m,\u001b[0m \u001b[0;36m0.5\u001b[0m\u001b[0;34m,\u001b[0m \u001b[0;36m0.84\u001b[0m\u001b[0;34m]\u001b[0m\u001b[0;34m,\u001b[0m \u001b[0mshow_titles\u001b[0m\u001b[0;34m=\u001b[0m\u001b[0;32mTrue\u001b[0m\u001b[0;34m)\u001b[0m\u001b[0;34m\u001b[0m\u001b[0;34m\u001b[0m\u001b[0m\n\u001b[0m",
            "\u001b[0;32m/usr/local/lib/python3.10/dist-packages/corner/corner.py\u001b[0m in \u001b[0;36mcorner\u001b[0;34m(data, bins, range, axes_scale, weights, color, hist_bin_factor, smooth, smooth1d, labels, label_kwargs, titles, show_titles, title_quantiles, title_fmt, title_kwargs, truths, truth_color, scale_hist, quantiles, verbose, fig, max_n_ticks, top_ticks, use_math_text, reverse, labelpad, hist_kwargs, group, var_names, filter_vars, coords, divergences, divergences_kwargs, labeller, **hist2d_kwargs)\u001b[0m\n\u001b[1;32m    278\u001b[0m         )\n\u001b[1;32m    279\u001b[0m \u001b[0;34m\u001b[0m\u001b[0m\n\u001b[0;32m--> 280\u001b[0;31m     return arviz_corner(\n\u001b[0m\u001b[1;32m    281\u001b[0m         \u001b[0mdata\u001b[0m\u001b[0;34m,\u001b[0m\u001b[0;34m\u001b[0m\u001b[0;34m\u001b[0m\u001b[0m\n\u001b[1;32m    282\u001b[0m         \u001b[0mbins\u001b[0m\u001b[0;34m=\u001b[0m\u001b[0mbins\u001b[0m\u001b[0;34m,\u001b[0m\u001b[0;34m\u001b[0m\u001b[0;34m\u001b[0m\u001b[0m\n",
            "\u001b[0;32m/usr/local/lib/python3.10/dist-packages/corner/arviz_corner.py\u001b[0m in \u001b[0;36marviz_corner\u001b[0;34m(data, bins, range, axes_scale, weights, color, hist_bin_factor, smooth, smooth1d, labels, label_kwargs, titles, show_titles, title_fmt, title_kwargs, truths, truth_color, scale_hist, quantiles, verbose, fig, max_n_ticks, top_ticks, use_math_text, reverse, labelpad, hist_kwargs, group, var_names, filter_vars, coords, divergences, divergences_kwargs, labeller, **hist2d_kwargs)\u001b[0m\n\u001b[1;32m    134\u001b[0m     \u001b[0;31m# Coerce the samples into the expected format\u001b[0m\u001b[0;34m\u001b[0m\u001b[0;34m\u001b[0m\u001b[0m\n\u001b[1;32m    135\u001b[0m     \u001b[0msamples\u001b[0m \u001b[0;34m=\u001b[0m \u001b[0mnp\u001b[0m\u001b[0;34m.\u001b[0m\u001b[0mstack\u001b[0m\u001b[0;34m(\u001b[0m\u001b[0;34m[\u001b[0m\u001b[0mx\u001b[0m\u001b[0;34m[\u001b[0m\u001b[0;34m-\u001b[0m\u001b[0;36m1\u001b[0m\u001b[0;34m]\u001b[0m\u001b[0;34m.\u001b[0m\u001b[0mflatten\u001b[0m\u001b[0;34m(\u001b[0m\u001b[0;34m)\u001b[0m \u001b[0;32mfor\u001b[0m \u001b[0mx\u001b[0m \u001b[0;32min\u001b[0m \u001b[0mplotters\u001b[0m\u001b[0;34m]\u001b[0m\u001b[0;34m,\u001b[0m \u001b[0maxis\u001b[0m\u001b[0;34m=\u001b[0m\u001b[0;34m-\u001b[0m\u001b[0;36m1\u001b[0m\u001b[0;34m)\u001b[0m\u001b[0;34m\u001b[0m\u001b[0;34m\u001b[0m\u001b[0m\n\u001b[0;32m--> 136\u001b[0;31m     fig = corner_impl(\n\u001b[0m\u001b[1;32m    137\u001b[0m         \u001b[0msamples\u001b[0m\u001b[0;34m,\u001b[0m\u001b[0;34m\u001b[0m\u001b[0;34m\u001b[0m\u001b[0m\n\u001b[1;32m    138\u001b[0m         \u001b[0mbins\u001b[0m\u001b[0;34m=\u001b[0m\u001b[0mbins\u001b[0m\u001b[0;34m,\u001b[0m\u001b[0;34m\u001b[0m\u001b[0;34m\u001b[0m\u001b[0m\n",
            "\u001b[0;32m/usr/local/lib/python3.10/dist-packages/corner/core.py\u001b[0m in \u001b[0;36mcorner_impl\u001b[0;34m(xs, bins, range, axes_scale, weights, color, hist_bin_factor, smooth, smooth1d, labels, label_kwargs, titles, show_titles, title_fmt, title_kwargs, truths, truth_color, scale_hist, quantiles, title_quantiles, verbose, fig, max_n_ticks, top_ticks, use_math_text, reverse, labelpad, hist_kwargs, **hist2d_kwargs)\u001b[0m\n\u001b[1;32m    455\u001b[0m \u001b[0;34m\u001b[0m\u001b[0m\n\u001b[1;32m    456\u001b[0m     \u001b[0;32mif\u001b[0m \u001b[0mtruths\u001b[0m \u001b[0;32mis\u001b[0m \u001b[0;32mnot\u001b[0m \u001b[0;32mNone\u001b[0m\u001b[0;34m:\u001b[0m\u001b[0;34m\u001b[0m\u001b[0;34m\u001b[0m\u001b[0m\n\u001b[0;32m--> 457\u001b[0;31m         \u001b[0moverplot_lines\u001b[0m\u001b[0;34m(\u001b[0m\u001b[0mfig\u001b[0m\u001b[0;34m,\u001b[0m \u001b[0mtruths\u001b[0m\u001b[0;34m,\u001b[0m \u001b[0mreverse\u001b[0m\u001b[0;34m=\u001b[0m\u001b[0mreverse\u001b[0m\u001b[0;34m,\u001b[0m \u001b[0mcolor\u001b[0m\u001b[0;34m=\u001b[0m\u001b[0mtruth_color\u001b[0m\u001b[0;34m)\u001b[0m\u001b[0;34m\u001b[0m\u001b[0;34m\u001b[0m\u001b[0m\n\u001b[0m\u001b[1;32m    458\u001b[0m         overplot_points(\n\u001b[1;32m    459\u001b[0m             \u001b[0mfig\u001b[0m\u001b[0;34m,\u001b[0m\u001b[0;34m\u001b[0m\u001b[0;34m\u001b[0m\u001b[0m\n",
            "\u001b[0;32m/usr/local/lib/python3.10/dist-packages/corner/core.py\u001b[0m in \u001b[0;36moverplot_lines\u001b[0;34m(fig, xs, reverse, **kwargs)\u001b[0m\n\u001b[1;32m    845\u001b[0m         \u001b[0;32mfor\u001b[0m \u001b[0mk1\u001b[0m \u001b[0;32min\u001b[0m \u001b[0mrange\u001b[0m\u001b[0;34m(\u001b[0m\u001b[0mK\u001b[0m\u001b[0;34m)\u001b[0m\u001b[0;34m:\u001b[0m\u001b[0;34m\u001b[0m\u001b[0;34m\u001b[0m\u001b[0m\n\u001b[1;32m    846\u001b[0m             \u001b[0;32mif\u001b[0m \u001b[0mxs\u001b[0m\u001b[0;34m[\u001b[0m\u001b[0mk1\u001b[0m\u001b[0;34m]\u001b[0m \u001b[0;32mis\u001b[0m \u001b[0;32mnot\u001b[0m \u001b[0;32mNone\u001b[0m\u001b[0;34m:\u001b[0m\u001b[0;34m\u001b[0m\u001b[0;34m\u001b[0m\u001b[0m\n\u001b[0;32m--> 847\u001b[0;31m                 \u001b[0maxes\u001b[0m\u001b[0;34m[\u001b[0m\u001b[0mk1\u001b[0m\u001b[0;34m,\u001b[0m \u001b[0mk1\u001b[0m\u001b[0;34m]\u001b[0m\u001b[0;34m.\u001b[0m\u001b[0maxvline\u001b[0m\u001b[0;34m(\u001b[0m\u001b[0mxs\u001b[0m\u001b[0;34m[\u001b[0m\u001b[0mk1\u001b[0m\u001b[0;34m]\u001b[0m\u001b[0;34m,\u001b[0m \u001b[0;34m**\u001b[0m\u001b[0mkwargs\u001b[0m\u001b[0;34m)\u001b[0m\u001b[0;34m\u001b[0m\u001b[0;34m\u001b[0m\u001b[0m\n\u001b[0m\u001b[1;32m    848\u001b[0m             \u001b[0;32mfor\u001b[0m \u001b[0mk2\u001b[0m \u001b[0;32min\u001b[0m \u001b[0mrange\u001b[0m\u001b[0;34m(\u001b[0m\u001b[0mk1\u001b[0m \u001b[0;34m+\u001b[0m \u001b[0;36m1\u001b[0m\u001b[0;34m,\u001b[0m \u001b[0mK\u001b[0m\u001b[0;34m)\u001b[0m\u001b[0;34m:\u001b[0m\u001b[0;34m\u001b[0m\u001b[0;34m\u001b[0m\u001b[0m\n\u001b[1;32m    849\u001b[0m                 \u001b[0;32mif\u001b[0m \u001b[0mxs\u001b[0m\u001b[0;34m[\u001b[0m\u001b[0mk1\u001b[0m\u001b[0;34m]\u001b[0m \u001b[0;32mis\u001b[0m \u001b[0;32mnot\u001b[0m \u001b[0;32mNone\u001b[0m\u001b[0;34m:\u001b[0m\u001b[0;34m\u001b[0m\u001b[0;34m\u001b[0m\u001b[0m\n",
            "\u001b[0;31mTypeError\u001b[0m: 'Axes' object is not subscriptable"
          ]
        },
        {
          "output_type": "display_data",
          "data": {
            "text/plain": [
              "<Figure size 340x340 with 1 Axes>"
            ],
            "image/png": "[encoded data removed]"
          },
          "metadata": {}
        }
      ]
    },
    {
      "cell_type": "code",
      "source": [
        "# j)\n",
        "T_upper = np.percentile(flat_samples, 95, axis=0)[0]\n",
        "print(f\"Temperaturas mayores a {T_upper:.2f} K están excluidas con un 95% de confianza.\")\n"
      ],
      "metadata": {
        "colab": {
          "base_uri": "https://localhost:8080/"
        },
        "id": "82QTmCBskjU9",
        "outputId": "a4013c58-e448-4c3e-818d-46087471409b"
      },
      "execution_count": 110,
      "outputs": [
        {
          "output_type": "stream",
          "name": "stdout",
          "text": [
            "Temperaturas mayores a 305.38 K están excluidas con un 95% de confianza.\n"
          ]
        }
      ]
    },
    {
      "cell_type": "code",
      "source": [
        "# Fotones\n",
        "\n",
        "# a)\n",
        "N = 1000\n",
        "Rs = 1.0\n",
        "l = 0.1\n",
        "\n",
        "pasos_totales = []\n",
        "\n",
        "for _ in range(N):\n",
        "    x, y, z = 0.0, 0.0, 0.0\n",
        "    pasos = 0\n",
        "\n",
        "    while np.sqrt(x**2 + y**2 + z**2) <= Rs:\n",
        "        theta = np.random.uniform(0, 2*np.pi)\n",
        "        phi = np.random.uniform(0, np.pi)\n",
        "\n",
        "        x += l * np.sin(phi) * np.cos(theta)\n",
        "        y += l * np.sin(phi) * np.sin(theta)\n",
        "        z += l * np.cos(phi)\n",
        "\n",
        "        pasos += 1\n",
        "\n",
        "    pasos_totales.append(pasos)\n",
        "\n",
        "pasos_totales = np.array(pasos_totales)\n",
        "\n",
        "pasos_totales\n",
        "\n",
        "plt.hist(pasos_totales, bins=20, density=True, edgecolor='white')\n",
        "plt.xlabel('Pasos')\n",
        "plt.ylabel('Frecuencia')\n",
        "plt.title('Distribución de Pasos')\n",
        "plt.show()"
      ],
      "metadata": {
        "colab": {
          "base_uri": "https://localhost:8080/",
          "height": 472
        },
        "id": "UNL6iYo8n2Wm",
        "outputId": "bf5bba81-9047-4bce-8902-a60bf27de7e9"
      },
      "execution_count": 85,
      "outputs": [
        {
          "output_type": "display_data",
          "data": {
            "text/plain": [
              "<Figure size 640x480 with 1 Axes>"
            ],
            "image/png": "[encoded data removed]"
          },
          "metadata": {}
        }
      ]
    },
    {
      "cell_type": "code",
      "source": [
        "# b)\n",
        "n = 20\n",
        "min_pasos, max_pasos = pasos_totales.min(), pasos_totales.max()\n",
        "clases = np.linspace(min_pasos, max_pasos, n + 1)\n",
        "puntos_medios = (clases[:-1] + clases[1:]) / 2"
      ],
      "metadata": {
        "id": "zOMXb6ae1aBw"
      },
      "execution_count": 86,
      "outputs": []
    },
    {
      "cell_type": "code",
      "source": [
        "# c)\n",
        "frecuencias, _ = np.histogram(pasos_totales, bins=clases)\n",
        "frecuencias_normalizadas = frecuencias / N\n",
        "frecuencias_normalizadas"
      ],
      "metadata": {
        "colab": {
          "base_uri": "https://localhost:8080/"
        },
        "id": "XmZ5K3ip1smL",
        "outputId": "a43a8e6a-2192-4d77-b1f5-052ae81445c3"
      },
      "execution_count": 87,
      "outputs": [
        {
          "output_type": "execute_result",
          "data": {
            "text/plain": [
              "array([0.09 , 0.18 , 0.169, 0.128, 0.108, 0.086, 0.06 , 0.041, 0.045,\n",
              "       0.029, 0.02 , 0.017, 0.004, 0.006, 0.005, 0.003, 0.003, 0.004,\n",
              "       0.   , 0.002])"
            ]
          },
          "metadata": {},
          "execution_count": 87
        }
      ]
    },
    {
      "cell_type": "code",
      "source": [
        "plt.bar(puntos_medios, frecuencias_normalizadas, width=np.diff(clases), edgecolor=\"white\", align=\"center\", color=\"teal\")\n",
        "plt.xlabel('Pasos')\n",
        "plt.ylabel('Frecuencia Normalizada')\n",
        "plt.title('Distribución Normalizada de Pasos')\n",
        "plt.show()"
      ],
      "metadata": {
        "colab": {
          "base_uri": "https://localhost:8080/",
          "height": 472
        },
        "id": "p_l_sC-V16xh",
        "outputId": "c38b7c0a-68bc-4849-85c5-9c9aa011698c"
      },
      "execution_count": 88,
      "outputs": [
        {
          "output_type": "display_data",
          "data": {
            "text/plain": [
              "<Figure size 640x480 with 1 Axes>"
            ],
            "image/png": "[encoded data removed]"
          },
          "metadata": {}
        }
      ]
    },
    {
      "cell_type": "code",
      "source": [
        "valor_esperado = np.sum(frecuencias_normalizadas * puntos_medios)\n",
        "valor_esperado"
      ],
      "metadata": {
        "colab": {
          "base_uri": "https://localhost:8080/"
        },
        "id": "76NGR95P5Xzy",
        "outputId": "9e32b932-79cc-4d0c-b2f5-aa880833a86d"
      },
      "execution_count": 108,
      "outputs": [
        {
          "output_type": "execute_result",
          "data": {
            "text/plain": [
              "106.14279999999998"
            ]
          },
          "metadata": {},
          "execution_count": 108
        }
      ]
    },
    {
      "cell_type": "code",
      "source": [
        "Ve = np.mean(pasos_totales)\n",
        "Ve"
      ],
      "metadata": {
        "colab": {
          "base_uri": "https://localhost:8080/"
        },
        "id": "OfSUp8b06OdU",
        "outputId": "017d4217-2265-457d-fed3-e9e4d4d935a4"
      },
      "execution_count": 90,
      "outputs": [
        {
          "output_type": "execute_result",
          "data": {
            "text/plain": [
              "105.989"
            ]
          },
          "metadata": {},
          "execution_count": 90
        }
      ]
    },
    {
      "cell_type": "code",
      "source": [
        "# f)\n",
        "Valor_pasos = (Rs/l)**2\n",
        "Valor_pasos"
      ],
      "metadata": {
        "colab": {
          "base_uri": "https://localhost:8080/"
        },
        "id": "N44yEBlU_5qE",
        "outputId": "6cdf95c8-abe1-4e66-e4b4-2b44612da33b"
      },
      "execution_count": 91,
      "outputs": [
        {
          "output_type": "execute_result",
          "data": {
            "text/plain": [
              "100.0"
            ]
          },
          "metadata": {},
          "execution_count": 91
        }
      ]
    },
    {
      "cell_type": "code",
      "source": [
        "# g)\n",
        "Lr = 0.000006\n",
        "Rsr = 700000\n",
        "c = 300000\n",
        "T = (Rs**2)/Lr*c\n",
        "T"
      ],
      "metadata": {
        "colab": {
          "base_uri": "https://localhost:8080/"
        },
        "id": "KhzBjN2MANH_",
        "outputId": "c5c86e54-865d-4c69-99f9-0322c15ea72a"
      },
      "execution_count": 92,
      "outputs": [
        {
          "output_type": "execute_result",
          "data": {
            "text/plain": [
              "50000000000.0"
            ]
          },
          "metadata": {},
          "execution_count": 92
        }
      ]
    },
    {
      "cell_type": "code",
      "source": [
        "anios = T / (60*60*24*365)\n",
        "anios"
      ],
      "metadata": {
        "colab": {
          "base_uri": "https://localhost:8080/"
        },
        "id": "nHMd4hyGBYf1",
        "outputId": "9accab3e-45d1-4939-fed8-4f42378b4080"
      },
      "execution_count": 93,
      "outputs": [
        {
          "output_type": "execute_result",
          "data": {
            "text/plain": [
              "1585.4895991882292"
            ]
          },
          "metadata": {},
          "execution_count": 93
        }
      ]
    },
    {
      "cell_type": "code",
      "source": [
        "# h)\n",
        "from scipy.stats import exponweib\n",
        "a,c,d,e = exponweib.fit(pasos_totales)\n",
        "a,c,d,e"
      ],
      "metadata": {
        "colab": {
          "base_uri": "https://localhost:8080/"
        },
        "id": "aZ3NoLWSDfXh",
        "outputId": "529a0f8f-1bef-40c3-e974-4bcf3f682d68"
      },
      "execution_count": 99,
      "outputs": [
        {
          "output_type": "execute_result",
          "data": {
            "text/plain": [
              "(2.0753722453241483, 0.974660812558297, 18.020058784513612, 56.51970319969983)"
            ]
          },
          "metadata": {},
          "execution_count": 99
        }
      ]
    },
    {
      "cell_type": "code",
      "source": [
        "x = np.linspace(0, max(pasos_totales), 1000)\n",
        "pdf_fit = exponweib.pdf(x, a, c, d, e)\n",
        "\n",
        "# Graficar la distribución ajustada\n",
        "plt.plot(x, pdf_fit, linestyle='--', color='r', label='Distribución Ajustada')\n",
        "plt.hist(pasos_totales, bins=20, density=True, edgecolor='k', alpha=0.8, color='steelblue')\n",
        "plt.show()\n",
        "\n",
        "# Imprimir los parámetros ajustados\n",
        "print(f\"Parámetros ajustados de Weibull: a = {a:.2f}, c = {c:.2f}, loc = {d:.2f}, scale = {e:.2f}\")"
      ],
      "metadata": {
        "colab": {
          "base_uri": "https://localhost:8080/",
          "height": 447
        },
        "id": "_oSIQlbMuWij",
        "outputId": "079697d8-d8c9-4930-d477-cb862bd5fb98"
      },
      "execution_count": 106,
      "outputs": [
        {
          "output_type": "display_data",
          "data": {
            "text/plain": [
              "<Figure size 640x480 with 1 Axes>"
            ],
            "image/png": "[encoded data removed]"
          },
          "metadata": {}
        },
        {
          "output_type": "stream",
          "name": "stdout",
          "text": [
            "Parámetros ajustados de Weibull: a = 2.08, c = 0.97, loc = 18.02, scale = 56.52\n"
          ]
        }
      ]
    }
  ]
}