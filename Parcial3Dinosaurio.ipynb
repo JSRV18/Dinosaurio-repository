{
  "nbformat": 4,
  "nbformat_minor": 0,
  "metadata": {
    "colab": {
      "provenance": [],
      "authorship_tag": "ABX9TyNl5qLszSZPSTCzguPN1WOJ",
      "include_colab_link": true
    },
    "kernelspec": {
      "name": "python3",
      "display_name": "Python 3"
    },
    "language_info": {
      "name": "python"
    }
  },
  "cells": [
    {
      "cell_type": "markdown",
      "metadata": {
        "id": "view-in-github",
        "colab_type": "text"
      },
      "source": [
        "<a href=\"https://colab.research.google.com/github/JSRV18/Dinosaurio-repository/blob/main/Parcial3Dinosaurio.ipynb\" target=\"_parent\"><img src=\"https://colab.research.google.com/assets/colab-badge.svg\" alt=\"Open In Colab\"/></a>"
      ]
    },
    {
      "cell_type": "code",
      "source": [
        "# Markov : Cadena de Producción\n",
        "import numpy as np\n",
        "import matplotlib.pyplot as plt\n",
        "\n",
        "# a)\n"
      ],
      "metadata": {
        "id": "VhslUzQ3DY4F"
      },
      "execution_count": null,
      "outputs": []
    },
    {
      "cell_type": "code",
      "source": [
        "# b)\n",
        "DictS={0:'Producción',1:'Empaquetado',2:'Mercado'}"
      ],
      "metadata": {
        "id": "h2MPdM6lKE-E"
      },
      "execution_count": null,
      "outputs": []
    },
    {
      "cell_type": "code",
      "source": [
        "# c)\n",
        "TM = np.array([[0.10,0.90,0.00],\\\n",
        "              [0.00,0.05,0.95],\\\n",
        "              [0.00,0.00,1.00]])"
      ],
      "metadata": {
        "id": "XXrP1YZgKftG"
      },
      "execution_count": 47,
      "outputs": []
    },
    {
      "cell_type": "code",
      "source": [],
      "metadata": {
        "id": "PuRPMOyKNeef"
      },
      "execution_count": null,
      "outputs": []
    },
    {
      "cell_type": "code",
      "execution_count": 20,
      "metadata": {
        "colab": {
          "base_uri": "https://localhost:8080/"
        },
        "id": "EGlM2z60Ta_w",
        "outputId": "ba9a0e98-facd-48b3-e212-753e482b714d"
      },
      "outputs": [
        {
          "output_type": "stream",
          "name": "stdout",
          "text": [
            "[[1 1 1 1 0 0 0 0]] [0.0001911]\n"
          ]
        }
      ],
      "source": [
        "# Hidden Markov: Casino tramposo\n",
        "\n",
        "# a)\n",
        "from itertools import permutations\n",
        "from itertools import combinations\n",
        "from itertools import combinations_with_replacement\n",
        "\n",
        "Moneda=np.array([0,1])\n",
        "Prior=np.array([0.2,0.8])\n",
        "Obs=np.array([1,0,0,0,1,0,1,0])\n",
        "\n",
        "T = np.array([[0.8,0.2],[0.2,0.8]])\n",
        "\n",
        "E = np.array([[0.5,0.9],[0.5,0.1]])\n",
        "\n",
        "DictHidden = {0:'Justa',1:'Sesgada'}\n",
        "\n",
        "DictObs = {0:'Cara',1:'Sello'}\n",
        "\n",
        "def GetStates(State,N):\n",
        "    CStates = list(combinations_with_replacement(State,N))\n",
        "\n",
        "    Permu = []\n",
        "\n",
        "    for it in CStates:\n",
        "      p = list(permutations(it,N))\n",
        "      for i in p:\n",
        "        if i not in Permu:\n",
        "          Permu.append(i)\n",
        "\n",
        "    CStates = np.array(Permu)\n",
        "\n",
        "    return CStates\n",
        "\n",
        "HiddenStates=GetStates(Moneda,8)\n",
        "\n",
        "# b)\n",
        "def GetProb(T,E,Obs,State,Prior):\n",
        "\n",
        "  n = len(Obs)\n",
        "  p = 1.\n",
        "\n",
        "  p *= Prior[ State[0] ]\n",
        "\n",
        "  for i in range(n-1):\n",
        "    p *= T[ State[i+1], State[i] ]\n",
        "\n",
        "  for i in range(n):\n",
        "    p *= E[ Obs[i], State[i] ]\n",
        "\n",
        "  return p\n",
        "\n",
        "P = np.zeros(HiddenStates.shape[0])\n",
        "\n",
        "for i in range(P.shape[0]):\n",
        "  P[i] = GetProb(T,E,Obs,HiddenStates[i],Prior)\n",
        "\n",
        "ii = np.where( P == np.max(P) )\n",
        "print(HiddenStates[ii],P[ii])"
      ]
    },
    {
      "cell_type": "code",
      "source": [
        "# c)\n",
        "import pandas as pd\n",
        "ObsStates = GetStates([0,1],8)\n",
        "ObsStates\n",
        "\n",
        "Nobs = ObsStates.shape[0]\n",
        "\n",
        "PObs = np.zeros(Nobs)\n",
        "\n",
        "for j in range(Nobs):\n",
        "\n",
        "  dim = HiddenStates.shape[0]\n",
        "  P = np.zeros(dim)\n",
        "\n",
        "  for i in range(dim):\n",
        "    P[i] = GetProb(T,E,ObsStates[j],HiddenStates[i],Prior)\n",
        "\n",
        "  PObs[j] = np.sum(P)\n",
        "\n",
        "PObs\n",
        "\n",
        "def data_20(ObsStates,PObs):\n",
        "  t=0\n",
        "  for i in range(len(PObs)):\n",
        "    t += PObs[i]\n",
        "    if t >= 0.2:\n",
        "      break\n",
        "  df = pd.DataFrame(ObsStates[:i+1])\n",
        "  df['Probabilidad'] = PObs[:i+1]\n",
        "  df = df.sort_values(by='Probabilidad',ascending=False)\n",
        "  df['suma'] = df['Probabilidad'].cumsum()\n",
        "  current_columns = df.columns.tolist()\n",
        "  num_existing_columns = len(current_columns)\n",
        "  new_columns = ['Secuencia','Probabilidad','Suma'] + current_columns[3:]\n",
        "  df.columns = new_columns\n",
        "  return df\n",
        "\n",
        "data_20(ObsStates,PObs)"
      ],
      "metadata": {
        "colab": {
          "base_uri": "https://localhost:8080/",
          "height": 143
        },
        "id": "U9_hbm3Adrqx",
        "outputId": "047cc156-8575-4b8a-8d15-70862be3eb10"
      },
      "execution_count": 18,
      "outputs": [
        {
          "output_type": "execute_result",
          "data": {
            "text/plain": [
              "   Secuencia  Probabilidad  Suma  3  4  5  6  7  Probabilidad      suma\n",
              "0          0             0     0  0  0  0  0  0      0.136982  0.136982\n",
              "1          0             0     0  0  0  0  0  1      0.041149  0.178132\n",
              "2          0             0     0  0  0  0  1  0      0.034737  0.212869"
            ],
            "text/html": [
              "\n",
              "  <div id=\"df-66a01fee-87c5-44cd-abc3-a2721abf0fb5\" class=\"colab-df-container\">\n",
              "    <div>\n",
              "<style scoped>\n",
              "    .dataframe tbody tr th:only-of-type {\n",
              "        vertical-align: middle;\n",
              "    }\n",
              "\n",
              "    .dataframe tbody tr th {\n",
              "        vertical-align: top;\n",
              "    }\n",
              "\n",
              "    .dataframe thead th {\n",
              "        text-align: right;\n",
              "    }\n",
              "</style>\n",
              "<table border=\"1\" class=\"dataframe\">\n",
              "  <thead>\n",
              "    <tr style=\"text-align: right;\">\n",
              "      <th></th>\n",
              "      <th>Secuencia</th>\n",
              "      <th>Probabilidad</th>\n",
              "      <th>Suma</th>\n",
              "      <th>3</th>\n",
              "      <th>4</th>\n",
              "      <th>5</th>\n",
              "      <th>6</th>\n",
              "      <th>7</th>\n",
              "      <th>Probabilidad</th>\n",
              "      <th>suma</th>\n",
              "    </tr>\n",
              "  </thead>\n",
              "  <tbody>\n",
              "    <tr>\n",
              "      <th>0</th>\n",
              "      <td>0</td>\n",
              "      <td>0</td>\n",
              "      <td>0</td>\n",
              "      <td>0</td>\n",
              "      <td>0</td>\n",
              "      <td>0</td>\n",
              "      <td>0</td>\n",
              "      <td>0</td>\n",
              "      <td>0.136982</td>\n",
              "      <td>0.136982</td>\n",
              "    </tr>\n",
              "    <tr>\n",
              "      <th>1</th>\n",
              "      <td>0</td>\n",
              "      <td>0</td>\n",
              "      <td>0</td>\n",
              "      <td>0</td>\n",
              "      <td>0</td>\n",
              "      <td>0</td>\n",
              "      <td>0</td>\n",
              "      <td>1</td>\n",
              "      <td>0.041149</td>\n",
              "      <td>0.178132</td>\n",
              "    </tr>\n",
              "    <tr>\n",
              "      <th>2</th>\n",
              "      <td>0</td>\n",
              "      <td>0</td>\n",
              "      <td>0</td>\n",
              "      <td>0</td>\n",
              "      <td>0</td>\n",
              "      <td>0</td>\n",
              "      <td>1</td>\n",
              "      <td>0</td>\n",
              "      <td>0.034737</td>\n",
              "      <td>0.212869</td>\n",
              "    </tr>\n",
              "  </tbody>\n",
              "</table>\n",
              "</div>\n",
              "    <div class=\"colab-df-buttons\">\n",
              "\n",
              "  <div class=\"colab-df-container\">\n",
              "    <button class=\"colab-df-convert\" onclick=\"convertToInteractive('df-66a01fee-87c5-44cd-abc3-a2721abf0fb5')\"\n",
              "            title=\"Convert this dataframe to an interactive table.\"\n",
              "            style=\"display:none;\">\n",
              "\n",
              "  <svg xmlns=\"http://www.w3.org/2000/svg\" height=\"24px\" viewBox=\"0 -960 960 960\">\n",
              "    <path d=\"M120-120v-720h720v720H120Zm60-500h600v-160H180v160Zm220 220h160v-160H400v160Zm0 220h160v-160H400v160ZM180-400h160v-160H180v160Zm440 0h160v-160H620v160ZM180-180h160v-160H180v160Zm440 0h160v-160H620v160Z\"/>\n",
              "  </svg>\n",
              "    </button>\n",
              "\n",
              "  <style>\n",
              "    .colab-df-container {\n",
              "      display:flex;\n",
              "      gap: 12px;\n",
              "    }\n",
              "\n",
              "    .colab-df-convert {\n",
              "      background-color: #E8F0FE;\n",
              "      border: none;\n",
              "      border-radius: 50%;\n",
              "      cursor: pointer;\n",
              "      display: none;\n",
              "      fill: #1967D2;\n",
              "      height: 32px;\n",
              "      padding: 0 0 0 0;\n",
              "      width: 32px;\n",
              "    }\n",
              "\n",
              "    .colab-df-convert:hover {\n",
              "      background-color: #E2EBFA;\n",
              "      box-shadow: 0px 1px 2px rgba(60, 64, 67, 0.3), 0px 1px 3px 1px rgba(60, 64, 67, 0.15);\n",
              "      fill: #174EA6;\n",
              "    }\n",
              "\n",
              "    .colab-df-buttons div {\n",
              "      margin-bottom: 4px;\n",
              "    }\n",
              "\n",
              "    [theme=dark] .colab-df-convert {\n",
              "      background-color: #3B4455;\n",
              "      fill: #D2E3FC;\n",
              "    }\n",
              "\n",
              "    [theme=dark] .colab-df-convert:hover {\n",
              "      background-color: #434B5C;\n",
              "      box-shadow: 0px 1px 3px 1px rgba(0, 0, 0, 0.15);\n",
              "      filter: drop-shadow(0px 1px 2px rgba(0, 0, 0, 0.3));\n",
              "      fill: #FFFFFF;\n",
              "    }\n",
              "  </style>\n",
              "\n",
              "    <script>\n",
              "      const buttonEl =\n",
              "        document.querySelector('#df-66a01fee-87c5-44cd-abc3-a2721abf0fb5 button.colab-df-convert');\n",
              "      buttonEl.style.display =\n",
              "        google.colab.kernel.accessAllowed ? 'block' : 'none';\n",
              "\n",
              "      async function convertToInteractive(key) {\n",
              "        const element = document.querySelector('#df-66a01fee-87c5-44cd-abc3-a2721abf0fb5');\n",
              "        const dataTable =\n",
              "          await google.colab.kernel.invokeFunction('convertToInteractive',\n",
              "                                                    [key], {});\n",
              "        if (!dataTable) return;\n",
              "\n",
              "        const docLinkHtml = 'Like what you see? Visit the ' +\n",
              "          '<a target=\"_blank\" href=https://colab.research.google.com/notebooks/data_table.ipynb>data table notebook</a>'\n",
              "          + ' to learn more about interactive tables.';\n",
              "        element.innerHTML = '';\n",
              "        dataTable['output_type'] = 'display_data';\n",
              "        await google.colab.output.renderOutput(dataTable, element);\n",
              "        const docLink = document.createElement('div');\n",
              "        docLink.innerHTML = docLinkHtml;\n",
              "        element.appendChild(docLink);\n",
              "      }\n",
              "    </script>\n",
              "  </div>\n",
              "\n",
              "\n",
              "<div id=\"df-41f0b8e9-4ea5-4673-891e-ed93aff83ad2\">\n",
              "  <button class=\"colab-df-quickchart\" onclick=\"quickchart('df-41f0b8e9-4ea5-4673-891e-ed93aff83ad2')\"\n",
              "            title=\"Suggest charts\"\n",
              "            style=\"display:none;\">\n",
              "\n",
              "<svg xmlns=\"http://www.w3.org/2000/svg\" height=\"24px\"viewBox=\"0 0 24 24\"\n",
              "     width=\"24px\">\n",
              "    <g>\n",
              "        <path d=\"M19 3H5c-1.1 0-2 .9-2 2v14c0 1.1.9 2 2 2h14c1.1 0 2-.9 2-2V5c0-1.1-.9-2-2-2zM9 17H7v-7h2v7zm4 0h-2V7h2v10zm4 0h-2v-4h2v4z\"/>\n",
              "    </g>\n",
              "</svg>\n",
              "  </button>\n",
              "\n",
              "<style>\n",
              "  .colab-df-quickchart {\n",
              "      --bg-color: #E8F0FE;\n",
              "      --fill-color: #1967D2;\n",
              "      --hover-bg-color: #E2EBFA;\n",
              "      --hover-fill-color: #174EA6;\n",
              "      --disabled-fill-color: #AAA;\n",
              "      --disabled-bg-color: #DDD;\n",
              "  }\n",
              "\n",
              "  [theme=dark] .colab-df-quickchart {\n",
              "      --bg-color: #3B4455;\n",
              "      --fill-color: #D2E3FC;\n",
              "      --hover-bg-color: #434B5C;\n",
              "      --hover-fill-color: #FFFFFF;\n",
              "      --disabled-bg-color: #3B4455;\n",
              "      --disabled-fill-color: #666;\n",
              "  }\n",
              "\n",
              "  .colab-df-quickchart {\n",
              "    background-color: var(--bg-color);\n",
              "    border: none;\n",
              "    border-radius: 50%;\n",
              "    cursor: pointer;\n",
              "    display: none;\n",
              "    fill: var(--fill-color);\n",
              "    height: 32px;\n",
              "    padding: 0;\n",
              "    width: 32px;\n",
              "  }\n",
              "\n",
              "  .colab-df-quickchart:hover {\n",
              "    background-color: var(--hover-bg-color);\n",
              "    box-shadow: 0 1px 2px rgba(60, 64, 67, 0.3), 0 1px 3px 1px rgba(60, 64, 67, 0.15);\n",
              "    fill: var(--button-hover-fill-color);\n",
              "  }\n",
              "\n",
              "  .colab-df-quickchart-complete:disabled,\n",
              "  .colab-df-quickchart-complete:disabled:hover {\n",
              "    background-color: var(--disabled-bg-color);\n",
              "    fill: var(--disabled-fill-color);\n",
              "    box-shadow: none;\n",
              "  }\n",
              "\n",
              "  .colab-df-spinner {\n",
              "    border: 2px solid var(--fill-color);\n",
              "    border-color: transparent;\n",
              "    border-bottom-color: var(--fill-color);\n",
              "    animation:\n",
              "      spin 1s steps(1) infinite;\n",
              "  }\n",
              "\n",
              "  @keyframes spin {\n",
              "    0% {\n",
              "      border-color: transparent;\n",
              "      border-bottom-color: var(--fill-color);\n",
              "      border-left-color: var(--fill-color);\n",
              "    }\n",
              "    20% {\n",
              "      border-color: transparent;\n",
              "      border-left-color: var(--fill-color);\n",
              "      border-top-color: var(--fill-color);\n",
              "    }\n",
              "    30% {\n",
              "      border-color: transparent;\n",
              "      border-left-color: var(--fill-color);\n",
              "      border-top-color: var(--fill-color);\n",
              "      border-right-color: var(--fill-color);\n",
              "    }\n",
              "    40% {\n",
              "      border-color: transparent;\n",
              "      border-right-color: var(--fill-color);\n",
              "      border-top-color: var(--fill-color);\n",
              "    }\n",
              "    60% {\n",
              "      border-color: transparent;\n",
              "      border-right-color: var(--fill-color);\n",
              "    }\n",
              "    80% {\n",
              "      border-color: transparent;\n",
              "      border-right-color: var(--fill-color);\n",
              "      border-bottom-color: var(--fill-color);\n",
              "    }\n",
              "    90% {\n",
              "      border-color: transparent;\n",
              "      border-bottom-color: var(--fill-color);\n",
              "    }\n",
              "  }\n",
              "</style>\n",
              "\n",
              "  <script>\n",
              "    async function quickchart(key) {\n",
              "      const quickchartButtonEl =\n",
              "        document.querySelector('#' + key + ' button');\n",
              "      quickchartButtonEl.disabled = true;  // To prevent multiple clicks.\n",
              "      quickchartButtonEl.classList.add('colab-df-spinner');\n",
              "      try {\n",
              "        const charts = await google.colab.kernel.invokeFunction(\n",
              "            'suggestCharts', [key], {});\n",
              "      } catch (error) {\n",
              "        console.error('Error during call to suggestCharts:', error);\n",
              "      }\n",
              "      quickchartButtonEl.classList.remove('colab-df-spinner');\n",
              "      quickchartButtonEl.classList.add('colab-df-quickchart-complete');\n",
              "    }\n",
              "    (() => {\n",
              "      let quickchartButtonEl =\n",
              "        document.querySelector('#df-41f0b8e9-4ea5-4673-891e-ed93aff83ad2 button');\n",
              "      quickchartButtonEl.style.display =\n",
              "        google.colab.kernel.accessAllowed ? 'block' : 'none';\n",
              "    })();\n",
              "  </script>\n",
              "</div>\n",
              "\n",
              "    </div>\n",
              "  </div>\n"
            ],
            "application/vnd.google.colaboratory.intrinsic+json": {
              "type": "dataframe",
              "summary": "{\n  \"name\": \"data_20(ObsStates,PObs)\",\n  \"rows\": 3,\n  \"fields\": [\n    {\n      \"column\": \"Secuencia\",\n      \"properties\": {\n        \"dtype\": \"number\",\n        \"std\": 0,\n        \"min\": 0,\n        \"max\": 0,\n        \"num_unique_values\": 1,\n        \"samples\": [\n          0\n        ],\n        \"semantic_type\": \"\",\n        \"description\": \"\"\n      }\n    },\n    {\n      \"column\": \"Probabilidad\",\n      \"properties\": {\n        \"dtype\": \"number\",\n        \"std\": 0,\n        \"min\": 0,\n        \"max\": 0,\n        \"num_unique_values\": 1,\n        \"samples\": [\n          0\n        ],\n        \"semantic_type\": \"\",\n        \"description\": \"\"\n      }\n    },\n    {\n      \"column\": \"Suma\",\n      \"properties\": {\n        \"dtype\": \"number\",\n        \"std\": 0,\n        \"min\": 0,\n        \"max\": 0,\n        \"num_unique_values\": 1,\n        \"samples\": [\n          0\n        ],\n        \"semantic_type\": \"\",\n        \"description\": \"\"\n      }\n    },\n    {\n      \"column\": 3,\n      \"properties\": {\n        \"dtype\": \"number\",\n        \"std\": 0,\n        \"min\": 0,\n        \"max\": 0,\n        \"num_unique_values\": 1,\n        \"samples\": [\n          0\n        ],\n        \"semantic_type\": \"\",\n        \"description\": \"\"\n      }\n    },\n    {\n      \"column\": 4,\n      \"properties\": {\n        \"dtype\": \"number\",\n        \"std\": 0,\n        \"min\": 0,\n        \"max\": 0,\n        \"num_unique_values\": 1,\n        \"samples\": [\n          0\n        ],\n        \"semantic_type\": \"\",\n        \"description\": \"\"\n      }\n    },\n    {\n      \"column\": 5,\n      \"properties\": {\n        \"dtype\": \"number\",\n        \"std\": 0,\n        \"min\": 0,\n        \"max\": 0,\n        \"num_unique_values\": 1,\n        \"samples\": [\n          0\n        ],\n        \"semantic_type\": \"\",\n        \"description\": \"\"\n      }\n    },\n    {\n      \"column\": 6,\n      \"properties\": {\n        \"dtype\": \"number\",\n        \"std\": 0,\n        \"min\": 0,\n        \"max\": 1,\n        \"num_unique_values\": 2,\n        \"samples\": [\n          1\n        ],\n        \"semantic_type\": \"\",\n        \"description\": \"\"\n      }\n    },\n    {\n      \"column\": 7,\n      \"properties\": {\n        \"dtype\": \"number\",\n        \"std\": 0,\n        \"min\": 0,\n        \"max\": 1,\n        \"num_unique_values\": 2,\n        \"samples\": [\n          1\n        ],\n        \"semantic_type\": \"\",\n        \"description\": \"\"\n      }\n    },\n    {\n      \"column\": \"Probabilidad\",\n      \"properties\": {\n        \"dtype\": \"number\",\n        \"std\": 0.05727009043976322,\n        \"min\": 0.034737299592422416,\n        \"max\": 0.13698241367042568,\n        \"num_unique_values\": 3,\n        \"samples\": [\n          0.13698241367042568\n        ],\n        \"semantic_type\": \"\",\n        \"description\": \"\"\n      }\n    },\n    {\n      \"column\": \"suma\",\n      \"properties\": {\n        \"dtype\": \"number\",\n        \"std\": 0.03798837303355082,\n        \"min\": 0.13698241367042568,\n        \"max\": 0.2128689194593025,\n        \"num_unique_values\": 3,\n        \"samples\": [\n          0.13698241367042568\n        ],\n        \"semantic_type\": \"\",\n        \"description\": \"\"\n      }\n    }\n  ]\n}"
            }
          },
          "metadata": {},
          "execution_count": 18
        }
      ]
    },
    {
      "cell_type": "code",
      "source": [
        "# d)\n",
        "plt.plot(P, color='k', label= 'Probabilidad por secuencia')\n",
        "plt.axhline(np.max(P), color='r', label = 'MaxP = ' + str(np.round(np.max(P),4)))\n",
        "plt.legend()\n",
        "plt.show()"
      ],
      "metadata": {
        "colab": {
          "base_uri": "https://localhost:8080/",
          "height": 434
        },
        "id": "4cKzpF-Gf9sp",
        "outputId": "f0ed0219-8eb3-4d59-f356-f8bec69b3f10"
      },
      "execution_count": 21,
      "outputs": [
        {
          "output_type": "display_data",
          "data": {
            "text/plain": [
              "<Figure size 640x480 with 1 Axes>"
            ],
            "image/png": "[encoded data removed]"
          },
          "metadata": {}
        }
      ]
    },
    {
      "cell_type": "code",
      "source": [
        "# e)\n",
        "ObsStates = GetStates([0,1],8)\n",
        "ObsStates\n",
        "\n",
        "Nobs = ObsStates.shape[0]\n",
        "\n",
        "PObs = np.zeros(Nobs)\n",
        "\n",
        "for j in range(Nobs):\n",
        "\n",
        "  dim = HiddenStates.shape[0]\n",
        "  P = np.zeros(dim)\n",
        "\n",
        "  for i in range(dim):\n",
        "    P[i] = GetProb(T,E,ObsStates[j],HiddenStates[i],Prior)\n",
        "\n",
        "  PObs[j] = np.sum(P)\n",
        "\n",
        "PObs"
      ],
      "metadata": {
        "colab": {
          "base_uri": "https://localhost:8080/"
        },
        "collapsed": true,
        "id": "kkxRv0T6lhRU",
        "outputId": "6245b12d-d48b-40d7-9301-8abc484953b3"
      },
      "execution_count": 22,
      "outputs": [
        {
          "output_type": "execute_result",
          "data": {
            "text/plain": [
              "array([0.13698241, 0.04114921, 0.0347373 , 0.03175272, 0.03026766,\n",
              "       0.02932288, 0.02830811, 0.02656789, 0.02297818, 0.01870516,\n",
              "       0.01330002, 0.01467809, 0.01079433, 0.01067359, 0.01276253,\n",
              "       0.00956961, 0.00877661, 0.00936674, 0.01172117, 0.00883478,\n",
              "       0.00776184, 0.00767971, 0.00853533, 0.01088136, 0.00811519,\n",
              "       0.00697382, 0.00661175, 0.00679511, 0.00764233, 0.00970066,\n",
              "       0.00694603, 0.00590355, 0.00547305, 0.00537647, 0.00555143,\n",
              "       0.00611094, 0.0074164 , 0.00955193, 0.00649319, 0.00616157,\n",
              "       0.00733671, 0.00505945, 0.00428819, 0.00497251, 0.00456283,\n",
              "       0.0048075 , 0.00623446, 0.00432462, 0.00337544, 0.00382959,\n",
              "       0.00321043, 0.00330316, 0.00416108, 0.00372302, 0.00355961,\n",
              "       0.00405611, 0.00553322, 0.00381405, 0.00283376, 0.00316972,\n",
              "       0.00249084, 0.00251514, 0.00309313, 0.00256378, 0.00241017,\n",
              "       0.0026765 , 0.00353481, 0.00309969, 0.00278698, 0.0028754 ,\n",
              "       0.00342205, 0.00478004, 0.00319794, 0.00231328, 0.00256666,\n",
              "       0.00193925, 0.00193444, 0.00234078, 0.00183427, 0.00170131,\n",
              "       0.00184945, 0.00237437, 0.00193054, 0.00171671, 0.0017367 ,\n",
              "       0.00200341, 0.00268914, 0.00229023, 0.00199057, 0.00192969,\n",
              "       0.00206826, 0.00249578, 0.00348841, 0.00497054, 0.0033236 ,\n",
              "       0.00304519, 0.00311076, 0.00376161, 0.00253029, 0.00206191,\n",
              "       0.00205278, 0.00246933, 0.0021158 , 0.0019167 , 0.00225856,\n",
              "       0.00220175, 0.00235363, 0.00310439, 0.0020782 , 0.00155134,\n",
              "       0.00151111, 0.00180946, 0.00141526, 0.00124957, 0.00146357,\n",
              "       0.0013954 , 0.00148394, 0.00194555, 0.00158206, 0.00129338,\n",
              "       0.00148593, 0.00131375, 0.00137119, 0.00175811, 0.00165634,\n",
              "       0.00160044, 0.00185224, 0.00257438, 0.00167529, 0.00118368,\n",
              "       0.00113585, 0.00135576, 0.00098913, 0.00085454, 0.00099563,\n",
              "       0.00093056, 0.0009849 , 0.00128408, 0.00096595, 0.00077289,\n",
              "       0.00088288, 0.00076216, 0.00079048, 0.00100575, 0.00092683,\n",
              "       0.00089159, 0.00102519, 0.00141394, 0.0010992 , 0.00083817,\n",
              "       0.00094468, 0.00076896, 0.00078459, 0.00097797, 0.00084688,\n",
              "       0.00080403, 0.00090653, 0.00122058, 0.00112224, 0.00101556,\n",
              "       0.00105958, 0.00128275, 0.00182922, 0.00256794, 0.00168142,\n",
              "       0.00152212, 0.00150379, 0.00155895, 0.00189063, 0.00122933,\n",
              "       0.00098331, 0.00094521, 0.0009748 , 0.00118099, 0.00098838,\n",
              "       0.00086356, 0.00087339, 0.001054  , 0.00095838, 0.00088149,\n",
              "       0.00104234, 0.00102894, 0.00110308, 0.00145974, 0.00091963,\n",
              "       0.00066712, 0.00062556, 0.00064202, 0.00077707, 0.00058547,\n",
              "       0.00049591, 0.00049813, 0.0006003 , 0.00053225, 0.00048646,\n",
              "       0.0005744 , 0.0005641 , 0.00060404, 0.00079827, 0.00062195,\n",
              "       0.00048718, 0.00048042, 0.00057676, 0.00047552, 0.00042628,\n",
              "       0.00050108, 0.00048415, 0.00051648, 0.00067961, 0.00057942,\n",
              "       0.00047945, 0.00055256, 0.00049484, 0.00051819, 0.00066708,\n",
              "       0.00063555, 0.00061546, 0.00071458, 0.00099692, 0.00129252,\n",
              "       0.00080697, 0.00071883, 0.00070371, 0.00070597, 0.00073395,\n",
              "       0.0008906 , 0.00053072, 0.00040913, 0.00038751, 0.00038632,\n",
              "       0.00040116, 0.00048667, 0.00039234, 0.00033728, 0.00032959,\n",
              "       0.00034098, 0.00041336, 0.00036815, 0.00032701, 0.0003319 ,\n",
              "       0.00040083, 0.00036912, 0.00034056, 0.00040299, 0.00039881,\n",
              "       0.00042778, 0.00056647, 0.00060902, 0.00033276, 0.00028253,\n",
              "       0.00027346, 0.00027216, 0.00027387, 0.00028489, 0.00034573,\n",
              "       0.00023643])"
            ]
          },
          "metadata": {},
          "execution_count": 22
        }
      ]
    },
    {
      "cell_type": "code",
      "source": [
        "# f)\n",
        "np.sum(PObs)"
      ],
      "metadata": {
        "colab": {
          "base_uri": "https://localhost:8080/"
        },
        "id": "4AAMJkN7h_Xy",
        "outputId": "f8cf1d5e-fc3f-46c3-b628-0bd9d89f2d3d"
      },
      "execution_count": 23,
      "outputs": [
        {
          "output_type": "execute_result",
          "data": {
            "text/plain": [
              "1.0000000000000007"
            ]
          },
          "metadata": {},
          "execution_count": 23
        }
      ]
    },
    {
      "cell_type": "code",
      "source": [
        "# g), h)"
      ],
      "metadata": {
        "id": "qXBE8XYGu9iv"
      },
      "execution_count": 7,
      "outputs": []
    },
    {
      "cell_type": "code",
      "source": [
        "# Maxwell-Boltzmann distribution\n",
        "\n",
        "#a)\n",
        "url = \"https://raw.githubusercontent.com/asegura4488/Database/main/MetodosComputacionalesReforma/Maxwell.csv\"\n",
        "\n",
        "# Leer el archivo CSV directamente en un DataFrame\n",
        "df = pd.read_csv(url)\n",
        "\n",
        "# Guardar el DataFrame como un archivo CSV\n",
        "df.to_csv('Maxwell.csv', index=False)\n",
        "\n",
        "Maxwell = pd.read_csv('Maxwell.csv')\n",
        "Maxwell"
      ],
      "metadata": {
        "colab": {
          "base_uri": "https://localhost:8080/",
          "height": 424
        },
        "id": "FjQnXbn-Bgxh",
        "outputId": "a8961108-14dd-4970-db0a-d3923d6c504d"
      },
      "execution_count": 8,
      "outputs": [
        {
          "output_type": "execute_result",
          "data": {
            "text/plain": [
              "       Velocidad\n",
              "0     547.265773\n",
              "1     449.920418\n",
              "2     773.814382\n",
              "3     823.668389\n",
              "4     352.873887\n",
              "...          ...\n",
              "2995  601.470068\n",
              "2996  508.491149\n",
              "2997  594.981398\n",
              "2998  376.388615\n",
              "2999  539.813140\n",
              "\n",
              "[3000 rows x 1 columns]"
            ],
            "text/html": [
              "\n",
              "  <div id=\"df-b2630a0f-811d-4d4c-afd1-e783ad05724f\" class=\"colab-df-container\">\n",
              "    <div>\n",
              "<style scoped>\n",
              "    .dataframe tbody tr th:only-of-type {\n",
              "        vertical-align: middle;\n",
              "    }\n",
              "\n",
              "    .dataframe tbody tr th {\n",
              "        vertical-align: top;\n",
              "    }\n",
              "\n",
              "    .dataframe thead th {\n",
              "        text-align: right;\n",
              "    }\n",
              "</style>\n",
              "<table border=\"1\" class=\"dataframe\">\n",
              "  <thead>\n",
              "    <tr style=\"text-align: right;\">\n",
              "      <th></th>\n",
              "      <th>Velocidad</th>\n",
              "    </tr>\n",
              "  </thead>\n",
              "  <tbody>\n",
              "    <tr>\n",
              "      <th>0</th>\n",
              "      <td>547.265773</td>\n",
              "    </tr>\n",
              "    <tr>\n",
              "      <th>1</th>\n",
              "      <td>449.920418</td>\n",
              "    </tr>\n",
              "    <tr>\n",
              "      <th>2</th>\n",
              "      <td>773.814382</td>\n",
              "    </tr>\n",
              "    <tr>\n",
              "      <th>3</th>\n",
              "      <td>823.668389</td>\n",
              "    </tr>\n",
              "    <tr>\n",
              "      <th>4</th>\n",
              "      <td>352.873887</td>\n",
              "    </tr>\n",
              "    <tr>\n",
              "      <th>...</th>\n",
              "      <td>...</td>\n",
              "    </tr>\n",
              "    <tr>\n",
              "      <th>2995</th>\n",
              "      <td>601.470068</td>\n",
              "    </tr>\n",
              "    <tr>\n",
              "      <th>2996</th>\n",
              "      <td>508.491149</td>\n",
              "    </tr>\n",
              "    <tr>\n",
              "      <th>2997</th>\n",
              "      <td>594.981398</td>\n",
              "    </tr>\n",
              "    <tr>\n",
              "      <th>2998</th>\n",
              "      <td>376.388615</td>\n",
              "    </tr>\n",
              "    <tr>\n",
              "      <th>2999</th>\n",
              "      <td>539.813140</td>\n",
              "    </tr>\n",
              "  </tbody>\n",
              "</table>\n",
              "<p>3000 rows × 1 columns</p>\n",
              "</div>\n",
              "    <div class=\"colab-df-buttons\">\n",
              "\n",
              "  <div class=\"colab-df-container\">\n",
              "    <button class=\"colab-df-convert\" onclick=\"convertToInteractive('df-b2630a0f-811d-4d4c-afd1-e783ad05724f')\"\n",
              "            title=\"Convert this dataframe to an interactive table.\"\n",
              "            style=\"display:none;\">\n",
              "\n",
              "  <svg xmlns=\"http://www.w3.org/2000/svg\" height=\"24px\" viewBox=\"0 -960 960 960\">\n",
              "    <path d=\"M120-120v-720h720v720H120Zm60-500h600v-160H180v160Zm220 220h160v-160H400v160Zm0 220h160v-160H400v160ZM180-400h160v-160H180v160Zm440 0h160v-160H620v160ZM180-180h160v-160H180v160Zm440 0h160v-160H620v160Z\"/>\n",
              "  </svg>\n",
              "    </button>\n",
              "\n",
              "  <style>\n",
              "    .colab-df-container {\n",
              "      display:flex;\n",
              "      gap: 12px;\n",
              "    }\n",
              "\n",
              "    .colab-df-convert {\n",
              "      background-color: #E8F0FE;\n",
              "      border: none;\n",
              "      border-radius: 50%;\n",
              "      cursor: pointer;\n",
              "      display: none;\n",
              "      fill: #1967D2;\n",
              "      height: 32px;\n",
              "      padding: 0 0 0 0;\n",
              "      width: 32px;\n",
              "    }\n",
              "\n",
              "    .colab-df-convert:hover {\n",
              "      background-color: #E2EBFA;\n",
              "      box-shadow: 0px 1px 2px rgba(60, 64, 67, 0.3), 0px 1px 3px 1px rgba(60, 64, 67, 0.15);\n",
              "      fill: #174EA6;\n",
              "    }\n",
              "\n",
              "    .colab-df-buttons div {\n",
              "      margin-bottom: 4px;\n",
              "    }\n",
              "\n",
              "    [theme=dark] .colab-df-convert {\n",
              "      background-color: #3B4455;\n",
              "      fill: #D2E3FC;\n",
              "    }\n",
              "\n",
              "    [theme=dark] .colab-df-convert:hover {\n",
              "      background-color: #434B5C;\n",
              "      box-shadow: 0px 1px 3px 1px rgba(0, 0, 0, 0.15);\n",
              "      filter: drop-shadow(0px 1px 2px rgba(0, 0, 0, 0.3));\n",
              "      fill: #FFFFFF;\n",
              "    }\n",
              "  </style>\n",
              "\n",
              "    <script>\n",
              "      const buttonEl =\n",
              "        document.querySelector('#df-b2630a0f-811d-4d4c-afd1-e783ad05724f button.colab-df-convert');\n",
              "      buttonEl.style.display =\n",
              "        google.colab.kernel.accessAllowed ? 'block' : 'none';\n",
              "\n",
              "      async function convertToInteractive(key) {\n",
              "        const element = document.querySelector('#df-b2630a0f-811d-4d4c-afd1-e783ad05724f');\n",
              "        const dataTable =\n",
              "          await google.colab.kernel.invokeFunction('convertToInteractive',\n",
              "                                                    [key], {});\n",
              "        if (!dataTable) return;\n",
              "\n",
              "        const docLinkHtml = 'Like what you see? Visit the ' +\n",
              "          '<a target=\"_blank\" href=https://colab.research.google.com/notebooks/data_table.ipynb>data table notebook</a>'\n",
              "          + ' to learn more about interactive tables.';\n",
              "        element.innerHTML = '';\n",
              "        dataTable['output_type'] = 'display_data';\n",
              "        await google.colab.output.renderOutput(dataTable, element);\n",
              "        const docLink = document.createElement('div');\n",
              "        docLink.innerHTML = docLinkHtml;\n",
              "        element.appendChild(docLink);\n",
              "      }\n",
              "    </script>\n",
              "  </div>\n",
              "\n",
              "\n",
              "<div id=\"df-9f2461bb-ac49-4bbb-ac72-dbda29f7e191\">\n",
              "  <button class=\"colab-df-quickchart\" onclick=\"quickchart('df-9f2461bb-ac49-4bbb-ac72-dbda29f7e191')\"\n",
              "            title=\"Suggest charts\"\n",
              "            style=\"display:none;\">\n",
              "\n",
              "<svg xmlns=\"http://www.w3.org/2000/svg\" height=\"24px\"viewBox=\"0 0 24 24\"\n",
              "     width=\"24px\">\n",
              "    <g>\n",
              "        <path d=\"M19 3H5c-1.1 0-2 .9-2 2v14c0 1.1.9 2 2 2h14c1.1 0 2-.9 2-2V5c0-1.1-.9-2-2-2zM9 17H7v-7h2v7zm4 0h-2V7h2v10zm4 0h-2v-4h2v4z\"/>\n",
              "    </g>\n",
              "</svg>\n",
              "  </button>\n",
              "\n",
              "<style>\n",
              "  .colab-df-quickchart {\n",
              "      --bg-color: #E8F0FE;\n",
              "      --fill-color: #1967D2;\n",
              "      --hover-bg-color: #E2EBFA;\n",
              "      --hover-fill-color: #174EA6;\n",
              "      --disabled-fill-color: #AAA;\n",
              "      --disabled-bg-color: #DDD;\n",
              "  }\n",
              "\n",
              "  [theme=dark] .colab-df-quickchart {\n",
              "      --bg-color: #3B4455;\n",
              "      --fill-color: #D2E3FC;\n",
              "      --hover-bg-color: #434B5C;\n",
              "      --hover-fill-color: #FFFFFF;\n",
              "      --disabled-bg-color: #3B4455;\n",
              "      --disabled-fill-color: #666;\n",
              "  }\n",
              "\n",
              "  .colab-df-quickchart {\n",
              "    background-color: var(--bg-color);\n",
              "    border: none;\n",
              "    border-radius: 50%;\n",
              "    cursor: pointer;\n",
              "    display: none;\n",
              "    fill: var(--fill-color);\n",
              "    height: 32px;\n",
              "    padding: 0;\n",
              "    width: 32px;\n",
              "  }\n",
              "\n",
              "  .colab-df-quickchart:hover {\n",
              "    background-color: var(--hover-bg-color);\n",
              "    box-shadow: 0 1px 2px rgba(60, 64, 67, 0.3), 0 1px 3px 1px rgba(60, 64, 67, 0.15);\n",
              "    fill: var(--button-hover-fill-color);\n",
              "  }\n",
              "\n",
              "  .colab-df-quickchart-complete:disabled,\n",
              "  .colab-df-quickchart-complete:disabled:hover {\n",
              "    background-color: var(--disabled-bg-color);\n",
              "    fill: var(--disabled-fill-color);\n",
              "    box-shadow: none;\n",
              "  }\n",
              "\n",
              "  .colab-df-spinner {\n",
              "    border: 2px solid var(--fill-color);\n",
              "    border-color: transparent;\n",
              "    border-bottom-color: var(--fill-color);\n",
              "    animation:\n",
              "      spin 1s steps(1) infinite;\n",
              "  }\n",
              "\n",
              "  @keyframes spin {\n",
              "    0% {\n",
              "      border-color: transparent;\n",
              "      border-bottom-color: var(--fill-color);\n",
              "      border-left-color: var(--fill-color);\n",
              "    }\n",
              "    20% {\n",
              "      border-color: transparent;\n",
              "      border-left-color: var(--fill-color);\n",
              "      border-top-color: var(--fill-color);\n",
              "    }\n",
              "    30% {\n",
              "      border-color: transparent;\n",
              "      border-left-color: var(--fill-color);\n",
              "      border-top-color: var(--fill-color);\n",
              "      border-right-color: var(--fill-color);\n",
              "    }\n",
              "    40% {\n",
              "      border-color: transparent;\n",
              "      border-right-color: var(--fill-color);\n",
              "      border-top-color: var(--fill-color);\n",
              "    }\n",
              "    60% {\n",
              "      border-color: transparent;\n",
              "      border-right-color: var(--fill-color);\n",
              "    }\n",
              "    80% {\n",
              "      border-color: transparent;\n",
              "      border-right-color: var(--fill-color);\n",
              "      border-bottom-color: var(--fill-color);\n",
              "    }\n",
              "    90% {\n",
              "      border-color: transparent;\n",
              "      border-bottom-color: var(--fill-color);\n",
              "    }\n",
              "  }\n",
              "</style>\n",
              "\n",
              "  <script>\n",
              "    async function quickchart(key) {\n",
              "      const quickchartButtonEl =\n",
              "        document.querySelector('#' + key + ' button');\n",
              "      quickchartButtonEl.disabled = true;  // To prevent multiple clicks.\n",
              "      quickchartButtonEl.classList.add('colab-df-spinner');\n",
              "      try {\n",
              "        const charts = await google.colab.kernel.invokeFunction(\n",
              "            'suggestCharts', [key], {});\n",
              "      } catch (error) {\n",
              "        console.error('Error during call to suggestCharts:', error);\n",
              "      }\n",
              "      quickchartButtonEl.classList.remove('colab-df-spinner');\n",
              "      quickchartButtonEl.classList.add('colab-df-quickchart-complete');\n",
              "    }\n",
              "    (() => {\n",
              "      let quickchartButtonEl =\n",
              "        document.querySelector('#df-9f2461bb-ac49-4bbb-ac72-dbda29f7e191 button');\n",
              "      quickchartButtonEl.style.display =\n",
              "        google.colab.kernel.accessAllowed ? 'block' : 'none';\n",
              "    })();\n",
              "  </script>\n",
              "</div>\n",
              "\n",
              "  <div id=\"id_28b75897-8598-467a-9fdc-d1d312bc1f8d\">\n",
              "    <style>\n",
              "      .colab-df-generate {\n",
              "        background-color: #E8F0FE;\n",
              "        border: none;\n",
              "        border-radius: 50%;\n",
              "        cursor: pointer;\n",
              "        display: none;\n",
              "        fill: #1967D2;\n",
              "        height: 32px;\n",
              "        padding: 0 0 0 0;\n",
              "        width: 32px;\n",
              "      }\n",
              "\n",
              "      .colab-df-generate:hover {\n",
              "        background-color: #E2EBFA;\n",
              "        box-shadow: 0px 1px 2px rgba(60, 64, 67, 0.3), 0px 1px 3px 1px rgba(60, 64, 67, 0.15);\n",
              "        fill: #174EA6;\n",
              "      }\n",
              "\n",
              "      [theme=dark] .colab-df-generate {\n",
              "        background-color: #3B4455;\n",
              "        fill: #D2E3FC;\n",
              "      }\n",
              "\n",
              "      [theme=dark] .colab-df-generate:hover {\n",
              "        background-color: #434B5C;\n",
              "        box-shadow: 0px 1px 3px 1px rgba(0, 0, 0, 0.15);\n",
              "        filter: drop-shadow(0px 1px 2px rgba(0, 0, 0, 0.3));\n",
              "        fill: #FFFFFF;\n",
              "      }\n",
              "    </style>\n",
              "    <button class=\"colab-df-generate\" onclick=\"generateWithVariable('Maxwell')\"\n",
              "            title=\"Generate code using this dataframe.\"\n",
              "            style=\"display:none;\">\n",
              "\n",
              "  <svg xmlns=\"http://www.w3.org/2000/svg\" height=\"24px\"viewBox=\"0 0 24 24\"\n",
              "       width=\"24px\">\n",
              "    <path d=\"M7,19H8.4L18.45,9,17,7.55,7,17.6ZM5,21V16.75L18.45,3.32a2,2,0,0,1,2.83,0l1.4,1.43a1.91,1.91,0,0,1,.58,1.4,1.91,1.91,0,0,1-.58,1.4L9.25,21ZM18.45,9,17,7.55Zm-12,3A5.31,5.31,0,0,0,4.9,8.1,5.31,5.31,0,0,0,1,6.5,5.31,5.31,0,0,0,4.9,4.9,5.31,5.31,0,0,0,6.5,1,5.31,5.31,0,0,0,8.1,4.9,5.31,5.31,0,0,0,12,6.5,5.46,5.46,0,0,0,6.5,12Z\"/>\n",
              "  </svg>\n",
              "    </button>\n",
              "    <script>\n",
              "      (() => {\n",
              "      const buttonEl =\n",
              "        document.querySelector('#id_28b75897-8598-467a-9fdc-d1d312bc1f8d button.colab-df-generate');\n",
              "      buttonEl.style.display =\n",
              "        google.colab.kernel.accessAllowed ? 'block' : 'none';\n",
              "\n",
              "      buttonEl.onclick = () => {\n",
              "        google.colab.notebook.generateWithVariable('Maxwell');\n",
              "      }\n",
              "      })();\n",
              "    </script>\n",
              "  </div>\n",
              "\n",
              "    </div>\n",
              "  </div>\n"
            ],
            "application/vnd.google.colaboratory.intrinsic+json": {
              "type": "dataframe",
              "variable_name": "Maxwell",
              "summary": "{\n  \"name\": \"Maxwell\",\n  \"rows\": 3000,\n  \"fields\": [\n    {\n      \"column\": \"Velocidad\",\n      \"properties\": {\n        \"dtype\": \"number\",\n        \"std\": 205.65964986759843,\n        \"min\": 9.57362201409506,\n        \"max\": 1295.3920966708288,\n        \"num_unique_values\": 3000,\n        \"samples\": [\n          713.6990726044723,\n          461.2056405133269,\n          533.8229163280891\n        ],\n        \"semantic_type\": \"\",\n        \"description\": \"\"\n      }\n    }\n  ]\n}"
            }
          },
          "metadata": {},
          "execution_count": 8
        }
      ]
    },
    {
      "cell_type": "code",
      "source": [
        "#b)\n",
        "histograma = plt.hist(Maxwell, bins=60, density=True)"
      ],
      "metadata": {
        "colab": {
          "base_uri": "https://localhost:8080/",
          "height": 430
        },
        "id": "7Qd8Iw4ECK8Y",
        "outputId": "f67c6c62-4df6-4428-c99b-d3b1cc175d99"
      },
      "execution_count": 9,
      "outputs": [
        {
          "output_type": "display_data",
          "data": {
            "text/plain": [
              "<Figure size 640x480 with 1 Axes>"
            ],
            "image/png": "[encoded data removed]"
          },
          "metadata": {}
        }
      ]
    },
    {
      "cell_type": "code",
      "source": [
        "# c)\n",
        "promedio = np.mean(histograma[0])\n",
        "promedio"
      ],
      "metadata": {
        "colab": {
          "base_uri": "https://localhost:8080/"
        },
        "id": "qeDOMzXcEaxF",
        "outputId": "31eb2cf3-f632-48a4-91ba-da3cbad9f082"
      },
      "execution_count": 10,
      "outputs": [
        {
          "output_type": "execute_result",
          "data": {
            "text/plain": [
              "0.0007777147550061165"
            ]
          },
          "metadata": {},
          "execution_count": 10
        }
      ]
    },
    {
      "cell_type": "code",
      "source": [
        "# d)\n",
        "V = Maxwell['Velocidad']\n",
        "\n",
        "def likelihood(T,v):\n",
        "  epsilon = 1e-10  # Un valor pequeño\n",
        "  result = ((0.028 / (2 * np.pi * 8.31 * T))**(3/2)) * (4 * np.pi * (v**2) * np.exp(-0.028 * v**2 / (2 * 8.31 * T)))\n",
        "  return result + epsilon  # Sumar epsilon\n",
        "\n",
        "plt.hist(V, bins=60, density=True)\n",
        "x=np.linspace(0,1500,1000)\n",
        "plt.plot(x,likelihood(1000,x), color='k')\n",
        "plt.show()"
      ],
      "metadata": {
        "colab": {
          "base_uri": "https://localhost:8080/",
          "height": 430
        },
        "id": "dhpXdSSBFmJJ",
        "outputId": "9b37721c-e1fc-4058-8b35-710ee1c6cc78"
      },
      "execution_count": 11,
      "outputs": [
        {
          "output_type": "display_data",
          "data": {
            "text/plain": [
              "<Figure size 640x480 with 1 Axes>"
            ],
            "image/png": "[encoded data removed]"
          },
          "metadata": {}
        }
      ]
    },
    {
      "cell_type": "code",
      "source": [
        "# e)\n",
        "def JointLikelihood(T,v):\n",
        "  try:\n",
        "    result = -np.sum(np.log(likelihood(T, v)))\n",
        "  except ZeroDivisionError:\n",
        "    result = float('inf')  # Asignar un valor grande en caso de error\n",
        "  return result\n",
        "\n",
        "p0 = 100\n",
        "import scipy.optimize as spo\n",
        "result = spo.minimize(JointLikelihood,p0,args=(V))\n",
        "result.x"
      ],
      "metadata": {
        "colab": {
          "base_uri": "https://localhost:8080/"
        },
        "id": "p27OQ2OW0-j5",
        "outputId": "5ef7ad38-2b9a-4c20-8e85-8ca23d2f15a5"
      },
      "execution_count": 12,
      "outputs": [
        {
          "output_type": "execute_result",
          "data": {
            "text/plain": [
              "array([297.89452501])"
            ]
          },
          "metadata": {},
          "execution_count": 12
        }
      ]
    },
    {
      "cell_type": "code",
      "source": [
        "plt.hist(V, bins=60, density=True, color='teal')\n",
        "x=np.linspace(0,1500,1000)\n",
        "plt.plot(x,likelihood(result.x,x), color='k', label='T = ' + str(np.round(result.x[0],2)) +\" K\")\n",
        "plt.xlabel('V[m/s]')\n",
        "plt.ylabel('T(V)AV')\n",
        "plt.legend()\n",
        "plt.show()"
      ],
      "metadata": {
        "colab": {
          "base_uri": "https://localhost:8080/",
          "height": 449
        },
        "id": "cKBVbbjRZc67",
        "outputId": "5e278cc5-4df5-4ead-b4b2-747cd7ff57d3"
      },
      "execution_count": 13,
      "outputs": [
        {
          "output_type": "display_data",
          "data": {
            "text/plain": [
              "<Figure size 640x480 with 1 Axes>"
            ],
            "image/png": "[encoded data removed]"
          },
          "metadata": {}
        }
      ]
    },
    {
      "cell_type": "code",
      "source": [
        "# f)\n",
        "vp = np.sqrt(2 * 8.31 * result.x / 0.028)\n",
        "vp"
      ],
      "metadata": {
        "colab": {
          "base_uri": "https://localhost:8080/"
        },
        "id": "RzXmBZ-DZr__",
        "outputId": "0844ace1-f6e8-44d0-c9f0-5d9ed50469a4"
      },
      "execution_count": 14,
      "outputs": [
        {
          "output_type": "execute_result",
          "data": {
            "text/plain": [
              "array([420.5016989])"
            ]
          },
          "metadata": {},
          "execution_count": 14
        }
      ]
    },
    {
      "cell_type": "code",
      "source": [
        "# g)\n",
        "vm = (2/np.sqrt(np.pi)) * vp\n",
        "vm"
      ],
      "metadata": {
        "colab": {
          "base_uri": "https://localhost:8080/"
        },
        "id": "-1vjN5ioWyke",
        "outputId": "09bcd209-0915-4b03-b1a7-82efbc585faf"
      },
      "execution_count": 15,
      "outputs": [
        {
          "output_type": "execute_result",
          "data": {
            "text/plain": [
              "array([474.48535676])"
            ]
          },
          "metadata": {},
          "execution_count": 15
        }
      ]
    },
    {
      "cell_type": "code",
      "source": [
        "# h)\n",
        "v2 = np.sqrt(3 * 8.31 * result.x / 0.028)\n",
        "v2"
      ],
      "metadata": {
        "colab": {
          "base_uri": "https://localhost:8080/"
        },
        "id": "6pO7Qf040eA_",
        "outputId": "d6ce40f3-7107-4b47-d4b2-f205ed1a877c"
      },
      "execution_count": 16,
      "outputs": [
        {
          "output_type": "execute_result",
          "data": {
            "text/plain": [
              "array([515.00729914])"
            ]
          },
          "metadata": {},
          "execution_count": 16
        }
      ]
    },
    {
      "cell_type": "code",
      "source": [
        "# i)\n",
        "!pip install emcee\n",
        "!pip install corner"
      ],
      "metadata": {
        "colab": {
          "base_uri": "https://localhost:8080/"
        },
        "collapsed": true,
        "id": "BE2QfMXJ04oy",
        "outputId": "504d542a-aea8-4c20-b837-6b8e4c05ef70"
      },
      "execution_count": 46,
      "outputs": [
        {
          "output_type": "stream",
          "name": "stdout",
          "text": [
            "Requirement already satisfied: emcee in /usr/local/lib/python3.10/dist-packages (3.1.6)\n",
            "Requirement already satisfied: numpy in /usr/local/lib/python3.10/dist-packages (from emcee) (1.26.4)\n",
            "Requirement already satisfied: corner in /usr/local/lib/python3.10/dist-packages (2.2.3)\n",
            "Requirement already satisfied: matplotlib>=2.1 in /usr/local/lib/python3.10/dist-packages (from corner) (3.8.0)\n",
            "Requirement already satisfied: contourpy>=1.0.1 in /usr/local/lib/python3.10/dist-packages (from matplotlib>=2.1->corner) (1.3.1)\n",
            "Requirement already satisfied: cycler>=0.10 in /usr/local/lib/python3.10/dist-packages (from matplotlib>=2.1->corner) (0.12.1)\n",
            "Requirement already satisfied: fonttools>=4.22.0 in /usr/local/lib/python3.10/dist-packages (from matplotlib>=2.1->corner) (4.55.0)\n",
            "Requirement already satisfied: kiwisolver>=1.0.1 in /usr/local/lib/python3.10/dist-packages (from matplotlib>=2.1->corner) (1.4.7)\n",
            "Requirement already satisfied: numpy<2,>=1.21 in /usr/local/lib/python3.10/dist-packages (from matplotlib>=2.1->corner) (1.26.4)\n",
            "Requirement already satisfied: packaging>=20.0 in /usr/local/lib/python3.10/dist-packages (from matplotlib>=2.1->corner) (24.2)\n",
            "Requirement already satisfied: pillow>=6.2.0 in /usr/local/lib/python3.10/dist-packages (from matplotlib>=2.1->corner) (11.0.0)\n",
            "Requirement already satisfied: pyparsing>=2.3.1 in /usr/local/lib/python3.10/dist-packages (from matplotlib>=2.1->corner) (3.2.0)\n",
            "Requirement already satisfied: python-dateutil>=2.7 in /usr/local/lib/python3.10/dist-packages (from matplotlib>=2.1->corner) (2.8.2)\n",
            "Requirement already satisfied: six>=1.5 in /usr/local/lib/python3.10/dist-packages (from python-dateutil>=2.7->matplotlib>=2.1->corner) (1.16.0)\n"
          ]
        }
      ]
    },
    {
      "cell_type": "code",
      "source": [
        "import emcee\n",
        "import corner\n",
        "\n",
        "def LogPrior(T):\n",
        "  if 100 < T < 1500:\n",
        "    return 0.0\n",
        "  else:\n",
        "    return -np.inf\n",
        "\n",
        "def LogLikelihood(T,v):\n",
        "  return np.sum(np.log(likelihood(T, v)))\n",
        "\n",
        "\n",
        "def LogPosterior(T,v):\n",
        "\n",
        "  LogP = LogPrior(T)\n",
        "  if not np.isfinite(LogP):\n",
        "    return -np.inf\n",
        "  else:\n",
        "    return LogP - JointLikelihood(T,v)\n",
        "\n",
        "LogPosterior(1000,V)"
      ],
      "metadata": {
        "colab": {
          "base_uri": "https://localhost:8080/"
        },
        "id": "6HXTqP2_40_j",
        "outputId": "9d35f3cc-e688-42dc-e7df-3b463db61132"
      },
      "execution_count": 45,
      "outputs": [
        {
          "output_type": "execute_result",
          "data": {
            "text/plain": [
              "-22444.68814864959"
            ]
          },
          "metadata": {},
          "execution_count": 45
        }
      ]
    },
    {
      "cell_type": "code",
      "source": [],
      "metadata": {
        "id": "pW3_aiDd_nD6"
      },
      "execution_count": 45,
      "outputs": []
    },
    {
      "cell_type": "code",
      "source": [],
      "metadata": {
        "id": "2tXG2ApIAFiY"
      },
      "execution_count": 45,
      "outputs": []
    }
  ]
}