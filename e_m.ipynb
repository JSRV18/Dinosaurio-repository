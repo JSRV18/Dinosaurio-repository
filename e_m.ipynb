{
  "nbformat": 4,
  "nbformat_minor": 0,
  "metadata": {
    "colab": {
      "provenance": [],
      "authorship_tag": "ABX9TyN2P0jh4EuSKwDhBnWZZV6x",
      "include_colab_link": true
    },
    "kernelspec": {
      "name": "python3",
      "display_name": "Python 3"
    },
    "language_info": {
      "name": "python"
    }
  },
  "cells": [
    {
      "cell_type": "markdown",
      "metadata": {
        "id": "view-in-github",
        "colab_type": "text"
      },
      "source": [
        "<a href=\"https://colab.research.google.com/github/JSRV18/Dinosaurio-repository/blob/main/e_m.ipynb\" target=\"_parent\"><img src=\"https://colab.research.google.com/assets/colab-badge.svg\" alt=\"Open In Colab\"/></a>"
      ]
    },
    {
      "cell_type": "code",
      "source": [
        "import numpy as np\n",
        "import matplotlib.pyplot as plt"
      ],
      "metadata": {
        "id": "CaogmIIFsofw"
      },
      "execution_count": 5,
      "outputs": []
    },
    {
      "cell_type": "code",
      "source": [
        "!pip install pint\n",
        "!pip install pint uncertainties\n",
        "import uncertainties\n",
        "from uncertainties import ufloat\n",
        "import pint as pint\n",
        "ureg=pint.UnitRegistry(auto_reduce_dimensions=True)\n",
        "Measurement=ureg.Measurement\n",
        "Quantity=ureg.Quantity"
      ],
      "metadata": {
        "colab": {
          "base_uri": "https://localhost:8080/"
        },
        "collapsed": true,
        "id": "6rCM-ahNv6os",
        "outputId": "52dd5291-b70b-47c8-e189-76d36aeeb549"
      },
      "execution_count": null,
      "outputs": [
        {
          "output_type": "stream",
          "name": "stdout",
          "text": [
            "Collecting pint\n",
            "  Downloading Pint-0.24.4-py3-none-any.whl.metadata (8.5 kB)\n",
            "Requirement already satisfied: platformdirs>=2.1.0 in /usr/local/lib/python3.11/dist-packages (from pint) (4.3.7)\n",
            "Requirement already satisfied: typing-extensions>=4.0.0 in /usr/local/lib/python3.11/dist-packages (from pint) (4.13.2)\n",
            "Collecting flexcache>=0.3 (from pint)\n",
            "  Downloading flexcache-0.3-py3-none-any.whl.metadata (7.0 kB)\n",
            "Collecting flexparser>=0.4 (from pint)\n",
            "  Downloading flexparser-0.4-py3-none-any.whl.metadata (18 kB)\n",
            "Downloading Pint-0.24.4-py3-none-any.whl (302 kB)\n",
            "\u001b[2K   \u001b[90m━━━━━━━━━━━━━━━━━━━━━━━━━━━━━━━━━━━━━━━━\u001b[0m \u001b[32m302.0/302.0 kB\u001b[0m \u001b[31m5.4 MB/s\u001b[0m eta \u001b[36m0:00:00\u001b[0m\n",
            "\u001b[?25hDownloading flexcache-0.3-py3-none-any.whl (13 kB)\n",
            "Downloading flexparser-0.4-py3-none-any.whl (27 kB)\n",
            "Installing collected packages: flexparser, flexcache, pint\n",
            "Successfully installed flexcache-0.3 flexparser-0.4 pint-0.24.4\n",
            "Requirement already satisfied: pint in /usr/local/lib/python3.11/dist-packages (0.24.4)\n",
            "Collecting uncertainties\n",
            "  Downloading uncertainties-3.2.2-py3-none-any.whl.metadata (6.9 kB)\n",
            "Requirement already satisfied: platformdirs>=2.1.0 in /usr/local/lib/python3.11/dist-packages (from pint) (4.3.7)\n",
            "Requirement already satisfied: typing-extensions>=4.0.0 in /usr/local/lib/python3.11/dist-packages (from pint) (4.13.2)\n",
            "Requirement already satisfied: flexcache>=0.3 in /usr/local/lib/python3.11/dist-packages (from pint) (0.3)\n",
            "Requirement already satisfied: flexparser>=0.4 in /usr/local/lib/python3.11/dist-packages (from pint) (0.4)\n",
            "Downloading uncertainties-3.2.2-py3-none-any.whl (58 kB)\n",
            "\u001b[2K   \u001b[90m━━━━━━━━━━━━━━━━━━━━━━━━━━━━━━━━━━━━━━━━\u001b[0m \u001b[32m58.3/58.3 kB\u001b[0m \u001b[31m4.0 MB/s\u001b[0m eta \u001b[36m0:00:00\u001b[0m\n",
            "\u001b[?25hInstalling collected packages: uncertainties\n",
            "Successfully installed uncertainties-3.2.2\n"
          ]
        }
      ]
    },
    {
      "cell_type": "code",
      "source": [
        "import pandas as pd\n",
        "\n",
        "data= {\n",
        "    \"miliamperios\": [12.3, 15.3, 19.4, 21.7, 23.1, 25, 27.4, 29.8, 33.2, 34.5, 36.4, 38.4, 40, 40.6],\n",
        "    \"miliTeslas\": [1, 1.3, 1.6,1.8, 2, 2.2, 2.3, 2.4, 2.7, 2.8, 3, 3.1, 3.3, 3.4]\n",
        "}\n",
        "\n",
        "df= pd.DataFrame(data)\n",
        "df"
      ],
      "metadata": {
        "colab": {
          "base_uri": "https://localhost:8080/",
          "height": 488
        },
        "id": "wO_XsHVuIDIH",
        "outputId": "795cf9bb-b8e0-42de-f3b6-1899c11313c4"
      },
      "execution_count": 3,
      "outputs": [
        {
          "output_type": "execute_result",
          "data": {
            "text/plain": [
              "    miliamperios  miliTeslas\n",
              "0           12.3         1.0\n",
              "1           15.3         1.3\n",
              "2           19.4         1.6\n",
              "3           21.7         1.8\n",
              "4           23.1         2.0\n",
              "5           25.0         2.2\n",
              "6           27.4         2.3\n",
              "7           29.8         2.4\n",
              "8           33.2         2.7\n",
              "9           34.5         2.8\n",
              "10          36.4         3.0\n",
              "11          38.4         3.1\n",
              "12          40.0         3.3\n",
              "13          40.6         3.4"
            ],
            "text/html": [
              "\n",
              "  <div id=\"df-1bf0cebd-4d57-4331-b239-f7eb047d6bc3\" class=\"colab-df-container\">\n",
              "    <div>\n",
              "<style scoped>\n",
              "    .dataframe tbody tr th:only-of-type {\n",
              "        vertical-align: middle;\n",
              "    }\n",
              "\n",
              "    .dataframe tbody tr th {\n",
              "        vertical-align: top;\n",
              "    }\n",
              "\n",
              "    .dataframe thead th {\n",
              "        text-align: right;\n",
              "    }\n",
              "</style>\n",
              "<table border=\"1\" class=\"dataframe\">\n",
              "  <thead>\n",
              "    <tr style=\"text-align: right;\">\n",
              "      <th></th>\n",
              "      <th>miliamperios</th>\n",
              "      <th>miliTeslas</th>\n",
              "    </tr>\n",
              "  </thead>\n",
              "  <tbody>\n",
              "    <tr>\n",
              "      <th>0</th>\n",
              "      <td>12.3</td>\n",
              "      <td>1.0</td>\n",
              "    </tr>\n",
              "    <tr>\n",
              "      <th>1</th>\n",
              "      <td>15.3</td>\n",
              "      <td>1.3</td>\n",
              "    </tr>\n",
              "    <tr>\n",
              "      <th>2</th>\n",
              "      <td>19.4</td>\n",
              "      <td>1.6</td>\n",
              "    </tr>\n",
              "    <tr>\n",
              "      <th>3</th>\n",
              "      <td>21.7</td>\n",
              "      <td>1.8</td>\n",
              "    </tr>\n",
              "    <tr>\n",
              "      <th>4</th>\n",
              "      <td>23.1</td>\n",
              "      <td>2.0</td>\n",
              "    </tr>\n",
              "    <tr>\n",
              "      <th>5</th>\n",
              "      <td>25.0</td>\n",
              "      <td>2.2</td>\n",
              "    </tr>\n",
              "    <tr>\n",
              "      <th>6</th>\n",
              "      <td>27.4</td>\n",
              "      <td>2.3</td>\n",
              "    </tr>\n",
              "    <tr>\n",
              "      <th>7</th>\n",
              "      <td>29.8</td>\n",
              "      <td>2.4</td>\n",
              "    </tr>\n",
              "    <tr>\n",
              "      <th>8</th>\n",
              "      <td>33.2</td>\n",
              "      <td>2.7</td>\n",
              "    </tr>\n",
              "    <tr>\n",
              "      <th>9</th>\n",
              "      <td>34.5</td>\n",
              "      <td>2.8</td>\n",
              "    </tr>\n",
              "    <tr>\n",
              "      <th>10</th>\n",
              "      <td>36.4</td>\n",
              "      <td>3.0</td>\n",
              "    </tr>\n",
              "    <tr>\n",
              "      <th>11</th>\n",
              "      <td>38.4</td>\n",
              "      <td>3.1</td>\n",
              "    </tr>\n",
              "    <tr>\n",
              "      <th>12</th>\n",
              "      <td>40.0</td>\n",
              "      <td>3.3</td>\n",
              "    </tr>\n",
              "    <tr>\n",
              "      <th>13</th>\n",
              "      <td>40.6</td>\n",
              "      <td>3.4</td>\n",
              "    </tr>\n",
              "  </tbody>\n",
              "</table>\n",
              "</div>\n",
              "    <div class=\"colab-df-buttons\">\n",
              "\n",
              "  <div class=\"colab-df-container\">\n",
              "    <button class=\"colab-df-convert\" onclick=\"convertToInteractive('df-1bf0cebd-4d57-4331-b239-f7eb047d6bc3')\"\n",
              "            title=\"Convert this dataframe to an interactive table.\"\n",
              "            style=\"display:none;\">\n",
              "\n",
              "  <svg xmlns=\"http://www.w3.org/2000/svg\" height=\"24px\" viewBox=\"0 -960 960 960\">\n",
              "    <path d=\"M120-120v-720h720v720H120Zm60-500h600v-160H180v160Zm220 220h160v-160H400v160Zm0 220h160v-160H400v160ZM180-400h160v-160H180v160Zm440 0h160v-160H620v160ZM180-180h160v-160H180v160Zm440 0h160v-160H620v160Z\"/>\n",
              "  </svg>\n",
              "    </button>\n",
              "\n",
              "  <style>\n",
              "    .colab-df-container {\n",
              "      display:flex;\n",
              "      gap: 12px;\n",
              "    }\n",
              "\n",
              "    .colab-df-convert {\n",
              "      background-color: #E8F0FE;\n",
              "      border: none;\n",
              "      border-radius: 50%;\n",
              "      cursor: pointer;\n",
              "      display: none;\n",
              "      fill: #1967D2;\n",
              "      height: 32px;\n",
              "      padding: 0 0 0 0;\n",
              "      width: 32px;\n",
              "    }\n",
              "\n",
              "    .colab-df-convert:hover {\n",
              "      background-color: #E2EBFA;\n",
              "      box-shadow: 0px 1px 2px rgba(60, 64, 67, 0.3), 0px 1px 3px 1px rgba(60, 64, 67, 0.15);\n",
              "      fill: #174EA6;\n",
              "    }\n",
              "\n",
              "    .colab-df-buttons div {\n",
              "      margin-bottom: 4px;\n",
              "    }\n",
              "\n",
              "    [theme=dark] .colab-df-convert {\n",
              "      background-color: #3B4455;\n",
              "      fill: #D2E3FC;\n",
              "    }\n",
              "\n",
              "    [theme=dark] .colab-df-convert:hover {\n",
              "      background-color: #434B5C;\n",
              "      box-shadow: 0px 1px 3px 1px rgba(0, 0, 0, 0.15);\n",
              "      filter: drop-shadow(0px 1px 2px rgba(0, 0, 0, 0.3));\n",
              "      fill: #FFFFFF;\n",
              "    }\n",
              "  </style>\n",
              "\n",
              "    <script>\n",
              "      const buttonEl =\n",
              "        document.querySelector('#df-1bf0cebd-4d57-4331-b239-f7eb047d6bc3 button.colab-df-convert');\n",
              "      buttonEl.style.display =\n",
              "        google.colab.kernel.accessAllowed ? 'block' : 'none';\n",
              "\n",
              "      async function convertToInteractive(key) {\n",
              "        const element = document.querySelector('#df-1bf0cebd-4d57-4331-b239-f7eb047d6bc3');\n",
              "        const dataTable =\n",
              "          await google.colab.kernel.invokeFunction('convertToInteractive',\n",
              "                                                    [key], {});\n",
              "        if (!dataTable) return;\n",
              "\n",
              "        const docLinkHtml = 'Like what you see? Visit the ' +\n",
              "          '<a target=\"_blank\" href=https://colab.research.google.com/notebooks/data_table.ipynb>data table notebook</a>'\n",
              "          + ' to learn more about interactive tables.';\n",
              "        element.innerHTML = '';\n",
              "        dataTable['output_type'] = 'display_data';\n",
              "        await google.colab.output.renderOutput(dataTable, element);\n",
              "        const docLink = document.createElement('div');\n",
              "        docLink.innerHTML = docLinkHtml;\n",
              "        element.appendChild(docLink);\n",
              "      }\n",
              "    </script>\n",
              "  </div>\n",
              "\n",
              "\n",
              "<div id=\"df-674eea11-9773-44f0-805f-3e2a1ab20648\">\n",
              "  <button class=\"colab-df-quickchart\" onclick=\"quickchart('df-674eea11-9773-44f0-805f-3e2a1ab20648')\"\n",
              "            title=\"Suggest charts\"\n",
              "            style=\"display:none;\">\n",
              "\n",
              "<svg xmlns=\"http://www.w3.org/2000/svg\" height=\"24px\"viewBox=\"0 0 24 24\"\n",
              "     width=\"24px\">\n",
              "    <g>\n",
              "        <path d=\"M19 3H5c-1.1 0-2 .9-2 2v14c0 1.1.9 2 2 2h14c1.1 0 2-.9 2-2V5c0-1.1-.9-2-2-2zM9 17H7v-7h2v7zm4 0h-2V7h2v10zm4 0h-2v-4h2v4z\"/>\n",
              "    </g>\n",
              "</svg>\n",
              "  </button>\n",
              "\n",
              "<style>\n",
              "  .colab-df-quickchart {\n",
              "      --bg-color: #E8F0FE;\n",
              "      --fill-color: #1967D2;\n",
              "      --hover-bg-color: #E2EBFA;\n",
              "      --hover-fill-color: #174EA6;\n",
              "      --disabled-fill-color: #AAA;\n",
              "      --disabled-bg-color: #DDD;\n",
              "  }\n",
              "\n",
              "  [theme=dark] .colab-df-quickchart {\n",
              "      --bg-color: #3B4455;\n",
              "      --fill-color: #D2E3FC;\n",
              "      --hover-bg-color: #434B5C;\n",
              "      --hover-fill-color: #FFFFFF;\n",
              "      --disabled-bg-color: #3B4455;\n",
              "      --disabled-fill-color: #666;\n",
              "  }\n",
              "\n",
              "  .colab-df-quickchart {\n",
              "    background-color: var(--bg-color);\n",
              "    border: none;\n",
              "    border-radius: 50%;\n",
              "    cursor: pointer;\n",
              "    display: none;\n",
              "    fill: var(--fill-color);\n",
              "    height: 32px;\n",
              "    padding: 0;\n",
              "    width: 32px;\n",
              "  }\n",
              "\n",
              "  .colab-df-quickchart:hover {\n",
              "    background-color: var(--hover-bg-color);\n",
              "    box-shadow: 0 1px 2px rgba(60, 64, 67, 0.3), 0 1px 3px 1px rgba(60, 64, 67, 0.15);\n",
              "    fill: var(--button-hover-fill-color);\n",
              "  }\n",
              "\n",
              "  .colab-df-quickchart-complete:disabled,\n",
              "  .colab-df-quickchart-complete:disabled:hover {\n",
              "    background-color: var(--disabled-bg-color);\n",
              "    fill: var(--disabled-fill-color);\n",
              "    box-shadow: none;\n",
              "  }\n",
              "\n",
              "  .colab-df-spinner {\n",
              "    border: 2px solid var(--fill-color);\n",
              "    border-color: transparent;\n",
              "    border-bottom-color: var(--fill-color);\n",
              "    animation:\n",
              "      spin 1s steps(1) infinite;\n",
              "  }\n",
              "\n",
              "  @keyframes spin {\n",
              "    0% {\n",
              "      border-color: transparent;\n",
              "      border-bottom-color: var(--fill-color);\n",
              "      border-left-color: var(--fill-color);\n",
              "    }\n",
              "    20% {\n",
              "      border-color: transparent;\n",
              "      border-left-color: var(--fill-color);\n",
              "      border-top-color: var(--fill-color);\n",
              "    }\n",
              "    30% {\n",
              "      border-color: transparent;\n",
              "      border-left-color: var(--fill-color);\n",
              "      border-top-color: var(--fill-color);\n",
              "      border-right-color: var(--fill-color);\n",
              "    }\n",
              "    40% {\n",
              "      border-color: transparent;\n",
              "      border-right-color: var(--fill-color);\n",
              "      border-top-color: var(--fill-color);\n",
              "    }\n",
              "    60% {\n",
              "      border-color: transparent;\n",
              "      border-right-color: var(--fill-color);\n",
              "    }\n",
              "    80% {\n",
              "      border-color: transparent;\n",
              "      border-right-color: var(--fill-color);\n",
              "      border-bottom-color: var(--fill-color);\n",
              "    }\n",
              "    90% {\n",
              "      border-color: transparent;\n",
              "      border-bottom-color: var(--fill-color);\n",
              "    }\n",
              "  }\n",
              "</style>\n",
              "\n",
              "  <script>\n",
              "    async function quickchart(key) {\n",
              "      const quickchartButtonEl =\n",
              "        document.querySelector('#' + key + ' button');\n",
              "      quickchartButtonEl.disabled = true;  // To prevent multiple clicks.\n",
              "      quickchartButtonEl.classList.add('colab-df-spinner');\n",
              "      try {\n",
              "        const charts = await google.colab.kernel.invokeFunction(\n",
              "            'suggestCharts', [key], {});\n",
              "      } catch (error) {\n",
              "        console.error('Error during call to suggestCharts:', error);\n",
              "      }\n",
              "      quickchartButtonEl.classList.remove('colab-df-spinner');\n",
              "      quickchartButtonEl.classList.add('colab-df-quickchart-complete');\n",
              "    }\n",
              "    (() => {\n",
              "      let quickchartButtonEl =\n",
              "        document.querySelector('#df-674eea11-9773-44f0-805f-3e2a1ab20648 button');\n",
              "      quickchartButtonEl.style.display =\n",
              "        google.colab.kernel.accessAllowed ? 'block' : 'none';\n",
              "    })();\n",
              "  </script>\n",
              "</div>\n",
              "\n",
              "  <div id=\"id_4d1f5c9c-4ab8-4701-b174-9c84b41307c8\">\n",
              "    <style>\n",
              "      .colab-df-generate {\n",
              "        background-color: #E8F0FE;\n",
              "        border: none;\n",
              "        border-radius: 50%;\n",
              "        cursor: pointer;\n",
              "        display: none;\n",
              "        fill: #1967D2;\n",
              "        height: 32px;\n",
              "        padding: 0 0 0 0;\n",
              "        width: 32px;\n",
              "      }\n",
              "\n",
              "      .colab-df-generate:hover {\n",
              "        background-color: #E2EBFA;\n",
              "        box-shadow: 0px 1px 2px rgba(60, 64, 67, 0.3), 0px 1px 3px 1px rgba(60, 64, 67, 0.15);\n",
              "        fill: #174EA6;\n",
              "      }\n",
              "\n",
              "      [theme=dark] .colab-df-generate {\n",
              "        background-color: #3B4455;\n",
              "        fill: #D2E3FC;\n",
              "      }\n",
              "\n",
              "      [theme=dark] .colab-df-generate:hover {\n",
              "        background-color: #434B5C;\n",
              "        box-shadow: 0px 1px 3px 1px rgba(0, 0, 0, 0.15);\n",
              "        filter: drop-shadow(0px 1px 2px rgba(0, 0, 0, 0.3));\n",
              "        fill: #FFFFFF;\n",
              "      }\n",
              "    </style>\n",
              "    <button class=\"colab-df-generate\" onclick=\"generateWithVariable('df')\"\n",
              "            title=\"Generate code using this dataframe.\"\n",
              "            style=\"display:none;\">\n",
              "\n",
              "  <svg xmlns=\"http://www.w3.org/2000/svg\" height=\"24px\"viewBox=\"0 0 24 24\"\n",
              "       width=\"24px\">\n",
              "    <path d=\"M7,19H8.4L18.45,9,17,7.55,7,17.6ZM5,21V16.75L18.45,3.32a2,2,0,0,1,2.83,0l1.4,1.43a1.91,1.91,0,0,1,.58,1.4,1.91,1.91,0,0,1-.58,1.4L9.25,21ZM18.45,9,17,7.55Zm-12,3A5.31,5.31,0,0,0,4.9,8.1,5.31,5.31,0,0,0,1,6.5,5.31,5.31,0,0,0,4.9,4.9,5.31,5.31,0,0,0,6.5,1,5.31,5.31,0,0,0,8.1,4.9,5.31,5.31,0,0,0,12,6.5,5.46,5.46,0,0,0,6.5,12Z\"/>\n",
              "  </svg>\n",
              "    </button>\n",
              "    <script>\n",
              "      (() => {\n",
              "      const buttonEl =\n",
              "        document.querySelector('#id_4d1f5c9c-4ab8-4701-b174-9c84b41307c8 button.colab-df-generate');\n",
              "      buttonEl.style.display =\n",
              "        google.colab.kernel.accessAllowed ? 'block' : 'none';\n",
              "\n",
              "      buttonEl.onclick = () => {\n",
              "        google.colab.notebook.generateWithVariable('df');\n",
              "      }\n",
              "      })();\n",
              "    </script>\n",
              "  </div>\n",
              "\n",
              "    </div>\n",
              "  </div>\n"
            ],
            "application/vnd.google.colaboratory.intrinsic+json": {
              "type": "dataframe",
              "variable_name": "df",
              "summary": "{\n  \"name\": \"df\",\n  \"rows\": 14,\n  \"fields\": [\n    {\n      \"column\": \"miliamperios\",\n      \"properties\": {\n        \"dtype\": \"number\",\n        \"std\": 9.227684695261582,\n        \"min\": 12.3,\n        \"max\": 40.6,\n        \"num_unique_values\": 14,\n        \"samples\": [\n          34.5,\n          38.4,\n          12.3\n        ],\n        \"semantic_type\": \"\",\n        \"description\": \"\"\n      }\n    },\n    {\n      \"column\": \"miliTeslas\",\n      \"properties\": {\n        \"dtype\": \"number\",\n        \"std\": 0.747045462523482,\n        \"min\": 1.0,\n        \"max\": 3.4,\n        \"num_unique_values\": 14,\n        \"samples\": [\n          2.8,\n          3.1,\n          1.0\n        ],\n        \"semantic_type\": \"\",\n        \"description\": \"\"\n      }\n    }\n  ]\n}"
            }
          },
          "metadata": {},
          "execution_count": 3
        }
      ]
    },
    {
      "cell_type": "code",
      "source": [
        "from scipy.optimize import curve_fit\n",
        "\n",
        "mA= np.array(df[\"miliamperios\"])\n",
        "mT= np.array(df[\"miliTeslas\"])\n",
        "\n",
        "\n",
        "def ajuste (x, a, b):\n",
        "  return a*x + b\n",
        "\n",
        "\n",
        "popt, pcov= curve_fit(ajuste, mA, mT)\n",
        "print(popt, pcov)\n",
        "\n",
        "plt.plot(mA, mT, c=\"darkred\")\n",
        "plt.plot(mA, ajuste(mA, *popt), \"--\", c= \"grey\")\n",
        "plt.title(\"Campo magnético vs Corriente\")\n",
        "plt.ylabel(\"miliTeslas\")\n",
        "plt.xlabel(\"miliamperios\")\n",
        "plt.show()\n"
      ],
      "metadata": {
        "colab": {
          "base_uri": "https://localhost:8080/",
          "height": 507
        },
        "id": "s38kgrakIJRi",
        "outputId": "b32a49c4-7ddb-4c98-eff5-7a7ed935f8cb"
      },
      "execution_count": 6,
      "outputs": [
        {
          "output_type": "stream",
          "name": "stdout",
          "text": [
            "[0.08073068 0.06013191] [[ 3.04911812e-06 -8.64860476e-05]\n",
            " [-8.64860476e-05  2.69420223e-03]]\n"
          ]
        },
        {
          "output_type": "display_data",
          "data": {
            "text/plain": [
              "<Figure size 640x480 with 1 Axes>"
            ],
            "image/png": "[encoded data removed]"
          },
          "metadata": {}
        }
      ]
    },
    {
      "cell_type": "code",
      "source": [
        "R4 = Quantity(4, 'cm')\n",
        "R6 = Quantity(6, 'cm')\n",
        "R8 = Quantity(8, 'cm')\n",
        "R10 = Quantity(10, 'cm')\n",
        "\n",
        "V_R4 = Quantity([113, 125, 127, 174, 272], 'mV')\n",
        "I_R4 = Quantity([22.7, 24.6, 24.9, 31, 39.9], 'mA')\n",
        "\n",
        "V_R6 = Quantity([213, 229, 241, 273, 312], 'mV')\n",
        "I_R6 = Quantity([21.5, 22.6, 23.6, 25.2, 26.9], 'mA')\n",
        "\n",
        "V_R8 = Quantity([208 ,254, 265, 293, 350], 'mV')\n",
        "I_R8 = Quantity([15.9, 18, 18.6, 19.6, 21.5], 'mA')\n",
        "\n",
        "V_R10 = Quantity([152, 196, 252, 273, 322], 'mV')\n",
        "I_R10 = Quantity([9.8, 12, 14.3, 15, 16.4], 'mA')\n",
        "\n",
        "V_R4 = V_R4.to('V')\n",
        "V_R6 = V_R6.to('V')\n",
        "V_R8 = V_R8.to('V')\n",
        "V_R10 = V_R10.to('V')"
      ],
      "metadata": {
        "id": "9tDv2puZwU9e"
      },
      "execution_count": null,
      "outputs": []
    },
    {
      "cell_type": "code",
      "source": [
        "R = Quantity(0.2, 'm')\n",
        "N = Quantity(154)\n",
        "mu0 = Quantity(4*np.pi*10**(-7), 'T*m/A')\n",
        "X = Quantity(12, 'cm')\n",
        "X = X.to('m')\n",
        "\n",
        "I_R4 = I_R4.to('A')\n",
        "I_R6 = I_R6.to('A')\n",
        "I_R8 = I_R8.to('A')\n",
        "I_R10 = I_R10.to('A')\n",
        "\n",
        "B_IR4 = (mu0*R**(2)*N*I_R4)/((R**2 + X**2)**(3/2))\n",
        "B_IR6 = (mu0*R**(2)*N*I_R6)/((R**2 + X**2)**(3/2))\n",
        "B_IR8 = (mu0*R**(2)*N*I_R8)/((R**2 + X**2)**(3/2))\n",
        "B_IR10 = (mu0*R**(2)*N*I_R10)/((R**2 + X**2)**(3/2))\n",
        "\n",
        "B_IR4 = B_IR4.to('mT')\n",
        "B_IR6 = B_IR6.to('mT')\n",
        "B_IR8 = B_IR8.to('mT')\n",
        "B_IR10 = B_IR10.to('mT')"
      ],
      "metadata": {
        "id": "4OjpP68XymDI"
      },
      "execution_count": null,
      "outputs": []
    },
    {
      "cell_type": "code",
      "source": [
        "R4 = R4.to('m')\n",
        "R6 = R6.to('m')\n",
        "R8 = R8.to('m')\n",
        "R10 = R10.to('m')\n",
        "\n",
        "em_R4 = (2*V_R4)/(B_IR4*R4)**2\n",
        "em_R6 = (2*V_R6)/(B_IR6*R6)**2\n",
        "em_R8 = (2*V_R8)/(B_IR8*R8)**2\n",
        "em_R10 = (2*V_R10)/(B_IR10*R10)**2\n",
        "\n",
        "em_R4 = em_R4.to('C/kg')\n",
        "em_R6 = em_R6.to('C/kg')\n",
        "em_R8 = em_R8.to('C/kg')\n",
        "em_R10 = em_R10.to('C/kg')\n",
        "\n",
        "EM_R4 = np.mean(em_R4)\n",
        "EM_R6 = np.mean(em_R6)\n",
        "EM_R8 = np.mean(em_R8)\n",
        "EM_R10 = np.mean(em_R10)\n",
        "\n",
        "EM_R4, EM_R6, EM_R8, EM_R10"
      ],
      "metadata": {
        "id": "CKqA933FBnTv",
        "colab": {
          "base_uri": "https://localhost:8080/"
        },
        "outputId": "04d2d434-47fa-4fa0-9812-018bfdf0e9e0"
      },
      "execution_count": null,
      "outputs": [
        {
          "output_type": "execute_result",
          "data": {
            "text/plain": [
              "(<Quantity(659982966601.2126, 'coulomb / kilogram')>,\n",
              " <Quantity(657612953358.715, 'coulomb / kilogram')>,\n",
              " <Quantity(653627754687.6902, 'coulomb / kilogram')>,\n",
              " <Quantity(707848883840.891, 'coulomb / kilogram')>)"
            ]
          },
          "metadata": {},
          "execution_count": 6
        }
      ]
    },
    {
      "cell_type": "code",
      "source": [
        "B_24 = B_IR4**2\n",
        "B_26 = B_IR6**2\n",
        "B_28 = B_IR8**2\n",
        "B_210 = B_IR10**2\n",
        "\n",
        "B_24 = B_24.to('mT**2')\n",
        "B_26 = B_26.to('mT**2')\n",
        "B_28 = B_28.to('mT**2')\n",
        "B_210 = B_210.to('mT**2')\n",
        "\n",
        "\n",
        "\n",
        "plt.plot(B_24, V_R4, c = 'darkred', label = 'R = 4 cm')\n",
        "plt.plot(B_26, V_R6, c = 'darkblue', label = 'R = 6 cm')\n",
        "plt.plot(B_28, V_R8, c = 'darkgreen', label = 'R = 8 cm')\n",
        "plt.plot(B_210, V_R10, c = 'darkorange', label = 'R = 10 cm')\n",
        "\n",
        "\n",
        "\n",
        "plt.xlabel('B^2 (mT^2)')\n",
        "plt.ylabel('Voltaje (V)')\n",
        "plt.title('Voltaje vs B^2')\n",
        "plt.legend()\n",
        "plt.grid(True)\n",
        "\n",
        "plt.show()"
      ],
      "metadata": {
        "colab": {
          "base_uri": "https://localhost:8080/",
          "height": 507
        },
        "id": "cNCc2MrhE92u",
        "outputId": "337515e1-3649-4e41-cc3d-43a550e41a00"
      },
      "execution_count": null,
      "outputs": [
        {
          "output_type": "stream",
          "name": "stderr",
          "text": [
            "/usr/local/lib/python3.11/dist-packages/matplotlib/cbook.py:1345: UnitStrippedWarning: The unit of the quantity is stripped when downcasting to ndarray.\n",
            "  return np.asarray(x, float)\n"
          ]
        },
        {
          "output_type": "display_data",
          "data": {
            "text/plain": [
              "<Figure size 640x480 with 1 Axes>"
            ],
            "image/png": "[encoded data removed]"
          },
          "metadata": {}
        }
      ]
    },
    {
      "cell_type": "code",
      "source": [
        "def ajuste(x, m, b):\n",
        "    return m * x + b\n",
        "\n",
        "from scipy.optimize import curve_fit\n",
        "\n",
        "popt4, pcov4 = curve_fit(ajuste, B_24.m, V_R4.m)\n",
        "popt6, pcov6 = curve_fit(ajuste, B_26.m, V_R6.m)\n",
        "popt8, pcov8 = curve_fit(ajuste, B_28.m, V_R8.m)\n",
        "popt10, pcov10 = curve_fit(ajuste, B_210.m, V_R10.m)\n",
        "\n",
        "plt.scatter(B_24.m, V_R4.m, label='R = 4 cm', c = 'darkred')\n",
        "plt.plot(B_24.m, ajuste(B_24.m, *popt4), '--', c = 'darkred')\n",
        "plt.scatter(B_26.m, V_R6, label='R = 6 cm', c = 'darkblue')\n",
        "plt.plot(B_26.m, ajuste(B_26.m, *popt6), '--', c = 'darkblue')\n",
        "plt.scatter(B_28.m, V_R8, label='R = 8 cm', c = 'darkgreen')\n",
        "plt.plot(B_28.m, ajuste(B_28.m, *popt8), '--', c = 'darkgreen')\n",
        "plt.scatter(B_210.m, V_R10, label='R = 10 cm', c = 'darkorange')\n",
        "plt.plot(B_210.m, ajuste(B_210.m, *popt10), '--', c = 'darkorange')\n",
        "\n",
        "plt.title('Voltaje vs B^2')\n",
        "plt.xlabel('B^2 (mT^2)')\n",
        "plt.ylabel('Voltaje (V)')\n",
        "plt.legend()\n",
        "plt.grid(True)\n",
        "plt.show()"
      ],
      "metadata": {
        "colab": {
          "base_uri": "https://localhost:8080/",
          "height": 507
        },
        "id": "4hB07uFV_cRj",
        "outputId": "9c1c60b7-c94f-426e-9d81-29fa93b08fea"
      },
      "execution_count": null,
      "outputs": [
        {
          "output_type": "stream",
          "name": "stderr",
          "text": [
            "/usr/local/lib/python3.11/dist-packages/numpy/ma/core.py:2846: UnitStrippedWarning: The unit of the quantity is stripped when downcasting to ndarray.\n",
            "  _data = np.array(data, dtype=dtype, copy=copy,\n"
          ]
        },
        {
          "output_type": "display_data",
          "data": {
            "text/plain": [
              "<Figure size 640x480 with 1 Axes>"
            ],
            "image/png": "[encoded data removed]"
          },
          "metadata": {}
        }
      ]
    },
    {
      "cell_type": "code",
      "source": [
        "cm4 = Quantity(popt4[0], 'V/mT**2')\n",
        "cm6 = Quantity(popt6[0], 'V/mT**2')\n",
        "cm8 = Quantity(popt8[0], 'V/mT**2')\n",
        "cm10 = Quantity(popt10[0], 'V/mT**2')\n",
        "\n",
        "\n",
        "cm4 = (cm4*2)/R4**2\n",
        "cm6 = (cm6*2)/R6**2\n",
        "cm8 = (cm8*2)/R8**2\n",
        "cm10 = (cm10*2)/R10**2\n",
        "\n",
        "cm4 = cm4.to('A*s/kg')\n",
        "cm6 = cm6.to('A*s/kg')\n",
        "cm8 = cm8.to('A*s/kg')\n",
        "cm10 = cm10.to('A*s/kg')\n",
        "\n",
        "errcm4 = np.sqrt(pcov4[0][0])\n",
        "errcm6 = np.sqrt(pcov6[0][0])\n",
        "errcm8 = np.sqrt(pcov8[0][0])\n",
        "errcm10 = np.sqrt(pcov10[0][0])\n",
        "\n",
        "cm4def = ufloat(cm4.m, errcm4) * ureg.A*ureg.s/ureg.kg\n",
        "cm6def = ufloat(cm6.m, errcm6) * ureg.A*ureg.s/ureg.kg\n",
        "cm8def = ufloat(cm8.m, errcm8) * ureg.A*ureg.s/ureg.kg\n",
        "cm10def = ufloat(cm10.m, errcm10) * ureg.A*ureg.s/ureg.kg\n",
        "\n",
        "cm4def, cm6def, cm8def, cm10def\n",
        "\n",
        "CMDef = np.mean([cm4def, cm6def, cm8def, cm10def])\n",
        "CMDef"
      ],
      "metadata": {
        "colab": {
          "base_uri": "https://localhost:8080/",
          "height": 34
        },
        "id": "Gluk4K8UEHW_",
        "outputId": "b5d63b0d-e397-420f-a1aa-fa1efd9d198f"
      },
      "execution_count": null,
      "outputs": [
        {
          "output_type": "execute_result",
          "data": {
            "text/plain": [
              "<Quantity((5.38553+/-0.00000)e+11, 'ampere * second / kilogram')>"
            ],
            "text/html": [
              "538553448210+/-25 ampere second/kilogram"
            ],
            "text/latex": "$538553448210+/-25\\ \\frac{\\mathrm{ampere} \\cdot \\mathrm{second}}{\\mathrm{kilogram}}$"
          },
          "metadata": {},
          "execution_count": 9
        }
      ]
    },
    {
      "cell_type": "code",
      "source": [
        "errcm4, errcm6, errcm8, errcm10\n",
        "\n",
        "ErrDef = np.mean([errcm4, errcm6, errcm8, errcm10])\n",
        "ErrDef"
      ],
      "metadata": {
        "id": "5FKmEcnUGemU",
        "colab": {
          "base_uri": "https://localhost:8080/"
        },
        "outputId": "d97d8846-23f8-48f8-f3f9-538a54774017"
      },
      "execution_count": null,
      "outputs": [
        {
          "output_type": "execute_result",
          "data": {
            "text/plain": [
              "np.float64(45.35698642013658)"
            ]
          },
          "metadata": {},
          "execution_count": 11
        }
      ]
    }
  ]
}