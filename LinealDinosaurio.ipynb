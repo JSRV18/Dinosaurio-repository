{
  "cells": [
    {
      "cell_type": "markdown",
      "metadata": {
        "id": "view-in-github",
        "colab_type": "text"
      },
      "source": [
        "<a href=\"https://colab.research.google.com/github/JSRV18/Dinosaurio-repository/blob/main/LinealDinosaurio.ipynb\" target=\"_parent\"><img src=\"https://colab.research.google.com/assets/colab-badge.svg\" alt=\"Open In Colab\"/></a>"
      ]
    },
    {
      "cell_type": "code",
      "source": [
        "#Punto 2\n",
        "\n",
        "import numpy as np\n",
        "\n",
        "G0=(lambda x,y,z: 3*x - y - z - 1., \\\n",
        "    lambda x,y,z: -x + 3*y + z - 3., \\\n",
        "    lambda x,y,z: 2*x + y + 4*z - 7.)\n",
        "\n",
        "A=np.array([[3,-1,-1],[-1,3,1],[2,1,4]])\n",
        "b=np.array([1,3,7])\n",
        "\n",
        "def gauss_seidel(A, b, x0, tol=1e-6, max_iter=100000):\n",
        "\n",
        "   x = x0.copy()\n",
        "\n",
        "   for it in range(max_iter):\n",
        "\n",
        "    x_n = np.copy(x)\n",
        "\n",
        "    for i in range(A.shape[0]):\n",
        "      Suma = 0.\n",
        "      for j in range(A.shape[1]):\n",
        "        if i != j:\n",
        "          Suma += A[i,j]*x_n[j]\n",
        "\n",
        "          x_n[i] = (b[i] - Suma)/A[i,i]\n",
        "\n",
        "    print(x_n)\n",
        "\n",
        "    if np.linalg.norm((A@x_n)-b) < tol:\n",
        "      break\n",
        "\n",
        "    x = np.copy(x_n)\n",
        "\n",
        "   return x_n, it"
      ],
      "metadata": {
        "id": "TPleTAOKoCi4"
      },
      "execution_count": 1,
      "outputs": []
    },
    {
      "cell_type": "code",
      "source": [
        "gauss_seidel(A,b,np.array([390,25,270]))"
      ],
      "metadata": {
        "colab": {
          "base_uri": "https://localhost:8080/"
        },
        "id": "zrdVywD2qgEh",
        "outputId": "26c4a301-7219-4761-9b1a-42dfe871e731"
      },
      "execution_count": 2,
      "outputs": [
        {
          "output_type": "stream",
          "name": "stdout",
          "text": [
            "[ 98 -56 -33]\n",
            "[-29   2  15]\n",
            "[ 6 -2  0]\n",
            "[0 1 1]\n",
            "[1 1 1]\n"
          ]
        },
        {
          "output_type": "execute_result",
          "data": {
            "text/plain": [
              "(array([1, 1, 1]), 4)"
            ]
          },
          "metadata": {},
          "execution_count": 2
        }
      ]
    },
    {
      "cell_type": "code",
      "source": [
        "np.linalg.solve(A,b)"
      ],
      "metadata": {
        "colab": {
          "base_uri": "https://localhost:8080/"
        },
        "id": "AKkmeiHNq6Xg",
        "outputId": "98467f23-97e8-40ef-8599-488b7dcf1e0e"
      },
      "execution_count": 3,
      "outputs": [
        {
          "output_type": "execute_result",
          "data": {
            "text/plain": [
              "array([1., 1., 1.])"
            ]
          },
          "metadata": {},
          "execution_count": 3
        }
      ]
    },
    {
      "cell_type": "code",
      "source": [
        "# Punto 4\n",
        "\n",
        "matriz1=np.array([[1,0,0],[5,1,0],[-2,3,1]])\n",
        "matriz2=np.array([[4,-2,1],[0,3,7],[0,0,2]])\n",
        "\n",
        "\n",
        "def multiplicar_matrices(matriz1, matriz2):\n",
        "  n=len(matriz1)\n",
        "  m=len(matriz2[0])\n",
        "  p=len(matriz2)\n",
        "  x=np.zeros((n,m))\n",
        "  if n!=m:\n",
        "    print(\"No se puede multiplicar\")\n",
        "  else:\n",
        "    for i in range(n):\n",
        "      for j in range(m):\n",
        "        for k in range(p):\n",
        "         x[i][j] += matriz1[i][k] * matriz2[k][j]\n",
        "  return x"
      ],
      "metadata": {
        "id": "aqYsVPsCTN_8"
      },
      "execution_count": 4,
      "outputs": []
    },
    {
      "cell_type": "code",
      "source": [
        "multiplicar_matrices(matriz1, matriz2)"
      ],
      "metadata": {
        "colab": {
          "base_uri": "https://localhost:8080/"
        },
        "id": "2ZCn_WYyToHt",
        "outputId": "30cc4c3e-3cc5-4bd0-f7b9-ff6f07121674"
      },
      "execution_count": 5,
      "outputs": [
        {
          "output_type": "execute_result",
          "data": {
            "text/plain": [
              "array([[ 4., -2.,  1.],\n",
              "       [20., -7., 12.],\n",
              "       [-8., 13., 21.]])"
            ]
          },
          "metadata": {},
          "execution_count": 5
        }
      ]
    },
    {
      "cell_type": "code",
      "source": [
        "# Punto 8\n",
        "\n",
        "matriz=np.array([[4,-2,1],[20,-7,12],[-8,13,17]])\n",
        "\n",
        "def LU(matriz):\n",
        "  L=np.zeros_like(matriz)\n",
        "  for i in range(len(L)):\n",
        "    for j in range(len(L[0])):\n",
        "      if i==j:\n",
        "        L[i][j]=1\n",
        "\n",
        "  U = matriz.astype(np.float64)\n",
        "  n = U.shape[0]\n",
        "\n",
        "  for k in range(n):\n",
        "      for w in range(k+1,n):\n",
        "          u = U[w,k]/U[k,k]\n",
        "          L[w,k]=u\n",
        "          U[w,:] -= u*U[k,:]\n",
        "\n",
        "  return L,U"
      ],
      "metadata": {
        "id": "vdiktZWVv4O1"
      },
      "execution_count": 6,
      "outputs": []
    },
    {
      "cell_type": "code",
      "source": [
        "LU(matriz)"
      ],
      "metadata": {
        "colab": {
          "base_uri": "https://localhost:8080/"
        },
        "id": "bTH7ZFxc45V-",
        "outputId": "4243d00d-9592-4091-f00d-b21d7de9dbf3"
      },
      "execution_count": 7,
      "outputs": [
        {
          "output_type": "execute_result",
          "data": {
            "text/plain": [
              "(array([[ 1,  0,  0],\n",
              "        [ 5,  1,  0],\n",
              "        [-2,  3,  1]]),\n",
              " array([[ 4., -2.,  1.],\n",
              "        [ 0.,  3.,  7.],\n",
              "        [ 0.,  0., -2.]]))"
            ]
          },
          "metadata": {},
          "execution_count": 7
        }
      ]
    },
    {
      "cell_type": "code",
      "source": [
        "#Punto 12\n",
        "\n",
        "F1=(lambda x,y: np.log(x**2+y**2) - np.sin(x*y) - np.log(2*np.pi), \\\n",
        "    lambda x,y: np.exp(x-y) + np.cos(x*y))\n",
        "\n",
        "F2=(lambda x,y,z: 6*x - 2*np.cos(y*z) - 1, \\\n",
        "    lambda x,y,z: 9*y + np.sqrt(x**2 + np.sin(z) + 1.06) + 0.9, \\\n",
        "    lambda x,y,z: 60*z + 3*np.exp(-x*y) + 10*np.pi - 3)\n",
        "\n",
        "def GetJacobian1(f,r,h=1e-3):\n",
        "\n",
        "  n = r.shape[0]\n",
        "\n",
        "  J = np.zeros((n,n))\n",
        "\n",
        "  for i in range(n):\n",
        "    for j in range(n):\n",
        "\n",
        "      rf = r.copy()\n",
        "      rb = r.copy()\n",
        "\n",
        "      rf[j] = rf[j] + h\n",
        "      rb[j] = rb[j] - h\n",
        "\n",
        "      J[i,j] = (f[i](rf[0],rf[1]) - f[i](rb[0],rb[1]))/(2*h)\n",
        "\n",
        "  return J\n",
        "\n",
        "def GetJacobian2(f,r,h=0.01):\n",
        "\n",
        "  n = r.shape[0]\n",
        "\n",
        "  J = np.zeros((n,n))\n",
        "\n",
        "  for i in range(n):\n",
        "    for j in range(n):\n",
        "\n",
        "      rf = r.copy()\n",
        "      rb = r.copy()\n",
        "\n",
        "      rf[j] = rf[j] + h\n",
        "      rb[j] = rb[j] - h\n",
        "\n",
        "      J[i,j] = (f[i](rf[0],rf[1],rf[2]) - f[i](rb[0],rb[1],rb[2]))/(2*h)\n",
        "\n",
        "  return J"
      ],
      "metadata": {
        "id": "1PUVMHl4NHff"
      },
      "execution_count": 37,
      "outputs": []
    },
    {
      "cell_type": "code",
      "source": [
        "Ja1 = GetJacobian1(F1,np.array([2,2]))\n",
        "Ja2 = GetJacobian2(F2,np.array([0.,0.,0.]))\n"
      ],
      "metadata": {
        "id": "GJdl6mTYSRnm"
      },
      "execution_count": 35,
      "outputs": []
    },
    {
      "cell_type": "code",
      "source": [
        "Ja2"
      ],
      "metadata": {
        "colab": {
          "base_uri": "https://localhost:8080/"
        },
        "id": "EtLBW4MF-Pqt",
        "outputId": "7d0c6c92-ff08-4374-c00a-bcc309af796c"
      },
      "execution_count": 38,
      "outputs": [
        {
          "output_type": "execute_result",
          "data": {
            "text/plain": [
              "array([[ 6.        ,  0.        ,  0.        ],\n",
              "       [ 0.        ,  9.        ,  0.48564293],\n",
              "       [ 0.        ,  0.        , 60.        ]])"
            ]
          },
          "metadata": {},
          "execution_count": 38
        }
      ]
    },
    {
      "cell_type": "code",
      "source": [
        "def newton1(F1, Ja, x0, tol=1e-6, max_iter=10000):\n",
        "\n",
        "  error=1\n",
        "  it=0\n",
        "  while error>tol and it<max_iter:\n",
        "\n",
        "    F1_vals = np.array([f(x0[0], x0[1]) for f in F1])\n",
        "    x1=x0 - np.linalg.inv(Ja)@F1_vals\n",
        "    error=np.linalg.norm(x1-x0)\n",
        "    x0=x1\n",
        "    it+=1\n",
        "  return x0,it\n",
        "\n",
        "\n",
        "def newton2(F2, x0, tol=1e-6, max_iter=10000):\n",
        "\n",
        "  error=1\n",
        "  it=0\n",
        "  while error>tol and it<max_iter:\n",
        "    Ja2 = GetJacobian2(F2,x0)\n",
        "\n",
        "    F2_vals = np.array([f(x0[0], x0[1], x0[2]) for f in F2])\n",
        "    if np.linalg.det(Ja2) == 0:\n",
        "       print(\"Error (Matriz con determinate cero), inténtelo nuevamente UwU\")\n",
        "    x1=x0 - np.linalg.inv(Ja2)@F2_vals\n",
        "    error=np.linalg.norm(x1-x0)\n",
        "    x0=x1\n",
        "    it+=1\n",
        "  return x0,it"
      ],
      "metadata": {
        "id": "s7Z03ZYcvT3x"
      },
      "execution_count": 11,
      "outputs": []
    },
    {
      "cell_type": "code",
      "source": [
        "newton1(F1,Ja1,np.array([2.,2.]))"
      ],
      "metadata": {
        "colab": {
          "base_uri": "https://localhost:8080/"
        },
        "id": "S5f7cY8BPILs",
        "outputId": "dbadd439-5836-4b19-87cf-800625ac6fce"
      },
      "execution_count": 30,
      "outputs": [
        {
          "output_type": "execute_result",
          "data": {
            "text/plain": [
              "(array([1.77204168, 1.77289746]), 4440)"
            ]
          },
          "metadata": {},
          "execution_count": 30
        }
      ]
    },
    {
      "cell_type": "code",
      "source": [
        "newton2(F2, np.array([0.,0.,0.]))"
      ],
      "metadata": {
        "colab": {
          "base_uri": "https://localhost:8080/"
        },
        "id": "G2rs_VAVvV3T",
        "outputId": "f10640c3-890c-4322-c02d-3ac64910c2a4"
      },
      "execution_count": 39,
      "outputs": [
        {
          "output_type": "execute_result",
          "data": {
            "text/plain": [
              "(array([ 0.49814468, -0.1996059 , -0.52882598]), 4)"
            ]
          },
          "metadata": {},
          "execution_count": 39
        }
      ]
    },
    {
      "cell_type": "code",
      "source": [
        "# Punto 13\n",
        "\n",
        "def Jacobian_4(f,r,h=0.01):\n",
        "\n",
        "  n = r.shape[0]\n",
        "\n",
        "  J = np.zeros((n,n))\n",
        "\n",
        "  for i in range(n):\n",
        "    for j in range(n):\n",
        "\n",
        "      d_rf = r.copy()\n",
        "      d_rb = r.copy()\n",
        "      rf = r.copy()\n",
        "      rb = r.copy()\n",
        "\n",
        "      d_rf[j] = d_rf[j] + 2*h\n",
        "      rf[j] = rf[j] + h\n",
        "      rb[j] = rb[j] - h\n",
        "      d_rb[j] = d_rb[j] - 2*h\n",
        "\n",
        "      J[i,j] = (-f[i](d_rf[0],d_rf[1],d_rf[2]) + 8*f[i](rf[0],rf[1],rf[2]) - 8*f[i](rb[0],rb[1],rb[2]) + f[i](d_rb[0],d_rb[1],d_rb[2]))/(12*h)\n",
        "\n",
        "  return J"
      ],
      "metadata": {
        "id": "_XJnz3FIR8Qp"
      },
      "execution_count": 14,
      "outputs": []
    },
    {
      "cell_type": "code",
      "source": [
        "Jacobian_4(F2,np.array([0.5,0.5,0.5]))"
      ],
      "metadata": {
        "colab": {
          "base_uri": "https://localhost:8080/"
        },
        "id": "2WrlHFW9Viaj",
        "outputId": "05cdb481-5431-4dc8-8b7a-340830fdae5a"
      },
      "execution_count": 15,
      "outputs": [
        {
          "output_type": "execute_result",
          "data": {
            "text/plain": [
              "array([[ 6.        ,  0.24740396,  0.24740396],\n",
              "       [ 0.37377753,  9.        ,  0.32802064],\n",
              "       [-1.16820117, -1.16820117, 60.        ]])"
            ]
          },
          "metadata": {},
          "execution_count": 15
        }
      ]
    },
    {
      "cell_type": "code",
      "source": [
        "GetJacobian2(F2,np.array([0.5,0.5,0.5]))"
      ],
      "metadata": {
        "colab": {
          "base_uri": "https://localhost:8080/"
        },
        "id": "7Lq3jmdplydZ",
        "outputId": "b9a7c6bb-f8ed-4a0a-9e60-e35dd6681529"
      },
      "execution_count": 40,
      "outputs": [
        {
          "output_type": "execute_result",
          "data": {
            "text/plain": [
              "array([[ 6.        ,  0.24740293,  0.24740293],\n",
              "       [ 0.37376854,  9.        ,  0.32801836],\n",
              "       [-1.16820604, -1.16820604, 60.        ]])"
            ]
          },
          "metadata": {},
          "execution_count": 40
        }
      ]
    },
    {
      "cell_type": "code",
      "source": [
        "GetJacobian2(F2,np.array([0.5,0.5,0.5])) # La aprximación de orden 2 alcanza a la de orden 4 con h=0.0001"
      ],
      "metadata": {
        "colab": {
          "base_uri": "https://localhost:8080/"
        },
        "id": "EuRH-xhUVrEN",
        "outputId": "714553b4-3e98-4cbb-d7b5-20b54f582665"
      },
      "execution_count": 16,
      "outputs": [
        {
          "output_type": "execute_result",
          "data": {
            "text/plain": [
              "array([[ 6.        ,  0.24740396,  0.24740396],\n",
              "       [ 0.37377753,  9.        ,  0.32802064],\n",
              "       [-1.16820118, -1.16820118, 60.        ]])"
            ]
          },
          "metadata": {},
          "execution_count": 16
        }
      ]
    },
    {
      "cell_type": "code",
      "source": [
        "# Punto 14\n",
        "\n",
        "import sympy as sp\n",
        "\n",
        "Jx = sp.Matrix([[0, 0, 0],\n",
        "                [0, 0, -1],\n",
        "                [0, 1, 0]])\n",
        "\n",
        "Jy = sp.Matrix([[0, 0, 1],\n",
        "                [0, 0, 0],\n",
        "                [-1, 0, 0]])\n",
        "\n",
        "Jz = sp.Matrix([[0, -1, 0],\n",
        "                [1, 0, 0],\n",
        "                [0, 0, 0]])\n",
        "\n",
        "comm_Jx_Jy = Jx*Jy - Jy*Jx  #Levi-Civita debe ser de 1\n",
        "comm_Jy_Jx = Jy*Jx - Jx*Jy  #Levi-Civita debe ser de -1\n",
        "comm_Jx_Jx = Jx*Jx - Jx*Jx  #Levi-Civita debe ser de 0\n",
        "\n",
        "\n",
        "comm_Jy_Jz = Jy*Jz - Jz*Jy  #Levi-Civita debe ser de 1\n",
        "comm_Jz_Jy = Jz*Jy - Jy*Jz  #Levi-Civita debe ser de -1\n",
        "comm_Jy_Jy = Jy*Jy - Jy*Jy  #Levi-Civita debe ser de 0\n",
        "\n",
        "\n",
        "comm_Jz_Jx = Jz*Jx - Jx*Jz  #Levi-Civita debe ser de 1\n",
        "comm_Jx_Jz = Jx*Jz - Jz*Jx  #Levi-Civita debe ser de -1\n",
        "comm_Jz_Jz = Jz*Jz - Jz*Jz  #Levi-Civita debe ser de 0\n"
      ],
      "metadata": {
        "id": "RnGPXX6NCHrS"
      },
      "execution_count": 17,
      "outputs": []
    },
    {
      "cell_type": "code",
      "source": [
        "comm_Jx_Jy"
      ],
      "metadata": {
        "colab": {
          "base_uri": "https://localhost:8080/",
          "height": 78
        },
        "id": "pB0wth3TLTRz",
        "outputId": "acee9456-61ec-44b2-eb78-971e3d05ab7f"
      },
      "execution_count": 18,
      "outputs": [
        {
          "output_type": "execute_result",
          "data": {
            "text/plain": [
              "Matrix([\n",
              "[0, -1, 0],\n",
              "[1,  0, 0],\n",
              "[0,  0, 0]])"
            ],
            "text/latex": "$\\displaystyle \\left[\\begin{matrix}0 & -1 & 0\\\\1 & 0 & 0\\\\0 & 0 & 0\\end{matrix}\\right]$"
          },
          "metadata": {},
          "execution_count": 18
        }
      ]
    },
    {
      "cell_type": "code",
      "source": [
        "comm_Jy_Jx"
      ],
      "metadata": {
        "colab": {
          "base_uri": "https://localhost:8080/",
          "height": 78
        },
        "id": "JWq-sAH6CPqk",
        "outputId": "7b70dd7b-2114-41b7-ed91-e7ed620d4804"
      },
      "execution_count": 19,
      "outputs": [
        {
          "output_type": "execute_result",
          "data": {
            "text/plain": [
              "Matrix([\n",
              "[ 0, 1, 0],\n",
              "[-1, 0, 0],\n",
              "[ 0, 0, 0]])"
            ],
            "text/latex": "$\\displaystyle \\left[\\begin{matrix}0 & 1 & 0\\\\-1 & 0 & 0\\\\0 & 0 & 0\\end{matrix}\\right]$"
          },
          "metadata": {},
          "execution_count": 19
        }
      ]
    },
    {
      "cell_type": "code",
      "source": [
        "comm_Jx_Jx"
      ],
      "metadata": {
        "colab": {
          "base_uri": "https://localhost:8080/",
          "height": 78
        },
        "id": "WSC3yKfXMgov",
        "outputId": "ef033868-f47f-489f-9a68-0e6462d07251"
      },
      "execution_count": 20,
      "outputs": [
        {
          "output_type": "execute_result",
          "data": {
            "text/plain": [
              "Matrix([\n",
              "[0, 0, 0],\n",
              "[0, 0, 0],\n",
              "[0, 0, 0]])"
            ],
            "text/latex": "$\\displaystyle \\left[\\begin{matrix}0 & 0 & 0\\\\0 & 0 & 0\\\\0 & 0 & 0\\end{matrix}\\right]$"
          },
          "metadata": {},
          "execution_count": 20
        }
      ]
    },
    {
      "cell_type": "code",
      "source": [
        "comm_Jy_Jz"
      ],
      "metadata": {
        "colab": {
          "base_uri": "https://localhost:8080/",
          "height": 78
        },
        "id": "Ml86Ihv6Lafo",
        "outputId": "15593a72-6edf-4b63-fea0-4ed6d5b4947d"
      },
      "execution_count": 21,
      "outputs": [
        {
          "output_type": "execute_result",
          "data": {
            "text/plain": [
              "Matrix([\n",
              "[0, 0,  0],\n",
              "[0, 0, -1],\n",
              "[0, 1,  0]])"
            ],
            "text/latex": "$\\displaystyle \\left[\\begin{matrix}0 & 0 & 0\\\\0 & 0 & -1\\\\0 & 1 & 0\\end{matrix}\\right]$"
          },
          "metadata": {},
          "execution_count": 21
        }
      ]
    },
    {
      "cell_type": "code",
      "source": [
        "comm_Jz_Jy\n"
      ],
      "metadata": {
        "colab": {
          "base_uri": "https://localhost:8080/",
          "height": 78
        },
        "id": "4_0qzGfYJe_7",
        "outputId": "d5802798-52df-4b96-c75b-544a2ffa6914"
      },
      "execution_count": 22,
      "outputs": [
        {
          "output_type": "execute_result",
          "data": {
            "text/plain": [
              "Matrix([\n",
              "[0,  0, 0],\n",
              "[0,  0, 1],\n",
              "[0, -1, 0]])"
            ],
            "text/latex": "$\\displaystyle \\left[\\begin{matrix}0 & 0 & 0\\\\0 & 0 & 1\\\\0 & -1 & 0\\end{matrix}\\right]$"
          },
          "metadata": {},
          "execution_count": 22
        }
      ]
    },
    {
      "cell_type": "code",
      "source": [
        "comm_Jy_Jy"
      ],
      "metadata": {
        "colab": {
          "base_uri": "https://localhost:8080/",
          "height": 78
        },
        "id": "M4RvtYNjMnAv",
        "outputId": "44d931ad-d829-4972-c184-4541cee4c51c"
      },
      "execution_count": 23,
      "outputs": [
        {
          "output_type": "execute_result",
          "data": {
            "text/plain": [
              "Matrix([\n",
              "[0, 0, 0],\n",
              "[0, 0, 0],\n",
              "[0, 0, 0]])"
            ],
            "text/latex": "$\\displaystyle \\left[\\begin{matrix}0 & 0 & 0\\\\0 & 0 & 0\\\\0 & 0 & 0\\end{matrix}\\right]$"
          },
          "metadata": {},
          "execution_count": 23
        }
      ]
    },
    {
      "cell_type": "code",
      "source": [
        "comm_Jz_Jx"
      ],
      "metadata": {
        "colab": {
          "base_uri": "https://localhost:8080/",
          "height": 78
        },
        "id": "vUpsEtuOL59u",
        "outputId": "15c07002-64fb-46ef-d7d1-23fc0d017398"
      },
      "execution_count": 24,
      "outputs": [
        {
          "output_type": "execute_result",
          "data": {
            "text/plain": [
              "Matrix([\n",
              "[ 0, 0, 1],\n",
              "[ 0, 0, 0],\n",
              "[-1, 0, 0]])"
            ],
            "text/latex": "$\\displaystyle \\left[\\begin{matrix}0 & 0 & 1\\\\0 & 0 & 0\\\\-1 & 0 & 0\\end{matrix}\\right]$"
          },
          "metadata": {},
          "execution_count": 24
        }
      ]
    },
    {
      "cell_type": "code",
      "source": [
        "comm_Jx_Jz"
      ],
      "metadata": {
        "colab": {
          "base_uri": "https://localhost:8080/",
          "height": 78
        },
        "id": "ILdz3XnTJhhl",
        "outputId": "30e50b62-5366-4c0b-883a-dc4e47b24371"
      },
      "execution_count": 25,
      "outputs": [
        {
          "output_type": "execute_result",
          "data": {
            "text/plain": [
              "Matrix([\n",
              "[0, 0, -1],\n",
              "[0, 0,  0],\n",
              "[1, 0,  0]])"
            ],
            "text/latex": "$\\displaystyle \\left[\\begin{matrix}0 & 0 & -1\\\\0 & 0 & 0\\\\1 & 0 & 0\\end{matrix}\\right]$"
          },
          "metadata": {},
          "execution_count": 25
        }
      ]
    },
    {
      "cell_type": "code",
      "source": [
        "comm_Jz_Jz"
      ],
      "metadata": {
        "colab": {
          "base_uri": "https://localhost:8080/",
          "height": 78
        },
        "id": "_E_HGqYCMvgf",
        "outputId": "2c5ce3f4-57a4-4f96-81d5-c2141ba97f70"
      },
      "execution_count": 26,
      "outputs": [
        {
          "output_type": "execute_result",
          "data": {
            "text/plain": [
              "Matrix([\n",
              "[0, 0, 0],\n",
              "[0, 0, 0],\n",
              "[0, 0, 0]])"
            ],
            "text/latex": "$\\displaystyle \\left[\\begin{matrix}0 & 0 & 0\\\\0 & 0 & 0\\\\0 & 0 & 0\\end{matrix}\\right]$"
          },
          "metadata": {},
          "execution_count": 26
        }
      ]
    }
  ],
  "metadata": {
    "colab": {
      "provenance": [],
      "authorship_tag": "ABX9TyMz7rkzdL4yZAZIiLAB0Cdx",
      "include_colab_link": true
    },
    "kernelspec": {
      "display_name": "Python 3",
      "name": "python3"
    },
    "language_info": {
      "name": "python"
    }
  },
  "nbformat": 4,
  "nbformat_minor": 0
}