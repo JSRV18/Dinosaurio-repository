{
  "cells": [
    {
      "cell_type": "markdown",
      "metadata": {
        "id": "view-in-github",
        "colab_type": "text"
      },
      "source": [
        "<a href=\"https://colab.research.google.com/github/JSRV18/Dinosaurio-repository/blob/main/LinealDinosaurio.ipynb\" target=\"_parent\"><img src=\"https://colab.research.google.com/assets/colab-badge.svg\" alt=\"Open In Colab\"/></a>"
      ]
    },
    {
      "cell_type": "code",
      "source": [
        "#Punto 2\n",
        "\n",
        "import numpy as np\n",
        "\n",
        "G0=(lambda x,y,z: 3*x - y - z - 1., \\\n",
        "    lambda x,y,z: -x + 3*y + z - 3., \\\n",
        "    lambda x,y,z: 2*x + y + 4*z - 7.)\n",
        "\n",
        "A=np.array([[3,-1,-1],[-1,3,1],[2,1,4]])\n",
        "b=np.array([1,3,7])\n",
        "\n",
        "def gauss_seidel(A, b, x0, tol=1e-6, max_iter=100000):\n",
        "\n",
        "   x = x0.copy()\n",
        "\n",
        "   for it in range(max_iter):\n",
        "\n",
        "    x_n = np.copy(x)\n",
        "\n",
        "    for i in range(A.shape[0]):\n",
        "      Suma = 0.\n",
        "      for j in range(A.shape[1]):\n",
        "        if i != j:\n",
        "          Suma += A[i,j]*x_n[j]\n",
        "\n",
        "          x_n[i] = (b[i] - Suma)/A[i,i]\n",
        "\n",
        "    print(x_n)\n",
        "\n",
        "    if np.linalg.norm((A@x_n)-b) < tol:\n",
        "      break\n",
        "\n",
        "    x = np.copy(x_n)\n",
        "\n",
        "\n",
        "   return x_n, it\n",
        "\n"
      ],
      "metadata": {
        "id": "TPleTAOKoCi4"
      },
      "execution_count": 62,
      "outputs": []
    },
    {
      "cell_type": "code",
      "source": [
        "gauss_seidel(A,b,np.array([10,37,58]))"
      ],
      "metadata": {
        "colab": {
          "base_uri": "https://localhost:8080/"
        },
        "id": "zrdVywD2qgEh",
        "outputId": "52f13a60-677a-48a1-80a2-fbcb358e8950"
      },
      "execution_count": 64,
      "outputs": [
        {
          "output_type": "stream",
          "name": "stdout",
          "text": [
            "[ 32  -7 -12]\n",
            "[-6  3  4]\n",
            "[2 0 0]\n",
            "[0 1 1]\n",
            "[1 1 1]\n"
          ]
        },
        {
          "output_type": "execute_result",
          "data": {
            "text/plain": [
              "(array([1, 1, 1]), 4)"
            ]
          },
          "metadata": {},
          "execution_count": 64
        }
      ]
    },
    {
      "cell_type": "code",
      "source": [
        "np.linalg.solve(A,b)"
      ],
      "metadata": {
        "colab": {
          "base_uri": "https://localhost:8080/"
        },
        "id": "AKkmeiHNq6Xg",
        "outputId": "e0819d75-e23a-4926-c4d3-bb25564148d0"
      },
      "execution_count": 22,
      "outputs": [
        {
          "output_type": "execute_result",
          "data": {
            "text/plain": [
              "array([1., 1., 1.])"
            ]
          },
          "metadata": {},
          "execution_count": 22
        }
      ]
    },
    {
      "cell_type": "code",
      "source": [
        "# Punto 4\n",
        "\n",
        "\n",
        "\n",
        "matriz1=np.array([[1,0,0],[5,1,0],[-2,3,1]])\n",
        "matriz2=np.array([[4,-2,1],[0,3,7],[0,0,2]])\n",
        "\n",
        "\n",
        "def multiplicar_matrices(matriz1, matriz2):\n",
        "  n=len(matriz1)\n",
        "  m=len(matriz2[0])\n",
        "  p=len(matriz2)\n",
        "  x=np.zeros((n,m))\n",
        "  if n!=m:\n",
        "    print(\"No se puede multiplicar\")\n",
        "  else:\n",
        "    for i in range(n):\n",
        "      for j in range(m):\n",
        "        for k in range(p):\n",
        "         x[i][j] += matriz1[i][k] * matriz2[k][j]\n",
        "  return x"
      ],
      "metadata": {
        "id": "aqYsVPsCTN_8"
      },
      "execution_count": 14,
      "outputs": []
    },
    {
      "cell_type": "code",
      "source": [
        "multiplicar_matrices(matriz1, matriz2)"
      ],
      "metadata": {
        "colab": {
          "base_uri": "https://localhost:8080/"
        },
        "id": "2ZCn_WYyToHt",
        "outputId": "72cfe7f4-8bd6-46d4-ad52-428cef8f8512"
      },
      "execution_count": 3,
      "outputs": [
        {
          "output_type": "execute_result",
          "data": {
            "text/plain": [
              "array([[ 4., -2.,  1.],\n",
              "       [20., -7., 12.],\n",
              "       [-8., 13., 21.]])"
            ]
          },
          "metadata": {},
          "execution_count": 3
        }
      ]
    },
    {
      "cell_type": "code",
      "source": [
        "# Punto 8\n",
        "\n",
        "matriz=np.array([[4,-2,1],[20,-7,12],[-8,13,17]])\n",
        "\n",
        "def LU(matriz):\n",
        "  L=np.zeros_like(matriz)\n",
        "  for i in range(len(L)):\n",
        "    for j in range(len(L[0])):\n",
        "      if i==j:\n",
        "        L[i][j]=1\n",
        "\n",
        "  U = matriz.astype(np.float64)\n",
        "  n = U.shape[0]\n",
        "\n",
        "  for k in range(n):\n",
        "      for w in range(k+1,n):\n",
        "          u = U[w,k]/U[k,k]\n",
        "          L[w,k]=u\n",
        "          U[w,:] -= u*U[k,:]\n",
        "\n",
        "  return L,U"
      ],
      "metadata": {
        "id": "vdiktZWVv4O1"
      },
      "execution_count": 4,
      "outputs": []
    },
    {
      "cell_type": "code",
      "source": [
        "LU(matriz)"
      ],
      "metadata": {
        "colab": {
          "base_uri": "https://localhost:8080/"
        },
        "id": "bTH7ZFxc45V-",
        "outputId": "7cd76920-9234-4a82-8e0a-50ddf627ebf8"
      },
      "execution_count": 5,
      "outputs": [
        {
          "output_type": "execute_result",
          "data": {
            "text/plain": [
              "(array([[ 1,  0,  0],\n",
              "        [ 5,  1,  0],\n",
              "        [-2,  3,  1]]),\n",
              " array([[ 4., -2.,  1.],\n",
              "        [ 0.,  3.,  7.],\n",
              "        [ 0.,  0., -2.]]))"
            ]
          },
          "metadata": {},
          "execution_count": 5
        }
      ]
    },
    {
      "cell_type": "code",
      "source": [
        "#Punto 12\n",
        "\n",
        "F1=(lambda x,y: np.log(x**2+y**2) - np.sin(x*y) - np.log(2*np.pi), \\\n",
        "    lambda x,y: np.exp(x-y) + np.cos(x*y))\n",
        "\n",
        "F2=(lambda x,y,z: 6*x - 2*np.cos(y*z) - 1, \\\n",
        "    lambda x,y,z: 9*y + np.sqrt(x**2 + np.sin(z) + 1.06) + 0.9, \\\n",
        "    lambda x,y,z: 60*z + 3*np.exp(-x*y) + 10*np.pi - 3)\n",
        "\n",
        "def GetJacobian1(f,r,h=1e-3):\n",
        "\n",
        "  n = r.shape[0]\n",
        "\n",
        "  J = np.zeros((n,n))\n",
        "\n",
        "  for i in range(n):\n",
        "    for j in range(n):\n",
        "\n",
        "      rf = r.copy()\n",
        "      rb = r.copy()\n",
        "\n",
        "      rf[j] = rf[j] + h\n",
        "      rb[j] = rb[j] - h\n",
        "\n",
        "      J[i,j] = (f[i](rf[0],rf[1]) - f[i](rb[0],rb[1]))/(2*h)\n",
        "\n",
        "  return J\n",
        "\n",
        "def GetJacobian2(f,r,h=0.0001):\n",
        "\n",
        "  n = r.shape[0]\n",
        "\n",
        "  J = np.zeros((n,n))\n",
        "\n",
        "  for i in range(n):\n",
        "    for j in range(n):\n",
        "\n",
        "      rf = r.copy()\n",
        "      rb = r.copy()\n",
        "\n",
        "      rf[j] = rf[j] + h\n",
        "      rb[j] = rb[j] - h\n",
        "\n",
        "      J[i,j] = (f[i](rf[0],rf[1],rf[2]) - f[i](rb[0],rb[1],rb[2]))/(2*h)\n",
        "\n",
        "  return J\n"
      ],
      "metadata": {
        "id": "1PUVMHl4NHff"
      },
      "execution_count": 6,
      "outputs": []
    },
    {
      "cell_type": "code",
      "source": [
        "Ja1 = GetJacobian1(F1,np.array([2,2]))\n",
        "Ja2 = GetJacobian2(F2,np.array([0.5,0.5,0.5]))\n"
      ],
      "metadata": {
        "id": "GJdl6mTYSRnm"
      },
      "execution_count": 7,
      "outputs": []
    },
    {
      "cell_type": "code",
      "source": [
        "Ja2"
      ],
      "metadata": {
        "colab": {
          "base_uri": "https://localhost:8080/"
        },
        "id": "EtLBW4MF-Pqt",
        "outputId": "544f54db-f185-4dad-cd57-792aacce35ac"
      },
      "execution_count": 8,
      "outputs": [
        {
          "output_type": "execute_result",
          "data": {
            "text/plain": [
              "array([[ 6.        ,  0.24740396,  0.24740396],\n",
              "       [ 0.37377753,  9.        ,  0.32802064],\n",
              "       [-1.16820118, -1.16820118, 60.        ]])"
            ]
          },
          "metadata": {},
          "execution_count": 8
        }
      ]
    },
    {
      "cell_type": "code",
      "source": [
        "def newton1(F1, Ja, x0, tol=1e-6, max_iter=10000):\n",
        "\n",
        "  error=1\n",
        "  it=0\n",
        "  while error>tol and it<max_iter:\n",
        "\n",
        "    F1_vals = np.array([f(x0[0], x0[1]) for f in F1])\n",
        "    x1=x0 - np.linalg.inv(Ja)@F1_vals\n",
        "    error=np.linalg.norm(x1-x0)\n",
        "    x0=x1\n",
        "    it+=1\n",
        "  return x0,it\n",
        "\n",
        "\n",
        "def newton2(F2, x0, tol=1e-6, max_iter=10000):\n",
        "\n",
        "  error=1\n",
        "  it=0\n",
        "  while error>tol and it<max_iter:\n",
        "    Ja2 = GetJacobian2(F2,x0)\n",
        "\n",
        "    F2_vals = np.array([f(x0[0], x0[1], x0[2]) for f in F2])\n",
        "    if np.linalg.det(Ja2) == 0:\n",
        "      from numpy.linalg import LinAlgError\n",
        "      raise LinAlgError(\"Singular matrix encountered. Try a different initial guess.\")\n",
        "    x1=x0 - np.linalg.inv(Ja2)@F2_vals\n",
        "    error=np.linalg.norm(x1-x0)\n",
        "    x0=x1\n",
        "    it+=1\n",
        "  return x0,it"
      ],
      "metadata": {
        "id": "s7Z03ZYcvT3x"
      },
      "execution_count": 9,
      "outputs": []
    },
    {
      "cell_type": "code",
      "source": [
        "newton2(F2, np.array([0.1,0.1,0.1]))"
      ],
      "metadata": {
        "colab": {
          "base_uri": "https://localhost:8080/"
        },
        "id": "G2rs_VAVvV3T",
        "outputId": "7e193a00-99cd-4025-aeca-b90392489a6e"
      },
      "execution_count": 10,
      "outputs": [
        {
          "output_type": "execute_result",
          "data": {
            "text/plain": [
              "(array([ 0.49814468, -0.1996059 , -0.52882598]), 4)"
            ]
          },
          "metadata": {},
          "execution_count": 10
        }
      ]
    },
    {
      "cell_type": "code",
      "source": [
        "# Punto 13\n",
        "\n",
        "def Jacobian_4(f,r,h=0.01):\n",
        "\n",
        "  n = r.shape[0]\n",
        "\n",
        "  J = np.zeros((n,n))\n",
        "\n",
        "  for i in range(n):\n",
        "    for j in range(n):\n",
        "\n",
        "      d_rf = r.copy()\n",
        "      d_rb = r.copy()\n",
        "      rf = r.copy()\n",
        "      rb = r.copy()\n",
        "\n",
        "      d_rf[j] = d_rf[j] + 2*h\n",
        "      rf[j] = rf[j] + h\n",
        "      rb[j] = rb[j] - h\n",
        "      d_rb[j] = d_rb[j] - 2*h\n",
        "\n",
        "      J[i,j] = (-f[i](d_rf[0],d_rf[1],d_rf[2]) + 8*f[i](rf[0],rf[1],rf[2]) - 8*f[i](rb[0],rb[1],rb[2]) + f[i](d_rb[0],d_rb[1],d_rb[2]))/(12*h)\n",
        "\n",
        "  return J"
      ],
      "metadata": {
        "id": "_XJnz3FIR8Qp"
      },
      "execution_count": 11,
      "outputs": []
    },
    {
      "cell_type": "code",
      "source": [
        "Jacobian_4(F2,np.array([0.5,0.5,0.5]))"
      ],
      "metadata": {
        "colab": {
          "base_uri": "https://localhost:8080/"
        },
        "id": "2WrlHFW9Viaj",
        "outputId": "274bb66d-89e7-4efe-dc8d-5d936dcf274d"
      },
      "execution_count": 12,
      "outputs": [
        {
          "output_type": "execute_result",
          "data": {
            "text/plain": [
              "array([[ 6.        ,  0.24740396,  0.24740396],\n",
              "       [ 0.37377753,  9.        ,  0.32802064],\n",
              "       [-1.16820117, -1.16820117, 60.        ]])"
            ]
          },
          "metadata": {},
          "execution_count": 12
        }
      ]
    },
    {
      "cell_type": "code",
      "source": [
        "GetJacobian2(F2,np.array([0.5,0.5,0.5]))"
      ],
      "metadata": {
        "colab": {
          "base_uri": "https://localhost:8080/"
        },
        "id": "EuRH-xhUVrEN",
        "outputId": "4f30d439-304c-48fa-c50e-216b3de3abff"
      },
      "execution_count": 13,
      "outputs": [
        {
          "output_type": "execute_result",
          "data": {
            "text/plain": [
              "array([[ 6.        ,  0.24740396,  0.24740396],\n",
              "       [ 0.37377753,  9.        ,  0.32802064],\n",
              "       [-1.16820118, -1.16820118, 60.        ]])"
            ]
          },
          "metadata": {},
          "execution_count": 13
        }
      ]
    }
  ],
  "metadata": {
    "colab": {
      "provenance": [],
      "authorship_tag": "ABX9TyMRtoE/llPGi+pTQNREW+3V",
      "include_colab_link": true
    },
    "kernelspec": {
      "display_name": "Python 3",
      "name": "python3"
    },
    "language_info": {
      "name": "python"
    }
  },
  "nbformat": 4,
  "nbformat_minor": 0
}