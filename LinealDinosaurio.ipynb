{
  "cells": [
    {
      "cell_type": "markdown",
      "metadata": {
        "id": "view-in-github",
        "colab_type": "text"
      },
      "source": [
        "<a href=\"https://colab.research.google.com/github/JSRV18/Dinosaurio-repository/blob/main/LinealDinosaurio.ipynb\" target=\"_parent\"><img src=\"https://colab.research.google.com/assets/colab-badge.svg\" alt=\"Open In Colab\"/></a>"
      ]
    },
    {
      "cell_type": "code",
      "source": [
        "#Punto 2\n",
        "\n",
        "import numpy as np\n",
        "\n",
        "G0=(lambda x,y,z: 3*x - y - z - 1., \\\n",
        "    lambda x,y,z: -x + 3*y + z - 3., \\\n",
        "    lambda x,y,z: 2*x + y + 4*z - 7.)\n",
        "\n",
        "A=np.array([[3,-1,-1],[-1,3,1],[2,1,4]])\n",
        "b=np.array([1,3,7])\n",
        "\n",
        "def gauss_seidel(A, b, x0, tol=1e-6, max_iter=100000):\n",
        "\n",
        "   x = x0.copy()\n",
        "\n",
        "   for it in range(max_iter):\n",
        "\n",
        "    x_n = np.copy(x)\n",
        "\n",
        "    for i in range(A.shape[0]):\n",
        "      Suma = 0.\n",
        "      for j in range(A.shape[1]):\n",
        "        if i != j:\n",
        "          Suma += A[i,j]*x_n[j]\n",
        "\n",
        "          x_n[i] = (b[i] - Suma)/A[i,i]\n",
        "\n",
        "    print(x_n)\n",
        "\n",
        "    if np.linalg.norm((A@x_n)-b) < tol:\n",
        "      break\n",
        "\n",
        "    x = np.copy(x_n)\n",
        "\n",
        "   return x_n, it"
      ],
      "metadata": {
        "id": "TPleTAOKoCi4"
      },
      "execution_count": 1,
      "outputs": []
    },
    {
      "cell_type": "code",
      "source": [
        "gauss_seidel(A,b,np.array([390,25,270]))"
      ],
      "metadata": {
        "colab": {
          "base_uri": "https://localhost:8080/"
        },
        "id": "zrdVywD2qgEh",
        "outputId": "c504350d-41a7-4585-cfa6-9b87073c1c47"
      },
      "execution_count": 2,
      "outputs": [
        {
          "output_type": "stream",
          "name": "stdout",
          "text": [
            "[ 98 -56 -33]\n",
            "[-29   2  15]\n",
            "[ 6 -2  0]\n",
            "[0 1 1]\n",
            "[1 1 1]\n"
          ]
        },
        {
          "output_type": "execute_result",
          "data": {
            "text/plain": [
              "(array([1, 1, 1]), 4)"
            ]
          },
          "metadata": {},
          "execution_count": 2
        }
      ]
    },
    {
      "cell_type": "code",
      "source": [
        "np.linalg.solve(A,b)"
      ],
      "metadata": {
        "colab": {
          "base_uri": "https://localhost:8080/"
        },
        "id": "AKkmeiHNq6Xg",
        "outputId": "13a16531-b928-42f9-e2c3-5d77d91cc748"
      },
      "execution_count": 3,
      "outputs": [
        {
          "output_type": "execute_result",
          "data": {
            "text/plain": [
              "array([1., 1., 1.])"
            ]
          },
          "metadata": {},
          "execution_count": 3
        }
      ]
    },
    {
      "cell_type": "code",
      "source": [
        "# Punto 4\n",
        "\n",
        "matriz1=np.array([[1,0,0],[5,1,0],[-2,3,1]])\n",
        "matriz2=np.array([[4,-2,1],[0,3,7],[0,0,2]])\n",
        "\n",
        "\n",
        "def multiplicar_matrices(matriz1, matriz2):\n",
        "  n=len(matriz1)\n",
        "  m=len(matriz2[0])\n",
        "  p=len(matriz2)\n",
        "  x=np.zeros((n,m))\n",
        "  if n!=m:\n",
        "    print(\"No se puede multiplicar\")\n",
        "  else:\n",
        "    for i in range(n):\n",
        "      for j in range(m):\n",
        "        for k in range(p):\n",
        "         x[i][j] += matriz1[i][k] * matriz2[k][j]\n",
        "  return x"
      ],
      "metadata": {
        "id": "aqYsVPsCTN_8"
      },
      "execution_count": 4,
      "outputs": []
    },
    {
      "cell_type": "code",
      "source": [
        "multiplicar_matrices(matriz1, matriz2)"
      ],
      "metadata": {
        "colab": {
          "base_uri": "https://localhost:8080/"
        },
        "id": "2ZCn_WYyToHt",
        "outputId": "e37568af-5cfc-4326-bad3-a4d5ba1042ad"
      },
      "execution_count": 5,
      "outputs": [
        {
          "output_type": "execute_result",
          "data": {
            "text/plain": [
              "array([[ 4., -2.,  1.],\n",
              "       [20., -7., 12.],\n",
              "       [-8., 13., 21.]])"
            ]
          },
          "metadata": {},
          "execution_count": 5
        }
      ]
    },
    {
      "cell_type": "code",
      "source": [
        "# Punto 8\n",
        "\n",
        "matriz=np.array([[4,-2,1],[20,-7,12],[-8,13,17]])\n",
        "\n",
        "def LU(matriz):\n",
        "  L=np.zeros_like(matriz)\n",
        "  for i in range(len(L)):\n",
        "    for j in range(len(L[0])):\n",
        "      if i==j:\n",
        "        L[i][j]=1\n",
        "\n",
        "  U = matriz.astype(np.float64)\n",
        "  n = U.shape[0]\n",
        "\n",
        "  for k in range(n):\n",
        "      for w in range(k+1,n):\n",
        "          u = U[w,k]/U[k,k]\n",
        "          L[w,k]=u\n",
        "          U[w,:] -= u*U[k,:]\n",
        "\n",
        "  return L,U"
      ],
      "metadata": {
        "id": "vdiktZWVv4O1"
      },
      "execution_count": 6,
      "outputs": []
    },
    {
      "cell_type": "code",
      "source": [
        "LU(matriz)"
      ],
      "metadata": {
        "colab": {
          "base_uri": "https://localhost:8080/"
        },
        "id": "bTH7ZFxc45V-",
        "outputId": "ceac5947-d114-4e2f-e886-8d742f581811"
      },
      "execution_count": 7,
      "outputs": [
        {
          "output_type": "execute_result",
          "data": {
            "text/plain": [
              "(array([[ 1,  0,  0],\n",
              "        [ 5,  1,  0],\n",
              "        [-2,  3,  1]]),\n",
              " array([[ 4., -2.,  1.],\n",
              "        [ 0.,  3.,  7.],\n",
              "        [ 0.,  0., -2.]]))"
            ]
          },
          "metadata": {},
          "execution_count": 7
        }
      ]
    },
    {
      "cell_type": "code",
      "source": [
        "#Punto 12\n",
        "\n",
        "F1=(lambda x,y: np.log(x**2+y**2) - np.sin(x*y) - np.log(2*np.pi), \\\n",
        "    lambda x,y: np.exp(x-y) + np.cos(x*y))\n",
        "\n",
        "F2=(lambda x,y,z: 6*x - 2*np.cos(y*z) - 1, \\\n",
        "    lambda x,y,z: 9*y + np.sqrt(x**2 + np.sin(z) + 1.06) + 0.9, \\\n",
        "    lambda x,y,z: 60*z + 3*np.exp(-x*y) + 10*np.pi - 3)\n",
        "\n",
        "def GetF1(f,r):\n",
        "\n",
        "  dim = len(f)\n",
        "  v = np.zeros(dim)\n",
        "\n",
        "  for i in range(dim):\n",
        "    v[i] = f[i](r[0],r[1])\n",
        "\n",
        "  return v\n",
        "\n",
        "def GetJacobian1(f,r,h=1e-3):\n",
        "\n",
        "  dim = len(f)\n",
        "\n",
        "  J = np.zeros((dim,dim))\n",
        "\n",
        "  for i in range(dim):\n",
        "\n",
        "    J[i,0] = (f[i](r[0]+h,r[1]) - f[i](r[0]-h,r[1]))/(2*h)\n",
        "\n",
        "    J[i,1] = (f[i](r[0],r[1]+h) - f[i](r[0],r[1]-h))/(2*h)\n",
        "\n",
        "  return J.T\n",
        "\n",
        "def GetJacobian2_2(f,r,h=1e-3):\n",
        "\n",
        "  dim = len(f)\n",
        "\n",
        "  J = np.zeros((dim,dim))\n",
        "\n",
        "  for i in range(dim):\n",
        "    for j in range(dim):\n",
        "\n",
        "      rf = r.copy()\n",
        "      rb = r.copy()\n",
        "\n",
        "      rf[j] = rf[j] + h\n",
        "      rb[j] = rb[j] - h\n",
        "\n",
        "      J[i,j] = (f[i](rf[0],rf[1],rf[2]) - f[i](rb[0],rb[1],rb[2]))/(2*h)\n",
        "\n",
        "  return J.T\n",
        "\n",
        "\n",
        "def GetMetric1(f,r):\n",
        "  v=GetF1(f,r)\n",
        "  return 0.5*np.linalg.norm(v)**2\n",
        "\n",
        "def GetF2(f,r):\n",
        "\n",
        "  dim = len(f)\n",
        "  v = np.zeros(dim)\n",
        "\n",
        "  for i in range(dim):\n",
        "    v[i] = f[i](r[0],r[1],r[2])\n",
        "\n",
        "  return v\n",
        "\n",
        "def GetJacobian2(f,r,h=0.01):\n",
        "\n",
        "  n = r.shape[0]\n",
        "\n",
        "  J = np.zeros((n,n))\n",
        "\n",
        "  for i in range(n):\n",
        "    for j in range(n):\n",
        "\n",
        "      rf = r.copy()\n",
        "      rb = r.copy()\n",
        "\n",
        "      rf[j] = rf[j] + h\n",
        "      rb[j] = rb[j] - h\n",
        "\n",
        "      J[i,j] = (f[i](rf[0],rf[1],rf[2]) - f[i](rb[0],rb[1],rb[2]))/(2*h)\n",
        "\n",
        "  return J\n",
        "\n",
        "def GetMetric2(f,r):\n",
        "  v=GetF2(f,r)\n",
        "  return 0.5*np.linalg.norm(v)**2"
      ],
      "metadata": {
        "id": "1PUVMHl4NHff"
      },
      "execution_count": 34,
      "outputs": []
    },
    {
      "cell_type": "code",
      "source": [
        "def newton1(F1, Ja, x0, tol=1e-6, max_iter=10000):\n",
        "\n",
        "  error=1\n",
        "  it=0\n",
        "  while error>tol and it<max_iter:\n",
        "\n",
        "    F1_vals = np.array([f(x0[0], x0[1]) for f in F1])\n",
        "    x1=x0 - np.linalg.inv(Ja)@F1_vals\n",
        "    error=np.linalg.norm(x1-x0)\n",
        "    x0=x1\n",
        "    it+=1\n",
        "  return x0,it\n",
        "\n",
        "\n",
        "def newton2(F2, Ja, x0, tol=1e-6, max_iter=10000):\n",
        "\n",
        "  error=1\n",
        "  it=0\n",
        "  while error>tol and it<max_iter:\n",
        "\n",
        "    F2_vals = np.array([f(x0[0], x0[1], x0[2]) for f in F2])\n",
        "    x1=x0 - np.linalg.inv(Ja)@F2_vals\n",
        "    error=np.linalg.norm(x1-x0)\n",
        "    x0=x1\n",
        "    it+=1\n",
        "  return x0,it"
      ],
      "metadata": {
        "id": "s7Z03ZYcvT3x"
      },
      "execution_count": 11,
      "outputs": []
    },
    {
      "cell_type": "code",
      "source": [
        "Ja1=GetJacobian1(F1,np.array([2.,2.]))\n",
        "Ja2=GetJacobian2(F2,np.array([0.,0.,0.]))"
      ],
      "metadata": {
        "id": "m0kGFwSlCcX_"
      },
      "execution_count": 37,
      "outputs": []
    },
    {
      "cell_type": "code",
      "source": [
        "newton1(F1,Ja1,np.array([2.,2.]))"
      ],
      "metadata": {
        "colab": {
          "base_uri": "https://localhost:8080/"
        },
        "id": "S5f7cY8BPILs",
        "outputId": "bac0fdb5-2987-44d9-8abb-600d61f0dd45"
      },
      "execution_count": 12,
      "outputs": [
        {
          "output_type": "execute_result",
          "data": {
            "text/plain": [
              "(array([1.77245348, 1.77245443]), 19)"
            ]
          },
          "metadata": {},
          "execution_count": 12
        }
      ]
    },
    {
      "cell_type": "code",
      "source": [
        "newton2(F2,Ja2,np.array([0.,0.,0.]))"
      ],
      "metadata": {
        "colab": {
          "base_uri": "https://localhost:8080/"
        },
        "id": "G2rs_VAVvV3T",
        "outputId": "fe8fa76c-a6b2-4261-85ed-c57c82bd54d4"
      },
      "execution_count": 13,
      "outputs": [
        {
          "output_type": "execute_result",
          "data": {
            "text/plain": [
              "(array([ 0.49814468, -0.1996059 , -0.52882598]), 6)"
            ]
          },
          "metadata": {},
          "execution_count": 13
        }
      ]
    },
    {
      "cell_type": "code",
      "source": [
        "def descenso1(f, r, lr, epoch):\n",
        "\n",
        "  d=1\n",
        "  it=0\n",
        "  Vector = np.array([])\n",
        "  R_vector = np.array(r)\n",
        "\n",
        "  while d>lr and it<epoch:\n",
        "\n",
        "    Current = GetMetric1(f,r)\n",
        "    J = GetJacobian1(f,r)\n",
        "    Gvector = GetF1(f,r)\n",
        "\n",
        "    r-= lr*np.dot(J,Gvector)\n",
        "    R_vector = np.vstack((R_vector,r))\n",
        "    New=GetMetric1(f,r)\n",
        "    Vector=np.append(Vector,New)\n",
        "    d=abs(Current-New)/New\n",
        "\n",
        "    it+=1\n",
        "\n",
        "  return r,it\n",
        "\n",
        "def descenso2(f, r, lr, epoch):\n",
        "\n",
        "  d=1\n",
        "  it=0\n",
        "  Vector = np.array([])\n",
        "  R_vector = np.array(r)\n",
        "\n",
        "  while d>lr and it<epoch:\n",
        "\n",
        "    Current = GetMetric2(f,r)\n",
        "    J = GetJacobian2_2(f,r)\n",
        "    Gvector = GetF2(f,r)\n",
        "\n",
        "    r-= lr*np.dot(J,Gvector)\n",
        "    R_vector = np.vstack((R_vector,r))\n",
        "    New=GetMetric2(f,r)\n",
        "    Vector=np.append(Vector,New)\n",
        "    d=abs(Current-New)/New\n",
        "\n",
        "    it+=1\n",
        "\n",
        "\n",
        "  return r,it"
      ],
      "metadata": {
        "id": "dy04dPDjaJ_m"
      },
      "execution_count": 14,
      "outputs": []
    },
    {
      "cell_type": "code",
      "source": [
        "descenso1(F1,[2.,2.],0.01,10000)"
      ],
      "metadata": {
        "colab": {
          "base_uri": "https://localhost:8080/"
        },
        "id": "mFoTYZXNjM_v",
        "outputId": "8a449c8d-e652-4b1e-a9fc-a15e7168db0f"
      },
      "execution_count": 15,
      "outputs": [
        {
          "output_type": "execute_result",
          "data": {
            "text/plain": [
              "(array([1.77245385, 1.77245385]), 1431)"
            ]
          },
          "metadata": {},
          "execution_count": 15
        }
      ]
    },
    {
      "cell_type": "code",
      "source": [
        "descenso2(F2,[0.,0.,0.],0.01,10000)"
      ],
      "metadata": {
        "colab": {
          "base_uri": "https://localhost:8080/"
        },
        "id": "O8GljUI9xbNU",
        "outputId": "e9c6ebae-b4ca-4e7b-8f95-84592e9b2341"
      },
      "execution_count": 16,
      "outputs": [
        {
          "output_type": "stream",
          "name": "stderr",
          "text": [
            "<ipython-input-8-a1530da622d9>:8: RuntimeWarning: overflow encountered in exp\n",
            "  lambda x,y,z: 60*z + 3*np.exp(-x*y) + 10*np.pi - 3)\n",
            "<ipython-input-14-d29a236e0b35>:41: RuntimeWarning: invalid value encountered in scalar divide\n",
            "  d=abs(Current-New)/New\n"
          ]
        },
        {
          "output_type": "execute_result",
          "data": {
            "text/plain": [
              "(array([-1.40851652e+33,  1.30541547e+33,  6.37785147e+02]), 3)"
            ]
          },
          "metadata": {},
          "execution_count": 16
        }
      ]
    },
    {
      "cell_type": "code",
      "source": [
        "# Punto 13\n",
        "\n",
        "def Jacobian_4(f,r,h=0.01):\n",
        "\n",
        "  n = r.shape[0]\n",
        "\n",
        "  J = np.zeros((n,n))\n",
        "\n",
        "  for i in range(n):\n",
        "    for j in range(n):\n",
        "\n",
        "      d_rf = r.copy()\n",
        "      d_rb = r.copy()\n",
        "      rf = r.copy()\n",
        "      rb = r.copy()\n",
        "\n",
        "      d_rf[j] = d_rf[j] + 2*h\n",
        "      rf[j] = rf[j] + h\n",
        "      rb[j] = rb[j] - h\n",
        "      d_rb[j] = d_rb[j] - 2*h\n",
        "\n",
        "      J[i,j] = (-f[i](d_rf[0],d_rf[1],d_rf[2]) + 8*f[i](rf[0],rf[1],rf[2]) - 8*f[i](rb[0],rb[1],rb[2]) + f[i](d_rb[0],d_rb[1],d_rb[2]))/(12*h)\n",
        "\n",
        "  return J"
      ],
      "metadata": {
        "id": "_XJnz3FIR8Qp"
      },
      "execution_count": 17,
      "outputs": []
    },
    {
      "cell_type": "code",
      "source": [
        "Jacobian_4(F2,np.array([0.5,0.5,0.5]))"
      ],
      "metadata": {
        "colab": {
          "base_uri": "https://localhost:8080/"
        },
        "id": "2WrlHFW9Viaj",
        "outputId": "fb6d84ff-4ea5-434f-a5b8-b5915f10c33b"
      },
      "execution_count": 18,
      "outputs": [
        {
          "output_type": "execute_result",
          "data": {
            "text/plain": [
              "array([[ 6.        ,  0.24740396,  0.24740396],\n",
              "       [ 0.37377753,  9.        ,  0.32802064],\n",
              "       [-1.16820117, -1.16820117, 60.        ]])"
            ]
          },
          "metadata": {},
          "execution_count": 18
        }
      ]
    },
    {
      "cell_type": "code",
      "source": [
        "GetJacobian2(F2,np.array([0.5,0.5,0.5]))"
      ],
      "metadata": {
        "colab": {
          "base_uri": "https://localhost:8080/"
        },
        "id": "7Lq3jmdplydZ",
        "outputId": "3a47a5b8-d4b4-415a-ff7f-c9664471160e"
      },
      "execution_count": 35,
      "outputs": [
        {
          "output_type": "execute_result",
          "data": {
            "text/plain": [
              "array([[ 6.        ,  0.24740293,  0.24740293],\n",
              "       [ 0.37376854,  9.        ,  0.32801836],\n",
              "       [-1.16820604, -1.16820604, 60.        ]])"
            ]
          },
          "metadata": {},
          "execution_count": 35
        }
      ]
    },
    {
      "cell_type": "code",
      "source": [
        "GetJacobian2(F2,np.array([0.5,0.5,0.5])) # La aprximación de orden 2 alcanza a la de orden 4 con h=0.0001"
      ],
      "metadata": {
        "colab": {
          "base_uri": "https://localhost:8080/"
        },
        "id": "EuRH-xhUVrEN",
        "outputId": "87aac020-206e-441b-8a9d-bc5235307e05"
      },
      "execution_count": 33,
      "outputs": [
        {
          "output_type": "execute_result",
          "data": {
            "text/plain": [
              "array([[ 6.        ,  0.24740396,  0.24740396],\n",
              "       [ 0.37377753,  9.        ,  0.32802064],\n",
              "       [-1.16820118, -1.16820118, 60.        ]])"
            ]
          },
          "metadata": {},
          "execution_count": 33
        }
      ]
    },
    {
      "cell_type": "code",
      "source": [
        "# Punto 14\n",
        "\n",
        "import sympy as sp\n",
        "\n",
        "Jx = sp.Matrix([[0, 0, 0],\n",
        "                [0, 0, -1],\n",
        "                [0, 1, 0]])\n",
        "\n",
        "Jy = sp.Matrix([[0, 0, 1],\n",
        "                [0, 0, 0],\n",
        "                [-1, 0, 0]])\n",
        "\n",
        "Jz = sp.Matrix([[0, -1, 0],\n",
        "                [1, 0, 0],\n",
        "                [0, 0, 0]])\n",
        "\n",
        "comm_Jx_Jy = Jx*Jy - Jy*Jx  #Levi-Civita debe ser de 1\n",
        "comm_Jy_Jx = Jy*Jx - Jx*Jy  #Levi-Civita debe ser de -1\n",
        "comm_Jx_Jx = Jx*Jx - Jx*Jx  #Levi-Civita debe ser de 0\n",
        "\n",
        "\n",
        "comm_Jy_Jz = Jy*Jz - Jz*Jy  #Levi-Civita debe ser de 1\n",
        "comm_Jz_Jy = Jz*Jy - Jy*Jz  #Levi-Civita debe ser de -1\n",
        "comm_Jy_Jy = Jy*Jy - Jy*Jy  #Levi-Civita debe ser de 0\n",
        "\n",
        "\n",
        "comm_Jz_Jx = Jz*Jx - Jx*Jz  #Levi-Civita debe ser de 1\n",
        "comm_Jx_Jz = Jx*Jz - Jz*Jx  #Levi-Civita debe ser de -1\n",
        "comm_Jz_Jz = Jz*Jz - Jz*Jz  #Levi-Civita debe ser de 0\n"
      ],
      "metadata": {
        "id": "RnGPXX6NCHrS"
      },
      "execution_count": 21,
      "outputs": []
    },
    {
      "cell_type": "code",
      "source": [
        "comm_Jx_Jy"
      ],
      "metadata": {
        "colab": {
          "base_uri": "https://localhost:8080/",
          "height": 78
        },
        "id": "pB0wth3TLTRz",
        "outputId": "9435c31b-e58b-4a41-a6cb-fdb09981f278"
      },
      "execution_count": 22,
      "outputs": [
        {
          "output_type": "execute_result",
          "data": {
            "text/plain": [
              "Matrix([\n",
              "[0, -1, 0],\n",
              "[1,  0, 0],\n",
              "[0,  0, 0]])"
            ],
            "text/latex": "$\\displaystyle \\left[\\begin{matrix}0 & -1 & 0\\\\1 & 0 & 0\\\\0 & 0 & 0\\end{matrix}\\right]$"
          },
          "metadata": {},
          "execution_count": 22
        }
      ]
    },
    {
      "cell_type": "code",
      "source": [
        "comm_Jy_Jx"
      ],
      "metadata": {
        "colab": {
          "base_uri": "https://localhost:8080/",
          "height": 78
        },
        "id": "JWq-sAH6CPqk",
        "outputId": "508d919c-56c8-40dd-9595-c8ad7c964b68"
      },
      "execution_count": 23,
      "outputs": [
        {
          "output_type": "execute_result",
          "data": {
            "text/plain": [
              "Matrix([\n",
              "[ 0, 1, 0],\n",
              "[-1, 0, 0],\n",
              "[ 0, 0, 0]])"
            ],
            "text/latex": "$\\displaystyle \\left[\\begin{matrix}0 & 1 & 0\\\\-1 & 0 & 0\\\\0 & 0 & 0\\end{matrix}\\right]$"
          },
          "metadata": {},
          "execution_count": 23
        }
      ]
    },
    {
      "cell_type": "code",
      "source": [
        "comm_Jx_Jx"
      ],
      "metadata": {
        "colab": {
          "base_uri": "https://localhost:8080/",
          "height": 78
        },
        "id": "WSC3yKfXMgov",
        "outputId": "91662db4-5388-4dd8-b667-e9d4b0e9c6fc"
      },
      "execution_count": 24,
      "outputs": [
        {
          "output_type": "execute_result",
          "data": {
            "text/plain": [
              "Matrix([\n",
              "[0, 0, 0],\n",
              "[0, 0, 0],\n",
              "[0, 0, 0]])"
            ],
            "text/latex": "$\\displaystyle \\left[\\begin{matrix}0 & 0 & 0\\\\0 & 0 & 0\\\\0 & 0 & 0\\end{matrix}\\right]$"
          },
          "metadata": {},
          "execution_count": 24
        }
      ]
    },
    {
      "cell_type": "code",
      "source": [
        "comm_Jy_Jz"
      ],
      "metadata": {
        "colab": {
          "base_uri": "https://localhost:8080/",
          "height": 78
        },
        "id": "Ml86Ihv6Lafo",
        "outputId": "d48c9a7c-93eb-464e-f361-301d2d14378a"
      },
      "execution_count": 25,
      "outputs": [
        {
          "output_type": "execute_result",
          "data": {
            "text/plain": [
              "Matrix([\n",
              "[0, 0,  0],\n",
              "[0, 0, -1],\n",
              "[0, 1,  0]])"
            ],
            "text/latex": "$\\displaystyle \\left[\\begin{matrix}0 & 0 & 0\\\\0 & 0 & -1\\\\0 & 1 & 0\\end{matrix}\\right]$"
          },
          "metadata": {},
          "execution_count": 25
        }
      ]
    },
    {
      "cell_type": "code",
      "source": [
        "comm_Jz_Jy\n"
      ],
      "metadata": {
        "colab": {
          "base_uri": "https://localhost:8080/",
          "height": 78
        },
        "id": "4_0qzGfYJe_7",
        "outputId": "df4abbed-2eed-4bb3-91db-78ff1f32b59c"
      },
      "execution_count": 26,
      "outputs": [
        {
          "output_type": "execute_result",
          "data": {
            "text/plain": [
              "Matrix([\n",
              "[0,  0, 0],\n",
              "[0,  0, 1],\n",
              "[0, -1, 0]])"
            ],
            "text/latex": "$\\displaystyle \\left[\\begin{matrix}0 & 0 & 0\\\\0 & 0 & 1\\\\0 & -1 & 0\\end{matrix}\\right]$"
          },
          "metadata": {},
          "execution_count": 26
        }
      ]
    },
    {
      "cell_type": "code",
      "source": [
        "comm_Jy_Jy"
      ],
      "metadata": {
        "colab": {
          "base_uri": "https://localhost:8080/",
          "height": 78
        },
        "id": "M4RvtYNjMnAv",
        "outputId": "59b56364-d8f2-4e72-b619-50a2b1a53bd8"
      },
      "execution_count": 27,
      "outputs": [
        {
          "output_type": "execute_result",
          "data": {
            "text/plain": [
              "Matrix([\n",
              "[0, 0, 0],\n",
              "[0, 0, 0],\n",
              "[0, 0, 0]])"
            ],
            "text/latex": "$\\displaystyle \\left[\\begin{matrix}0 & 0 & 0\\\\0 & 0 & 0\\\\0 & 0 & 0\\end{matrix}\\right]$"
          },
          "metadata": {},
          "execution_count": 27
        }
      ]
    },
    {
      "cell_type": "code",
      "source": [
        "comm_Jz_Jx"
      ],
      "metadata": {
        "colab": {
          "base_uri": "https://localhost:8080/",
          "height": 78
        },
        "id": "vUpsEtuOL59u",
        "outputId": "3e28cee4-5f3a-4f03-c06a-101f030ee472"
      },
      "execution_count": 28,
      "outputs": [
        {
          "output_type": "execute_result",
          "data": {
            "text/plain": [
              "Matrix([\n",
              "[ 0, 0, 1],\n",
              "[ 0, 0, 0],\n",
              "[-1, 0, 0]])"
            ],
            "text/latex": "$\\displaystyle \\left[\\begin{matrix}0 & 0 & 1\\\\0 & 0 & 0\\\\-1 & 0 & 0\\end{matrix}\\right]$"
          },
          "metadata": {},
          "execution_count": 28
        }
      ]
    },
    {
      "cell_type": "code",
      "source": [
        "comm_Jx_Jz"
      ],
      "metadata": {
        "colab": {
          "base_uri": "https://localhost:8080/",
          "height": 78
        },
        "id": "ILdz3XnTJhhl",
        "outputId": "09144f18-feb4-4e27-d460-2bd8161826d3"
      },
      "execution_count": 29,
      "outputs": [
        {
          "output_type": "execute_result",
          "data": {
            "text/plain": [
              "Matrix([\n",
              "[0, 0, -1],\n",
              "[0, 0,  0],\n",
              "[1, 0,  0]])"
            ],
            "text/latex": "$\\displaystyle \\left[\\begin{matrix}0 & 0 & -1\\\\0 & 0 & 0\\\\1 & 0 & 0\\end{matrix}\\right]$"
          },
          "metadata": {},
          "execution_count": 29
        }
      ]
    },
    {
      "cell_type": "code",
      "source": [
        "comm_Jz_Jz"
      ],
      "metadata": {
        "colab": {
          "base_uri": "https://localhost:8080/",
          "height": 78
        },
        "id": "_E_HGqYCMvgf",
        "outputId": "f6646c3c-9e42-41f1-f4dd-ef406a9789f1"
      },
      "execution_count": 30,
      "outputs": [
        {
          "output_type": "execute_result",
          "data": {
            "text/plain": [
              "Matrix([\n",
              "[0, 0, 0],\n",
              "[0, 0, 0],\n",
              "[0, 0, 0]])"
            ],
            "text/latex": "$\\displaystyle \\left[\\begin{matrix}0 & 0 & 0\\\\0 & 0 & 0\\\\0 & 0 & 0\\end{matrix}\\right]$"
          },
          "metadata": {},
          "execution_count": 30
        }
      ]
    }
  ],
  "metadata": {
    "colab": {
      "provenance": [],
      "authorship_tag": "ABX9TyOf/W0TsCg0qQeUYl0EFItF",
      "include_colab_link": true
    },
    "kernelspec": {
      "display_name": "Python 3",
      "name": "python3"
    },
    "language_info": {
      "name": "python"
    }
  },
  "nbformat": 4,
  "nbformat_minor": 0
}